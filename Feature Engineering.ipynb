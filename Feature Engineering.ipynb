{
  "cells": [
    {
      "cell_type": "code",
      "execution_count": 2,
      "metadata": {
        "id": "ce7XlDbdSl7b"
      },
      "outputs": [],
      "source": [
        "import numpy as np\n",
        "import scipy as sp\n",
        "import pandas as pd\n",
        "import matplotlib.pyplot as plt\n",
        "import seaborn as sns\n",
        "\n",
        "pd.set_option('display.max_columns', 500)"
      ]
    },
    {
      "cell_type": "markdown",
      "metadata": {
        "id": "SS2r51F9Sl7d"
      },
      "source": [
        "# Feature Selection and Engineering\n",
        "\n",
        "Today we will learn more about the tools for transforming variables in our dataset. When using simple models, such as Linear Regressions, we must invest a lot of time considering the **morphological** shape of relations in our data: not all of them are linear!\n",
        "\n",
        "Furthermore, models are sensitive to **collinearity** between features: the more correlated two input features are, the more they can damage our estimated models.\n",
        "\n",
        "Even when using advanced ML Algorithms, variable transformations can ensure better model performance."
      ]
    },
    {
      "cell_type": "code",
      "execution_count": 3,
      "metadata": {
        "id": "DjL8zCFfSl7e"
      },
      "outputs": [],
      "source": [
        "url = 'https://raw.githubusercontent.com/pedroteche-ih/DAFT_MEX_202209/main/data/tb_ames_housing.csv'\n",
        "tb_housing = pd.read_csv(url)"
      ]
    },
    {
      "cell_type": "code",
      "execution_count": 4,
      "metadata": {
        "colab": {
          "base_uri": "https://localhost:8080/",
          "height": 270
        },
        "id": "0YKNazRcSl7e",
        "outputId": "2cec0db5-6b49-4a25-85d3-acf6cc17d425"
      },
      "outputs": [
        {
          "output_type": "execute_result",
          "data": {
            "text/plain": [
              "   Id  MSSubClass MSZoning  LotFrontage  LotArea Street Alley LotShape  \\\n",
              "0   1          60       RL         65.0     8450   Pave   NaN      Reg   \n",
              "1   2          20       RL         80.0     9600   Pave   NaN      Reg   \n",
              "2   3          60       RL         68.0    11250   Pave   NaN      IR1   \n",
              "3   4          70       RL         60.0     9550   Pave   NaN      IR1   \n",
              "4   5          60       RL         84.0    14260   Pave   NaN      IR1   \n",
              "\n",
              "  LandContour Utilities LotConfig LandSlope Neighborhood Condition1  \\\n",
              "0         Lvl    AllPub    Inside       Gtl      CollgCr       Norm   \n",
              "1         Lvl    AllPub       FR2       Gtl      Veenker      Feedr   \n",
              "2         Lvl    AllPub    Inside       Gtl      CollgCr       Norm   \n",
              "3         Lvl    AllPub    Corner       Gtl      Crawfor       Norm   \n",
              "4         Lvl    AllPub       FR2       Gtl      NoRidge       Norm   \n",
              "\n",
              "  Condition2 BldgType HouseStyle  OverallQual  OverallCond  YearBuilt  \\\n",
              "0       Norm     1Fam     2Story            7            5       2003   \n",
              "1       Norm     1Fam     1Story            6            8       1976   \n",
              "2       Norm     1Fam     2Story            7            5       2001   \n",
              "3       Norm     1Fam     2Story            7            5       1915   \n",
              "4       Norm     1Fam     2Story            8            5       2000   \n",
              "\n",
              "   YearRemodAdd RoofStyle RoofMatl Exterior1st Exterior2nd MasVnrType  \\\n",
              "0          2003     Gable  CompShg     VinylSd     VinylSd    BrkFace   \n",
              "1          1976     Gable  CompShg     MetalSd     MetalSd       None   \n",
              "2          2002     Gable  CompShg     VinylSd     VinylSd    BrkFace   \n",
              "3          1970     Gable  CompShg     Wd Sdng     Wd Shng       None   \n",
              "4          2000     Gable  CompShg     VinylSd     VinylSd    BrkFace   \n",
              "\n",
              "   MasVnrArea ExterQual ExterCond Foundation BsmtQual BsmtCond BsmtExposure  \\\n",
              "0       196.0        Gd        TA      PConc       Gd       TA           No   \n",
              "1         0.0        TA        TA     CBlock       Gd       TA           Gd   \n",
              "2       162.0        Gd        TA      PConc       Gd       TA           Mn   \n",
              "3         0.0        TA        TA     BrkTil       TA       Gd           No   \n",
              "4       350.0        Gd        TA      PConc       Gd       TA           Av   \n",
              "\n",
              "  BsmtFinType1  BsmtFinSF1 BsmtFinType2  BsmtFinSF2  BsmtUnfSF  TotalBsmtSF  \\\n",
              "0          GLQ         706          Unf           0        150          856   \n",
              "1          ALQ         978          Unf           0        284         1262   \n",
              "2          GLQ         486          Unf           0        434          920   \n",
              "3          ALQ         216          Unf           0        540          756   \n",
              "4          GLQ         655          Unf           0        490         1145   \n",
              "\n",
              "  Heating HeatingQC CentralAir Electrical  1stFlrSF  2ndFlrSF  LowQualFinSF  \\\n",
              "0    GasA        Ex          Y      SBrkr       856       854             0   \n",
              "1    GasA        Ex          Y      SBrkr      1262         0             0   \n",
              "2    GasA        Ex          Y      SBrkr       920       866             0   \n",
              "3    GasA        Gd          Y      SBrkr       961       756             0   \n",
              "4    GasA        Ex          Y      SBrkr      1145      1053             0   \n",
              "\n",
              "   GrLivArea  BsmtFullBath  BsmtHalfBath  FullBath  HalfBath  BedroomAbvGr  \\\n",
              "0       1710             1             0         2         1             3   \n",
              "1       1262             0             1         2         0             3   \n",
              "2       1786             1             0         2         1             3   \n",
              "3       1717             1             0         1         0             3   \n",
              "4       2198             1             0         2         1             4   \n",
              "\n",
              "   KitchenAbvGr KitchenQual  TotRmsAbvGrd Functional  Fireplaces FireplaceQu  \\\n",
              "0             1          Gd             8        Typ           0         NaN   \n",
              "1             1          TA             6        Typ           1          TA   \n",
              "2             1          Gd             6        Typ           1          TA   \n",
              "3             1          Gd             7        Typ           1          Gd   \n",
              "4             1          Gd             9        Typ           1          TA   \n",
              "\n",
              "  GarageType  GarageYrBlt GarageFinish  GarageCars  GarageArea GarageQual  \\\n",
              "0     Attchd       2003.0          RFn           2         548         TA   \n",
              "1     Attchd       1976.0          RFn           2         460         TA   \n",
              "2     Attchd       2001.0          RFn           2         608         TA   \n",
              "3     Detchd       1998.0          Unf           3         642         TA   \n",
              "4     Attchd       2000.0          RFn           3         836         TA   \n",
              "\n",
              "  GarageCond PavedDrive  WoodDeckSF  OpenPorchSF  EnclosedPorch  3SsnPorch  \\\n",
              "0         TA          Y           0           61              0          0   \n",
              "1         TA          Y         298            0              0          0   \n",
              "2         TA          Y           0           42              0          0   \n",
              "3         TA          Y           0           35            272          0   \n",
              "4         TA          Y         192           84              0          0   \n",
              "\n",
              "   ScreenPorch  PoolArea PoolQC Fence MiscFeature  MiscVal  MoSold  YrSold  \\\n",
              "0            0         0    NaN   NaN         NaN        0       2    2008   \n",
              "1            0         0    NaN   NaN         NaN        0       5    2007   \n",
              "2            0         0    NaN   NaN         NaN        0       9    2008   \n",
              "3            0         0    NaN   NaN         NaN        0       2    2006   \n",
              "4            0         0    NaN   NaN         NaN        0      12    2008   \n",
              "\n",
              "  SaleType SaleCondition  SalePrice  \n",
              "0       WD        Normal     208500  \n",
              "1       WD        Normal     181500  \n",
              "2       WD        Normal     223500  \n",
              "3       WD       Abnorml     140000  \n",
              "4       WD        Normal     250000  "
            ],
            "text/html": [
              "\n",
              "  <div id=\"df-1bc8777e-f6f9-407b-897b-caa8103831ea\">\n",
              "    <div class=\"colab-df-container\">\n",
              "      <div>\n",
              "<style scoped>\n",
              "    .dataframe tbody tr th:only-of-type {\n",
              "        vertical-align: middle;\n",
              "    }\n",
              "\n",
              "    .dataframe tbody tr th {\n",
              "        vertical-align: top;\n",
              "    }\n",
              "\n",
              "    .dataframe thead th {\n",
              "        text-align: right;\n",
              "    }\n",
              "</style>\n",
              "<table border=\"1\" class=\"dataframe\">\n",
              "  <thead>\n",
              "    <tr style=\"text-align: right;\">\n",
              "      <th></th>\n",
              "      <th>Id</th>\n",
              "      <th>MSSubClass</th>\n",
              "      <th>MSZoning</th>\n",
              "      <th>LotFrontage</th>\n",
              "      <th>LotArea</th>\n",
              "      <th>Street</th>\n",
              "      <th>Alley</th>\n",
              "      <th>LotShape</th>\n",
              "      <th>LandContour</th>\n",
              "      <th>Utilities</th>\n",
              "      <th>LotConfig</th>\n",
              "      <th>LandSlope</th>\n",
              "      <th>Neighborhood</th>\n",
              "      <th>Condition1</th>\n",
              "      <th>Condition2</th>\n",
              "      <th>BldgType</th>\n",
              "      <th>HouseStyle</th>\n",
              "      <th>OverallQual</th>\n",
              "      <th>OverallCond</th>\n",
              "      <th>YearBuilt</th>\n",
              "      <th>YearRemodAdd</th>\n",
              "      <th>RoofStyle</th>\n",
              "      <th>RoofMatl</th>\n",
              "      <th>Exterior1st</th>\n",
              "      <th>Exterior2nd</th>\n",
              "      <th>MasVnrType</th>\n",
              "      <th>MasVnrArea</th>\n",
              "      <th>ExterQual</th>\n",
              "      <th>ExterCond</th>\n",
              "      <th>Foundation</th>\n",
              "      <th>BsmtQual</th>\n",
              "      <th>BsmtCond</th>\n",
              "      <th>BsmtExposure</th>\n",
              "      <th>BsmtFinType1</th>\n",
              "      <th>BsmtFinSF1</th>\n",
              "      <th>BsmtFinType2</th>\n",
              "      <th>BsmtFinSF2</th>\n",
              "      <th>BsmtUnfSF</th>\n",
              "      <th>TotalBsmtSF</th>\n",
              "      <th>Heating</th>\n",
              "      <th>HeatingQC</th>\n",
              "      <th>CentralAir</th>\n",
              "      <th>Electrical</th>\n",
              "      <th>1stFlrSF</th>\n",
              "      <th>2ndFlrSF</th>\n",
              "      <th>LowQualFinSF</th>\n",
              "      <th>GrLivArea</th>\n",
              "      <th>BsmtFullBath</th>\n",
              "      <th>BsmtHalfBath</th>\n",
              "      <th>FullBath</th>\n",
              "      <th>HalfBath</th>\n",
              "      <th>BedroomAbvGr</th>\n",
              "      <th>KitchenAbvGr</th>\n",
              "      <th>KitchenQual</th>\n",
              "      <th>TotRmsAbvGrd</th>\n",
              "      <th>Functional</th>\n",
              "      <th>Fireplaces</th>\n",
              "      <th>FireplaceQu</th>\n",
              "      <th>GarageType</th>\n",
              "      <th>GarageYrBlt</th>\n",
              "      <th>GarageFinish</th>\n",
              "      <th>GarageCars</th>\n",
              "      <th>GarageArea</th>\n",
              "      <th>GarageQual</th>\n",
              "      <th>GarageCond</th>\n",
              "      <th>PavedDrive</th>\n",
              "      <th>WoodDeckSF</th>\n",
              "      <th>OpenPorchSF</th>\n",
              "      <th>EnclosedPorch</th>\n",
              "      <th>3SsnPorch</th>\n",
              "      <th>ScreenPorch</th>\n",
              "      <th>PoolArea</th>\n",
              "      <th>PoolQC</th>\n",
              "      <th>Fence</th>\n",
              "      <th>MiscFeature</th>\n",
              "      <th>MiscVal</th>\n",
              "      <th>MoSold</th>\n",
              "      <th>YrSold</th>\n",
              "      <th>SaleType</th>\n",
              "      <th>SaleCondition</th>\n",
              "      <th>SalePrice</th>\n",
              "    </tr>\n",
              "  </thead>\n",
              "  <tbody>\n",
              "    <tr>\n",
              "      <th>0</th>\n",
              "      <td>1</td>\n",
              "      <td>60</td>\n",
              "      <td>RL</td>\n",
              "      <td>65.0</td>\n",
              "      <td>8450</td>\n",
              "      <td>Pave</td>\n",
              "      <td>NaN</td>\n",
              "      <td>Reg</td>\n",
              "      <td>Lvl</td>\n",
              "      <td>AllPub</td>\n",
              "      <td>Inside</td>\n",
              "      <td>Gtl</td>\n",
              "      <td>CollgCr</td>\n",
              "      <td>Norm</td>\n",
              "      <td>Norm</td>\n",
              "      <td>1Fam</td>\n",
              "      <td>2Story</td>\n",
              "      <td>7</td>\n",
              "      <td>5</td>\n",
              "      <td>2003</td>\n",
              "      <td>2003</td>\n",
              "      <td>Gable</td>\n",
              "      <td>CompShg</td>\n",
              "      <td>VinylSd</td>\n",
              "      <td>VinylSd</td>\n",
              "      <td>BrkFace</td>\n",
              "      <td>196.0</td>\n",
              "      <td>Gd</td>\n",
              "      <td>TA</td>\n",
              "      <td>PConc</td>\n",
              "      <td>Gd</td>\n",
              "      <td>TA</td>\n",
              "      <td>No</td>\n",
              "      <td>GLQ</td>\n",
              "      <td>706</td>\n",
              "      <td>Unf</td>\n",
              "      <td>0</td>\n",
              "      <td>150</td>\n",
              "      <td>856</td>\n",
              "      <td>GasA</td>\n",
              "      <td>Ex</td>\n",
              "      <td>Y</td>\n",
              "      <td>SBrkr</td>\n",
              "      <td>856</td>\n",
              "      <td>854</td>\n",
              "      <td>0</td>\n",
              "      <td>1710</td>\n",
              "      <td>1</td>\n",
              "      <td>0</td>\n",
              "      <td>2</td>\n",
              "      <td>1</td>\n",
              "      <td>3</td>\n",
              "      <td>1</td>\n",
              "      <td>Gd</td>\n",
              "      <td>8</td>\n",
              "      <td>Typ</td>\n",
              "      <td>0</td>\n",
              "      <td>NaN</td>\n",
              "      <td>Attchd</td>\n",
              "      <td>2003.0</td>\n",
              "      <td>RFn</td>\n",
              "      <td>2</td>\n",
              "      <td>548</td>\n",
              "      <td>TA</td>\n",
              "      <td>TA</td>\n",
              "      <td>Y</td>\n",
              "      <td>0</td>\n",
              "      <td>61</td>\n",
              "      <td>0</td>\n",
              "      <td>0</td>\n",
              "      <td>0</td>\n",
              "      <td>0</td>\n",
              "      <td>NaN</td>\n",
              "      <td>NaN</td>\n",
              "      <td>NaN</td>\n",
              "      <td>0</td>\n",
              "      <td>2</td>\n",
              "      <td>2008</td>\n",
              "      <td>WD</td>\n",
              "      <td>Normal</td>\n",
              "      <td>208500</td>\n",
              "    </tr>\n",
              "    <tr>\n",
              "      <th>1</th>\n",
              "      <td>2</td>\n",
              "      <td>20</td>\n",
              "      <td>RL</td>\n",
              "      <td>80.0</td>\n",
              "      <td>9600</td>\n",
              "      <td>Pave</td>\n",
              "      <td>NaN</td>\n",
              "      <td>Reg</td>\n",
              "      <td>Lvl</td>\n",
              "      <td>AllPub</td>\n",
              "      <td>FR2</td>\n",
              "      <td>Gtl</td>\n",
              "      <td>Veenker</td>\n",
              "      <td>Feedr</td>\n",
              "      <td>Norm</td>\n",
              "      <td>1Fam</td>\n",
              "      <td>1Story</td>\n",
              "      <td>6</td>\n",
              "      <td>8</td>\n",
              "      <td>1976</td>\n",
              "      <td>1976</td>\n",
              "      <td>Gable</td>\n",
              "      <td>CompShg</td>\n",
              "      <td>MetalSd</td>\n",
              "      <td>MetalSd</td>\n",
              "      <td>None</td>\n",
              "      <td>0.0</td>\n",
              "      <td>TA</td>\n",
              "      <td>TA</td>\n",
              "      <td>CBlock</td>\n",
              "      <td>Gd</td>\n",
              "      <td>TA</td>\n",
              "      <td>Gd</td>\n",
              "      <td>ALQ</td>\n",
              "      <td>978</td>\n",
              "      <td>Unf</td>\n",
              "      <td>0</td>\n",
              "      <td>284</td>\n",
              "      <td>1262</td>\n",
              "      <td>GasA</td>\n",
              "      <td>Ex</td>\n",
              "      <td>Y</td>\n",
              "      <td>SBrkr</td>\n",
              "      <td>1262</td>\n",
              "      <td>0</td>\n",
              "      <td>0</td>\n",
              "      <td>1262</td>\n",
              "      <td>0</td>\n",
              "      <td>1</td>\n",
              "      <td>2</td>\n",
              "      <td>0</td>\n",
              "      <td>3</td>\n",
              "      <td>1</td>\n",
              "      <td>TA</td>\n",
              "      <td>6</td>\n",
              "      <td>Typ</td>\n",
              "      <td>1</td>\n",
              "      <td>TA</td>\n",
              "      <td>Attchd</td>\n",
              "      <td>1976.0</td>\n",
              "      <td>RFn</td>\n",
              "      <td>2</td>\n",
              "      <td>460</td>\n",
              "      <td>TA</td>\n",
              "      <td>TA</td>\n",
              "      <td>Y</td>\n",
              "      <td>298</td>\n",
              "      <td>0</td>\n",
              "      <td>0</td>\n",
              "      <td>0</td>\n",
              "      <td>0</td>\n",
              "      <td>0</td>\n",
              "      <td>NaN</td>\n",
              "      <td>NaN</td>\n",
              "      <td>NaN</td>\n",
              "      <td>0</td>\n",
              "      <td>5</td>\n",
              "      <td>2007</td>\n",
              "      <td>WD</td>\n",
              "      <td>Normal</td>\n",
              "      <td>181500</td>\n",
              "    </tr>\n",
              "    <tr>\n",
              "      <th>2</th>\n",
              "      <td>3</td>\n",
              "      <td>60</td>\n",
              "      <td>RL</td>\n",
              "      <td>68.0</td>\n",
              "      <td>11250</td>\n",
              "      <td>Pave</td>\n",
              "      <td>NaN</td>\n",
              "      <td>IR1</td>\n",
              "      <td>Lvl</td>\n",
              "      <td>AllPub</td>\n",
              "      <td>Inside</td>\n",
              "      <td>Gtl</td>\n",
              "      <td>CollgCr</td>\n",
              "      <td>Norm</td>\n",
              "      <td>Norm</td>\n",
              "      <td>1Fam</td>\n",
              "      <td>2Story</td>\n",
              "      <td>7</td>\n",
              "      <td>5</td>\n",
              "      <td>2001</td>\n",
              "      <td>2002</td>\n",
              "      <td>Gable</td>\n",
              "      <td>CompShg</td>\n",
              "      <td>VinylSd</td>\n",
              "      <td>VinylSd</td>\n",
              "      <td>BrkFace</td>\n",
              "      <td>162.0</td>\n",
              "      <td>Gd</td>\n",
              "      <td>TA</td>\n",
              "      <td>PConc</td>\n",
              "      <td>Gd</td>\n",
              "      <td>TA</td>\n",
              "      <td>Mn</td>\n",
              "      <td>GLQ</td>\n",
              "      <td>486</td>\n",
              "      <td>Unf</td>\n",
              "      <td>0</td>\n",
              "      <td>434</td>\n",
              "      <td>920</td>\n",
              "      <td>GasA</td>\n",
              "      <td>Ex</td>\n",
              "      <td>Y</td>\n",
              "      <td>SBrkr</td>\n",
              "      <td>920</td>\n",
              "      <td>866</td>\n",
              "      <td>0</td>\n",
              "      <td>1786</td>\n",
              "      <td>1</td>\n",
              "      <td>0</td>\n",
              "      <td>2</td>\n",
              "      <td>1</td>\n",
              "      <td>3</td>\n",
              "      <td>1</td>\n",
              "      <td>Gd</td>\n",
              "      <td>6</td>\n",
              "      <td>Typ</td>\n",
              "      <td>1</td>\n",
              "      <td>TA</td>\n",
              "      <td>Attchd</td>\n",
              "      <td>2001.0</td>\n",
              "      <td>RFn</td>\n",
              "      <td>2</td>\n",
              "      <td>608</td>\n",
              "      <td>TA</td>\n",
              "      <td>TA</td>\n",
              "      <td>Y</td>\n",
              "      <td>0</td>\n",
              "      <td>42</td>\n",
              "      <td>0</td>\n",
              "      <td>0</td>\n",
              "      <td>0</td>\n",
              "      <td>0</td>\n",
              "      <td>NaN</td>\n",
              "      <td>NaN</td>\n",
              "      <td>NaN</td>\n",
              "      <td>0</td>\n",
              "      <td>9</td>\n",
              "      <td>2008</td>\n",
              "      <td>WD</td>\n",
              "      <td>Normal</td>\n",
              "      <td>223500</td>\n",
              "    </tr>\n",
              "    <tr>\n",
              "      <th>3</th>\n",
              "      <td>4</td>\n",
              "      <td>70</td>\n",
              "      <td>RL</td>\n",
              "      <td>60.0</td>\n",
              "      <td>9550</td>\n",
              "      <td>Pave</td>\n",
              "      <td>NaN</td>\n",
              "      <td>IR1</td>\n",
              "      <td>Lvl</td>\n",
              "      <td>AllPub</td>\n",
              "      <td>Corner</td>\n",
              "      <td>Gtl</td>\n",
              "      <td>Crawfor</td>\n",
              "      <td>Norm</td>\n",
              "      <td>Norm</td>\n",
              "      <td>1Fam</td>\n",
              "      <td>2Story</td>\n",
              "      <td>7</td>\n",
              "      <td>5</td>\n",
              "      <td>1915</td>\n",
              "      <td>1970</td>\n",
              "      <td>Gable</td>\n",
              "      <td>CompShg</td>\n",
              "      <td>Wd Sdng</td>\n",
              "      <td>Wd Shng</td>\n",
              "      <td>None</td>\n",
              "      <td>0.0</td>\n",
              "      <td>TA</td>\n",
              "      <td>TA</td>\n",
              "      <td>BrkTil</td>\n",
              "      <td>TA</td>\n",
              "      <td>Gd</td>\n",
              "      <td>No</td>\n",
              "      <td>ALQ</td>\n",
              "      <td>216</td>\n",
              "      <td>Unf</td>\n",
              "      <td>0</td>\n",
              "      <td>540</td>\n",
              "      <td>756</td>\n",
              "      <td>GasA</td>\n",
              "      <td>Gd</td>\n",
              "      <td>Y</td>\n",
              "      <td>SBrkr</td>\n",
              "      <td>961</td>\n",
              "      <td>756</td>\n",
              "      <td>0</td>\n",
              "      <td>1717</td>\n",
              "      <td>1</td>\n",
              "      <td>0</td>\n",
              "      <td>1</td>\n",
              "      <td>0</td>\n",
              "      <td>3</td>\n",
              "      <td>1</td>\n",
              "      <td>Gd</td>\n",
              "      <td>7</td>\n",
              "      <td>Typ</td>\n",
              "      <td>1</td>\n",
              "      <td>Gd</td>\n",
              "      <td>Detchd</td>\n",
              "      <td>1998.0</td>\n",
              "      <td>Unf</td>\n",
              "      <td>3</td>\n",
              "      <td>642</td>\n",
              "      <td>TA</td>\n",
              "      <td>TA</td>\n",
              "      <td>Y</td>\n",
              "      <td>0</td>\n",
              "      <td>35</td>\n",
              "      <td>272</td>\n",
              "      <td>0</td>\n",
              "      <td>0</td>\n",
              "      <td>0</td>\n",
              "      <td>NaN</td>\n",
              "      <td>NaN</td>\n",
              "      <td>NaN</td>\n",
              "      <td>0</td>\n",
              "      <td>2</td>\n",
              "      <td>2006</td>\n",
              "      <td>WD</td>\n",
              "      <td>Abnorml</td>\n",
              "      <td>140000</td>\n",
              "    </tr>\n",
              "    <tr>\n",
              "      <th>4</th>\n",
              "      <td>5</td>\n",
              "      <td>60</td>\n",
              "      <td>RL</td>\n",
              "      <td>84.0</td>\n",
              "      <td>14260</td>\n",
              "      <td>Pave</td>\n",
              "      <td>NaN</td>\n",
              "      <td>IR1</td>\n",
              "      <td>Lvl</td>\n",
              "      <td>AllPub</td>\n",
              "      <td>FR2</td>\n",
              "      <td>Gtl</td>\n",
              "      <td>NoRidge</td>\n",
              "      <td>Norm</td>\n",
              "      <td>Norm</td>\n",
              "      <td>1Fam</td>\n",
              "      <td>2Story</td>\n",
              "      <td>8</td>\n",
              "      <td>5</td>\n",
              "      <td>2000</td>\n",
              "      <td>2000</td>\n",
              "      <td>Gable</td>\n",
              "      <td>CompShg</td>\n",
              "      <td>VinylSd</td>\n",
              "      <td>VinylSd</td>\n",
              "      <td>BrkFace</td>\n",
              "      <td>350.0</td>\n",
              "      <td>Gd</td>\n",
              "      <td>TA</td>\n",
              "      <td>PConc</td>\n",
              "      <td>Gd</td>\n",
              "      <td>TA</td>\n",
              "      <td>Av</td>\n",
              "      <td>GLQ</td>\n",
              "      <td>655</td>\n",
              "      <td>Unf</td>\n",
              "      <td>0</td>\n",
              "      <td>490</td>\n",
              "      <td>1145</td>\n",
              "      <td>GasA</td>\n",
              "      <td>Ex</td>\n",
              "      <td>Y</td>\n",
              "      <td>SBrkr</td>\n",
              "      <td>1145</td>\n",
              "      <td>1053</td>\n",
              "      <td>0</td>\n",
              "      <td>2198</td>\n",
              "      <td>1</td>\n",
              "      <td>0</td>\n",
              "      <td>2</td>\n",
              "      <td>1</td>\n",
              "      <td>4</td>\n",
              "      <td>1</td>\n",
              "      <td>Gd</td>\n",
              "      <td>9</td>\n",
              "      <td>Typ</td>\n",
              "      <td>1</td>\n",
              "      <td>TA</td>\n",
              "      <td>Attchd</td>\n",
              "      <td>2000.0</td>\n",
              "      <td>RFn</td>\n",
              "      <td>3</td>\n",
              "      <td>836</td>\n",
              "      <td>TA</td>\n",
              "      <td>TA</td>\n",
              "      <td>Y</td>\n",
              "      <td>192</td>\n",
              "      <td>84</td>\n",
              "      <td>0</td>\n",
              "      <td>0</td>\n",
              "      <td>0</td>\n",
              "      <td>0</td>\n",
              "      <td>NaN</td>\n",
              "      <td>NaN</td>\n",
              "      <td>NaN</td>\n",
              "      <td>0</td>\n",
              "      <td>12</td>\n",
              "      <td>2008</td>\n",
              "      <td>WD</td>\n",
              "      <td>Normal</td>\n",
              "      <td>250000</td>\n",
              "    </tr>\n",
              "  </tbody>\n",
              "</table>\n",
              "</div>\n",
              "      <button class=\"colab-df-convert\" onclick=\"convertToInteractive('df-1bc8777e-f6f9-407b-897b-caa8103831ea')\"\n",
              "              title=\"Convert this dataframe to an interactive table.\"\n",
              "              style=\"display:none;\">\n",
              "        \n",
              "  <svg xmlns=\"http://www.w3.org/2000/svg\" height=\"24px\"viewBox=\"0 0 24 24\"\n",
              "       width=\"24px\">\n",
              "    <path d=\"M0 0h24v24H0V0z\" fill=\"none\"/>\n",
              "    <path d=\"M18.56 5.44l.94 2.06.94-2.06 2.06-.94-2.06-.94-.94-2.06-.94 2.06-2.06.94zm-11 1L8.5 8.5l.94-2.06 2.06-.94-2.06-.94L8.5 2.5l-.94 2.06-2.06.94zm10 10l.94 2.06.94-2.06 2.06-.94-2.06-.94-.94-2.06-.94 2.06-2.06.94z\"/><path d=\"M17.41 7.96l-1.37-1.37c-.4-.4-.92-.59-1.43-.59-.52 0-1.04.2-1.43.59L10.3 9.45l-7.72 7.72c-.78.78-.78 2.05 0 2.83L4 21.41c.39.39.9.59 1.41.59.51 0 1.02-.2 1.41-.59l7.78-7.78 2.81-2.81c.8-.78.8-2.07 0-2.86zM5.41 20L4 18.59l7.72-7.72 1.47 1.35L5.41 20z\"/>\n",
              "  </svg>\n",
              "      </button>\n",
              "      \n",
              "  <style>\n",
              "    .colab-df-container {\n",
              "      display:flex;\n",
              "      flex-wrap:wrap;\n",
              "      gap: 12px;\n",
              "    }\n",
              "\n",
              "    .colab-df-convert {\n",
              "      background-color: #E8F0FE;\n",
              "      border: none;\n",
              "      border-radius: 50%;\n",
              "      cursor: pointer;\n",
              "      display: none;\n",
              "      fill: #1967D2;\n",
              "      height: 32px;\n",
              "      padding: 0 0 0 0;\n",
              "      width: 32px;\n",
              "    }\n",
              "\n",
              "    .colab-df-convert:hover {\n",
              "      background-color: #E2EBFA;\n",
              "      box-shadow: 0px 1px 2px rgba(60, 64, 67, 0.3), 0px 1px 3px 1px rgba(60, 64, 67, 0.15);\n",
              "      fill: #174EA6;\n",
              "    }\n",
              "\n",
              "    [theme=dark] .colab-df-convert {\n",
              "      background-color: #3B4455;\n",
              "      fill: #D2E3FC;\n",
              "    }\n",
              "\n",
              "    [theme=dark] .colab-df-convert:hover {\n",
              "      background-color: #434B5C;\n",
              "      box-shadow: 0px 1px 3px 1px rgba(0, 0, 0, 0.15);\n",
              "      filter: drop-shadow(0px 1px 2px rgba(0, 0, 0, 0.3));\n",
              "      fill: #FFFFFF;\n",
              "    }\n",
              "  </style>\n",
              "\n",
              "      <script>\n",
              "        const buttonEl =\n",
              "          document.querySelector('#df-1bc8777e-f6f9-407b-897b-caa8103831ea button.colab-df-convert');\n",
              "        buttonEl.style.display =\n",
              "          google.colab.kernel.accessAllowed ? 'block' : 'none';\n",
              "\n",
              "        async function convertToInteractive(key) {\n",
              "          const element = document.querySelector('#df-1bc8777e-f6f9-407b-897b-caa8103831ea');\n",
              "          const dataTable =\n",
              "            await google.colab.kernel.invokeFunction('convertToInteractive',\n",
              "                                                     [key], {});\n",
              "          if (!dataTable) return;\n",
              "\n",
              "          const docLinkHtml = 'Like what you see? Visit the ' +\n",
              "            '<a target=\"_blank\" href=https://colab.research.google.com/notebooks/data_table.ipynb>data table notebook</a>'\n",
              "            + ' to learn more about interactive tables.';\n",
              "          element.innerHTML = '';\n",
              "          dataTable['output_type'] = 'display_data';\n",
              "          await google.colab.output.renderOutput(dataTable, element);\n",
              "          const docLink = document.createElement('div');\n",
              "          docLink.innerHTML = docLinkHtml;\n",
              "          element.appendChild(docLink);\n",
              "        }\n",
              "      </script>\n",
              "    </div>\n",
              "  </div>\n",
              "  "
            ]
          },
          "metadata": {},
          "execution_count": 4
        }
      ],
      "source": [
        "tb_housing.head()"
      ]
    },
    {
      "cell_type": "code",
      "execution_count": 5,
      "metadata": {
        "colab": {
          "base_uri": "https://localhost:8080/",
          "height": 364
        },
        "id": "FNtGBE0BSl7f",
        "outputId": "b043da1a-e703-4408-b8b9-793c05aa01e5"
      },
      "outputs": [
        {
          "output_type": "execute_result",
          "data": {
            "text/plain": [
              "                Id   MSSubClass  LotFrontage        LotArea  OverallQual  \\\n",
              "count  1460.000000  1460.000000  1201.000000    1460.000000  1460.000000   \n",
              "mean    730.500000    56.897260    70.049958   10516.828082     6.099315   \n",
              "std     421.610009    42.300571    24.284752    9981.264932     1.382997   \n",
              "min       1.000000    20.000000    21.000000    1300.000000     1.000000   \n",
              "25%     365.750000    20.000000    59.000000    7553.500000     5.000000   \n",
              "50%     730.500000    50.000000    69.000000    9478.500000     6.000000   \n",
              "75%    1095.250000    70.000000    80.000000   11601.500000     7.000000   \n",
              "max    1460.000000   190.000000   313.000000  215245.000000    10.000000   \n",
              "\n",
              "       OverallCond    YearBuilt  YearRemodAdd   MasVnrArea   BsmtFinSF1  \\\n",
              "count  1460.000000  1460.000000   1460.000000  1452.000000  1460.000000   \n",
              "mean      5.575342  1971.267808   1984.865753   103.685262   443.639726   \n",
              "std       1.112799    30.202904     20.645407   181.066207   456.098091   \n",
              "min       1.000000  1872.000000   1950.000000     0.000000     0.000000   \n",
              "25%       5.000000  1954.000000   1967.000000     0.000000     0.000000   \n",
              "50%       5.000000  1973.000000   1994.000000     0.000000   383.500000   \n",
              "75%       6.000000  2000.000000   2004.000000   166.000000   712.250000   \n",
              "max       9.000000  2010.000000   2010.000000  1600.000000  5644.000000   \n",
              "\n",
              "        BsmtFinSF2    BsmtUnfSF  TotalBsmtSF     1stFlrSF     2ndFlrSF  \\\n",
              "count  1460.000000  1460.000000  1460.000000  1460.000000  1460.000000   \n",
              "mean     46.549315   567.240411  1057.429452  1162.626712   346.992466   \n",
              "std     161.319273   441.866955   438.705324   386.587738   436.528436   \n",
              "min       0.000000     0.000000     0.000000   334.000000     0.000000   \n",
              "25%       0.000000   223.000000   795.750000   882.000000     0.000000   \n",
              "50%       0.000000   477.500000   991.500000  1087.000000     0.000000   \n",
              "75%       0.000000   808.000000  1298.250000  1391.250000   728.000000   \n",
              "max    1474.000000  2336.000000  6110.000000  4692.000000  2065.000000   \n",
              "\n",
              "       LowQualFinSF    GrLivArea  BsmtFullBath  BsmtHalfBath     FullBath  \\\n",
              "count   1460.000000  1460.000000   1460.000000   1460.000000  1460.000000   \n",
              "mean       5.844521  1515.463699      0.425342      0.057534     1.565068   \n",
              "std       48.623081   525.480383      0.518911      0.238753     0.550916   \n",
              "min        0.000000   334.000000      0.000000      0.000000     0.000000   \n",
              "25%        0.000000  1129.500000      0.000000      0.000000     1.000000   \n",
              "50%        0.000000  1464.000000      0.000000      0.000000     2.000000   \n",
              "75%        0.000000  1776.750000      1.000000      0.000000     2.000000   \n",
              "max      572.000000  5642.000000      3.000000      2.000000     3.000000   \n",
              "\n",
              "          HalfBath  BedroomAbvGr  KitchenAbvGr  TotRmsAbvGrd   Fireplaces  \\\n",
              "count  1460.000000   1460.000000   1460.000000   1460.000000  1460.000000   \n",
              "mean      0.382877      2.866438      1.046575      6.517808     0.613014   \n",
              "std       0.502885      0.815778      0.220338      1.625393     0.644666   \n",
              "min       0.000000      0.000000      0.000000      2.000000     0.000000   \n",
              "25%       0.000000      2.000000      1.000000      5.000000     0.000000   \n",
              "50%       0.000000      3.000000      1.000000      6.000000     1.000000   \n",
              "75%       1.000000      3.000000      1.000000      7.000000     1.000000   \n",
              "max       2.000000      8.000000      3.000000     14.000000     3.000000   \n",
              "\n",
              "       GarageYrBlt   GarageCars   GarageArea   WoodDeckSF  OpenPorchSF  \\\n",
              "count  1379.000000  1460.000000  1460.000000  1460.000000  1460.000000   \n",
              "mean   1978.506164     1.767123   472.980137    94.244521    46.660274   \n",
              "std      24.689725     0.747315   213.804841   125.338794    66.256028   \n",
              "min    1900.000000     0.000000     0.000000     0.000000     0.000000   \n",
              "25%    1961.000000     1.000000   334.500000     0.000000     0.000000   \n",
              "50%    1980.000000     2.000000   480.000000     0.000000    25.000000   \n",
              "75%    2002.000000     2.000000   576.000000   168.000000    68.000000   \n",
              "max    2010.000000     4.000000  1418.000000   857.000000   547.000000   \n",
              "\n",
              "       EnclosedPorch    3SsnPorch  ScreenPorch     PoolArea       MiscVal  \\\n",
              "count    1460.000000  1460.000000  1460.000000  1460.000000   1460.000000   \n",
              "mean       21.954110     3.409589    15.060959     2.758904     43.489041   \n",
              "std        61.119149    29.317331    55.757415    40.177307    496.123024   \n",
              "min         0.000000     0.000000     0.000000     0.000000      0.000000   \n",
              "25%         0.000000     0.000000     0.000000     0.000000      0.000000   \n",
              "50%         0.000000     0.000000     0.000000     0.000000      0.000000   \n",
              "75%         0.000000     0.000000     0.000000     0.000000      0.000000   \n",
              "max       552.000000   508.000000   480.000000   738.000000  15500.000000   \n",
              "\n",
              "            MoSold       YrSold      SalePrice  \n",
              "count  1460.000000  1460.000000    1460.000000  \n",
              "mean      6.321918  2007.815753  180921.195890  \n",
              "std       2.703626     1.328095   79442.502883  \n",
              "min       1.000000  2006.000000   34900.000000  \n",
              "25%       5.000000  2007.000000  129975.000000  \n",
              "50%       6.000000  2008.000000  163000.000000  \n",
              "75%       8.000000  2009.000000  214000.000000  \n",
              "max      12.000000  2010.000000  755000.000000  "
            ],
            "text/html": [
              "\n",
              "  <div id=\"df-5dae5c9f-7802-446b-943b-145898c8c565\">\n",
              "    <div class=\"colab-df-container\">\n",
              "      <div>\n",
              "<style scoped>\n",
              "    .dataframe tbody tr th:only-of-type {\n",
              "        vertical-align: middle;\n",
              "    }\n",
              "\n",
              "    .dataframe tbody tr th {\n",
              "        vertical-align: top;\n",
              "    }\n",
              "\n",
              "    .dataframe thead th {\n",
              "        text-align: right;\n",
              "    }\n",
              "</style>\n",
              "<table border=\"1\" class=\"dataframe\">\n",
              "  <thead>\n",
              "    <tr style=\"text-align: right;\">\n",
              "      <th></th>\n",
              "      <th>Id</th>\n",
              "      <th>MSSubClass</th>\n",
              "      <th>LotFrontage</th>\n",
              "      <th>LotArea</th>\n",
              "      <th>OverallQual</th>\n",
              "      <th>OverallCond</th>\n",
              "      <th>YearBuilt</th>\n",
              "      <th>YearRemodAdd</th>\n",
              "      <th>MasVnrArea</th>\n",
              "      <th>BsmtFinSF1</th>\n",
              "      <th>BsmtFinSF2</th>\n",
              "      <th>BsmtUnfSF</th>\n",
              "      <th>TotalBsmtSF</th>\n",
              "      <th>1stFlrSF</th>\n",
              "      <th>2ndFlrSF</th>\n",
              "      <th>LowQualFinSF</th>\n",
              "      <th>GrLivArea</th>\n",
              "      <th>BsmtFullBath</th>\n",
              "      <th>BsmtHalfBath</th>\n",
              "      <th>FullBath</th>\n",
              "      <th>HalfBath</th>\n",
              "      <th>BedroomAbvGr</th>\n",
              "      <th>KitchenAbvGr</th>\n",
              "      <th>TotRmsAbvGrd</th>\n",
              "      <th>Fireplaces</th>\n",
              "      <th>GarageYrBlt</th>\n",
              "      <th>GarageCars</th>\n",
              "      <th>GarageArea</th>\n",
              "      <th>WoodDeckSF</th>\n",
              "      <th>OpenPorchSF</th>\n",
              "      <th>EnclosedPorch</th>\n",
              "      <th>3SsnPorch</th>\n",
              "      <th>ScreenPorch</th>\n",
              "      <th>PoolArea</th>\n",
              "      <th>MiscVal</th>\n",
              "      <th>MoSold</th>\n",
              "      <th>YrSold</th>\n",
              "      <th>SalePrice</th>\n",
              "    </tr>\n",
              "  </thead>\n",
              "  <tbody>\n",
              "    <tr>\n",
              "      <th>count</th>\n",
              "      <td>1460.000000</td>\n",
              "      <td>1460.000000</td>\n",
              "      <td>1201.000000</td>\n",
              "      <td>1460.000000</td>\n",
              "      <td>1460.000000</td>\n",
              "      <td>1460.000000</td>\n",
              "      <td>1460.000000</td>\n",
              "      <td>1460.000000</td>\n",
              "      <td>1452.000000</td>\n",
              "      <td>1460.000000</td>\n",
              "      <td>1460.000000</td>\n",
              "      <td>1460.000000</td>\n",
              "      <td>1460.000000</td>\n",
              "      <td>1460.000000</td>\n",
              "      <td>1460.000000</td>\n",
              "      <td>1460.000000</td>\n",
              "      <td>1460.000000</td>\n",
              "      <td>1460.000000</td>\n",
              "      <td>1460.000000</td>\n",
              "      <td>1460.000000</td>\n",
              "      <td>1460.000000</td>\n",
              "      <td>1460.000000</td>\n",
              "      <td>1460.000000</td>\n",
              "      <td>1460.000000</td>\n",
              "      <td>1460.000000</td>\n",
              "      <td>1379.000000</td>\n",
              "      <td>1460.000000</td>\n",
              "      <td>1460.000000</td>\n",
              "      <td>1460.000000</td>\n",
              "      <td>1460.000000</td>\n",
              "      <td>1460.000000</td>\n",
              "      <td>1460.000000</td>\n",
              "      <td>1460.000000</td>\n",
              "      <td>1460.000000</td>\n",
              "      <td>1460.000000</td>\n",
              "      <td>1460.000000</td>\n",
              "      <td>1460.000000</td>\n",
              "      <td>1460.000000</td>\n",
              "    </tr>\n",
              "    <tr>\n",
              "      <th>mean</th>\n",
              "      <td>730.500000</td>\n",
              "      <td>56.897260</td>\n",
              "      <td>70.049958</td>\n",
              "      <td>10516.828082</td>\n",
              "      <td>6.099315</td>\n",
              "      <td>5.575342</td>\n",
              "      <td>1971.267808</td>\n",
              "      <td>1984.865753</td>\n",
              "      <td>103.685262</td>\n",
              "      <td>443.639726</td>\n",
              "      <td>46.549315</td>\n",
              "      <td>567.240411</td>\n",
              "      <td>1057.429452</td>\n",
              "      <td>1162.626712</td>\n",
              "      <td>346.992466</td>\n",
              "      <td>5.844521</td>\n",
              "      <td>1515.463699</td>\n",
              "      <td>0.425342</td>\n",
              "      <td>0.057534</td>\n",
              "      <td>1.565068</td>\n",
              "      <td>0.382877</td>\n",
              "      <td>2.866438</td>\n",
              "      <td>1.046575</td>\n",
              "      <td>6.517808</td>\n",
              "      <td>0.613014</td>\n",
              "      <td>1978.506164</td>\n",
              "      <td>1.767123</td>\n",
              "      <td>472.980137</td>\n",
              "      <td>94.244521</td>\n",
              "      <td>46.660274</td>\n",
              "      <td>21.954110</td>\n",
              "      <td>3.409589</td>\n",
              "      <td>15.060959</td>\n",
              "      <td>2.758904</td>\n",
              "      <td>43.489041</td>\n",
              "      <td>6.321918</td>\n",
              "      <td>2007.815753</td>\n",
              "      <td>180921.195890</td>\n",
              "    </tr>\n",
              "    <tr>\n",
              "      <th>std</th>\n",
              "      <td>421.610009</td>\n",
              "      <td>42.300571</td>\n",
              "      <td>24.284752</td>\n",
              "      <td>9981.264932</td>\n",
              "      <td>1.382997</td>\n",
              "      <td>1.112799</td>\n",
              "      <td>30.202904</td>\n",
              "      <td>20.645407</td>\n",
              "      <td>181.066207</td>\n",
              "      <td>456.098091</td>\n",
              "      <td>161.319273</td>\n",
              "      <td>441.866955</td>\n",
              "      <td>438.705324</td>\n",
              "      <td>386.587738</td>\n",
              "      <td>436.528436</td>\n",
              "      <td>48.623081</td>\n",
              "      <td>525.480383</td>\n",
              "      <td>0.518911</td>\n",
              "      <td>0.238753</td>\n",
              "      <td>0.550916</td>\n",
              "      <td>0.502885</td>\n",
              "      <td>0.815778</td>\n",
              "      <td>0.220338</td>\n",
              "      <td>1.625393</td>\n",
              "      <td>0.644666</td>\n",
              "      <td>24.689725</td>\n",
              "      <td>0.747315</td>\n",
              "      <td>213.804841</td>\n",
              "      <td>125.338794</td>\n",
              "      <td>66.256028</td>\n",
              "      <td>61.119149</td>\n",
              "      <td>29.317331</td>\n",
              "      <td>55.757415</td>\n",
              "      <td>40.177307</td>\n",
              "      <td>496.123024</td>\n",
              "      <td>2.703626</td>\n",
              "      <td>1.328095</td>\n",
              "      <td>79442.502883</td>\n",
              "    </tr>\n",
              "    <tr>\n",
              "      <th>min</th>\n",
              "      <td>1.000000</td>\n",
              "      <td>20.000000</td>\n",
              "      <td>21.000000</td>\n",
              "      <td>1300.000000</td>\n",
              "      <td>1.000000</td>\n",
              "      <td>1.000000</td>\n",
              "      <td>1872.000000</td>\n",
              "      <td>1950.000000</td>\n",
              "      <td>0.000000</td>\n",
              "      <td>0.000000</td>\n",
              "      <td>0.000000</td>\n",
              "      <td>0.000000</td>\n",
              "      <td>0.000000</td>\n",
              "      <td>334.000000</td>\n",
              "      <td>0.000000</td>\n",
              "      <td>0.000000</td>\n",
              "      <td>334.000000</td>\n",
              "      <td>0.000000</td>\n",
              "      <td>0.000000</td>\n",
              "      <td>0.000000</td>\n",
              "      <td>0.000000</td>\n",
              "      <td>0.000000</td>\n",
              "      <td>0.000000</td>\n",
              "      <td>2.000000</td>\n",
              "      <td>0.000000</td>\n",
              "      <td>1900.000000</td>\n",
              "      <td>0.000000</td>\n",
              "      <td>0.000000</td>\n",
              "      <td>0.000000</td>\n",
              "      <td>0.000000</td>\n",
              "      <td>0.000000</td>\n",
              "      <td>0.000000</td>\n",
              "      <td>0.000000</td>\n",
              "      <td>0.000000</td>\n",
              "      <td>0.000000</td>\n",
              "      <td>1.000000</td>\n",
              "      <td>2006.000000</td>\n",
              "      <td>34900.000000</td>\n",
              "    </tr>\n",
              "    <tr>\n",
              "      <th>25%</th>\n",
              "      <td>365.750000</td>\n",
              "      <td>20.000000</td>\n",
              "      <td>59.000000</td>\n",
              "      <td>7553.500000</td>\n",
              "      <td>5.000000</td>\n",
              "      <td>5.000000</td>\n",
              "      <td>1954.000000</td>\n",
              "      <td>1967.000000</td>\n",
              "      <td>0.000000</td>\n",
              "      <td>0.000000</td>\n",
              "      <td>0.000000</td>\n",
              "      <td>223.000000</td>\n",
              "      <td>795.750000</td>\n",
              "      <td>882.000000</td>\n",
              "      <td>0.000000</td>\n",
              "      <td>0.000000</td>\n",
              "      <td>1129.500000</td>\n",
              "      <td>0.000000</td>\n",
              "      <td>0.000000</td>\n",
              "      <td>1.000000</td>\n",
              "      <td>0.000000</td>\n",
              "      <td>2.000000</td>\n",
              "      <td>1.000000</td>\n",
              "      <td>5.000000</td>\n",
              "      <td>0.000000</td>\n",
              "      <td>1961.000000</td>\n",
              "      <td>1.000000</td>\n",
              "      <td>334.500000</td>\n",
              "      <td>0.000000</td>\n",
              "      <td>0.000000</td>\n",
              "      <td>0.000000</td>\n",
              "      <td>0.000000</td>\n",
              "      <td>0.000000</td>\n",
              "      <td>0.000000</td>\n",
              "      <td>0.000000</td>\n",
              "      <td>5.000000</td>\n",
              "      <td>2007.000000</td>\n",
              "      <td>129975.000000</td>\n",
              "    </tr>\n",
              "    <tr>\n",
              "      <th>50%</th>\n",
              "      <td>730.500000</td>\n",
              "      <td>50.000000</td>\n",
              "      <td>69.000000</td>\n",
              "      <td>9478.500000</td>\n",
              "      <td>6.000000</td>\n",
              "      <td>5.000000</td>\n",
              "      <td>1973.000000</td>\n",
              "      <td>1994.000000</td>\n",
              "      <td>0.000000</td>\n",
              "      <td>383.500000</td>\n",
              "      <td>0.000000</td>\n",
              "      <td>477.500000</td>\n",
              "      <td>991.500000</td>\n",
              "      <td>1087.000000</td>\n",
              "      <td>0.000000</td>\n",
              "      <td>0.000000</td>\n",
              "      <td>1464.000000</td>\n",
              "      <td>0.000000</td>\n",
              "      <td>0.000000</td>\n",
              "      <td>2.000000</td>\n",
              "      <td>0.000000</td>\n",
              "      <td>3.000000</td>\n",
              "      <td>1.000000</td>\n",
              "      <td>6.000000</td>\n",
              "      <td>1.000000</td>\n",
              "      <td>1980.000000</td>\n",
              "      <td>2.000000</td>\n",
              "      <td>480.000000</td>\n",
              "      <td>0.000000</td>\n",
              "      <td>25.000000</td>\n",
              "      <td>0.000000</td>\n",
              "      <td>0.000000</td>\n",
              "      <td>0.000000</td>\n",
              "      <td>0.000000</td>\n",
              "      <td>0.000000</td>\n",
              "      <td>6.000000</td>\n",
              "      <td>2008.000000</td>\n",
              "      <td>163000.000000</td>\n",
              "    </tr>\n",
              "    <tr>\n",
              "      <th>75%</th>\n",
              "      <td>1095.250000</td>\n",
              "      <td>70.000000</td>\n",
              "      <td>80.000000</td>\n",
              "      <td>11601.500000</td>\n",
              "      <td>7.000000</td>\n",
              "      <td>6.000000</td>\n",
              "      <td>2000.000000</td>\n",
              "      <td>2004.000000</td>\n",
              "      <td>166.000000</td>\n",
              "      <td>712.250000</td>\n",
              "      <td>0.000000</td>\n",
              "      <td>808.000000</td>\n",
              "      <td>1298.250000</td>\n",
              "      <td>1391.250000</td>\n",
              "      <td>728.000000</td>\n",
              "      <td>0.000000</td>\n",
              "      <td>1776.750000</td>\n",
              "      <td>1.000000</td>\n",
              "      <td>0.000000</td>\n",
              "      <td>2.000000</td>\n",
              "      <td>1.000000</td>\n",
              "      <td>3.000000</td>\n",
              "      <td>1.000000</td>\n",
              "      <td>7.000000</td>\n",
              "      <td>1.000000</td>\n",
              "      <td>2002.000000</td>\n",
              "      <td>2.000000</td>\n",
              "      <td>576.000000</td>\n",
              "      <td>168.000000</td>\n",
              "      <td>68.000000</td>\n",
              "      <td>0.000000</td>\n",
              "      <td>0.000000</td>\n",
              "      <td>0.000000</td>\n",
              "      <td>0.000000</td>\n",
              "      <td>0.000000</td>\n",
              "      <td>8.000000</td>\n",
              "      <td>2009.000000</td>\n",
              "      <td>214000.000000</td>\n",
              "    </tr>\n",
              "    <tr>\n",
              "      <th>max</th>\n",
              "      <td>1460.000000</td>\n",
              "      <td>190.000000</td>\n",
              "      <td>313.000000</td>\n",
              "      <td>215245.000000</td>\n",
              "      <td>10.000000</td>\n",
              "      <td>9.000000</td>\n",
              "      <td>2010.000000</td>\n",
              "      <td>2010.000000</td>\n",
              "      <td>1600.000000</td>\n",
              "      <td>5644.000000</td>\n",
              "      <td>1474.000000</td>\n",
              "      <td>2336.000000</td>\n",
              "      <td>6110.000000</td>\n",
              "      <td>4692.000000</td>\n",
              "      <td>2065.000000</td>\n",
              "      <td>572.000000</td>\n",
              "      <td>5642.000000</td>\n",
              "      <td>3.000000</td>\n",
              "      <td>2.000000</td>\n",
              "      <td>3.000000</td>\n",
              "      <td>2.000000</td>\n",
              "      <td>8.000000</td>\n",
              "      <td>3.000000</td>\n",
              "      <td>14.000000</td>\n",
              "      <td>3.000000</td>\n",
              "      <td>2010.000000</td>\n",
              "      <td>4.000000</td>\n",
              "      <td>1418.000000</td>\n",
              "      <td>857.000000</td>\n",
              "      <td>547.000000</td>\n",
              "      <td>552.000000</td>\n",
              "      <td>508.000000</td>\n",
              "      <td>480.000000</td>\n",
              "      <td>738.000000</td>\n",
              "      <td>15500.000000</td>\n",
              "      <td>12.000000</td>\n",
              "      <td>2010.000000</td>\n",
              "      <td>755000.000000</td>\n",
              "    </tr>\n",
              "  </tbody>\n",
              "</table>\n",
              "</div>\n",
              "      <button class=\"colab-df-convert\" onclick=\"convertToInteractive('df-5dae5c9f-7802-446b-943b-145898c8c565')\"\n",
              "              title=\"Convert this dataframe to an interactive table.\"\n",
              "              style=\"display:none;\">\n",
              "        \n",
              "  <svg xmlns=\"http://www.w3.org/2000/svg\" height=\"24px\"viewBox=\"0 0 24 24\"\n",
              "       width=\"24px\">\n",
              "    <path d=\"M0 0h24v24H0V0z\" fill=\"none\"/>\n",
              "    <path d=\"M18.56 5.44l.94 2.06.94-2.06 2.06-.94-2.06-.94-.94-2.06-.94 2.06-2.06.94zm-11 1L8.5 8.5l.94-2.06 2.06-.94-2.06-.94L8.5 2.5l-.94 2.06-2.06.94zm10 10l.94 2.06.94-2.06 2.06-.94-2.06-.94-.94-2.06-.94 2.06-2.06.94z\"/><path d=\"M17.41 7.96l-1.37-1.37c-.4-.4-.92-.59-1.43-.59-.52 0-1.04.2-1.43.59L10.3 9.45l-7.72 7.72c-.78.78-.78 2.05 0 2.83L4 21.41c.39.39.9.59 1.41.59.51 0 1.02-.2 1.41-.59l7.78-7.78 2.81-2.81c.8-.78.8-2.07 0-2.86zM5.41 20L4 18.59l7.72-7.72 1.47 1.35L5.41 20z\"/>\n",
              "  </svg>\n",
              "      </button>\n",
              "      \n",
              "  <style>\n",
              "    .colab-df-container {\n",
              "      display:flex;\n",
              "      flex-wrap:wrap;\n",
              "      gap: 12px;\n",
              "    }\n",
              "\n",
              "    .colab-df-convert {\n",
              "      background-color: #E8F0FE;\n",
              "      border: none;\n",
              "      border-radius: 50%;\n",
              "      cursor: pointer;\n",
              "      display: none;\n",
              "      fill: #1967D2;\n",
              "      height: 32px;\n",
              "      padding: 0 0 0 0;\n",
              "      width: 32px;\n",
              "    }\n",
              "\n",
              "    .colab-df-convert:hover {\n",
              "      background-color: #E2EBFA;\n",
              "      box-shadow: 0px 1px 2px rgba(60, 64, 67, 0.3), 0px 1px 3px 1px rgba(60, 64, 67, 0.15);\n",
              "      fill: #174EA6;\n",
              "    }\n",
              "\n",
              "    [theme=dark] .colab-df-convert {\n",
              "      background-color: #3B4455;\n",
              "      fill: #D2E3FC;\n",
              "    }\n",
              "\n",
              "    [theme=dark] .colab-df-convert:hover {\n",
              "      background-color: #434B5C;\n",
              "      box-shadow: 0px 1px 3px 1px rgba(0, 0, 0, 0.15);\n",
              "      filter: drop-shadow(0px 1px 2px rgba(0, 0, 0, 0.3));\n",
              "      fill: #FFFFFF;\n",
              "    }\n",
              "  </style>\n",
              "\n",
              "      <script>\n",
              "        const buttonEl =\n",
              "          document.querySelector('#df-5dae5c9f-7802-446b-943b-145898c8c565 button.colab-df-convert');\n",
              "        buttonEl.style.display =\n",
              "          google.colab.kernel.accessAllowed ? 'block' : 'none';\n",
              "\n",
              "        async function convertToInteractive(key) {\n",
              "          const element = document.querySelector('#df-5dae5c9f-7802-446b-943b-145898c8c565');\n",
              "          const dataTable =\n",
              "            await google.colab.kernel.invokeFunction('convertToInteractive',\n",
              "                                                     [key], {});\n",
              "          if (!dataTable) return;\n",
              "\n",
              "          const docLinkHtml = 'Like what you see? Visit the ' +\n",
              "            '<a target=\"_blank\" href=https://colab.research.google.com/notebooks/data_table.ipynb>data table notebook</a>'\n",
              "            + ' to learn more about interactive tables.';\n",
              "          element.innerHTML = '';\n",
              "          dataTable['output_type'] = 'display_data';\n",
              "          await google.colab.output.renderOutput(dataTable, element);\n",
              "          const docLink = document.createElement('div');\n",
              "          docLink.innerHTML = docLinkHtml;\n",
              "          element.appendChild(docLink);\n",
              "        }\n",
              "      </script>\n",
              "    </div>\n",
              "  </div>\n",
              "  "
            ]
          },
          "metadata": {},
          "execution_count": 5
        }
      ],
      "source": [
        "tb_housing.describe()"
      ]
    },
    {
      "cell_type": "code",
      "source": [
        "sns.histplot(data = tb_housing, x = 'SalePrice')"
      ],
      "metadata": {
        "colab": {
          "base_uri": "https://localhost:8080/",
          "height": 317
        },
        "id": "60lFrjc8aiZR",
        "outputId": "246f1d51-a91f-41bb-bed5-a786722aaac5"
      },
      "execution_count": 6,
      "outputs": [
        {
          "output_type": "execute_result",
          "data": {
            "text/plain": [
              "<matplotlib.axes._subplots.AxesSubplot at 0x7fce31981a90>"
            ]
          },
          "metadata": {},
          "execution_count": 6
        },
        {
          "output_type": "display_data",
          "data": {
            "text/plain": [
              "<Figure size 432x288 with 1 Axes>"
            ],
            "image/png": "[encoded data removed]"
          },
          "metadata": {
            "needs_background": "light"
          }
        }
      ]
    },
    {
      "cell_type": "code",
      "source": [
        "tb_housing.select_dtypes(include = 'number').columns"
      ],
      "metadata": {
        "id": "7-kpSJNhcN8w",
        "outputId": "0a3e0327-2071-4967-fa61-dabc6d5af316",
        "colab": {
          "base_uri": "https://localhost:8080/"
        }
      },
      "execution_count": 13,
      "outputs": [
        {
          "output_type": "execute_result",
          "data": {
            "text/plain": [
              "Index(['Id', 'MSSubClass', 'LotFrontage', 'LotArea', 'OverallQual',\n",
              "       'OverallCond', 'YearBuilt', 'YearRemodAdd', 'MasVnrArea', 'BsmtFinSF1',\n",
              "       'BsmtFinSF2', 'BsmtUnfSF', 'TotalBsmtSF', '1stFlrSF', '2ndFlrSF',\n",
              "       'LowQualFinSF', 'GrLivArea', 'BsmtFullBath', 'BsmtHalfBath', 'FullBath',\n",
              "       'HalfBath', 'BedroomAbvGr', 'KitchenAbvGr', 'TotRmsAbvGrd',\n",
              "       'Fireplaces', 'GarageYrBlt', 'GarageCars', 'GarageArea', 'WoodDeckSF',\n",
              "       'OpenPorchSF', 'EnclosedPorch', '3SsnPorch', 'ScreenPorch', 'PoolArea',\n",
              "       'MiscVal', 'MoSold', 'YrSold', 'SalePrice'],\n",
              "      dtype='object')"
            ]
          },
          "metadata": {},
          "execution_count": 13
        }
      ]
    },
    {
      "cell_type": "code",
      "source": [
        "rel_num_var = tb_housing.select_dtypes(include = 'number').columns[np.abs(tb_housing.corr()['SalePrice']) > 0.3]"
      ],
      "metadata": {
        "id": "xizsOcNVa8Z2"
      },
      "execution_count": 17,
      "outputs": []
    },
    {
      "cell_type": "code",
      "source": [
        "tb_housing[rel_num_var].corr()"
      ],
      "metadata": {
        "id": "xqF0RymqcgL9",
        "outputId": "58c31958-aeb9-4da6-e6f2-99cad53eeb5d",
        "colab": {
          "base_uri": "https://localhost:8080/",
          "height": 709
        }
      },
      "execution_count": 18,
      "outputs": [
        {
          "output_type": "execute_result",
          "data": {
            "text/plain": [
              "              LotFrontage  OverallQual  YearBuilt  YearRemodAdd  MasVnrArea  \\\n",
              "LotFrontage      1.000000     0.251646   0.123349      0.088866    0.193458   \n",
              "OverallQual      0.251646     1.000000   0.572323      0.550684    0.411876   \n",
              "YearBuilt        0.123349     0.572323   1.000000      0.592855    0.315707   \n",
              "YearRemodAdd     0.088866     0.550684   0.592855      1.000000    0.179618   \n",
              "MasVnrArea       0.193458     0.411876   0.315707      0.179618    1.000000   \n",
              "BsmtFinSF1       0.233633     0.239666   0.249503      0.128451    0.264736   \n",
              "TotalBsmtSF      0.392075     0.537808   0.391452      0.291066    0.363936   \n",
              "1stFlrSF         0.457181     0.476224   0.281986      0.240379    0.344501   \n",
              "2ndFlrSF         0.080177     0.295493   0.010308      0.140024    0.174561   \n",
              "GrLivArea        0.402797     0.593007   0.199010      0.287389    0.390857   \n",
              "FullBath         0.198769     0.550600   0.468271      0.439046    0.276833   \n",
              "TotRmsAbvGrd     0.352096     0.427452   0.095589      0.191740    0.280682   \n",
              "Fireplaces       0.266639     0.396765   0.147716      0.112581    0.249070   \n",
              "GarageYrBlt      0.070250     0.547766   0.825667      0.642277    0.252691   \n",
              "GarageCars       0.285691     0.600671   0.537850      0.420622    0.364204   \n",
              "GarageArea       0.344997     0.562022   0.478954      0.371600    0.373066   \n",
              "WoodDeckSF       0.088521     0.238923   0.224880      0.205726    0.159718   \n",
              "OpenPorchSF      0.151972     0.308819   0.188686      0.226298    0.125703   \n",
              "SalePrice        0.351799     0.790982   0.522897      0.507101    0.477493   \n",
              "\n",
              "              BsmtFinSF1  TotalBsmtSF  1stFlrSF  2ndFlrSF  GrLivArea  \\\n",
              "LotFrontage     0.233633     0.392075  0.457181  0.080177   0.402797   \n",
              "OverallQual     0.239666     0.537808  0.476224  0.295493   0.593007   \n",
              "YearBuilt       0.249503     0.391452  0.281986  0.010308   0.199010   \n",
              "YearRemodAdd    0.128451     0.291066  0.240379  0.140024   0.287389   \n",
              "MasVnrArea      0.264736     0.363936  0.344501  0.174561   0.390857   \n",
              "BsmtFinSF1      1.000000     0.522396  0.445863 -0.137079   0.208171   \n",
              "TotalBsmtSF     0.522396     1.000000  0.819530 -0.174512   0.454868   \n",
              "1stFlrSF        0.445863     0.819530  1.000000 -0.202646   0.566024   \n",
              "2ndFlrSF       -0.137079    -0.174512 -0.202646  1.000000   0.687501   \n",
              "GrLivArea       0.208171     0.454868  0.566024  0.687501   1.000000   \n",
              "FullBath        0.058543     0.323722  0.380637  0.421378   0.630012   \n",
              "TotRmsAbvGrd    0.044316     0.285573  0.409516  0.616423   0.825489   \n",
              "Fireplaces      0.260011     0.339519  0.410531  0.194561   0.461679   \n",
              "GarageYrBlt     0.153484     0.322445  0.233449  0.070832   0.231197   \n",
              "GarageCars      0.224054     0.434585  0.439317  0.183926   0.467247   \n",
              "GarageArea      0.296970     0.486665  0.489782  0.138347   0.468997   \n",
              "WoodDeckSF      0.204306     0.232019  0.235459  0.092165   0.247433   \n",
              "OpenPorchSF     0.111761     0.247264  0.211671  0.208026   0.330224   \n",
              "SalePrice       0.386420     0.613581  0.605852  0.319334   0.708624   \n",
              "\n",
              "              FullBath  TotRmsAbvGrd  Fireplaces  GarageYrBlt  GarageCars  \\\n",
              "LotFrontage   0.198769      0.352096    0.266639     0.070250    0.285691   \n",
              "OverallQual   0.550600      0.427452    0.396765     0.547766    0.600671   \n",
              "YearBuilt     0.468271      0.095589    0.147716     0.825667    0.537850   \n",
              "YearRemodAdd  0.439046      0.191740    0.112581     0.642277    0.420622   \n",
              "MasVnrArea    0.276833      0.280682    0.249070     0.252691    0.364204   \n",
              "BsmtFinSF1    0.058543      0.044316    0.260011     0.153484    0.224054   \n",
              "TotalBsmtSF   0.323722      0.285573    0.339519     0.322445    0.434585   \n",
              "1stFlrSF      0.380637      0.409516    0.410531     0.233449    0.439317   \n",
              "2ndFlrSF      0.421378      0.616423    0.194561     0.070832    0.183926   \n",
              "GrLivArea     0.630012      0.825489    0.461679     0.231197    0.467247   \n",
              "FullBath      1.000000      0.554784    0.243671     0.484557    0.469672   \n",
              "TotRmsAbvGrd  0.554784      1.000000    0.326114     0.148112    0.362289   \n",
              "Fireplaces    0.243671      0.326114    1.000000     0.046822    0.300789   \n",
              "GarageYrBlt   0.484557      0.148112    0.046822     1.000000    0.588920   \n",
              "GarageCars    0.469672      0.362289    0.300789     0.588920    1.000000   \n",
              "GarageArea    0.405656      0.337822    0.269141     0.564567    0.882475   \n",
              "WoodDeckSF    0.187703      0.165984    0.200019     0.224577    0.226342   \n",
              "OpenPorchSF   0.259977      0.234192    0.169405     0.228425    0.213569   \n",
              "SalePrice     0.560664      0.533723    0.466929     0.486362    0.640409   \n",
              "\n",
              "              GarageArea  WoodDeckSF  OpenPorchSF  SalePrice  \n",
              "LotFrontage     0.344997    0.088521     0.151972   0.351799  \n",
              "OverallQual     0.562022    0.238923     0.308819   0.790982  \n",
              "YearBuilt       0.478954    0.224880     0.188686   0.522897  \n",
              "YearRemodAdd    0.371600    0.205726     0.226298   0.507101  \n",
              "MasVnrArea      0.373066    0.159718     0.125703   0.477493  \n",
              "BsmtFinSF1      0.296970    0.204306     0.111761   0.386420  \n",
              "TotalBsmtSF     0.486665    0.232019     0.247264   0.613581  \n",
              "1stFlrSF        0.489782    0.235459     0.211671   0.605852  \n",
              "2ndFlrSF        0.138347    0.092165     0.208026   0.319334  \n",
              "GrLivArea       0.468997    0.247433     0.330224   0.708624  \n",
              "FullBath        0.405656    0.187703     0.259977   0.560664  \n",
              "TotRmsAbvGrd    0.337822    0.165984     0.234192   0.533723  \n",
              "Fireplaces      0.269141    0.200019     0.169405   0.466929  \n",
              "GarageYrBlt     0.564567    0.224577     0.228425   0.486362  \n",
              "GarageCars      0.882475    0.226342     0.213569   0.640409  \n",
              "GarageArea      1.000000    0.224666     0.241435   0.623431  \n",
              "WoodDeckSF      0.224666    1.000000     0.058661   0.324413  \n",
              "OpenPorchSF     0.241435    0.058661     1.000000   0.315856  \n",
              "SalePrice       0.623431    0.324413     0.315856   1.000000  "
            ],
            "text/html": [
              "\n",
              "  <div id=\"df-45e048e8-5534-49e0-8c54-9338d55daff9\">\n",
              "    <div class=\"colab-df-container\">\n",
              "      <div>\n",
              "<style scoped>\n",
              "    .dataframe tbody tr th:only-of-type {\n",
              "        vertical-align: middle;\n",
              "    }\n",
              "\n",
              "    .dataframe tbody tr th {\n",
              "        vertical-align: top;\n",
              "    }\n",
              "\n",
              "    .dataframe thead th {\n",
              "        text-align: right;\n",
              "    }\n",
              "</style>\n",
              "<table border=\"1\" class=\"dataframe\">\n",
              "  <thead>\n",
              "    <tr style=\"text-align: right;\">\n",
              "      <th></th>\n",
              "      <th>LotFrontage</th>\n",
              "      <th>OverallQual</th>\n",
              "      <th>YearBuilt</th>\n",
              "      <th>YearRemodAdd</th>\n",
              "      <th>MasVnrArea</th>\n",
              "      <th>BsmtFinSF1</th>\n",
              "      <th>TotalBsmtSF</th>\n",
              "      <th>1stFlrSF</th>\n",
              "      <th>2ndFlrSF</th>\n",
              "      <th>GrLivArea</th>\n",
              "      <th>FullBath</th>\n",
              "      <th>TotRmsAbvGrd</th>\n",
              "      <th>Fireplaces</th>\n",
              "      <th>GarageYrBlt</th>\n",
              "      <th>GarageCars</th>\n",
              "      <th>GarageArea</th>\n",
              "      <th>WoodDeckSF</th>\n",
              "      <th>OpenPorchSF</th>\n",
              "      <th>SalePrice</th>\n",
              "    </tr>\n",
              "  </thead>\n",
              "  <tbody>\n",
              "    <tr>\n",
              "      <th>LotFrontage</th>\n",
              "      <td>1.000000</td>\n",
              "      <td>0.251646</td>\n",
              "      <td>0.123349</td>\n",
              "      <td>0.088866</td>\n",
              "      <td>0.193458</td>\n",
              "      <td>0.233633</td>\n",
              "      <td>0.392075</td>\n",
              "      <td>0.457181</td>\n",
              "      <td>0.080177</td>\n",
              "      <td>0.402797</td>\n",
              "      <td>0.198769</td>\n",
              "      <td>0.352096</td>\n",
              "      <td>0.266639</td>\n",
              "      <td>0.070250</td>\n",
              "      <td>0.285691</td>\n",
              "      <td>0.344997</td>\n",
              "      <td>0.088521</td>\n",
              "      <td>0.151972</td>\n",
              "      <td>0.351799</td>\n",
              "    </tr>\n",
              "    <tr>\n",
              "      <th>OverallQual</th>\n",
              "      <td>0.251646</td>\n",
              "      <td>1.000000</td>\n",
              "      <td>0.572323</td>\n",
              "      <td>0.550684</td>\n",
              "      <td>0.411876</td>\n",
              "      <td>0.239666</td>\n",
              "      <td>0.537808</td>\n",
              "      <td>0.476224</td>\n",
              "      <td>0.295493</td>\n",
              "      <td>0.593007</td>\n",
              "      <td>0.550600</td>\n",
              "      <td>0.427452</td>\n",
              "      <td>0.396765</td>\n",
              "      <td>0.547766</td>\n",
              "      <td>0.600671</td>\n",
              "      <td>0.562022</td>\n",
              "      <td>0.238923</td>\n",
              "      <td>0.308819</td>\n",
              "      <td>0.790982</td>\n",
              "    </tr>\n",
              "    <tr>\n",
              "      <th>YearBuilt</th>\n",
              "      <td>0.123349</td>\n",
              "      <td>0.572323</td>\n",
              "      <td>1.000000</td>\n",
              "      <td>0.592855</td>\n",
              "      <td>0.315707</td>\n",
              "      <td>0.249503</td>\n",
              "      <td>0.391452</td>\n",
              "      <td>0.281986</td>\n",
              "      <td>0.010308</td>\n",
              "      <td>0.199010</td>\n",
              "      <td>0.468271</td>\n",
              "      <td>0.095589</td>\n",
              "      <td>0.147716</td>\n",
              "      <td>0.825667</td>\n",
              "      <td>0.537850</td>\n",
              "      <td>0.478954</td>\n",
              "      <td>0.224880</td>\n",
              "      <td>0.188686</td>\n",
              "      <td>0.522897</td>\n",
              "    </tr>\n",
              "    <tr>\n",
              "      <th>YearRemodAdd</th>\n",
              "      <td>0.088866</td>\n",
              "      <td>0.550684</td>\n",
              "      <td>0.592855</td>\n",
              "      <td>1.000000</td>\n",
              "      <td>0.179618</td>\n",
              "      <td>0.128451</td>\n",
              "      <td>0.291066</td>\n",
              "      <td>0.240379</td>\n",
              "      <td>0.140024</td>\n",
              "      <td>0.287389</td>\n",
              "      <td>0.439046</td>\n",
              "      <td>0.191740</td>\n",
              "      <td>0.112581</td>\n",
              "      <td>0.642277</td>\n",
              "      <td>0.420622</td>\n",
              "      <td>0.371600</td>\n",
              "      <td>0.205726</td>\n",
              "      <td>0.226298</td>\n",
              "      <td>0.507101</td>\n",
              "    </tr>\n",
              "    <tr>\n",
              "      <th>MasVnrArea</th>\n",
              "      <td>0.193458</td>\n",
              "      <td>0.411876</td>\n",
              "      <td>0.315707</td>\n",
              "      <td>0.179618</td>\n",
              "      <td>1.000000</td>\n",
              "      <td>0.264736</td>\n",
              "      <td>0.363936</td>\n",
              "      <td>0.344501</td>\n",
              "      <td>0.174561</td>\n",
              "      <td>0.390857</td>\n",
              "      <td>0.276833</td>\n",
              "      <td>0.280682</td>\n",
              "      <td>0.249070</td>\n",
              "      <td>0.252691</td>\n",
              "      <td>0.364204</td>\n",
              "      <td>0.373066</td>\n",
              "      <td>0.159718</td>\n",
              "      <td>0.125703</td>\n",
              "      <td>0.477493</td>\n",
              "    </tr>\n",
              "    <tr>\n",
              "      <th>BsmtFinSF1</th>\n",
              "      <td>0.233633</td>\n",
              "      <td>0.239666</td>\n",
              "      <td>0.249503</td>\n",
              "      <td>0.128451</td>\n",
              "      <td>0.264736</td>\n",
              "      <td>1.000000</td>\n",
              "      <td>0.522396</td>\n",
              "      <td>0.445863</td>\n",
              "      <td>-0.137079</td>\n",
              "      <td>0.208171</td>\n",
              "      <td>0.058543</td>\n",
              "      <td>0.044316</td>\n",
              "      <td>0.260011</td>\n",
              "      <td>0.153484</td>\n",
              "      <td>0.224054</td>\n",
              "      <td>0.296970</td>\n",
              "      <td>0.204306</td>\n",
              "      <td>0.111761</td>\n",
              "      <td>0.386420</td>\n",
              "    </tr>\n",
              "    <tr>\n",
              "      <th>TotalBsmtSF</th>\n",
              "      <td>0.392075</td>\n",
              "      <td>0.537808</td>\n",
              "      <td>0.391452</td>\n",
              "      <td>0.291066</td>\n",
              "      <td>0.363936</td>\n",
              "      <td>0.522396</td>\n",
              "      <td>1.000000</td>\n",
              "      <td>0.819530</td>\n",
              "      <td>-0.174512</td>\n",
              "      <td>0.454868</td>\n",
              "      <td>0.323722</td>\n",
              "      <td>0.285573</td>\n",
              "      <td>0.339519</td>\n",
              "      <td>0.322445</td>\n",
              "      <td>0.434585</td>\n",
              "      <td>0.486665</td>\n",
              "      <td>0.232019</td>\n",
              "      <td>0.247264</td>\n",
              "      <td>0.613581</td>\n",
              "    </tr>\n",
              "    <tr>\n",
              "      <th>1stFlrSF</th>\n",
              "      <td>0.457181</td>\n",
              "      <td>0.476224</td>\n",
              "      <td>0.281986</td>\n",
              "      <td>0.240379</td>\n",
              "      <td>0.344501</td>\n",
              "      <td>0.445863</td>\n",
              "      <td>0.819530</td>\n",
              "      <td>1.000000</td>\n",
              "      <td>-0.202646</td>\n",
              "      <td>0.566024</td>\n",
              "      <td>0.380637</td>\n",
              "      <td>0.409516</td>\n",
              "      <td>0.410531</td>\n",
              "      <td>0.233449</td>\n",
              "      <td>0.439317</td>\n",
              "      <td>0.489782</td>\n",
              "      <td>0.235459</td>\n",
              "      <td>0.211671</td>\n",
              "      <td>0.605852</td>\n",
              "    </tr>\n",
              "    <tr>\n",
              "      <th>2ndFlrSF</th>\n",
              "      <td>0.080177</td>\n",
              "      <td>0.295493</td>\n",
              "      <td>0.010308</td>\n",
              "      <td>0.140024</td>\n",
              "      <td>0.174561</td>\n",
              "      <td>-0.137079</td>\n",
              "      <td>-0.174512</td>\n",
              "      <td>-0.202646</td>\n",
              "      <td>1.000000</td>\n",
              "      <td>0.687501</td>\n",
              "      <td>0.421378</td>\n",
              "      <td>0.616423</td>\n",
              "      <td>0.194561</td>\n",
              "      <td>0.070832</td>\n",
              "      <td>0.183926</td>\n",
              "      <td>0.138347</td>\n",
              "      <td>0.092165</td>\n",
              "      <td>0.208026</td>\n",
              "      <td>0.319334</td>\n",
              "    </tr>\n",
              "    <tr>\n",
              "      <th>GrLivArea</th>\n",
              "      <td>0.402797</td>\n",
              "      <td>0.593007</td>\n",
              "      <td>0.199010</td>\n",
              "      <td>0.287389</td>\n",
              "      <td>0.390857</td>\n",
              "      <td>0.208171</td>\n",
              "      <td>0.454868</td>\n",
              "      <td>0.566024</td>\n",
              "      <td>0.687501</td>\n",
              "      <td>1.000000</td>\n",
              "      <td>0.630012</td>\n",
              "      <td>0.825489</td>\n",
              "      <td>0.461679</td>\n",
              "      <td>0.231197</td>\n",
              "      <td>0.467247</td>\n",
              "      <td>0.468997</td>\n",
              "      <td>0.247433</td>\n",
              "      <td>0.330224</td>\n",
              "      <td>0.708624</td>\n",
              "    </tr>\n",
              "    <tr>\n",
              "      <th>FullBath</th>\n",
              "      <td>0.198769</td>\n",
              "      <td>0.550600</td>\n",
              "      <td>0.468271</td>\n",
              "      <td>0.439046</td>\n",
              "      <td>0.276833</td>\n",
              "      <td>0.058543</td>\n",
              "      <td>0.323722</td>\n",
              "      <td>0.380637</td>\n",
              "      <td>0.421378</td>\n",
              "      <td>0.630012</td>\n",
              "      <td>1.000000</td>\n",
              "      <td>0.554784</td>\n",
              "      <td>0.243671</td>\n",
              "      <td>0.484557</td>\n",
              "      <td>0.469672</td>\n",
              "      <td>0.405656</td>\n",
              "      <td>0.187703</td>\n",
              "      <td>0.259977</td>\n",
              "      <td>0.560664</td>\n",
              "    </tr>\n",
              "    <tr>\n",
              "      <th>TotRmsAbvGrd</th>\n",
              "      <td>0.352096</td>\n",
              "      <td>0.427452</td>\n",
              "      <td>0.095589</td>\n",
              "      <td>0.191740</td>\n",
              "      <td>0.280682</td>\n",
              "      <td>0.044316</td>\n",
              "      <td>0.285573</td>\n",
              "      <td>0.409516</td>\n",
              "      <td>0.616423</td>\n",
              "      <td>0.825489</td>\n",
              "      <td>0.554784</td>\n",
              "      <td>1.000000</td>\n",
              "      <td>0.326114</td>\n",
              "      <td>0.148112</td>\n",
              "      <td>0.362289</td>\n",
              "      <td>0.337822</td>\n",
              "      <td>0.165984</td>\n",
              "      <td>0.234192</td>\n",
              "      <td>0.533723</td>\n",
              "    </tr>\n",
              "    <tr>\n",
              "      <th>Fireplaces</th>\n",
              "      <td>0.266639</td>\n",
              "      <td>0.396765</td>\n",
              "      <td>0.147716</td>\n",
              "      <td>0.112581</td>\n",
              "      <td>0.249070</td>\n",
              "      <td>0.260011</td>\n",
              "      <td>0.339519</td>\n",
              "      <td>0.410531</td>\n",
              "      <td>0.194561</td>\n",
              "      <td>0.461679</td>\n",
              "      <td>0.243671</td>\n",
              "      <td>0.326114</td>\n",
              "      <td>1.000000</td>\n",
              "      <td>0.046822</td>\n",
              "      <td>0.300789</td>\n",
              "      <td>0.269141</td>\n",
              "      <td>0.200019</td>\n",
              "      <td>0.169405</td>\n",
              "      <td>0.466929</td>\n",
              "    </tr>\n",
              "    <tr>\n",
              "      <th>GarageYrBlt</th>\n",
              "      <td>0.070250</td>\n",
              "      <td>0.547766</td>\n",
              "      <td>0.825667</td>\n",
              "      <td>0.642277</td>\n",
              "      <td>0.252691</td>\n",
              "      <td>0.153484</td>\n",
              "      <td>0.322445</td>\n",
              "      <td>0.233449</td>\n",
              "      <td>0.070832</td>\n",
              "      <td>0.231197</td>\n",
              "      <td>0.484557</td>\n",
              "      <td>0.148112</td>\n",
              "      <td>0.046822</td>\n",
              "      <td>1.000000</td>\n",
              "      <td>0.588920</td>\n",
              "      <td>0.564567</td>\n",
              "      <td>0.224577</td>\n",
              "      <td>0.228425</td>\n",
              "      <td>0.486362</td>\n",
              "    </tr>\n",
              "    <tr>\n",
              "      <th>GarageCars</th>\n",
              "      <td>0.285691</td>\n",
              "      <td>0.600671</td>\n",
              "      <td>0.537850</td>\n",
              "      <td>0.420622</td>\n",
              "      <td>0.364204</td>\n",
              "      <td>0.224054</td>\n",
              "      <td>0.434585</td>\n",
              "      <td>0.439317</td>\n",
              "      <td>0.183926</td>\n",
              "      <td>0.467247</td>\n",
              "      <td>0.469672</td>\n",
              "      <td>0.362289</td>\n",
              "      <td>0.300789</td>\n",
              "      <td>0.588920</td>\n",
              "      <td>1.000000</td>\n",
              "      <td>0.882475</td>\n",
              "      <td>0.226342</td>\n",
              "      <td>0.213569</td>\n",
              "      <td>0.640409</td>\n",
              "    </tr>\n",
              "    <tr>\n",
              "      <th>GarageArea</th>\n",
              "      <td>0.344997</td>\n",
              "      <td>0.562022</td>\n",
              "      <td>0.478954</td>\n",
              "      <td>0.371600</td>\n",
              "      <td>0.373066</td>\n",
              "      <td>0.296970</td>\n",
              "      <td>0.486665</td>\n",
              "      <td>0.489782</td>\n",
              "      <td>0.138347</td>\n",
              "      <td>0.468997</td>\n",
              "      <td>0.405656</td>\n",
              "      <td>0.337822</td>\n",
              "      <td>0.269141</td>\n",
              "      <td>0.564567</td>\n",
              "      <td>0.882475</td>\n",
              "      <td>1.000000</td>\n",
              "      <td>0.224666</td>\n",
              "      <td>0.241435</td>\n",
              "      <td>0.623431</td>\n",
              "    </tr>\n",
              "    <tr>\n",
              "      <th>WoodDeckSF</th>\n",
              "      <td>0.088521</td>\n",
              "      <td>0.238923</td>\n",
              "      <td>0.224880</td>\n",
              "      <td>0.205726</td>\n",
              "      <td>0.159718</td>\n",
              "      <td>0.204306</td>\n",
              "      <td>0.232019</td>\n",
              "      <td>0.235459</td>\n",
              "      <td>0.092165</td>\n",
              "      <td>0.247433</td>\n",
              "      <td>0.187703</td>\n",
              "      <td>0.165984</td>\n",
              "      <td>0.200019</td>\n",
              "      <td>0.224577</td>\n",
              "      <td>0.226342</td>\n",
              "      <td>0.224666</td>\n",
              "      <td>1.000000</td>\n",
              "      <td>0.058661</td>\n",
              "      <td>0.324413</td>\n",
              "    </tr>\n",
              "    <tr>\n",
              "      <th>OpenPorchSF</th>\n",
              "      <td>0.151972</td>\n",
              "      <td>0.308819</td>\n",
              "      <td>0.188686</td>\n",
              "      <td>0.226298</td>\n",
              "      <td>0.125703</td>\n",
              "      <td>0.111761</td>\n",
              "      <td>0.247264</td>\n",
              "      <td>0.211671</td>\n",
              "      <td>0.208026</td>\n",
              "      <td>0.330224</td>\n",
              "      <td>0.259977</td>\n",
              "      <td>0.234192</td>\n",
              "      <td>0.169405</td>\n",
              "      <td>0.228425</td>\n",
              "      <td>0.213569</td>\n",
              "      <td>0.241435</td>\n",
              "      <td>0.058661</td>\n",
              "      <td>1.000000</td>\n",
              "      <td>0.315856</td>\n",
              "    </tr>\n",
              "    <tr>\n",
              "      <th>SalePrice</th>\n",
              "      <td>0.351799</td>\n",
              "      <td>0.790982</td>\n",
              "      <td>0.522897</td>\n",
              "      <td>0.507101</td>\n",
              "      <td>0.477493</td>\n",
              "      <td>0.386420</td>\n",
              "      <td>0.613581</td>\n",
              "      <td>0.605852</td>\n",
              "      <td>0.319334</td>\n",
              "      <td>0.708624</td>\n",
              "      <td>0.560664</td>\n",
              "      <td>0.533723</td>\n",
              "      <td>0.466929</td>\n",
              "      <td>0.486362</td>\n",
              "      <td>0.640409</td>\n",
              "      <td>0.623431</td>\n",
              "      <td>0.324413</td>\n",
              "      <td>0.315856</td>\n",
              "      <td>1.000000</td>\n",
              "    </tr>\n",
              "  </tbody>\n",
              "</table>\n",
              "</div>\n",
              "      <button class=\"colab-df-convert\" onclick=\"convertToInteractive('df-45e048e8-5534-49e0-8c54-9338d55daff9')\"\n",
              "              title=\"Convert this dataframe to an interactive table.\"\n",
              "              style=\"display:none;\">\n",
              "        \n",
              "  <svg xmlns=\"http://www.w3.org/2000/svg\" height=\"24px\"viewBox=\"0 0 24 24\"\n",
              "       width=\"24px\">\n",
              "    <path d=\"M0 0h24v24H0V0z\" fill=\"none\"/>\n",
              "    <path d=\"M18.56 5.44l.94 2.06.94-2.06 2.06-.94-2.06-.94-.94-2.06-.94 2.06-2.06.94zm-11 1L8.5 8.5l.94-2.06 2.06-.94-2.06-.94L8.5 2.5l-.94 2.06-2.06.94zm10 10l.94 2.06.94-2.06 2.06-.94-2.06-.94-.94-2.06-.94 2.06-2.06.94z\"/><path d=\"M17.41 7.96l-1.37-1.37c-.4-.4-.92-.59-1.43-.59-.52 0-1.04.2-1.43.59L10.3 9.45l-7.72 7.72c-.78.78-.78 2.05 0 2.83L4 21.41c.39.39.9.59 1.41.59.51 0 1.02-.2 1.41-.59l7.78-7.78 2.81-2.81c.8-.78.8-2.07 0-2.86zM5.41 20L4 18.59l7.72-7.72 1.47 1.35L5.41 20z\"/>\n",
              "  </svg>\n",
              "      </button>\n",
              "      \n",
              "  <style>\n",
              "    .colab-df-container {\n",
              "      display:flex;\n",
              "      flex-wrap:wrap;\n",
              "      gap: 12px;\n",
              "    }\n",
              "\n",
              "    .colab-df-convert {\n",
              "      background-color: #E8F0FE;\n",
              "      border: none;\n",
              "      border-radius: 50%;\n",
              "      cursor: pointer;\n",
              "      display: none;\n",
              "      fill: #1967D2;\n",
              "      height: 32px;\n",
              "      padding: 0 0 0 0;\n",
              "      width: 32px;\n",
              "    }\n",
              "\n",
              "    .colab-df-convert:hover {\n",
              "      background-color: #E2EBFA;\n",
              "      box-shadow: 0px 1px 2px rgba(60, 64, 67, 0.3), 0px 1px 3px 1px rgba(60, 64, 67, 0.15);\n",
              "      fill: #174EA6;\n",
              "    }\n",
              "\n",
              "    [theme=dark] .colab-df-convert {\n",
              "      background-color: #3B4455;\n",
              "      fill: #D2E3FC;\n",
              "    }\n",
              "\n",
              "    [theme=dark] .colab-df-convert:hover {\n",
              "      background-color: #434B5C;\n",
              "      box-shadow: 0px 1px 3px 1px rgba(0, 0, 0, 0.15);\n",
              "      filter: drop-shadow(0px 1px 2px rgba(0, 0, 0, 0.3));\n",
              "      fill: #FFFFFF;\n",
              "    }\n",
              "  </style>\n",
              "\n",
              "      <script>\n",
              "        const buttonEl =\n",
              "          document.querySelector('#df-45e048e8-5534-49e0-8c54-9338d55daff9 button.colab-df-convert');\n",
              "        buttonEl.style.display =\n",
              "          google.colab.kernel.accessAllowed ? 'block' : 'none';\n",
              "\n",
              "        async function convertToInteractive(key) {\n",
              "          const element = document.querySelector('#df-45e048e8-5534-49e0-8c54-9338d55daff9');\n",
              "          const dataTable =\n",
              "            await google.colab.kernel.invokeFunction('convertToInteractive',\n",
              "                                                     [key], {});\n",
              "          if (!dataTable) return;\n",
              "\n",
              "          const docLinkHtml = 'Like what you see? Visit the ' +\n",
              "            '<a target=\"_blank\" href=https://colab.research.google.com/notebooks/data_table.ipynb>data table notebook</a>'\n",
              "            + ' to learn more about interactive tables.';\n",
              "          element.innerHTML = '';\n",
              "          dataTable['output_type'] = 'display_data';\n",
              "          await google.colab.output.renderOutput(dataTable, element);\n",
              "          const docLink = document.createElement('div');\n",
              "          docLink.innerHTML = docLinkHtml;\n",
              "          element.appendChild(docLink);\n",
              "        }\n",
              "      </script>\n",
              "    </div>\n",
              "  </div>\n",
              "  "
            ]
          },
          "metadata": {},
          "execution_count": 18
        }
      ]
    },
    {
      "cell_type": "code",
      "source": [
        "sns.heatmap(tb_housing[rel_num_var].corr(), vmin = -1, vmax = 1, center = 0)"
      ],
      "metadata": {
        "id": "fHi7udVdcohm",
        "outputId": "021e45d7-f49e-4a7c-8e8b-282431e28754",
        "colab": {
          "base_uri": "https://localhost:8080/",
          "height": 372
        }
      },
      "execution_count": 20,
      "outputs": [
        {
          "output_type": "execute_result",
          "data": {
            "text/plain": [
              "<matplotlib.axes._subplots.AxesSubplot at 0x7fce2b288ed0>"
            ]
          },
          "metadata": {},
          "execution_count": 20
        },
        {
          "output_type": "display_data",
          "data": {
            "text/plain": [
              "<Figure size 432x288 with 2 Axes>"
            ],
            "image/png": "[encoded data removed]"
          },
          "metadata": {
            "needs_background": "light"
          }
        }
      ]
    },
    {
      "cell_type": "code",
      "source": [
        "sns.clustermap(tb_housing[rel_num_var].corr(), vmin = -1, vmax = 1, center = 0)"
      ],
      "metadata": {
        "id": "f5e7B7Ibc1GI",
        "outputId": "b6bd3540-aaa5-42af-b03c-f051f7066d17",
        "colab": {
          "base_uri": "https://localhost:8080/",
          "height": 768
        }
      },
      "execution_count": 21,
      "outputs": [
        {
          "output_type": "execute_result",
          "data": {
            "text/plain": [
              "<seaborn.matrix.ClusterGrid at 0x7fce2b18a110>"
            ]
          },
          "metadata": {},
          "execution_count": 21
        },
        {
          "output_type": "display_data",
          "data": {
            "text/plain": [
              "<Figure size 720x720 with 4 Axes>"
            ],
            "image/png": "[encoded data removed]"
          },
          "metadata": {
            "needs_background": "light"
          }
        }
      ]
    },
    {
      "cell_type": "code",
      "source": [
        "sns.scatterplot(data = tb_housing, x = 'OverallQual', y = 'SalePrice')"
      ],
      "metadata": {
        "id": "NR2z6ttMeCfi",
        "outputId": "c0a3ecda-bd81-4135-bf65-2842e8c0623c",
        "colab": {
          "base_uri": "https://localhost:8080/",
          "height": 317
        }
      },
      "execution_count": 22,
      "outputs": [
        {
          "output_type": "execute_result",
          "data": {
            "text/plain": [
              "<matplotlib.axes._subplots.AxesSubplot at 0x7fce2b1c3a90>"
            ]
          },
          "metadata": {},
          "execution_count": 22
        },
        {
          "output_type": "display_data",
          "data": {
            "text/plain": [
              "<Figure size 432x288 with 1 Axes>"
            ],
            "image/png": "[encoded data removed]"
          },
          "metadata": {
            "needs_background": "light"
          }
        }
      ]
    },
    {
      "cell_type": "code",
      "source": [
        "sns.scatterplot(data = tb_housing, x = 'GrLivArea', y = 'SalePrice')"
      ],
      "metadata": {
        "id": "BOZzTXC2eIHi",
        "outputId": "1d50188f-b916-4e4f-f4b7-25d276d0f007",
        "colab": {
          "base_uri": "https://localhost:8080/",
          "height": 317
        }
      },
      "execution_count": 23,
      "outputs": [
        {
          "output_type": "execute_result",
          "data": {
            "text/plain": [
              "<matplotlib.axes._subplots.AxesSubplot at 0x7fce2aed9290>"
            ]
          },
          "metadata": {},
          "execution_count": 23
        },
        {
          "output_type": "display_data",
          "data": {
            "text/plain": [
              "<Figure size 432x288 with 1 Axes>"
            ],
            "image/png": "[encoded data removed]"
          },
          "metadata": {
            "needs_background": "light"
          }
        }
      ]
    },
    {
      "cell_type": "markdown",
      "metadata": {
        "id": "7kmiax6pSl7g"
      },
      "source": [
        "# Feature Creation\n",
        "\n",
        "One of the key ideas behind feature engineering is creating new variables by combining and transforming our existing variables.\n",
        "\n",
        "## Numerical Transformation"
      ]
    },
    {
      "cell_type": "code",
      "execution_count": 24,
      "metadata": {
        "id": "SshRhmWNSl7g"
      },
      "outputs": [],
      "source": [
        "from sklearn.preprocessing import PowerTransformer, QuantileTransformer"
      ]
    },
    {
      "cell_type": "code",
      "source": [
        "sns.scatterplot(data = tb_housing, x = 'GrLivArea', y = 'SalePrice')"
      ],
      "metadata": {
        "id": "YASutckOfjOj"
      },
      "execution_count": null,
      "outputs": []
    },
    {
      "cell_type": "code",
      "source": [
        "# IMPORTANT FOR X > 0\n",
        "tb_housing['log_GrLivArea'] = np.log(tb_housing['GrLivArea'])\n",
        "fig, ax = plt.subplots(1, 2, figsize = (10, 5))\n",
        "sns.histplot(data = tb_housing, x = 'GrLivArea', ax = ax[0])\n",
        "sns.histplot(data = tb_housing, x = 'log_GrLivArea', ax = ax[1])"
      ],
      "metadata": {
        "id": "Ge7fxXnMfm5S",
        "outputId": "ac3be38b-7e5d-4426-82d3-1e1dd66e67c9",
        "colab": {
          "base_uri": "https://localhost:8080/",
          "height": 373
        }
      },
      "execution_count": 26,
      "outputs": [
        {
          "output_type": "execute_result",
          "data": {
            "text/plain": [
              "<matplotlib.axes._subplots.AxesSubplot at 0x7fce2a11f250>"
            ]
          },
          "metadata": {},
          "execution_count": 26
        },
        {
          "output_type": "display_data",
          "data": {
            "text/plain": [
              "<Figure size 720x360 with 2 Axes>"
            ],
            "image/png": "[encoded data removed]"
          },
          "metadata": {
            "needs_background": "light"
          }
        }
      ]
    },
    {
      "cell_type": "code",
      "source": [
        "sns.scatterplot(data = tb_housing, x = 'GrLivArea', y = 'log_GrLivArea')"
      ],
      "metadata": {
        "id": "IRiiNAnDgRJA",
        "outputId": "e80cefa4-14e5-478f-cf70-7ffbb05f4c25",
        "colab": {
          "base_uri": "https://localhost:8080/",
          "height": 317
        }
      },
      "execution_count": 27,
      "outputs": [
        {
          "output_type": "execute_result",
          "data": {
            "text/plain": [
              "<matplotlib.axes._subplots.AxesSubplot at 0x7fce29fc0450>"
            ]
          },
          "metadata": {},
          "execution_count": 27
        },
        {
          "output_type": "display_data",
          "data": {
            "text/plain": [
              "<Figure size 432x288 with 1 Axes>"
            ],
            "image/png": "[encoded data removed]"
          },
          "metadata": {
            "needs_background": "light"
          }
        }
      ]
    },
    {
      "cell_type": "code",
      "source": [
        "sns.scatterplot(data = tb_housing, x = 'log_GrLivArea', y = 'SalePrice')"
      ],
      "metadata": {
        "id": "_75P8HkZg_CV",
        "outputId": "24236004-c65a-47e5-ba95-d9169397210e",
        "colab": {
          "base_uri": "https://localhost:8080/",
          "height": 318
        }
      },
      "execution_count": 28,
      "outputs": [
        {
          "output_type": "execute_result",
          "data": {
            "text/plain": [
              "<matplotlib.axes._subplots.AxesSubplot at 0x7fce29f13350>"
            ]
          },
          "metadata": {},
          "execution_count": 28
        },
        {
          "output_type": "display_data",
          "data": {
            "text/plain": [
              "<Figure size 432x288 with 1 Axes>"
            ],
            "image/png": "[encoded data removed]"
          },
          "metadata": {
            "needs_background": "light"
          }
        }
      ]
    },
    {
      "cell_type": "code",
      "source": [
        "pwe_livarea = PowerTransformer()\n",
        "tb_housing['pwe_GrLivArea'] = pwe_livarea.fit_transform(tb_housing[['GrLivArea']])"
      ],
      "metadata": {
        "id": "wJY46GxJhYQW"
      },
      "execution_count": 31,
      "outputs": []
    },
    {
      "cell_type": "code",
      "source": [
        "fig, ax = plt.subplots(1, 3, figsize = (15, 5))\n",
        "sns.histplot(data = tb_housing, x = 'GrLivArea', ax = ax[0])\n",
        "sns.histplot(data = tb_housing, x = 'log_GrLivArea', ax = ax[1])\n",
        "sns.histplot(data = tb_housing, x = 'pwe_GrLivArea', ax = ax[2])"
      ],
      "metadata": {
        "id": "AUn5w2vLh1PH",
        "outputId": "a90b1ff4-d227-44ab-c12c-88263a3cdf4b",
        "colab": {
          "base_uri": "https://localhost:8080/",
          "height": 373
        }
      },
      "execution_count": 32,
      "outputs": [
        {
          "output_type": "execute_result",
          "data": {
            "text/plain": [
              "<matplotlib.axes._subplots.AxesSubplot at 0x7fce29dfd2d0>"
            ]
          },
          "metadata": {},
          "execution_count": 32
        },
        {
          "output_type": "display_data",
          "data": {
            "text/plain": [
              "<Figure size 1080x360 with 3 Axes>"
            ],
            "image/png": "[encoded data removed]"
          },
          "metadata": {
            "needs_background": "light"
          }
        }
      ]
    },
    {
      "cell_type": "code",
      "source": [
        "sns.scatterplot(data = tb_housing, y = 'pwe_GrLivArea',  x= 'GrLivArea')"
      ],
      "metadata": {
        "id": "3fcTQD9vibMe",
        "outputId": "569c807a-fe5d-463c-b6f5-0e57b4ea795c",
        "colab": {
          "base_uri": "https://localhost:8080/",
          "height": 317
        }
      },
      "execution_count": 33,
      "outputs": [
        {
          "output_type": "execute_result",
          "data": {
            "text/plain": [
              "<matplotlib.axes._subplots.AxesSubplot at 0x7fce29b67fd0>"
            ]
          },
          "metadata": {},
          "execution_count": 33
        },
        {
          "output_type": "display_data",
          "data": {
            "text/plain": [
              "<Figure size 432x288 with 1 Axes>"
            ],
            "image/png": "[encoded data removed]"
          },
          "metadata": {
            "needs_background": "light"
          }
        }
      ]
    },
    {
      "cell_type": "markdown",
      "metadata": {
        "id": "mk7VgL-nSl7h"
      },
      "source": [
        "## Target Variable Transformation"
      ]
    },
    {
      "cell_type": "code",
      "execution_count": 34,
      "metadata": {
        "id": "amD5eFfDSl7h"
      },
      "outputs": [],
      "source": [
        "tb_housing['log_SalePrice'] = np.log(tb_housing['SalePrice'])"
      ]
    },
    {
      "cell_type": "code",
      "source": [
        "sns.histplot(data = tb_housing, x = 'GrLivArea', y = 'log_SalePrice')"
      ],
      "metadata": {
        "id": "0xaqLkdPj91I",
        "outputId": "d8e6d7c9-a22b-472b-bb9b-0fe42d4fd0ba",
        "colab": {
          "base_uri": "https://localhost:8080/",
          "height": 317
        }
      },
      "execution_count": 43,
      "outputs": [
        {
          "output_type": "execute_result",
          "data": {
            "text/plain": [
              "<matplotlib.axes._subplots.AxesSubplot at 0x7fce29642cd0>"
            ]
          },
          "metadata": {},
          "execution_count": 43
        },
        {
          "output_type": "display_data",
          "data": {
            "text/plain": [
              "<Figure size 432x288 with 1 Axes>"
            ],
            "image/png": "[encoded data removed]"
          },
          "metadata": {
            "needs_background": "light"
          }
        }
      ]
    },
    {
      "cell_type": "code",
      "source": [
        "np.log(10)"
      ],
      "metadata": {
        "id": "ortuIY6Vk9NS",
        "outputId": "409b31dd-6357-4608-f32d-ccb8a7d1a28d",
        "colab": {
          "base_uri": "https://localhost:8080/"
        }
      },
      "execution_count": 39,
      "outputs": [
        {
          "output_type": "execute_result",
          "data": {
            "text/plain": [
              "2.302585092994046"
            ]
          },
          "metadata": {},
          "execution_count": 39
        }
      ]
    },
    {
      "cell_type": "code",
      "source": [
        "np.exp(2.302585092994046)"
      ],
      "metadata": {
        "id": "cuEIbuEHk_ew",
        "outputId": "77a5ac49-c962-40fe-a22a-af73b2a5be34",
        "colab": {
          "base_uri": "https://localhost:8080/"
        }
      },
      "execution_count": 40,
      "outputs": [
        {
          "output_type": "execute_result",
          "data": {
            "text/plain": [
              "10.000000000000002"
            ]
          },
          "metadata": {},
          "execution_count": 40
        }
      ]
    },
    {
      "cell_type": "code",
      "source": [
        "x = np.linspace(-10, 10, 1000)\n",
        "y = np.exp(x)\n",
        "plt.plot(x,y)"
      ],
      "metadata": {
        "id": "Ol4G_7ndkRQk",
        "outputId": "7e7f2388-ae20-4f44-a948-910491523146",
        "colab": {
          "base_uri": "https://localhost:8080/",
          "height": 303
        }
      },
      "execution_count": 38,
      "outputs": [
        {
          "output_type": "execute_result",
          "data": {
            "text/plain": [
              "[<matplotlib.lines.Line2D at 0x7fce29a41690>]"
            ]
          },
          "metadata": {},
          "execution_count": 38
        },
        {
          "output_type": "display_data",
          "data": {
            "text/plain": [
              "<Figure size 432x288 with 1 Axes>"
            ],
            "image/png": "[encoded data removed]"
          },
          "metadata": {
            "needs_background": "light"
          }
        }
      ]
    },
    {
      "cell_type": "markdown",
      "metadata": {
        "id": "4QCZarBSSl7g"
      },
      "source": [
        "## Categorical Transformation"
      ]
    },
    {
      "cell_type": "code",
      "execution_count": 44,
      "metadata": {
        "id": "oZlglzoSSl7g"
      },
      "outputs": [],
      "source": [
        "from pandas import qcut, cut\n",
        "from sklearn.preprocessing import KBinsDiscretizer"
      ]
    },
    {
      "cell_type": "code",
      "source": [
        "tb_housing['HeatingQC'].value_counts()"
      ],
      "metadata": {
        "id": "wB9k2rCWnunx",
        "outputId": "cb663ace-a1d1-41f8-f4b9-46db49fbc034",
        "colab": {
          "base_uri": "https://localhost:8080/"
        }
      },
      "execution_count": 47,
      "outputs": [
        {
          "output_type": "execute_result",
          "data": {
            "text/plain": [
              "Ex    741\n",
              "TA    428\n",
              "Gd    241\n",
              "Fa     49\n",
              "Po      1\n",
              "Name: HeatingQC, dtype: int64"
            ]
          },
          "metadata": {},
          "execution_count": 47
        }
      ]
    },
    {
      "cell_type": "code",
      "source": [
        "heatingqc_group = {'Ex' : 'Good', 'Gd' : 'Good', 'TA' : 'Bad', 'Fa' : 'Bad', 'Po' : 'Bad'}"
      ],
      "metadata": {
        "id": "XGLINVGMo7s2"
      },
      "execution_count": 55,
      "outputs": []
    },
    {
      "cell_type": "code",
      "source": [
        "heatingqc_group"
      ],
      "metadata": {
        "id": "UsH7mBGbpL-_",
        "outputId": "d372c9bd-378b-495e-b35c-be62dc6bf1e8",
        "colab": {
          "base_uri": "https://localhost:8080/"
        }
      },
      "execution_count": 56,
      "outputs": [
        {
          "output_type": "execute_result",
          "data": {
            "text/plain": [
              "{'Ex': 'Good', 'Gd': 'Good', 'TA': 'Bad', 'Fa': 'Bad', 'Po': 'Bad'}"
            ]
          },
          "metadata": {},
          "execution_count": 56
        }
      ]
    },
    {
      "cell_type": "code",
      "source": [
        "tb_housing['grp_HeatingQC'] = tb_housing['HeatingQC'].map(heatingqc_group)"
      ],
      "metadata": {
        "id": "X4gIXBlWpRTY"
      },
      "execution_count": 57,
      "outputs": []
    },
    {
      "cell_type": "code",
      "source": [
        "tb_housing['grp_HeatingQC'].value_counts()"
      ],
      "metadata": {
        "id": "n58ayCB9pm2z",
        "outputId": "e4ded5e2-d2ee-4cd7-9df5-a2a206ff76c4",
        "colab": {
          "base_uri": "https://localhost:8080/"
        }
      },
      "execution_count": 58,
      "outputs": [
        {
          "output_type": "execute_result",
          "data": {
            "text/plain": [
              "Good    982\n",
              "Bad     478\n",
              "Name: grp_HeatingQC, dtype: int64"
            ]
          },
          "metadata": {},
          "execution_count": 58
        }
      ]
    },
    {
      "cell_type": "code",
      "source": [
        "sns.boxplot(data = tb_housing, y = 'log_SalePrice', x = 'grp_HeatingQC')"
      ],
      "metadata": {
        "id": "x5H4DplMpqOB",
        "outputId": "9cd12c97-c257-4b91-dd00-a4413c38d43d",
        "colab": {
          "base_uri": "https://localhost:8080/",
          "height": 318
        }
      },
      "execution_count": 61,
      "outputs": [
        {
          "output_type": "execute_result",
          "data": {
            "text/plain": [
              "<matplotlib.axes._subplots.AxesSubplot at 0x7fce294f7150>"
            ]
          },
          "metadata": {},
          "execution_count": 61
        },
        {
          "output_type": "display_data",
          "data": {
            "text/plain": [
              "<Figure size 432x288 with 1 Axes>"
            ],
            "image/png": "[encoded data removed]"
          },
          "metadata": {
            "needs_background": "light"
          }
        }
      ]
    },
    {
      "cell_type": "code",
      "source": [
        "sns.scatterplot(data = tb_housing, x = 'LotArea', y = 'log_SalePrice')"
      ],
      "metadata": {
        "id": "Tm_WU_QRttpb",
        "outputId": "bebd9228-40eb-423e-87a2-143b703828b8",
        "colab": {
          "base_uri": "https://localhost:8080/",
          "height": 317
        }
      },
      "execution_count": 63,
      "outputs": [
        {
          "output_type": "execute_result",
          "data": {
            "text/plain": [
              "<matplotlib.axes._subplots.AxesSubplot at 0x7fce29430b10>"
            ]
          },
          "metadata": {},
          "execution_count": 63
        },
        {
          "output_type": "display_data",
          "data": {
            "text/plain": [
              "<Figure size 432x288 with 1 Axes>"
            ],
            "image/png": "[encoded data removed]"
          },
          "metadata": {
            "needs_background": "light"
          }
        }
      ]
    },
    {
      "cell_type": "code",
      "source": [
        "tb_housing['grp_LotArea'] = pd.qcut(tb_housing['LotArea'], 4)"
      ],
      "metadata": {
        "id": "1z3IXXJ4uOrc"
      },
      "execution_count": 69,
      "outputs": []
    },
    {
      "cell_type": "code",
      "source": [
        "sns.boxplot(data = tb_housing, y = 'log_SalePrice', x = 'grp_LotArea')"
      ],
      "metadata": {
        "id": "oFQonmW7u1z6",
        "outputId": "29b4833e-af8a-4538-ba89-432119d87647",
        "colab": {
          "base_uri": "https://localhost:8080/",
          "height": 318
        }
      },
      "execution_count": 70,
      "outputs": [
        {
          "output_type": "execute_result",
          "data": {
            "text/plain": [
              "<matplotlib.axes._subplots.AxesSubplot at 0x7fce293f9890>"
            ]
          },
          "metadata": {},
          "execution_count": 70
        },
        {
          "output_type": "display_data",
          "data": {
            "text/plain": [
              "<Figure size 432x288 with 1 Axes>"
            ],
            "image/png": "[encoded data removed]"
          },
          "metadata": {
            "needs_background": "light"
          }
        }
      ]
    },
    {
      "cell_type": "code",
      "source": [
        "sns.scatterplot(data = tb_housing, x = 'OverallQual', y = 'log_SalePrice')"
      ],
      "metadata": {
        "id": "MXGtJlTcvIML",
        "outputId": "5fe728cd-9451-44ce-bb9d-5210ffab92f7",
        "colab": {
          "base_uri": "https://localhost:8080/",
          "height": 317
        }
      },
      "execution_count": 73,
      "outputs": [
        {
          "output_type": "execute_result",
          "data": {
            "text/plain": [
              "<matplotlib.axes._subplots.AxesSubplot at 0x7fce28dd2c50>"
            ]
          },
          "metadata": {},
          "execution_count": 73
        },
        {
          "output_type": "display_data",
          "data": {
            "text/plain": [
              "<Figure size 432x288 with 1 Axes>"
            ],
            "image/png": "[encoded data removed]"
          },
          "metadata": {
            "needs_background": "light"
          }
        }
      ]
    },
    {
      "cell_type": "code",
      "source": [
        "tb_housing['grp_OverallQual'] = pd.cut(tb_housing['OverallQual'], bins = [0, 6, 9, 11], include_lowest = True, \n",
        "                                       labels = ['Detractor', 'Neutral', 'Promoter'])"
      ],
      "metadata": {
        "id": "HZbYcusIvVbD"
      },
      "execution_count": 79,
      "outputs": []
    },
    {
      "cell_type": "code",
      "source": [
        "sns.boxplot(data = tb_housing, y = 'log_SalePrice', x = 'grp_OverallQual')"
      ],
      "metadata": {
        "id": "hC4Hc7Vmv4Z6",
        "outputId": "ebff8909-c4a7-4eeb-b976-4db496921768",
        "colab": {
          "base_uri": "https://localhost:8080/",
          "height": 318
        }
      },
      "execution_count": 80,
      "outputs": [
        {
          "output_type": "execute_result",
          "data": {
            "text/plain": [
              "<matplotlib.axes._subplots.AxesSubplot at 0x7fce28d52d10>"
            ]
          },
          "metadata": {},
          "execution_count": 80
        },
        {
          "output_type": "display_data",
          "data": {
            "text/plain": [
              "<Figure size 432x288 with 1 Axes>"
            ],
            "image/png": "[encoded data removed]"
          },
          "metadata": {
            "needs_background": "light"
          }
        }
      ]
    },
    {
      "cell_type": "markdown",
      "metadata": {
        "id": "Ywfy6smASl7h"
      },
      "source": [
        "# Feature Combination\n",
        "\n",
        "## Interaction between Categorical and Continous Variables"
      ]
    },
    {
      "cell_type": "code",
      "execution_count": 82,
      "metadata": {
        "colab": {
          "base_uri": "https://localhost:8080/",
          "height": 226
        },
        "id": "6VAZg4-PSl7h",
        "outputId": "66f522f1-30a9-4ffa-be64-aebe41f6a100"
      },
      "outputs": [
        {
          "output_type": "execute_result",
          "data": {
            "text/plain": [
              "   lot_A  lot_B  lot_C  lot_D\n",
              "0      0      1      0      0\n",
              "1      0      0      1      0\n",
              "2      0      0      1      0\n",
              "3      0      0      1      0\n",
              "4      0      0      0      1"
            ],
            "text/html": [
              "\n",
              "  <div id=\"df-04487703-d25e-47d4-87db-116d83563d48\">\n",
              "    <div class=\"colab-df-container\">\n",
              "      <div>\n",
              "<style scoped>\n",
              "    .dataframe tbody tr th:only-of-type {\n",
              "        vertical-align: middle;\n",
              "    }\n",
              "\n",
              "    .dataframe tbody tr th {\n",
              "        vertical-align: top;\n",
              "    }\n",
              "\n",
              "    .dataframe thead th {\n",
              "        text-align: right;\n",
              "    }\n",
              "</style>\n",
              "<table border=\"1\" class=\"dataframe\">\n",
              "  <thead>\n",
              "    <tr style=\"text-align: right;\">\n",
              "      <th></th>\n",
              "      <th>lot_A</th>\n",
              "      <th>lot_B</th>\n",
              "      <th>lot_C</th>\n",
              "      <th>lot_D</th>\n",
              "    </tr>\n",
              "  </thead>\n",
              "  <tbody>\n",
              "    <tr>\n",
              "      <th>0</th>\n",
              "      <td>0</td>\n",
              "      <td>1</td>\n",
              "      <td>0</td>\n",
              "      <td>0</td>\n",
              "    </tr>\n",
              "    <tr>\n",
              "      <th>1</th>\n",
              "      <td>0</td>\n",
              "      <td>0</td>\n",
              "      <td>1</td>\n",
              "      <td>0</td>\n",
              "    </tr>\n",
              "    <tr>\n",
              "      <th>2</th>\n",
              "      <td>0</td>\n",
              "      <td>0</td>\n",
              "      <td>1</td>\n",
              "      <td>0</td>\n",
              "    </tr>\n",
              "    <tr>\n",
              "      <th>3</th>\n",
              "      <td>0</td>\n",
              "      <td>0</td>\n",
              "      <td>1</td>\n",
              "      <td>0</td>\n",
              "    </tr>\n",
              "    <tr>\n",
              "      <th>4</th>\n",
              "      <td>0</td>\n",
              "      <td>0</td>\n",
              "      <td>0</td>\n",
              "      <td>1</td>\n",
              "    </tr>\n",
              "  </tbody>\n",
              "</table>\n",
              "</div>\n",
              "      <button class=\"colab-df-convert\" onclick=\"convertToInteractive('df-04487703-d25e-47d4-87db-116d83563d48')\"\n",
              "              title=\"Convert this dataframe to an interactive table.\"\n",
              "              style=\"display:none;\">\n",
              "        \n",
              "  <svg xmlns=\"http://www.w3.org/2000/svg\" height=\"24px\"viewBox=\"0 0 24 24\"\n",
              "       width=\"24px\">\n",
              "    <path d=\"M0 0h24v24H0V0z\" fill=\"none\"/>\n",
              "    <path d=\"M18.56 5.44l.94 2.06.94-2.06 2.06-.94-2.06-.94-.94-2.06-.94 2.06-2.06.94zm-11 1L8.5 8.5l.94-2.06 2.06-.94-2.06-.94L8.5 2.5l-.94 2.06-2.06.94zm10 10l.94 2.06.94-2.06 2.06-.94-2.06-.94-.94-2.06-.94 2.06-2.06.94z\"/><path d=\"M17.41 7.96l-1.37-1.37c-.4-.4-.92-.59-1.43-.59-.52 0-1.04.2-1.43.59L10.3 9.45l-7.72 7.72c-.78.78-.78 2.05 0 2.83L4 21.41c.39.39.9.59 1.41.59.51 0 1.02-.2 1.41-.59l7.78-7.78 2.81-2.81c.8-.78.8-2.07 0-2.86zM5.41 20L4 18.59l7.72-7.72 1.47 1.35L5.41 20z\"/>\n",
              "  </svg>\n",
              "      </button>\n",
              "      \n",
              "  <style>\n",
              "    .colab-df-container {\n",
              "      display:flex;\n",
              "      flex-wrap:wrap;\n",
              "      gap: 12px;\n",
              "    }\n",
              "\n",
              "    .colab-df-convert {\n",
              "      background-color: #E8F0FE;\n",
              "      border: none;\n",
              "      border-radius: 50%;\n",
              "      cursor: pointer;\n",
              "      display: none;\n",
              "      fill: #1967D2;\n",
              "      height: 32px;\n",
              "      padding: 0 0 0 0;\n",
              "      width: 32px;\n",
              "    }\n",
              "\n",
              "    .colab-df-convert:hover {\n",
              "      background-color: #E2EBFA;\n",
              "      box-shadow: 0px 1px 2px rgba(60, 64, 67, 0.3), 0px 1px 3px 1px rgba(60, 64, 67, 0.15);\n",
              "      fill: #174EA6;\n",
              "    }\n",
              "\n",
              "    [theme=dark] .colab-df-convert {\n",
              "      background-color: #3B4455;\n",
              "      fill: #D2E3FC;\n",
              "    }\n",
              "\n",
              "    [theme=dark] .colab-df-convert:hover {\n",
              "      background-color: #434B5C;\n",
              "      box-shadow: 0px 1px 3px 1px rgba(0, 0, 0, 0.15);\n",
              "      filter: drop-shadow(0px 1px 2px rgba(0, 0, 0, 0.3));\n",
              "      fill: #FFFFFF;\n",
              "    }\n",
              "  </style>\n",
              "\n",
              "      <script>\n",
              "        const buttonEl =\n",
              "          document.querySelector('#df-04487703-d25e-47d4-87db-116d83563d48 button.colab-df-convert');\n",
              "        buttonEl.style.display =\n",
              "          google.colab.kernel.accessAllowed ? 'block' : 'none';\n",
              "\n",
              "        async function convertToInteractive(key) {\n",
              "          const element = document.querySelector('#df-04487703-d25e-47d4-87db-116d83563d48');\n",
              "          const dataTable =\n",
              "            await google.colab.kernel.invokeFunction('convertToInteractive',\n",
              "                                                     [key], {});\n",
              "          if (!dataTable) return;\n",
              "\n",
              "          const docLinkHtml = 'Like what you see? Visit the ' +\n",
              "            '<a target=\"_blank\" href=https://colab.research.google.com/notebooks/data_table.ipynb>data table notebook</a>'\n",
              "            + ' to learn more about interactive tables.';\n",
              "          element.innerHTML = '';\n",
              "          dataTable['output_type'] = 'display_data';\n",
              "          await google.colab.output.renderOutput(dataTable, element);\n",
              "          const docLink = document.createElement('div');\n",
              "          docLink.innerHTML = docLinkHtml;\n",
              "          element.appendChild(docLink);\n",
              "        }\n",
              "      </script>\n",
              "    </div>\n",
              "  </div>\n",
              "  "
            ]
          },
          "metadata": {},
          "execution_count": 82
        }
      ],
      "source": [
        "dummies_lotarea = pd.get_dummies(tb_housing['grp_LotArea'])\n",
        "dummies_lotarea.columns = ['lot_A', 'lot_B', 'lot_C', 'lot_D']\n",
        "dummies_lotarea.head()"
      ]
    },
    {
      "cell_type": "code",
      "source": [
        "tb_housing_dummies = pd.concat([tb_housing, dummies_lotarea], axis = 1)"
      ],
      "metadata": {
        "id": "bZHQhd9e3P23"
      },
      "execution_count": null,
      "outputs": []
    },
    {
      "cell_type": "code",
      "source": [
        "tb_housing_dummies['int_lotA_LotArea'] = tb_housing_dummies['lot_A'] * tb_housing_dummies['LotArea']\n",
        "tb_housing_dummies['int_lotB_LotArea'] = tb_housing_dummies['lot_B'] * tb_housing_dummies['LotArea']\n",
        "tb_housing_dummies['int_lotC_LotArea'] = tb_housing_dummies['lot_C'] * tb_housing_dummies['LotArea']\n",
        "tb_housing_dummies['int_lotD_LotArea'] = tb_housing_dummies['lot_D'] * tb_housing_dummies['LotArea']"
      ],
      "metadata": {
        "id": "yM1FO9SQxugv"
      },
      "execution_count": 85,
      "outputs": []
    },
    {
      "cell_type": "code",
      "source": [
        "sns.scatterplot(data = tb_housing_dummies, x = 'int_lotA_LotArea', y = 'log_SalePrice')"
      ],
      "metadata": {
        "id": "cirAF15JyEKG",
        "outputId": "8f9e2a4d-0afa-4f42-fe8a-07fc227a9681",
        "colab": {
          "base_uri": "https://localhost:8080/",
          "height": 318
        }
      },
      "execution_count": 108,
      "outputs": [
        {
          "output_type": "execute_result",
          "data": {
            "text/plain": [
              "<matplotlib.axes._subplots.AxesSubplot at 0x7fce28699890>"
            ]
          },
          "metadata": {},
          "execution_count": 108
        },
        {
          "output_type": "display_data",
          "data": {
            "text/plain": [
              "<Figure size 432x288 with 1 Axes>"
            ],
            "image/png": "[encoded data removed]"
          },
          "metadata": {
            "needs_background": "light"
          }
        }
      ]
    },
    {
      "cell_type": "code",
      "source": [
        "sns.scatterplot(data = tb_housing_dummies[tb_housing_dummies['LotArea'] < 30000], y = 'int_lotA_LotArea', x = 'LotArea')\n",
        "sns.scatterplot(data = tb_housing_dummies[tb_housing_dummies['LotArea'] < 30000], y = 'int_lotB_LotArea', x = 'LotArea')\n",
        "sns.scatterplot(data = tb_housing_dummies[tb_housing_dummies['LotArea'] < 30000], y = 'int_lotC_LotArea', x = 'LotArea')"
      ],
      "metadata": {
        "id": "RD16JLfvyVP2",
        "outputId": "3a8bf85b-2f8c-4495-952f-ff8c1ece0094",
        "colab": {
          "base_uri": "https://localhost:8080/",
          "height": 318
        }
      },
      "execution_count": 105,
      "outputs": [
        {
          "output_type": "execute_result",
          "data": {
            "text/plain": [
              "<matplotlib.axes._subplots.AxesSubplot at 0x7fce285a8290>"
            ]
          },
          "metadata": {},
          "execution_count": 105
        },
        {
          "output_type": "display_data",
          "data": {
            "text/plain": [
              "<Figure size 432x288 with 1 Axes>"
            ],
            "image/png": "[encoded data removed]"
          },
          "metadata": {
            "needs_background": "light"
          }
        }
      ]
    },
    {
      "cell_type": "code",
      "source": [
        "sns.lmplot(data = tb_housing_dummies[tb_housing_dummies['LotArea'] < 30000], \n",
        "           x = 'LotArea', y = 'log_SalePrice', hue = 'grp_LotArea')"
      ],
      "metadata": {
        "id": "yP7vmLVgy16A",
        "outputId": "72d78fb6-070d-42b8-a60d-105e8c9c98a8",
        "colab": {
          "base_uri": "https://localhost:8080/",
          "height": 407
        }
      },
      "execution_count": 116,
      "outputs": [
        {
          "output_type": "execute_result",
          "data": {
            "text/plain": [
              "<seaborn.axisgrid.FacetGrid at 0x7fce28002450>"
            ]
          },
          "metadata": {},
          "execution_count": 116
        },
        {
          "output_type": "display_data",
          "data": {
            "text/plain": [
              "<Figure size 499x360 with 1 Axes>"
            ],
            "image/png": "[encoded data removed]"
          },
          "metadata": {
            "needs_background": "light"
          }
        }
      ]
    },
    {
      "cell_type": "code",
      "source": [
        "sns.scatterplot(data = tb_housing_dummies, x = 'log_GrLivArea', y = 'log_SalePrice', hue = 'grp_OverallQual', s = 3.5)"
      ],
      "metadata": {
        "id": "-HogldwM19yz",
        "outputId": "ac904c82-8f7d-4f7c-c87b-a3aaaa7b5ca5",
        "colab": {
          "base_uri": "https://localhost:8080/",
          "height": 318
        }
      },
      "execution_count": 114,
      "outputs": [
        {
          "output_type": "execute_result",
          "data": {
            "text/plain": [
              "<matplotlib.axes._subplots.AxesSubplot at 0x7fce2816aed0>"
            ]
          },
          "metadata": {},
          "execution_count": 114
        },
        {
          "output_type": "display_data",
          "data": {
            "text/plain": [
              "<Figure size 432x288 with 1 Axes>"
            ],
            "image/png": "[encoded data removed]"
          },
          "metadata": {
            "needs_background": "light"
          }
        }
      ]
    },
    {
      "cell_type": "code",
      "source": [
        "sns.lmplot(data = tb_housing_dummies, x = 'log_GrLivArea', y = 'log_SalePrice', hue = 'grp_OverallQual')"
      ],
      "metadata": {
        "id": "p042a8qh2lLX",
        "outputId": "235e3b4a-b990-4108-b400-948622b1935c",
        "colab": {
          "base_uri": "https://localhost:8080/",
          "height": 407
        }
      },
      "execution_count": 115,
      "outputs": [
        {
          "output_type": "execute_result",
          "data": {
            "text/plain": [
              "<seaborn.axisgrid.FacetGrid at 0x7fce280de790>"
            ]
          },
          "metadata": {},
          "execution_count": 115
        },
        {
          "output_type": "display_data",
          "data": {
            "text/plain": [
              "<Figure size 448.625x360 with 1 Axes>"
            ],
            "image/png": "[encoded data removed]"
          },
          "metadata": {
            "needs_background": "light"
          }
        }
      ]
    },
    {
      "cell_type": "markdown",
      "metadata": {
        "id": "DsUvJwrOSl7i"
      },
      "source": [
        "## Interaction between Continous Variables"
      ]
    },
    {
      "cell_type": "code",
      "execution_count": 118,
      "metadata": {
        "id": "cdw0S44LSl7i"
      },
      "outputs": [],
      "source": [
        "tb_housing_dummies['lot_ocuppation'] = tb_housing_dummies['GrLivArea']/tb_housing_dummies['LotArea']"
      ]
    },
    {
      "cell_type": "code",
      "source": [
        "sns.histplot(data = tb_housing_dummies, x = 'lot_ocuppation', y ='log_SalePrice')"
      ],
      "metadata": {
        "id": "YcRLz7Ei4BNz",
        "outputId": "8be29e41-5742-4892-d85b-1e0e73cf4983",
        "colab": {
          "base_uri": "https://localhost:8080/",
          "height": 318
        }
      },
      "execution_count": 120,
      "outputs": [
        {
          "output_type": "execute_result",
          "data": {
            "text/plain": [
              "<matplotlib.axes._subplots.AxesSubplot at 0x7fce27f39e50>"
            ]
          },
          "metadata": {},
          "execution_count": 120
        },
        {
          "output_type": "display_data",
          "data": {
            "text/plain": [
              "<Figure size 432x288 with 1 Axes>"
            ],
            "image/png": "[encoded data removed]"
          },
          "metadata": {
            "needs_background": "light"
          }
        }
      ]
    },
    {
      "cell_type": "markdown",
      "metadata": {
        "id": "qQDPvafpSl7i"
      },
      "source": [
        "## Interaction between Categorical Variables"
      ]
    },
    {
      "cell_type": "code",
      "execution_count": null,
      "metadata": {
        "id": "APykvwpTSl7i"
      },
      "outputs": [],
      "source": []
    },
    {
      "cell_type": "markdown",
      "metadata": {
        "id": "Iagr2E0eSl7j"
      },
      "source": [
        "# Feature Selection\n",
        "\n",
        "## Manual Selection"
      ]
    },
    {
      "cell_type": "code",
      "execution_count": null,
      "metadata": {
        "id": "iTctIdS1Sl7j"
      },
      "outputs": [],
      "source": []
    },
    {
      "cell_type": "markdown",
      "metadata": {
        "id": "mjxzPbWOSl7j"
      },
      "source": [
        "## Dimensionality Reduction"
      ]
    },
    {
      "cell_type": "code",
      "execution_count": null,
      "metadata": {
        "id": "GYbuzQz7Sl7k"
      },
      "outputs": [],
      "source": [
        "from sklearn.decomposition import PCA, NMF"
      ]
    },
    {
      "cell_type": "markdown",
      "metadata": {
        "id": "hOJEBytTSl7k"
      },
      "source": [
        "## RFE & Lasso Regression"
      ]
    },
    {
      "cell_type": "code",
      "execution_count": null,
      "metadata": {
        "id": "sRpT_b2WSl7k"
      },
      "outputs": [],
      "source": [
        "from sklearn.feature_selection import RFE\n",
        "from sklearn.linear_model import LassoCV"
      ]
    },
    {
      "cell_type": "markdown",
      "source": [
        "# Creating a Wrapper"
      ],
      "metadata": {
        "id": "Xc7DGD6VSvgL"
      }
    },
    {
      "cell_type": "code",
      "source": [],
      "metadata": {
        "id": "oINkJ8dQSxu-"
      },
      "execution_count": null,
      "outputs": []
    }
  ],
  "metadata": {
    "kernelspec": {
      "display_name": "Python 3.9.11 ('base')",
      "language": "python",
      "name": "python3"
    },
    "language_info": {
      "codemirror_mode": {
        "name": "ipython",
        "version": 3
      },
      "file_extension": ".py",
      "mimetype": "text/x-python",
      "name": "python",
      "nbconvert_exporter": "python",
      "pygments_lexer": "ipython3",
      "version": "3.9.11"
    },
    "orig_nbformat": 4,
    "vscode": {
      "interpreter": {
        "hash": "014f4a4a5af8f0104b12c029e500f4146d6d785e8cf714d2a35b7a9514230cd3"
      }
    },
    "colab": {
      "provenance": []
    }
  },
  "nbformat": 4,
  "nbformat_minor": 0
}