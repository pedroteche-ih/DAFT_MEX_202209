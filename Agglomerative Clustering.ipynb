{
  "cells": [
    {
      "cell_type": "code",
      "execution_count": 1,
      "metadata": {
        "id": "vaR8vK7WTql_"
      },
      "outputs": [],
      "source": [
        "import pandas as pd\n",
        "import numpy as np\n",
        "import seaborn as sns\n",
        "from matplotlib import pyplot as plt\n",
        "\n",
        "from sklearn.decomposition import PCA\n",
        "from sklearn.preprocessing import StandardScaler\n",
        "\n",
        "sns.set_theme(context=\"notebook\", style=\"darkgrid\")\n"
      ]
    },
    {
      "cell_type": "code",
      "execution_count": 4,
      "metadata": {
        "id": "NQWnvroKTqmB"
      },
      "outputs": [],
      "source": [
        "url = 'https://raw.githubusercontent.com/pedroteche-ih/DAFT_MEX_202209/main/data/acs2017_census_tract_data.csv'\n",
        "tb_census = pd.read_csv(url, index_col=0)\n",
        "tb_census = tb_census.dropna()\n",
        "\n",
        "cluster_vars = [\n",
        "    \"IncomePerCapErr\",\n",
        "    \"Poverty\",\n",
        "    \"Professional\",\n",
        "    \"Service\",\n",
        "    \"Office\",\n",
        "    \"Construction\",\n",
        "    \"Production\",\n",
        "    \"OtherTransp\",\n",
        "    \"WorkAtHome\",\n",
        "    \"MeanCommute\",\n",
        "    \"Employed\",\n",
        "    \"PrivateWork\",\n",
        "    \"PublicWork\",\n",
        "    \"SelfEmployed\",\n",
        "]"
      ]
    },
    {
      "cell_type": "code",
      "execution_count": 5,
      "metadata": {
        "id": "aiUlthS4TqmB"
      },
      "outputs": [],
      "source": [
        "census_scaler = StandardScaler()\n",
        "census_scaler.fit(tb_census[cluster_vars])\n",
        "\n",
        "tb_sca_census = pd.DataFrame(census_scaler.transform(tb_census[cluster_vars]), columns = cluster_vars)"
      ]
    },
    {
      "cell_type": "markdown",
      "metadata": {
        "id": "cif3m8JXTqmC"
      },
      "source": [
        "# Hierarchical Clustering\n",
        "\n",
        "1. *Affinity* (or distance function)\n",
        "    - *Eucliden*\n",
        "    - *Cosine*\n",
        "1. ***Linkage***\n",
        "    - **Maximum or complete linkage** minimizes the maximum distance between observations of pairs of clusters: Compute all pairwise distances between observations in cluster A and in cluster B, and record the largest of these distances.\n",
        "    - **Average linkage** minimizes the average of the distances between all observations of pairs of clusters. Compute all pairwise distance between the observations in cluster A and cluster B and record the average of these distances.\n",
        "    - **Single linkage** minimizes the distance between the closest observations of pairs of clusters. Compute all pairwise distance between the observations in clusterA and cluster B and record the smallest of these distances.\n",
        "    - **Ward** minimizes the error sum of squares (also known as variance) of cluster combinations."
      ]
    },
    {
      "cell_type": "code",
      "execution_count": 6,
      "metadata": {
        "id": "q8yB2uLETqmC"
      },
      "outputs": [],
      "source": [
        "from scipy.cluster.hierarchy import dendrogram, linkage"
      ]
    },
    {
      "cell_type": "markdown",
      "metadata": {
        "id": "0QuwvIbZTqmC"
      },
      "source": [
        "We can use SciPy for visualizing the dendogram:"
      ]
    },
    {
      "cell_type": "code",
      "execution_count": 12,
      "metadata": {
        "id": "-8gItvs_TqmD",
        "outputId": "0bb64efc-f148-40ab-aa0a-393245b15989",
        "colab": {
          "base_uri": "https://localhost:8080/",
          "height": 292
        }
      },
      "outputs": [
        {
          "output_type": "display_data",
          "data": {
            "text/plain": [
              "<Figure size 432x288 with 1 Axes>"
            ],
            "image/png": "[encoded data removed]"
          },
          "metadata": {}
        }
      ],
      "source": [
        "census_dendogram = dendrogram(linkage(tb_sca_census.sample(5000), method = 'ward'), p = 6, truncate_mode = 'level')"
      ]
    },
    {
      "cell_type": "markdown",
      "metadata": {
        "id": "iBlF0kEKTqmD"
      },
      "source": [
        "For calculating & fitting hierarchical clustering models we're better served by SKLEARN's `AgglomerativeClustering` class:"
      ]
    },
    {
      "cell_type": "code",
      "execution_count": 8,
      "metadata": {
        "id": "NNvDUEO-TqmD"
      },
      "outputs": [],
      "source": [
        "from sklearn.cluster import AgglomerativeClustering"
      ]
    },
    {
      "cell_type": "code",
      "execution_count": 9,
      "metadata": {
        "id": "2jxKTtzDTqmD",
        "outputId": "50d6228a-4048-41e2-de65-c3e6d75afec9",
        "colab": {
          "base_uri": "https://localhost:8080/",
          "height": 222
        }
      },
      "outputs": [
        {
          "output_type": "error",
          "ename": "AttributeError",
          "evalue": "ignored",
          "traceback": [
            "\u001b[0;31m---------------------------------------------------------------------------\u001b[0m",
            "\u001b[0;31mAttributeError\u001b[0m                            Traceback (most recent call last)",
            "\u001b[0;32m<ipython-input-9-2251ed8fcd10>\u001b[0m in \u001b[0;36m<module>\u001b[0;34m\u001b[0m\n\u001b[1;32m      1\u001b[0m \u001b[0mhc_fit\u001b[0m \u001b[0;34m=\u001b[0m \u001b[0mAgglomerativeClustering\u001b[0m\u001b[0;34m(\u001b[0m\u001b[0mn_clusters\u001b[0m \u001b[0;34m=\u001b[0m \u001b[0;36m4\u001b[0m\u001b[0;34m,\u001b[0m \u001b[0maffinity\u001b[0m\u001b[0;34m=\u001b[0m\u001b[0;34m'euclidean'\u001b[0m\u001b[0;34m,\u001b[0m \u001b[0mlinkage\u001b[0m\u001b[0;34m=\u001b[0m\u001b[0;34m'complete'\u001b[0m\u001b[0;34m)\u001b[0m\u001b[0;34m\u001b[0m\u001b[0;34m\u001b[0m\u001b[0m\n\u001b[1;32m      2\u001b[0m \u001b[0mhc_fit\u001b[0m\u001b[0;34m.\u001b[0m\u001b[0mfit\u001b[0m\u001b[0;34m(\u001b[0m\u001b[0mtb_sca_census\u001b[0m\u001b[0;34m.\u001b[0m\u001b[0msample\u001b[0m\u001b[0;34m(\u001b[0m\u001b[0;36m1000\u001b[0m\u001b[0;34m)\u001b[0m\u001b[0;34m)\u001b[0m\u001b[0;34m\u001b[0m\u001b[0;34m\u001b[0m\u001b[0m\n\u001b[0;32m----> 3\u001b[0;31m \u001b[0mtb_census\u001b[0m\u001b[0;34m[\u001b[0m\u001b[0;34m'clu_ward'\u001b[0m\u001b[0;34m]\u001b[0m \u001b[0;34m=\u001b[0m \u001b[0mhc_fit\u001b[0m\u001b[0;34m.\u001b[0m\u001b[0mpredict\u001b[0m\u001b[0;34m(\u001b[0m\u001b[0mtb_sca_census\u001b[0m\u001b[0;34m)\u001b[0m\u001b[0;34m\u001b[0m\u001b[0;34m\u001b[0m\u001b[0m\n\u001b[0m",
            "\u001b[0;31mAttributeError\u001b[0m: 'AgglomerativeClustering' object has no attribute 'predict'"
          ]
        }
      ],
      "source": [
        "hc_fit = AgglomerativeClustering(n_clusters = 4, affinity='euclidean', linkage='complete')\n",
        "hc_fit.fit(tb_sca_census.sample(1000))\n",
        "tb_census['clu_ward'] = hc_fit.predict(tb_sca_census)"
      ]
    },
    {
      "cell_type": "code",
      "execution_count": null,
      "metadata": {
        "id": "1C2913MGTqmD"
      },
      "outputs": [],
      "source": []
    }
  ],
  "metadata": {
    "kernelspec": {
      "display_name": "Python 3.9.11 ('base')",
      "language": "python",
      "name": "python3"
    },
    "language_info": {
      "codemirror_mode": {
        "name": "ipython",
        "version": 3
      },
      "file_extension": ".py",
      "mimetype": "text/x-python",
      "name": "python",
      "nbconvert_exporter": "python",
      "pygments_lexer": "ipython3",
      "version": "3.9.11"
    },
    "orig_nbformat": 4,
    "vscode": {
      "interpreter": {
        "hash": "014f4a4a5af8f0104b12c029e500f4146d6d785e8cf714d2a35b7a9514230cd3"
      }
    },
    "colab": {
      "provenance": []
    }
  },
  "nbformat": 4,
  "nbformat_minor": 0
}