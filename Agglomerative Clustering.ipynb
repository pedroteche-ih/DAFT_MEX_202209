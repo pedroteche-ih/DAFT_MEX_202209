{
 "cells": [
  {
   "cell_type": "code",
   "execution_count": null,
   "metadata": {},
   "outputs": [],
   "source": [
    "import pandas as pd\n",
    "import numpy as np\n",
    "import seaborn as sns\n",
    "from matplotlib import pyplot as plt\n",
    "\n",
    "from sklearn.decomposition import PCA\n",
    "from sklearn.preprocessing import StandardScaler\n",
    "\n",
    "sns.set_theme(context=\"notebook\", style=\"darkgrid\")\n"
   ]
  },
  {
   "cell_type": "code",
   "execution_count": null,
   "metadata": {},
   "outputs": [],
   "source": [
    "tb_census = pd.read_csv(\"data/acs2017_census_tract_data.csv\", index_col=0)\n",
    "tb_census = tb_census.dropna()\n",
    "\n",
    "cluster_vars = [\n",
    "    \"IncomePerCapErr\",\n",
    "    \"Poverty\",\n",
    "    \"Professional\",\n",
    "    \"Service\",\n",
    "    \"Office\",\n",
    "    \"Construction\",\n",
    "    \"Production\",\n",
    "    \"OtherTransp\",\n",
    "    \"WorkAtHome\",\n",
    "    \"MeanCommute\",\n",
    "    \"Employed\",\n",
    "    \"PrivateWork\",\n",
    "    \"PublicWork\",\n",
    "    \"SelfEmployed\",\n",
    "]"
   ]
  },
  {
   "cell_type": "code",
   "execution_count": null,
   "metadata": {},
   "outputs": [],
   "source": [
    "census_scaler = StandardScaler()\n",
    "census_scaler.fit(tb_census[cluster_vars])\n",
    "\n",
    "tb_sca_census = pd.DataFrame(census_scaler.transform(tb_census[cluster_vars]), columns = cluster_vars)"
   ]
  },
  {
   "cell_type": "markdown",
   "metadata": {},
   "source": [
    "# Hierarchical Clustering\n",
    "\n",
    "1. *Affinity* (or distance function)\n",
    "    - *Eucliden*\n",
    "    - *Cosine*\n",
    "1. ***Linkage***\n",
    "    - **Maximum or complete linkage** minimizes the maximum distance between observations of pairs of clusters: Compute all pairwise distances between observations in cluster A and in cluster B, and record the largest of these distances.\n",
    "    - **Average linkage** minimizes the average of the distances between all observations of pairs of clusters. Compute all pairwise distance between the observations in cluster A and cluster B and record the average of these distances.\n",
    "    - **Single linkage** minimizes the distance between the closest observations of pairs of clusters. Compute all pairwise distance between the observations in clusterA and cluster B and record the smallest of these distances.\n",
    "    - **Ward** minimizes the error sum of squares (also known as variance) of cluster combinations."
   ]
  },
  {
   "cell_type": "code",
   "execution_count": null,
   "metadata": {},
   "outputs": [],
   "source": [
    "from scipy.cluster.hierarchy import dendrogram, linkage"
   ]
  },
  {
   "cell_type": "markdown",
   "metadata": {},
   "source": [
    "We can use SciPy for visualizing the dendogram:"
   ]
  },
  {
   "cell_type": "code",
   "execution_count": null,
   "metadata": {},
   "outputs": [],
   "source": [
    "census_dendogram = dendrogram(linkage(tb_sca_census.sample(1000), method = 'ward'), p = 6, truncate_mode = 'level')"
   ]
  },
  {
   "cell_type": "markdown",
   "metadata": {},
   "source": [
    "For calculating & fitting hierarchical clustering models we're better served by SKLEARN's `AgglomerativeClustering` class:"
   ]
  },
  {
   "cell_type": "code",
   "execution_count": null,
   "metadata": {},
   "outputs": [],
   "source": [
    "from sklearn.cluster import AgglomerativeClustering"
   ]
  },
  {
   "cell_type": "code",
   "execution_count": null,
   "metadata": {},
   "outputs": [],
   "source": [
    "hc_fit = AgglomerativeClustering(n_clusters = 4, affinity='euclidean', linkage='complete')\n",
    "hc_fit.fit(tb_sca_census)\n",
    "tb_census['clu_ward'] = hc_fit.predict(tb_sca_census)"
   ]
  },
  {
   "cell_type": "code",
   "execution_count": null,
   "metadata": {},
   "outputs": [],
   "source": []
  }
 ],
 "metadata": {
  "kernelspec": {
   "display_name": "Python 3.9.11 ('base')",
   "language": "python",
   "name": "python3"
  },
  "language_info": {
   "codemirror_mode": {
    "name": "ipython",
    "version": 3
   },
   "file_extension": ".py",
   "mimetype": "text/x-python",
   "name": "python",
   "nbconvert_exporter": "python",
   "pygments_lexer": "ipython3",
   "version": "3.9.11"
  },
  "orig_nbformat": 4,
  "vscode": {
   "interpreter": {
    "hash": "014f4a4a5af8f0104b12c029e500f4146d6d785e8cf714d2a35b7a9514230cd3"
   }
  }
 },
 "nbformat": 4,
 "nbformat_minor": 2
}
