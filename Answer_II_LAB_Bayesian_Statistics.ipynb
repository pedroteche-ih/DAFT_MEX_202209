{
  "cells": [
    {
      "cell_type": "markdown",
      "metadata": {
        "colab_type": "text",
        "id": "view-in-github"
      },
      "source": [
        "<a href=\"https://colab.research.google.com/github/pedroteche-ih/DAFT_MEX_202209/blob/main/Answer_II_LAB_Bayesian_Statistics.ipynb\" target=\"_parent\"><img src=\"https://colab.research.google.com/assets/colab-badge.svg\" alt=\"Open In Colab\"/></a>"
      ]
    },
    {
      "cell_type": "code",
      "execution_count": 3,
      "metadata": {
        "id": "F2YrADPELEfH"
      },
      "outputs": [],
      "source": [
        "import numpy as np"
      ]
    },
    {
      "cell_type": "markdown",
      "metadata": {
        "id": "wvo4gibCLvIJ"
      },
      "source": [
        "In Bag 1, the mix of colors is:\n",
        "\n",
        "Brown - 30%\n",
        "Yellow - 20%\n",
        "Red - 20%\n",
        "Green - 10%\n",
        "Orange - 10%\n",
        "Tan - 10%\n",
        "\n",
        "\n",
        "Blue - 24%\n",
        "Green - 20%\n",
        "Orange - 16%\n",
        "Yellow - 14%\n",
        "Red - 13%\n",
        "Brown - 13%"
      ]
    },
    {
      "cell_type": "markdown",
      "metadata": {
        "id": "peM-NzpSOigd"
      },
      "source": [
        "# Answer I"
      ]
    },
    {
      "cell_type": "code",
      "execution_count": 13,
      "metadata": {
        "id": "b3U2mxQ1LHZM"
      },
      "outputs": [],
      "source": [
        "sample_list = []\n",
        "colors_1 = ['brown', 'yellow', 'red', 'green', 'orange', 'tan']\n",
        "colors_2 = ['blue', 'green', 'orange', 'yellow', 'red', 'brown']\n",
        "p_1 = [0.3, 0.2, 0.2, 0.1, 0.1, 0.1]\n",
        "p_2 = [0.24, 0.2, 0.16, 0.14, 0.13, 0.13]\n",
        "\n",
        "for i in range(100000):\n",
        "  candy_1 = np.random.choice(colors_1, p = p_1)\n",
        "  candy_2 = np.random.choice(colors_2, p = p_2)\n",
        "\n",
        "  sample_list.append((candy_1, candy_2))"
      ]
    },
    {
      "cell_type": "code",
      "execution_count": 17,
      "metadata": {
        "colab": {
          "base_uri": "https://localhost:8080/"
        },
        "id": "oZnUGJpbOaaz",
        "outputId": "3e8247f1-31c0-4411-bf89-6c2f6468f85e"
      },
      "outputs": [
        {
          "data": {
            "text/plain": [
              "[('green', 'yellow'),\n",
              " ('brown', 'blue'),\n",
              " ('yellow', 'blue'),\n",
              " ('yellow', 'blue'),\n",
              " ('brown', 'blue'),\n",
              " ('yellow', 'green'),\n",
              " ('yellow', 'blue'),\n",
              " ('yellow', 'blue'),\n",
              " ('brown', 'blue'),\n",
              " ('green', 'brown')]"
            ]
          },
          "execution_count": 17,
          "metadata": {},
          "output_type": "execute_result"
        }
      ],
      "source": [
        "sample_list[0:10]"
      ]
    },
    {
      "cell_type": "code",
      "execution_count": null,
      "metadata": {
        "id": "YEG91EUmPyzr"
      },
      "outputs": [],
      "source": [
        "observed_data = []\n",
        "for sample in sample_list:\n",
        "  if 'yellow' in sample and 'green' in sample:\n",
        "    observed_data.append(sample)"
      ]
    },
    {
      "cell_type": "code",
      "execution_count": 14,
      "metadata": {
        "colab": {
          "base_uri": "https://localhost:8080/"
        },
        "id": "y2OCK3SeNBel",
        "outputId": "7bfcad2b-2e37-4bde-8eca-c1b155468a9b"
      },
      "outputs": [
        {
          "data": {
            "text/plain": [
              "[('green', 'yellow'),\n",
              " ('yellow', 'green'),\n",
              " ('yellow', 'green'),\n",
              " ('green', 'yellow'),\n",
              " ('yellow', 'green'),\n",
              " ('green', 'yellow'),\n",
              " ('yellow', 'green'),\n",
              " ('yellow', 'green'),\n",
              " ('yellow', 'green'),\n",
              " ('yellow', 'green')]"
            ]
          },
          "execution_count": 14,
          "metadata": {},
          "output_type": "execute_result"
        }
      ],
      "source": [
        "observed_data[0:10]"
      ]
    },
    {
      "cell_type": "code",
      "execution_count": 15,
      "metadata": {
        "id": "ylkhgVnqNEP4"
      },
      "outputs": [],
      "source": [
        "observed = ('yellow', 'green')\n",
        "posterior = [point for point in observed_data if point == observed]\n",
        "p_AB = len(posterior)/len(observed_data)"
      ]
    },
    {
      "cell_type": "code",
      "execution_count": 16,
      "metadata": {
        "colab": {
          "base_uri": "https://localhost:8080/"
        },
        "id": "5bNQhLOmOJwc",
        "outputId": "5c67a6bd-b596-44e2-bbea-05dedce503bd"
      },
      "outputs": [
        {
          "data": {
            "text/plain": [
              "0.7411439114391144"
            ]
          },
          "execution_count": 16,
          "metadata": {},
          "output_type": "execute_result"
        }
      ],
      "source": [
        "p_AB"
      ]
    }
  ],
  "metadata": {
    "colab": {
      "authorship_tag": "ABX9TyMqFTiV0PS+CazCsTnp4CU8",
      "include_colab_link": true,
      "provenance": []
    },
    "kernelspec": {
      "display_name": "Python 3.8.9 64-bit",
      "language": "python",
      "name": "python3"
    },
    "language_info": {
      "name": "python",
      "version": "3.8.9"
    },
    "vscode": {
      "interpreter": {
        "hash": "31f2aee4e71d21fbe5cf8b01ff0e069b9275f58929596ceb00d14d90e3e16cd6"
      }
    }
  },
  "nbformat": 4,
  "nbformat_minor": 0
}
