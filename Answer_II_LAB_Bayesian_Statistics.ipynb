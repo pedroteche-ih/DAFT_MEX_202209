{
  "nbformat": 4,
  "nbformat_minor": 0,
  "metadata": {
    "colab": {
      "provenance": [],
      "authorship_tag": "ABX9TyMqFTiV0PS+CazCsTnp4CU8",
      "include_colab_link": true
    },
    "kernelspec": {
      "name": "python3",
      "display_name": "Python 3"
    },
    "language_info": {
      "name": "python"
    }
  },
  "cells": [
    {
      "cell_type": "markdown",
      "metadata": {
        "id": "view-in-github",
        "colab_type": "text"
      },
      "source": [
        "<a href=\"https://colab.research.google.com/github/pedroteche-ih/DAFT_MEX_202209/blob/main/Answer_II_LAB_Bayesian_Statistics.ipynb\" target=\"_parent\"><img src=\"https://colab.research.google.com/assets/colab-badge.svg\" alt=\"Open In Colab\"/></a>"
      ]
    },
    {
      "cell_type": "code",
      "execution_count": 3,
      "metadata": {
        "id": "F2YrADPELEfH"
      },
      "outputs": [],
      "source": [
        "import numpy as np"
      ]
    },
    {
      "cell_type": "markdown",
      "source": [
        "In Bag 1, the mix of colors is:\n",
        "\n",
        "Brown - 30%\n",
        "Yellow - 20%\n",
        "Red - 20%\n",
        "Green - 10%\n",
        "Orange - 10%\n",
        "Tan - 10%\n",
        "\n",
        "\n",
        "Blue - 24%\n",
        "Green - 20%\n",
        "Orange - 16%\n",
        "Yellow - 14%\n",
        "Red - 13%\n",
        "Brown - 13%"
      ],
      "metadata": {
        "id": "wvo4gibCLvIJ"
      }
    },
    {
      "cell_type": "markdown",
      "source": [
        "# Answer I"
      ],
      "metadata": {
        "id": "peM-NzpSOigd"
      }
    },
    {
      "cell_type": "code",
      "source": [
        "sample_list = []\n",
        "colors_1 = ['brown', 'yellow', 'red', 'green', 'orange', 'tan']\n",
        "colors_2 = ['blue', 'green', 'orange', 'yellow', 'red', 'brown']\n",
        "p_1 = [0.3, 0.2, 0.2, 0.1, 0.1, 0.1]\n",
        "p_2 = [0.24, 0.2, 0.16, 0.14, 0.13, 0.13]\n",
        "\n",
        "for i in range(100000):\n",
        "  candy_1 = np.random.choice(colors_1, p = p_1)\n",
        "  candy_2 = np.random.choice(colors_2, p = p_2)\n",
        "\n",
        "  sample_list.append((candy_1, candy_2))"
      ],
      "metadata": {
        "id": "b3U2mxQ1LHZM"
      },
      "execution_count": 13,
      "outputs": []
    },
    {
      "cell_type": "code",
      "source": [
        "sample_list[0:10]"
      ],
      "metadata": {
        "colab": {
          "base_uri": "https://localhost:8080/"
        },
        "id": "oZnUGJpbOaaz",
        "outputId": "3e8247f1-31c0-4411-bf89-6c2f6468f85e"
      },
      "execution_count": 17,
      "outputs": [
        {
          "output_type": "execute_result",
          "data": {
            "text/plain": [
              "[('green', 'yellow'),\n",
              " ('brown', 'blue'),\n",
              " ('yellow', 'blue'),\n",
              " ('yellow', 'blue'),\n",
              " ('brown', 'blue'),\n",
              " ('yellow', 'green'),\n",
              " ('yellow', 'blue'),\n",
              " ('yellow', 'blue'),\n",
              " ('brown', 'blue'),\n",
              " ('green', 'brown')]"
            ]
          },
          "metadata": {},
          "execution_count": 17
        }
      ]
    },
    {
      "cell_type": "code",
      "source": [
        "observed_data = []\n",
        "for sample in sample_list:\n",
        "  if 'yellow' in sample and 'green' in sample:\n",
        "    observed_data.append(sample)"
      ],
      "metadata": {
        "id": "YEG91EUmPyzr"
      },
      "execution_count": null,
      "outputs": []
    },
    {
      "cell_type": "code",
      "source": [
        "observed_data[0:10]"
      ],
      "metadata": {
        "colab": {
          "base_uri": "https://localhost:8080/"
        },
        "id": "y2OCK3SeNBel",
        "outputId": "7bfcad2b-2e37-4bde-8eca-c1b155468a9b"
      },
      "execution_count": 14,
      "outputs": [
        {
          "output_type": "execute_result",
          "data": {
            "text/plain": [
              "[('green', 'yellow'),\n",
              " ('yellow', 'green'),\n",
              " ('yellow', 'green'),\n",
              " ('green', 'yellow'),\n",
              " ('yellow', 'green'),\n",
              " ('green', 'yellow'),\n",
              " ('yellow', 'green'),\n",
              " ('yellow', 'green'),\n",
              " ('yellow', 'green'),\n",
              " ('yellow', 'green')]"
            ]
          },
          "metadata": {},
          "execution_count": 14
        }
      ]
    },
    {
      "cell_type": "code",
      "source": [
        "observed = ('yellow', 'green')\n",
        "posterior = [point for point in observed_data if point == observed]\n",
        "p_AB = len(posterior)/len(observed_data)"
      ],
      "metadata": {
        "id": "ylkhgVnqNEP4"
      },
      "execution_count": 15,
      "outputs": []
    },
    {
      "cell_type": "code",
      "source": [
        "p_AB"
      ],
      "metadata": {
        "colab": {
          "base_uri": "https://localhost:8080/"
        },
        "id": "5bNQhLOmOJwc",
        "outputId": "5c67a6bd-b596-44e2-bbea-05dedce503bd"
      },
      "execution_count": 16,
      "outputs": [
        {
          "output_type": "execute_result",
          "data": {
            "text/plain": [
              "0.7411439114391144"
            ]
          },
          "metadata": {},
          "execution_count": 16
        }
      ]
    }
  ]
}