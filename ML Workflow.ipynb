{
  "cells": [
    {
      "cell_type": "markdown",
      "metadata": {
        "id": "4v9JAj-9K27q"
      },
      "source": [
        "# Machine Learning Workflow\n",
        "\n",
        "Today, we will be exploring the fundamental steps in the model building process. Before diving in machine learning algorithms we must learn the steps necessary for ensuring the algorithms we train will not suffer from data corruption problems (GiGo!) or overfitting. "
      ]
    },
    {
      "cell_type": "code",
      "execution_count": 8,
      "metadata": {
        "id": "L4NLwTzIK27s"
      },
      "outputs": [],
      "source": [
        "import numpy as np\n",
        "import scipy as sp\n",
        "import pandas as pd\n",
        "import matplotlib.pyplot as plt\n",
        "import seaborn as sns"
      ]
    },
    {
      "cell_type": "code",
      "execution_count": 9,
      "metadata": {
        "id": "lIaqtFeXK27t"
      },
      "outputs": [],
      "source": [
        "url = 'https://raw.githubusercontent.com/pedroteche-ih/DAFT_MEX_202209/main/data/tb_hotel_traintest.csv'\n",
        "tb_hotel = pd.read_csv(url)"
      ]
    },
    {
      "cell_type": "code",
      "execution_count": 10,
      "metadata": {
        "id": "iwfnhiZnK27u",
        "outputId": "d69762e3-da98-4cf9-f752-d813e3929839",
        "colab": {
          "base_uri": "https://localhost:8080/"
        }
      },
      "outputs": [
        {
          "metadata": {
            "tags": null
          },
          "name": "stdout",
          "output_type": "stream",
          "text": [
            "<class 'pandas.core.frame.DataFrame'>\n",
            "RangeIndex: 113409 entries, 0 to 113408\n",
            "Data columns (total 29 columns):\n",
            " #   Column                          Non-Null Count   Dtype  \n",
            "---  ------                          --------------   -----  \n",
            " 0   hotel                           113409 non-null  object \n",
            " 1   is_cancelled                    113409 non-null  int64  \n",
            " 2   lead_time                       113409 non-null  int64  \n",
            " 3   stays_in_weekend_nights         113409 non-null  int64  \n",
            " 4   stays_in_week_nights            113409 non-null  int64  \n",
            " 5   adults                          113409 non-null  int64  \n",
            " 6   children                        113406 non-null  float64\n",
            " 7   babies                          113409 non-null  int64  \n",
            " 8   meal                            113409 non-null  object \n",
            " 9   country                         112951 non-null  object \n",
            " 10  market_segment                  113409 non-null  object \n",
            " 11  distribution_channel            113409 non-null  object \n",
            " 12  is_repeated_guest               113409 non-null  int64  \n",
            " 13  previous_cancellations          113409 non-null  int64  \n",
            " 14  previous_bookings_not_canceled  113409 non-null  int64  \n",
            " 15  reserved_room_type              113409 non-null  object \n",
            " 16  assigned_room_type              113409 non-null  object \n",
            " 17  booking_changes                 113409 non-null  int64  \n",
            " 18  deposit_type                    113409 non-null  object \n",
            " 19  agent                           97918 non-null   float64\n",
            " 20  company                         6437 non-null    float64\n",
            " 21  days_in_waiting_list            113409 non-null  int64  \n",
            " 22  customer_type                   113409 non-null  object \n",
            " 23  adr                             113409 non-null  float64\n",
            " 24  required_car_parking_spaces     113409 non-null  int64  \n",
            " 25  total_of_special_requests       113409 non-null  int64  \n",
            " 26  reservation_status_date         113409 non-null  object \n",
            " 27  arrival_date                    113409 non-null  object \n",
            " 28  id_booking                      113409 non-null  int64  \n",
            "dtypes: float64(4), int64(14), object(11)\n",
            "memory usage: 25.1+ MB\n"
          ]
        }
      ],
      "source": [
        "tb_hotel.info()"
      ]
    },
    {
      "cell_type": "markdown",
      "source": [
        "## Outlier Removal"
      ],
      "metadata": {
        "id": "S9NJg-BWMnym"
      }
    },
    {
      "cell_type": "code",
      "source": [],
      "metadata": {
        "id": "e6LOjhmwMk7b"
      },
      "execution_count": null,
      "outputs": []
    },
    {
      "cell_type": "markdown",
      "source": [
        "## Treating NAs"
      ],
      "metadata": {
        "id": "bD_a2KWYMqlP"
      }
    },
    {
      "cell_type": "code",
      "source": [
        "from sklearn.impute import SimpleImputer\n"
      ],
      "metadata": {
        "id": "48j6MMAcMkvt"
      },
      "execution_count": null,
      "outputs": []
    },
    {
      "cell_type": "markdown",
      "source": [
        "## Scaling"
      ],
      "metadata": {
        "id": "clWzIr8WOLrM"
      }
    },
    {
      "cell_type": "code",
      "source": [
        "from sklearn.preprocessing import MinMaxScaler, StandardScaler, RobustScaler"
      ],
      "metadata": {
        "id": "D6OtsFnzOL7J"
      },
      "execution_count": null,
      "outputs": []
    },
    {
      "cell_type": "markdown",
      "source": [
        "## Categorical Encoding"
      ],
      "metadata": {
        "id": "xFoA6NMlMsq-"
      }
    },
    {
      "cell_type": "code",
      "source": [
        "from sklearn.preprocessing import OneHotEncoder, OrdinalEncoder"
      ],
      "metadata": {
        "id": "5iCrWs1qM3s8"
      },
      "execution_count": null,
      "outputs": []
    },
    {
      "cell_type": "markdown",
      "source": [
        "# Train/Test Sampling"
      ],
      "metadata": {
        "id": "-OWnT1GNM37Q"
      }
    },
    {
      "cell_type": "code",
      "source": [
        "from sklearn.model_selection import train_test_split"
      ],
      "metadata": {
        "id": "NwNsYpr6M71s"
      },
      "execution_count": null,
      "outputs": []
    }
  ],
  "metadata": {
    "kernelspec": {
      "display_name": "Python 3.9.11 ('base')",
      "language": "python",
      "name": "python3"
    },
    "language_info": {
      "codemirror_mode": {
        "name": "ipython",
        "version": 3
      },
      "file_extension": ".py",
      "mimetype": "text/x-python",
      "name": "python",
      "nbconvert_exporter": "python",
      "pygments_lexer": "ipython3",
      "version": "3.9.11"
    },
    "orig_nbformat": 4,
    "vscode": {
      "interpreter": {
        "hash": "014f4a4a5af8f0104b12c029e500f4146d6d785e8cf714d2a35b7a9514230cd3"
      }
    },
    "colab": {
      "provenance": []
    }
  },
  "nbformat": 4,
  "nbformat_minor": 0
}