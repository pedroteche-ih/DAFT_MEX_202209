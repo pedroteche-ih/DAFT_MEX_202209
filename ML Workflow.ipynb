{
  "cells": [
    {
      "cell_type": "markdown",
      "metadata": {
        "id": "4v9JAj-9K27q"
      },
      "source": [
        "# Machine Learning Workflow\n",
        "\n",
        "Today, we will be exploring the fundamental steps in the model building process. Before diving in machine learning algorithms we must learn the steps necessary for ensuring the algorithms we train will not suffer from data corruption problems (GiGo!) or overfitting. "
      ]
    },
    {
      "cell_type": "code",
      "execution_count": 15,
      "metadata": {
        "id": "L4NLwTzIK27s"
      },
      "outputs": [],
      "source": [
        "import numpy as np\n",
        "import scipy as sp\n",
        "import pandas as pd\n",
        "import matplotlib.pyplot as plt\n",
        "import seaborn as sns"
      ]
    },
    {
      "cell_type": "code",
      "execution_count": 9,
      "metadata": {
        "id": "lIaqtFeXK27t"
      },
      "outputs": [],
      "source": [
        "url = 'https://raw.githubusercontent.com/pedroteche-ih/DAFT_MEX_202209/main/data/tb_hotel_traintest.csv'\n",
        "tb_hotel = pd.read_csv(url)"
      ]
    },
    {
      "cell_type": "code",
      "execution_count": 12,
      "metadata": {
        "colab": {
          "base_uri": "https://localhost:8080/"
        },
        "id": "iwfnhiZnK27u",
        "outputId": "d1ead6de-5194-4bde-dcbd-a2778418084b"
      },
      "outputs": [
        {
          "output_type": "stream",
          "name": "stdout",
          "text": [
            "<class 'pandas.core.frame.DataFrame'>\n",
            "RangeIndex: 113409 entries, 0 to 113408\n",
            "Data columns (total 29 columns):\n",
            " #   Column                          Non-Null Count   Dtype  \n",
            "---  ------                          --------------   -----  \n",
            " 0   hotel                           113409 non-null  object \n",
            " 1   is_cancelled                    113409 non-null  int64  \n",
            " 2   lead_time                       113409 non-null  int64  \n",
            " 3   stays_in_weekend_nights         113409 non-null  int64  \n",
            " 4   stays_in_week_nights            113409 non-null  int64  \n",
            " 5   adults                          113409 non-null  int64  \n",
            " 6   children                        113406 non-null  float64\n",
            " 7   babies                          113409 non-null  int64  \n",
            " 8   meal                            113409 non-null  object \n",
            " 9   country                         112951 non-null  object \n",
            " 10  market_segment                  113409 non-null  object \n",
            " 11  distribution_channel            113409 non-null  object \n",
            " 12  is_repeated_guest               113409 non-null  int64  \n",
            " 13  previous_cancellations          113409 non-null  int64  \n",
            " 14  previous_bookings_not_canceled  113409 non-null  int64  \n",
            " 15  reserved_room_type              113409 non-null  object \n",
            " 16  assigned_room_type              113409 non-null  object \n",
            " 17  booking_changes                 113409 non-null  int64  \n",
            " 18  deposit_type                    113409 non-null  object \n",
            " 19  agent                           97918 non-null   float64\n",
            " 20  company                         6437 non-null    float64\n",
            " 21  days_in_waiting_list            113409 non-null  int64  \n",
            " 22  customer_type                   113409 non-null  object \n",
            " 23  adr                             113409 non-null  float64\n",
            " 24  required_car_parking_spaces     113409 non-null  int64  \n",
            " 25  total_of_special_requests       113409 non-null  int64  \n",
            " 26  reservation_status_date         113409 non-null  object \n",
            " 27  arrival_date                    113409 non-null  object \n",
            " 28  id_booking                      113409 non-null  int64  \n",
            "dtypes: float64(4), int64(14), object(11)\n",
            "memory usage: 25.1+ MB\n"
          ]
        }
      ],
      "source": [
        "tb_hotel.info()"
      ]
    },
    {
      "cell_type": "code",
      "source": [
        "tb_hotel.isna().sum()"
      ],
      "metadata": {
        "colab": {
          "base_uri": "https://localhost:8080/"
        },
        "id": "iJNhFeQEf2SN",
        "outputId": "6a0f3bd9-7e37-4f91-d63b-d9d31e394ede"
      },
      "execution_count": 13,
      "outputs": [
        {
          "output_type": "execute_result",
          "data": {
            "text/plain": [
              "hotel                                  0\n",
              "is_cancelled                           0\n",
              "lead_time                              0\n",
              "stays_in_weekend_nights                0\n",
              "stays_in_week_nights                   0\n",
              "adults                                 0\n",
              "children                               3\n",
              "babies                                 0\n",
              "meal                                   0\n",
              "country                              458\n",
              "market_segment                         0\n",
              "distribution_channel                   0\n",
              "is_repeated_guest                      0\n",
              "previous_cancellations                 0\n",
              "previous_bookings_not_canceled         0\n",
              "reserved_room_type                     0\n",
              "assigned_room_type                     0\n",
              "booking_changes                        0\n",
              "deposit_type                           0\n",
              "agent                              15491\n",
              "company                           106972\n",
              "days_in_waiting_list                   0\n",
              "customer_type                          0\n",
              "adr                                    0\n",
              "required_car_parking_spaces            0\n",
              "total_of_special_requests              0\n",
              "reservation_status_date                0\n",
              "arrival_date                           0\n",
              "id_booking                             0\n",
              "dtype: int64"
            ]
          },
          "metadata": {},
          "execution_count": 13
        }
      ]
    },
    {
      "cell_type": "code",
      "source": [
        "tb_hotel.describe()"
      ],
      "metadata": {
        "colab": {
          "base_uri": "https://localhost:8080/",
          "height": 364
        },
        "id": "udzi8MNTf9A4",
        "outputId": "e2cb5320-8022-4735-e809-bc1e87fdfd2f"
      },
      "execution_count": 14,
      "outputs": [
        {
          "output_type": "execute_result",
          "data": {
            "text/plain": [
              "        is_cancelled      lead_time  stays_in_weekend_nights  \\\n",
              "count  113409.000000  113409.000000            113409.000000   \n",
              "mean        0.370658     104.109074                 0.927907   \n",
              "std         0.482983     106.894825                 0.998723   \n",
              "min         0.000000       0.000000                 0.000000   \n",
              "25%         0.000000      18.000000                 0.000000   \n",
              "50%         0.000000      69.000000                 1.000000   \n",
              "75%         1.000000     161.000000                 2.000000   \n",
              "max         1.000000     737.000000                19.000000   \n",
              "\n",
              "       stays_in_week_nights         adults       children         babies  \\\n",
              "count         113409.000000  113409.000000  113406.000000  113409.000000   \n",
              "mean               2.500498       1.857304       0.104227       0.007980   \n",
              "std                1.906670       0.583753       0.398976       0.098027   \n",
              "min                0.000000       0.000000       0.000000       0.000000   \n",
              "25%                1.000000       2.000000       0.000000       0.000000   \n",
              "50%                2.000000       2.000000       0.000000       0.000000   \n",
              "75%                3.000000       2.000000       0.000000       0.000000   \n",
              "max               50.000000      55.000000      10.000000      10.000000   \n",
              "\n",
              "       is_repeated_guest  previous_cancellations  \\\n",
              "count      113409.000000           113409.000000   \n",
              "mean            0.031673                0.087101   \n",
              "std             0.175129                0.844538   \n",
              "min             0.000000                0.000000   \n",
              "25%             0.000000                0.000000   \n",
              "50%             0.000000                0.000000   \n",
              "75%             0.000000                0.000000   \n",
              "max             1.000000               26.000000   \n",
              "\n",
              "       previous_bookings_not_canceled  booking_changes         agent  \\\n",
              "count                   113409.000000    113409.000000  97918.000000   \n",
              "mean                         0.136330         0.220917     86.459476   \n",
              "std                          1.497662         0.649771    110.559811   \n",
              "min                          0.000000         0.000000      1.000000   \n",
              "25%                          0.000000         0.000000      9.000000   \n",
              "50%                          0.000000         0.000000     14.000000   \n",
              "75%                          0.000000         0.000000    229.000000   \n",
              "max                         72.000000        21.000000    535.000000   \n",
              "\n",
              "           company  days_in_waiting_list            adr  \\\n",
              "count  6437.000000         113409.000000  113409.000000   \n",
              "mean    189.195122              2.326200     101.882431   \n",
              "std     131.579937             17.613897      50.626711   \n",
              "min       6.000000              0.000000      -6.380000   \n",
              "25%      62.000000              0.000000      69.400000   \n",
              "50%     179.000000              0.000000      94.900000   \n",
              "75%     270.000000              0.000000     126.000000   \n",
              "max     543.000000            391.000000    5400.000000   \n",
              "\n",
              "       required_car_parking_spaces  total_of_special_requests     id_booking  \n",
              "count                113409.000000              113409.000000  113409.000000  \n",
              "mean                      0.062367                   0.571612   59714.795969  \n",
              "std                       0.245190                   0.792979   34464.577528  \n",
              "min                       0.000000                   0.000000       0.000000  \n",
              "25%                       0.000000                   0.000000   29879.000000  \n",
              "50%                       0.000000                   0.000000   59708.000000  \n",
              "75%                       0.000000                   1.000000   89584.000000  \n",
              "max                       8.000000                   5.000000  119389.000000  "
            ],
            "text/html": [
              "\n",
              "  <div id=\"df-a708b87b-6c6c-418e-8684-f87ca51eea77\">\n",
              "    <div class=\"colab-df-container\">\n",
              "      <div>\n",
              "<style scoped>\n",
              "    .dataframe tbody tr th:only-of-type {\n",
              "        vertical-align: middle;\n",
              "    }\n",
              "\n",
              "    .dataframe tbody tr th {\n",
              "        vertical-align: top;\n",
              "    }\n",
              "\n",
              "    .dataframe thead th {\n",
              "        text-align: right;\n",
              "    }\n",
              "</style>\n",
              "<table border=\"1\" class=\"dataframe\">\n",
              "  <thead>\n",
              "    <tr style=\"text-align: right;\">\n",
              "      <th></th>\n",
              "      <th>is_cancelled</th>\n",
              "      <th>lead_time</th>\n",
              "      <th>stays_in_weekend_nights</th>\n",
              "      <th>stays_in_week_nights</th>\n",
              "      <th>adults</th>\n",
              "      <th>children</th>\n",
              "      <th>babies</th>\n",
              "      <th>is_repeated_guest</th>\n",
              "      <th>previous_cancellations</th>\n",
              "      <th>previous_bookings_not_canceled</th>\n",
              "      <th>booking_changes</th>\n",
              "      <th>agent</th>\n",
              "      <th>company</th>\n",
              "      <th>days_in_waiting_list</th>\n",
              "      <th>adr</th>\n",
              "      <th>required_car_parking_spaces</th>\n",
              "      <th>total_of_special_requests</th>\n",
              "      <th>id_booking</th>\n",
              "    </tr>\n",
              "  </thead>\n",
              "  <tbody>\n",
              "    <tr>\n",
              "      <th>count</th>\n",
              "      <td>113409.000000</td>\n",
              "      <td>113409.000000</td>\n",
              "      <td>113409.000000</td>\n",
              "      <td>113409.000000</td>\n",
              "      <td>113409.000000</td>\n",
              "      <td>113406.000000</td>\n",
              "      <td>113409.000000</td>\n",
              "      <td>113409.000000</td>\n",
              "      <td>113409.000000</td>\n",
              "      <td>113409.000000</td>\n",
              "      <td>113409.000000</td>\n",
              "      <td>97918.000000</td>\n",
              "      <td>6437.000000</td>\n",
              "      <td>113409.000000</td>\n",
              "      <td>113409.000000</td>\n",
              "      <td>113409.000000</td>\n",
              "      <td>113409.000000</td>\n",
              "      <td>113409.000000</td>\n",
              "    </tr>\n",
              "    <tr>\n",
              "      <th>mean</th>\n",
              "      <td>0.370658</td>\n",
              "      <td>104.109074</td>\n",
              "      <td>0.927907</td>\n",
              "      <td>2.500498</td>\n",
              "      <td>1.857304</td>\n",
              "      <td>0.104227</td>\n",
              "      <td>0.007980</td>\n",
              "      <td>0.031673</td>\n",
              "      <td>0.087101</td>\n",
              "      <td>0.136330</td>\n",
              "      <td>0.220917</td>\n",
              "      <td>86.459476</td>\n",
              "      <td>189.195122</td>\n",
              "      <td>2.326200</td>\n",
              "      <td>101.882431</td>\n",
              "      <td>0.062367</td>\n",
              "      <td>0.571612</td>\n",
              "      <td>59714.795969</td>\n",
              "    </tr>\n",
              "    <tr>\n",
              "      <th>std</th>\n",
              "      <td>0.482983</td>\n",
              "      <td>106.894825</td>\n",
              "      <td>0.998723</td>\n",
              "      <td>1.906670</td>\n",
              "      <td>0.583753</td>\n",
              "      <td>0.398976</td>\n",
              "      <td>0.098027</td>\n",
              "      <td>0.175129</td>\n",
              "      <td>0.844538</td>\n",
              "      <td>1.497662</td>\n",
              "      <td>0.649771</td>\n",
              "      <td>110.559811</td>\n",
              "      <td>131.579937</td>\n",
              "      <td>17.613897</td>\n",
              "      <td>50.626711</td>\n",
              "      <td>0.245190</td>\n",
              "      <td>0.792979</td>\n",
              "      <td>34464.577528</td>\n",
              "    </tr>\n",
              "    <tr>\n",
              "      <th>min</th>\n",
              "      <td>0.000000</td>\n",
              "      <td>0.000000</td>\n",
              "      <td>0.000000</td>\n",
              "      <td>0.000000</td>\n",
              "      <td>0.000000</td>\n",
              "      <td>0.000000</td>\n",
              "      <td>0.000000</td>\n",
              "      <td>0.000000</td>\n",
              "      <td>0.000000</td>\n",
              "      <td>0.000000</td>\n",
              "      <td>0.000000</td>\n",
              "      <td>1.000000</td>\n",
              "      <td>6.000000</td>\n",
              "      <td>0.000000</td>\n",
              "      <td>-6.380000</td>\n",
              "      <td>0.000000</td>\n",
              "      <td>0.000000</td>\n",
              "      <td>0.000000</td>\n",
              "    </tr>\n",
              "    <tr>\n",
              "      <th>25%</th>\n",
              "      <td>0.000000</td>\n",
              "      <td>18.000000</td>\n",
              "      <td>0.000000</td>\n",
              "      <td>1.000000</td>\n",
              "      <td>2.000000</td>\n",
              "      <td>0.000000</td>\n",
              "      <td>0.000000</td>\n",
              "      <td>0.000000</td>\n",
              "      <td>0.000000</td>\n",
              "      <td>0.000000</td>\n",
              "      <td>0.000000</td>\n",
              "      <td>9.000000</td>\n",
              "      <td>62.000000</td>\n",
              "      <td>0.000000</td>\n",
              "      <td>69.400000</td>\n",
              "      <td>0.000000</td>\n",
              "      <td>0.000000</td>\n",
              "      <td>29879.000000</td>\n",
              "    </tr>\n",
              "    <tr>\n",
              "      <th>50%</th>\n",
              "      <td>0.000000</td>\n",
              "      <td>69.000000</td>\n",
              "      <td>1.000000</td>\n",
              "      <td>2.000000</td>\n",
              "      <td>2.000000</td>\n",
              "      <td>0.000000</td>\n",
              "      <td>0.000000</td>\n",
              "      <td>0.000000</td>\n",
              "      <td>0.000000</td>\n",
              "      <td>0.000000</td>\n",
              "      <td>0.000000</td>\n",
              "      <td>14.000000</td>\n",
              "      <td>179.000000</td>\n",
              "      <td>0.000000</td>\n",
              "      <td>94.900000</td>\n",
              "      <td>0.000000</td>\n",
              "      <td>0.000000</td>\n",
              "      <td>59708.000000</td>\n",
              "    </tr>\n",
              "    <tr>\n",
              "      <th>75%</th>\n",
              "      <td>1.000000</td>\n",
              "      <td>161.000000</td>\n",
              "      <td>2.000000</td>\n",
              "      <td>3.000000</td>\n",
              "      <td>2.000000</td>\n",
              "      <td>0.000000</td>\n",
              "      <td>0.000000</td>\n",
              "      <td>0.000000</td>\n",
              "      <td>0.000000</td>\n",
              "      <td>0.000000</td>\n",
              "      <td>0.000000</td>\n",
              "      <td>229.000000</td>\n",
              "      <td>270.000000</td>\n",
              "      <td>0.000000</td>\n",
              "      <td>126.000000</td>\n",
              "      <td>0.000000</td>\n",
              "      <td>1.000000</td>\n",
              "      <td>89584.000000</td>\n",
              "    </tr>\n",
              "    <tr>\n",
              "      <th>max</th>\n",
              "      <td>1.000000</td>\n",
              "      <td>737.000000</td>\n",
              "      <td>19.000000</td>\n",
              "      <td>50.000000</td>\n",
              "      <td>55.000000</td>\n",
              "      <td>10.000000</td>\n",
              "      <td>10.000000</td>\n",
              "      <td>1.000000</td>\n",
              "      <td>26.000000</td>\n",
              "      <td>72.000000</td>\n",
              "      <td>21.000000</td>\n",
              "      <td>535.000000</td>\n",
              "      <td>543.000000</td>\n",
              "      <td>391.000000</td>\n",
              "      <td>5400.000000</td>\n",
              "      <td>8.000000</td>\n",
              "      <td>5.000000</td>\n",
              "      <td>119389.000000</td>\n",
              "    </tr>\n",
              "  </tbody>\n",
              "</table>\n",
              "</div>\n",
              "      <button class=\"colab-df-convert\" onclick=\"convertToInteractive('df-a708b87b-6c6c-418e-8684-f87ca51eea77')\"\n",
              "              title=\"Convert this dataframe to an interactive table.\"\n",
              "              style=\"display:none;\">\n",
              "        \n",
              "  <svg xmlns=\"http://www.w3.org/2000/svg\" height=\"24px\"viewBox=\"0 0 24 24\"\n",
              "       width=\"24px\">\n",
              "    <path d=\"M0 0h24v24H0V0z\" fill=\"none\"/>\n",
              "    <path d=\"M18.56 5.44l.94 2.06.94-2.06 2.06-.94-2.06-.94-.94-2.06-.94 2.06-2.06.94zm-11 1L8.5 8.5l.94-2.06 2.06-.94-2.06-.94L8.5 2.5l-.94 2.06-2.06.94zm10 10l.94 2.06.94-2.06 2.06-.94-2.06-.94-.94-2.06-.94 2.06-2.06.94z\"/><path d=\"M17.41 7.96l-1.37-1.37c-.4-.4-.92-.59-1.43-.59-.52 0-1.04.2-1.43.59L10.3 9.45l-7.72 7.72c-.78.78-.78 2.05 0 2.83L4 21.41c.39.39.9.59 1.41.59.51 0 1.02-.2 1.41-.59l7.78-7.78 2.81-2.81c.8-.78.8-2.07 0-2.86zM5.41 20L4 18.59l7.72-7.72 1.47 1.35L5.41 20z\"/>\n",
              "  </svg>\n",
              "      </button>\n",
              "      \n",
              "  <style>\n",
              "    .colab-df-container {\n",
              "      display:flex;\n",
              "      flex-wrap:wrap;\n",
              "      gap: 12px;\n",
              "    }\n",
              "\n",
              "    .colab-df-convert {\n",
              "      background-color: #E8F0FE;\n",
              "      border: none;\n",
              "      border-radius: 50%;\n",
              "      cursor: pointer;\n",
              "      display: none;\n",
              "      fill: #1967D2;\n",
              "      height: 32px;\n",
              "      padding: 0 0 0 0;\n",
              "      width: 32px;\n",
              "    }\n",
              "\n",
              "    .colab-df-convert:hover {\n",
              "      background-color: #E2EBFA;\n",
              "      box-shadow: 0px 1px 2px rgba(60, 64, 67, 0.3), 0px 1px 3px 1px rgba(60, 64, 67, 0.15);\n",
              "      fill: #174EA6;\n",
              "    }\n",
              "\n",
              "    [theme=dark] .colab-df-convert {\n",
              "      background-color: #3B4455;\n",
              "      fill: #D2E3FC;\n",
              "    }\n",
              "\n",
              "    [theme=dark] .colab-df-convert:hover {\n",
              "      background-color: #434B5C;\n",
              "      box-shadow: 0px 1px 3px 1px rgba(0, 0, 0, 0.15);\n",
              "      filter: drop-shadow(0px 1px 2px rgba(0, 0, 0, 0.3));\n",
              "      fill: #FFFFFF;\n",
              "    }\n",
              "  </style>\n",
              "\n",
              "      <script>\n",
              "        const buttonEl =\n",
              "          document.querySelector('#df-a708b87b-6c6c-418e-8684-f87ca51eea77 button.colab-df-convert');\n",
              "        buttonEl.style.display =\n",
              "          google.colab.kernel.accessAllowed ? 'block' : 'none';\n",
              "\n",
              "        async function convertToInteractive(key) {\n",
              "          const element = document.querySelector('#df-a708b87b-6c6c-418e-8684-f87ca51eea77');\n",
              "          const dataTable =\n",
              "            await google.colab.kernel.invokeFunction('convertToInteractive',\n",
              "                                                     [key], {});\n",
              "          if (!dataTable) return;\n",
              "\n",
              "          const docLinkHtml = 'Like what you see? Visit the ' +\n",
              "            '<a target=\"_blank\" href=https://colab.research.google.com/notebooks/data_table.ipynb>data table notebook</a>'\n",
              "            + ' to learn more about interactive tables.';\n",
              "          element.innerHTML = '';\n",
              "          dataTable['output_type'] = 'display_data';\n",
              "          await google.colab.output.renderOutput(dataTable, element);\n",
              "          const docLink = document.createElement('div');\n",
              "          docLink.innerHTML = docLinkHtml;\n",
              "          element.appendChild(docLink);\n",
              "        }\n",
              "      </script>\n",
              "    </div>\n",
              "  </div>\n",
              "  "
            ]
          },
          "metadata": {},
          "execution_count": 14
        }
      ]
    },
    {
      "cell_type": "markdown",
      "source": [
        "## Outlier Removal"
      ],
      "metadata": {
        "id": "S9NJg-BWMnym"
      }
    },
    {
      "cell_type": "code",
      "source": [
        "sns.boxplot(data = tb_hotel, x = 'lead_time')"
      ],
      "metadata": {
        "colab": {
          "base_uri": "https://localhost:8080/",
          "height": 318
        },
        "id": "e6LOjhmwMk7b",
        "outputId": "72b8b19e-2577-4bc9-b160-f16e95fb2cf2"
      },
      "execution_count": 16,
      "outputs": [
        {
          "output_type": "execute_result",
          "data": {
            "text/plain": [
              "<matplotlib.axes._subplots.AxesSubplot at 0x7f2697b4e510>"
            ]
          },
          "metadata": {},
          "execution_count": 16
        },
        {
          "output_type": "display_data",
          "data": {
            "text/plain": [
              "<Figure size 432x288 with 1 Axes>"
            ],
            "image/png": "[encoded data removed]"
          },
          "metadata": {
            "needs_background": "light"
          }
        }
      ]
    },
    {
      "cell_type": "markdown",
      "source": [
        "### Mean & Std. Dev.\n",
        "\n",
        "Mean - 1 Std. Dev. < 68% < Mean + 1 Std. Dev.\n",
        "\n",
        "Mean - 2 Std. Dev. < 95% < Mean + 2 Std. Dev.\n",
        "\n",
        "Mean - 3 Std. Dev. < 99% < Mean + 3 Std. Dev.\n"
      ],
      "metadata": {
        "id": "9we80OCEgdO9"
      }
    },
    {
      "cell_type": "code",
      "source": [
        "tb_hotel['lead_time'].mean()"
      ],
      "metadata": {
        "colab": {
          "base_uri": "https://localhost:8080/"
        },
        "id": "wL0ROm_Sgbhy",
        "outputId": "3e7a0ea0-fb33-4631-8b72-05572a84005c"
      },
      "execution_count": 17,
      "outputs": [
        {
          "output_type": "execute_result",
          "data": {
            "text/plain": [
              "104.10907423573084"
            ]
          },
          "metadata": {},
          "execution_count": 17
        }
      ]
    },
    {
      "cell_type": "code",
      "source": [
        "tb_hotel['lead_time'].std()"
      ],
      "metadata": {
        "colab": {
          "base_uri": "https://localhost:8080/"
        },
        "id": "VpPuYOr1gjIZ",
        "outputId": "01aec488-45d7-4c29-92ea-36763528aefc"
      },
      "execution_count": 19,
      "outputs": [
        {
          "output_type": "execute_result",
          "data": {
            "text/plain": [
              "106.89482537726188"
            ]
          },
          "metadata": {},
          "execution_count": 19
        }
      ]
    },
    {
      "cell_type": "code",
      "source": [
        "sns.histplot(data = tb_hotel, x = 'lead_time')"
      ],
      "metadata": {
        "colab": {
          "base_uri": "https://localhost:8080/",
          "height": 318
        },
        "id": "xQN7F65ThQV_",
        "outputId": "a8cd9acc-1f95-4ff5-e405-2d0987162e97"
      },
      "execution_count": 21,
      "outputs": [
        {
          "output_type": "execute_result",
          "data": {
            "text/plain": [
              "<matplotlib.axes._subplots.AxesSubplot at 0x7f26973d3190>"
            ]
          },
          "metadata": {},
          "execution_count": 21
        },
        {
          "output_type": "display_data",
          "data": {
            "text/plain": [
              "<Figure size 432x288 with 1 Axes>"
            ],
            "image/png": "[encoded data removed]"
          },
          "metadata": {
            "needs_background": "light"
          }
        }
      ]
    },
    {
      "cell_type": "code",
      "source": [
        "mu = tb_hotel['lead_time'].mean()\n",
        "sd = tb_hotel['lead_time'].std()\n",
        "(tb_hotel['lead_time'] < (mu - 3*sd)) | (tb_hotel['lead_time'] > (mu + 3*sd))"
      ],
      "metadata": {
        "colab": {
          "base_uri": "https://localhost:8080/"
        },
        "id": "mTxGW1-Ih81X",
        "outputId": "e5379723-3cb2-47f5-ecfa-d02bccd2816e"
      },
      "execution_count": 24,
      "outputs": [
        {
          "output_type": "execute_result",
          "data": {
            "text/plain": [
              "0         False\n",
              "1          True\n",
              "2         False\n",
              "3         False\n",
              "4         False\n",
              "          ...  \n",
              "113404    False\n",
              "113405    False\n",
              "113406    False\n",
              "113407    False\n",
              "113408    False\n",
              "Name: lead_time, Length: 113409, dtype: bool"
            ]
          },
          "metadata": {},
          "execution_count": 24
        }
      ]
    },
    {
      "cell_type": "code",
      "source": [
        "mask = (tb_hotel['lead_time'] < (mu - 3*sd)) | (tb_hotel['lead_time'] > (mu + 3*sd))\n",
        "tb_hotel['3_sigma_outlier'] = mask"
      ],
      "metadata": {
        "id": "W7S72wE7hlYZ"
      },
      "execution_count": 25,
      "outputs": []
    },
    {
      "cell_type": "code",
      "source": [
        "False + True + True"
      ],
      "metadata": {
        "colab": {
          "base_uri": "https://localhost:8080/"
        },
        "id": "n04ck1WyicQX",
        "outputId": "9bb5b875-094d-4f20-bf46-6ce3253b6e61"
      },
      "execution_count": 29,
      "outputs": [
        {
          "output_type": "execute_result",
          "data": {
            "text/plain": [
              "2"
            ]
          },
          "metadata": {},
          "execution_count": 29
        }
      ]
    },
    {
      "cell_type": "code",
      "source": [
        "tb_hotel['3_sigma_outlier'].sum()"
      ],
      "metadata": {
        "colab": {
          "base_uri": "https://localhost:8080/"
        },
        "id": "FSXwq6_piQiA",
        "outputId": "a9e92278-87fb-40b3-acb1-a2e9faab7a82"
      },
      "execution_count": 27,
      "outputs": [
        {
          "output_type": "execute_result",
          "data": {
            "text/plain": [
              "1390"
            ]
          },
          "metadata": {},
          "execution_count": 27
        }
      ]
    },
    {
      "cell_type": "code",
      "source": [
        "sns.boxplot(data = tb_hotel, y = 'lead_time', x = '3_sigma_outlier')"
      ],
      "metadata": {
        "colab": {
          "base_uri": "https://localhost:8080/",
          "height": 318
        },
        "id": "OP5tzz6einGX",
        "outputId": "e7e475f3-d5e2-417e-f7e8-800c907b6a6b"
      },
      "execution_count": 32,
      "outputs": [
        {
          "output_type": "execute_result",
          "data": {
            "text/plain": [
              "<matplotlib.axes._subplots.AxesSubplot at 0x7f2695036890>"
            ]
          },
          "metadata": {},
          "execution_count": 32
        },
        {
          "output_type": "display_data",
          "data": {
            "text/plain": [
              "<Figure size 432x288 with 1 Axes>"
            ],
            "image/png": "[encoded data removed]"
          },
          "metadata": {
            "needs_background": "light"
          }
        }
      ]
    },
    {
      "cell_type": "markdown",
      "source": [
        "### Chebyshev Inequality\n",
        "\n",
        "mu - 3 * sig < 88% < mu + 3 * sig\n",
        "\n",
        "mu - 5 * sig < 96% < mu + 5 * sig"
      ],
      "metadata": {
        "id": "GIJUNBfxhiz_"
      }
    },
    {
      "cell_type": "code",
      "source": [
        "mask = (tb_hotel['lead_time'] < (mu - 5*sd)) | (tb_hotel['lead_time'] > (mu + 5*sd))\n",
        "tb_hotel['cheby_outlier'] = mask"
      ],
      "metadata": {
        "id": "Ga9cP4UchiEn"
      },
      "execution_count": 33,
      "outputs": []
    },
    {
      "cell_type": "code",
      "source": [
        "tb_hotel['cheby_outlier'].sum()"
      ],
      "metadata": {
        "colab": {
          "base_uri": "https://localhost:8080/"
        },
        "id": "sf7VuNcbj7PF",
        "outputId": "ffd07a10-3b4e-406e-93b1-257a6b2201ad"
      },
      "execution_count": 35,
      "outputs": [
        {
          "output_type": "execute_result",
          "data": {
            "text/plain": [
              "2"
            ]
          },
          "metadata": {},
          "execution_count": 35
        }
      ]
    },
    {
      "cell_type": "code",
      "source": [
        "sns.boxplot(data = tb_hotel, y = 'lead_time', x = 'cheby_outlier')"
      ],
      "metadata": {
        "colab": {
          "base_uri": "https://localhost:8080/",
          "height": 318
        },
        "id": "X9NJlaW4j0m8",
        "outputId": "12a82ce4-909a-4ff8-a2b8-8865c8a8717e"
      },
      "execution_count": 34,
      "outputs": [
        {
          "output_type": "execute_result",
          "data": {
            "text/plain": [
              "<matplotlib.axes._subplots.AxesSubplot at 0x7f2694f53210>"
            ]
          },
          "metadata": {},
          "execution_count": 34
        },
        {
          "output_type": "display_data",
          "data": {
            "text/plain": [
              "<Figure size 432x288 with 1 Axes>"
            ],
            "image/png": "[encoded data removed]"
          },
          "metadata": {
            "needs_background": "light"
          }
        }
      ]
    },
    {
      "cell_type": "code",
      "source": [
        "sns.boxplot(data = tb_hotel, y = 'lead_time')"
      ],
      "metadata": {
        "colab": {
          "base_uri": "https://localhost:8080/",
          "height": 290
        },
        "id": "i61JQB9Gj_NV",
        "outputId": "cdc046de-705a-4f8d-f96b-a8dc3cefe3b9"
      },
      "execution_count": 36,
      "outputs": [
        {
          "output_type": "execute_result",
          "data": {
            "text/plain": [
              "<matplotlib.axes._subplots.AxesSubplot at 0x7f2694ece890>"
            ]
          },
          "metadata": {},
          "execution_count": 36
        },
        {
          "output_type": "display_data",
          "data": {
            "text/plain": [
              "<Figure size 432x288 with 1 Axes>"
            ],
            "image/png": "[encoded data removed]"
          },
          "metadata": {
            "needs_background": "light"
          }
        }
      ]
    },
    {
      "cell_type": "markdown",
      "source": [
        "### IQR Range\n",
        "\n",
        "q1 - 3 * IQR < Good Data < q3 + 3 * IQR"
      ],
      "metadata": {
        "id": "notg-lXdkT2T"
      }
    },
    {
      "cell_type": "code",
      "source": [
        "q25 = np.quantile(tb_hotel['lead_time'], 0.25)\n",
        "q75 = np.quantile(tb_hotel['lead_time'], 0.75)"
      ],
      "metadata": {
        "id": "cE_ejR71kSjy"
      },
      "execution_count": 38,
      "outputs": []
    },
    {
      "cell_type": "code",
      "source": [
        "IQR = q75 - q25\n",
        "print(IQR)"
      ],
      "metadata": {
        "colab": {
          "base_uri": "https://localhost:8080/"
        },
        "id": "vYBmt12xkdAL",
        "outputId": "87906f9c-0a77-4de7-98df-a4a5e8fca9d4"
      },
      "execution_count": 39,
      "outputs": [
        {
          "output_type": "stream",
          "name": "stdout",
          "text": [
            "143.0\n"
          ]
        }
      ]
    },
    {
      "cell_type": "code",
      "source": [
        "mask = (tb_hotel['lead_time'] > (q75 + 3 * IQR)) | (tb_hotel['lead_time'] < (q25 - 3 * IQR))\n",
        "tb_hotel['iqr_outlier'] = mask\n",
        "sns.boxplot(data = tb_hotel, y = 'lead_time', x = 'iqr_outlier')"
      ],
      "metadata": {
        "colab": {
          "base_uri": "https://localhost:8080/",
          "height": 318
        },
        "id": "pfvF6mOlko2L",
        "outputId": "a0b1612a-65f2-4d8e-d725-748251870e95"
      },
      "execution_count": 40,
      "outputs": [
        {
          "output_type": "execute_result",
          "data": {
            "text/plain": [
              "<matplotlib.axes._subplots.AxesSubplot at 0x7f2694cfc5d0>"
            ]
          },
          "metadata": {},
          "execution_count": 40
        },
        {
          "output_type": "display_data",
          "data": {
            "text/plain": [
              "<Figure size 432x288 with 1 Axes>"
            ],
            "image/png": "[encoded data removed]"
          },
          "metadata": {
            "needs_background": "light"
          }
        }
      ]
    },
    {
      "cell_type": "code",
      "source": [
        "fig, ax = plt.subplots(1, 3, figsize = (15, 5))\n",
        "\n",
        "sns.boxplot(data = tb_hotel, y = 'lead_time', x = '3_sigma_outlier', ax = ax[0])\n",
        "sns.boxplot(data = tb_hotel, y = 'lead_time', x = 'cheby_outlier', ax = ax[2])\n",
        "sns.boxplot(data = tb_hotel, y = 'lead_time', x = 'iqr_outlier', ax = ax[1])"
      ],
      "metadata": {
        "colab": {
          "base_uri": "https://localhost:8080/",
          "height": 354
        },
        "id": "sj3HQ2CBle1l",
        "outputId": "1cbb564a-aa93-4c2f-ae93-f38553698cb0"
      },
      "execution_count": 46,
      "outputs": [
        {
          "output_type": "execute_result",
          "data": {
            "text/plain": [
              "<matplotlib.axes._subplots.AxesSubplot at 0x7f2694604290>"
            ]
          },
          "metadata": {},
          "execution_count": 46
        },
        {
          "output_type": "display_data",
          "data": {
            "text/plain": [
              "<Figure size 1080x360 with 3 Axes>"
            ],
            "image/png": "[encoded data removed]"
          },
          "metadata": {
            "needs_background": "light"
          }
        }
      ]
    },
    {
      "cell_type": "markdown",
      "source": [
        "## Treating NAs"
      ],
      "metadata": {
        "id": "bD_a2KWYMqlP"
      }
    },
    {
      "cell_type": "code",
      "source": [
        "from sklearn.impute import SimpleImputer\n"
      ],
      "metadata": {
        "id": "48j6MMAcMkvt"
      },
      "execution_count": 60,
      "outputs": []
    },
    {
      "cell_type": "code",
      "source": [
        "tb_hotel.isna().sum()"
      ],
      "metadata": {
        "colab": {
          "base_uri": "https://localhost:8080/"
        },
        "id": "fpGGBKSHntGi",
        "outputId": "ef03fc39-be24-48a9-967a-3f525c237b6e"
      },
      "execution_count": 47,
      "outputs": [
        {
          "output_type": "execute_result",
          "data": {
            "text/plain": [
              "hotel                                  0\n",
              "is_cancelled                           0\n",
              "lead_time                              0\n",
              "stays_in_weekend_nights                0\n",
              "stays_in_week_nights                   0\n",
              "adults                                 0\n",
              "children                               3\n",
              "babies                                 0\n",
              "meal                                   0\n",
              "country                              458\n",
              "market_segment                         0\n",
              "distribution_channel                   0\n",
              "is_repeated_guest                      0\n",
              "previous_cancellations                 0\n",
              "previous_bookings_not_canceled         0\n",
              "reserved_room_type                     0\n",
              "assigned_room_type                     0\n",
              "booking_changes                        0\n",
              "deposit_type                           0\n",
              "agent                              15491\n",
              "company                           106972\n",
              "days_in_waiting_list                   0\n",
              "customer_type                          0\n",
              "adr                                    0\n",
              "required_car_parking_spaces            0\n",
              "total_of_special_requests              0\n",
              "reservation_status_date                0\n",
              "arrival_date                           0\n",
              "id_booking                             0\n",
              "3_sigma_outlier                        0\n",
              "cheby_outlier                          0\n",
              "iqr_outlier                            0\n",
              "dtype: int64"
            ]
          },
          "metadata": {},
          "execution_count": 47
        }
      ]
    },
    {
      "cell_type": "code",
      "source": [
        "tb_hotel['is_company'] = np.where(tb_hotel['company'].isna(), 0, 1)"
      ],
      "metadata": {
        "id": "5xwSxYluohzn"
      },
      "execution_count": 52,
      "outputs": []
    },
    {
      "cell_type": "code",
      "source": [
        "tb_hotel['is_company'].describe()"
      ],
      "metadata": {
        "colab": {
          "base_uri": "https://localhost:8080/"
        },
        "id": "6pm-BVaEpDv9",
        "outputId": "dfdce81c-ef91-42ac-b08c-c2bb5db578b5"
      },
      "execution_count": 53,
      "outputs": [
        {
          "output_type": "execute_result",
          "data": {
            "text/plain": [
              "count    113409.000000\n",
              "mean          0.056759\n",
              "std           0.231383\n",
              "min           0.000000\n",
              "25%           0.000000\n",
              "50%           0.000000\n",
              "75%           0.000000\n",
              "max           1.000000\n",
              "Name: is_company, dtype: float64"
            ]
          },
          "metadata": {},
          "execution_count": 53
        }
      ]
    },
    {
      "cell_type": "code",
      "source": [
        "tb_hotel['is_agent'] = np.where(tb_hotel['agent'].isna(), 0, 1)"
      ],
      "metadata": {
        "id": "UrvVSGj2pUaB"
      },
      "execution_count": 54,
      "outputs": []
    },
    {
      "cell_type": "code",
      "source": [
        "tb_hotel = tb_hotel.drop(['company', 'agent'], axis = 1)"
      ],
      "metadata": {
        "id": "4RL0di_epg8d"
      },
      "execution_count": 55,
      "outputs": []
    },
    {
      "cell_type": "code",
      "source": [
        "tb_hotel = tb_hotel.dropna( subset = ['country'], axis = 0)"
      ],
      "metadata": {
        "id": "wnXco-pLpxQa"
      },
      "execution_count": 57,
      "outputs": []
    },
    {
      "cell_type": "code",
      "source": [
        "tb_hotel.isna().sum()"
      ],
      "metadata": {
        "colab": {
          "base_uri": "https://localhost:8080/"
        },
        "id": "615BdiDLp-nR",
        "outputId": "a2d1b6de-1118-4d8b-9ac4-8de3dd896a8d"
      },
      "execution_count": 58,
      "outputs": [
        {
          "output_type": "execute_result",
          "data": {
            "text/plain": [
              "hotel                             0\n",
              "is_cancelled                      0\n",
              "lead_time                         0\n",
              "stays_in_weekend_nights           0\n",
              "stays_in_week_nights              0\n",
              "adults                            0\n",
              "children                          3\n",
              "babies                            0\n",
              "meal                              0\n",
              "country                           0\n",
              "market_segment                    0\n",
              "distribution_channel              0\n",
              "is_repeated_guest                 0\n",
              "previous_cancellations            0\n",
              "previous_bookings_not_canceled    0\n",
              "reserved_room_type                0\n",
              "assigned_room_type                0\n",
              "booking_changes                   0\n",
              "deposit_type                      0\n",
              "days_in_waiting_list              0\n",
              "customer_type                     0\n",
              "adr                               0\n",
              "required_car_parking_spaces       0\n",
              "total_of_special_requests         0\n",
              "reservation_status_date           0\n",
              "arrival_date                      0\n",
              "id_booking                        0\n",
              "3_sigma_outlier                   0\n",
              "cheby_outlier                     0\n",
              "iqr_outlier                       0\n",
              "is_company                        0\n",
              "is_agent                          0\n",
              "dtype: int64"
            ]
          },
          "metadata": {},
          "execution_count": 58
        }
      ]
    },
    {
      "cell_type": "code",
      "source": [
        "tb_hotel['children'].describe()"
      ],
      "metadata": {
        "colab": {
          "base_uri": "https://localhost:8080/"
        },
        "id": "RVrUKJbiqPnM",
        "outputId": "46bc64ee-ea39-4856-98c8-37b21f7980ab"
      },
      "execution_count": 59,
      "outputs": [
        {
          "output_type": "execute_result",
          "data": {
            "text/plain": [
              "count    112948.000000\n",
              "mean          0.104544\n",
              "std           0.399580\n",
              "min           0.000000\n",
              "25%           0.000000\n",
              "50%           0.000000\n",
              "75%           0.000000\n",
              "max          10.000000\n",
              "Name: children, dtype: float64"
            ]
          },
          "metadata": {},
          "execution_count": 59
        }
      ]
    },
    {
      "cell_type": "code",
      "source": [
        "children_imputer = SimpleImputer(strategy = 'median')\n",
        "children_imputer.fit(tb_hotel[['children']])"
      ],
      "metadata": {
        "colab": {
          "base_uri": "https://localhost:8080/"
        },
        "id": "zCv7JiTEqjEI",
        "outputId": "cc870de0-0e3e-4da9-f79f-1af8a85490eb"
      },
      "execution_count": 62,
      "outputs": [
        {
          "output_type": "execute_result",
          "data": {
            "text/plain": [
              "SimpleImputer()"
            ]
          },
          "metadata": {},
          "execution_count": 62
        }
      ]
    },
    {
      "cell_type": "code",
      "source": [
        "children_imputer.transform(tb_hotel[['children']])"
      ],
      "metadata": {
        "colab": {
          "base_uri": "https://localhost:8080/"
        },
        "id": "SxkKkxFjqzix",
        "outputId": "2bd85d10-03c1-4bcc-9be5-7cca3c2b6009"
      },
      "execution_count": 65,
      "outputs": [
        {
          "output_type": "execute_result",
          "data": {
            "text/plain": [
              "array([[0.],\n",
              "       [0.],\n",
              "       [0.],\n",
              "       ...,\n",
              "       [0.],\n",
              "       [0.],\n",
              "       [0.]])"
            ]
          },
          "metadata": {},
          "execution_count": 65
        }
      ]
    },
    {
      "cell_type": "code",
      "source": [
        "tb_hotel['children'] = tb_hotel['children'].fillna(0)"
      ],
      "metadata": {
        "id": "BjonvsOKsTOc"
      },
      "execution_count": 66,
      "outputs": []
    },
    {
      "cell_type": "code",
      "source": [
        "tb_hotel.isna().sum()"
      ],
      "metadata": {
        "colab": {
          "base_uri": "https://localhost:8080/"
        },
        "id": "rLIEz6MishLi",
        "outputId": "245da63f-8ea3-4cd9-befc-74acad5f4744"
      },
      "execution_count": 67,
      "outputs": [
        {
          "output_type": "execute_result",
          "data": {
            "text/plain": [
              "hotel                             0\n",
              "is_cancelled                      0\n",
              "lead_time                         0\n",
              "stays_in_weekend_nights           0\n",
              "stays_in_week_nights              0\n",
              "adults                            0\n",
              "children                          0\n",
              "babies                            0\n",
              "meal                              0\n",
              "country                           0\n",
              "market_segment                    0\n",
              "distribution_channel              0\n",
              "is_repeated_guest                 0\n",
              "previous_cancellations            0\n",
              "previous_bookings_not_canceled    0\n",
              "reserved_room_type                0\n",
              "assigned_room_type                0\n",
              "booking_changes                   0\n",
              "deposit_type                      0\n",
              "days_in_waiting_list              0\n",
              "customer_type                     0\n",
              "adr                               0\n",
              "required_car_parking_spaces       0\n",
              "total_of_special_requests         0\n",
              "reservation_status_date           0\n",
              "arrival_date                      0\n",
              "id_booking                        0\n",
              "3_sigma_outlier                   0\n",
              "cheby_outlier                     0\n",
              "iqr_outlier                       0\n",
              "is_company                        0\n",
              "is_agent                          0\n",
              "dtype: int64"
            ]
          },
          "metadata": {},
          "execution_count": 67
        }
      ]
    },
    {
      "cell_type": "markdown",
      "source": [
        "## Scaling\n",
        "\n",
        "https://scikit-learn.org/stable/auto_examples/preprocessing/plot_all_scaling.html"
      ],
      "metadata": {
        "id": "clWzIr8WOLrM"
      }
    },
    {
      "cell_type": "code",
      "source": [
        "from sklearn.preprocessing import MinMaxScaler, StandardScaler, RobustScaler"
      ],
      "metadata": {
        "id": "D6OtsFnzOL7J"
      },
      "execution_count": 68,
      "outputs": []
    },
    {
      "cell_type": "code",
      "source": [
        "tb_hotel['std_lead_time'] = (tb_hotel['lead_time'] - tb_hotel['lead_time'].mean())/tb_hotel['lead_time'].std()\n",
        "tb_hotel['std_adults'] = (tb_hotel['adults'] - tb_hotel['adults'].mean())/tb_hotel['adults'].std()\n",
        "tb_hotel['std_adr'] = (tb_hotel['adr'] - tb_hotel['adr'].mean())/tb_hotel['adr'].std()"
      ],
      "metadata": {
        "id": "SQyOjiu2swr_"
      },
      "execution_count": 84,
      "outputs": []
    },
    {
      "cell_type": "code",
      "source": [
        "fig, ax = plt.subplots(1, 2, figsize = (10, 5))\n",
        "sns.boxplot(data = tb_hotel, y = 'std_lead_time', ax= ax[0])\n",
        "sns.boxplot(data = tb_hotel, y = 'std_adults', ax= ax[1])"
      ],
      "metadata": {
        "colab": {
          "base_uri": "https://localhost:8080/",
          "height": 344
        },
        "id": "KBaoE_hxtjXt",
        "outputId": "979071c5-7b31-485a-c6e3-9e87dde5bc5a"
      },
      "execution_count": 92,
      "outputs": [
        {
          "output_type": "execute_result",
          "data": {
            "text/plain": [
              "<matplotlib.axes._subplots.AxesSubplot at 0x7f2693918350>"
            ]
          },
          "metadata": {},
          "execution_count": 92
        },
        {
          "output_type": "display_data",
          "data": {
            "text/plain": [
              "<Figure size 720x360 with 2 Axes>"
            ],
            "image/png": "[encoded data removed]"
          },
          "metadata": {
            "needs_background": "light"
          }
        }
      ]
    },
    {
      "cell_type": "code",
      "source": [
        "lt_std_scaler = StandardScaler()\n",
        "tb_hotel['std_lead_time'] = lt_std_scaler.fit_transform(tb_hotel[['lead_time']])"
      ],
      "metadata": {
        "id": "srT1YV1bxSOF"
      },
      "execution_count": 95,
      "outputs": []
    },
    {
      "cell_type": "code",
      "source": [
        "lt_rob_scaler = RobustScaler()\n",
        "tb_hotel['rob_lead_time'] = lt_rob_scaler.fit_transform(tb_hotel[['lead_time']])"
      ],
      "metadata": {
        "id": "W23GwcXyvgh4"
      },
      "execution_count": 96,
      "outputs": []
    },
    {
      "cell_type": "code",
      "source": [
        "fig, ax = plt.subplots(1, 2, figsize = (10, 5))\n",
        "sns.boxplot(data = tb_hotel, y = 'std_lead_time', ax= ax[0])\n",
        "sns.boxplot(data = tb_hotel, y = 'rob_lead_time', ax= ax[1])"
      ],
      "metadata": {
        "colab": {
          "base_uri": "https://localhost:8080/",
          "height": 344
        },
        "id": "P85e8jAxxuuP",
        "outputId": "5944a9fe-889b-4dac-8d0e-bc56d0fd6563"
      },
      "execution_count": 97,
      "outputs": [
        {
          "output_type": "execute_result",
          "data": {
            "text/plain": [
              "<matplotlib.axes._subplots.AxesSubplot at 0x7f269399d790>"
            ]
          },
          "metadata": {},
          "execution_count": 97
        },
        {
          "output_type": "display_data",
          "data": {
            "text/plain": [
              "<Figure size 720x360 with 2 Axes>"
            ],
            "image/png": "[encoded data removed]"
          },
          "metadata": {
            "needs_background": "light"
          }
        }
      ]
    },
    {
      "cell_type": "markdown",
      "source": [
        "## Categorical Encoding"
      ],
      "metadata": {
        "id": "xFoA6NMlMsq-"
      }
    },
    {
      "cell_type": "code",
      "source": [
        "from sklearn.preprocessing import OneHotEncoder, OrdinalEncoder"
      ],
      "metadata": {
        "id": "5iCrWs1qM3s8"
      },
      "execution_count": 98,
      "outputs": []
    },
    {
      "cell_type": "code",
      "source": [],
      "metadata": {
        "id": "g7anzJrUyStK"
      },
      "execution_count": null,
      "outputs": []
    },
    {
      "cell_type": "markdown",
      "source": [
        "# Train/Test Sampling"
      ],
      "metadata": {
        "id": "-OWnT1GNM37Q"
      }
    },
    {
      "cell_type": "code",
      "source": [
        "from sklearn.model_selection import train_test_split"
      ],
      "metadata": {
        "id": "NwNsYpr6M71s"
      },
      "execution_count": null,
      "outputs": []
    }
  ],
  "metadata": {
    "kernelspec": {
      "display_name": "Python 3.9.11 ('base')",
      "language": "python",
      "name": "python3"
    },
    "language_info": {
      "codemirror_mode": {
        "name": "ipython",
        "version": 3
      },
      "file_extension": ".py",
      "mimetype": "text/x-python",
      "name": "python",
      "nbconvert_exporter": "python",
      "pygments_lexer": "ipython3",
      "version": "3.9.11"
    },
    "orig_nbformat": 4,
    "vscode": {
      "interpreter": {
        "hash": "014f4a4a5af8f0104b12c029e500f4146d6d785e8cf714d2a35b7a9514230cd3"
      }
    },
    "colab": {
      "provenance": []
    }
  },
  "nbformat": 4,
  "nbformat_minor": 0
}