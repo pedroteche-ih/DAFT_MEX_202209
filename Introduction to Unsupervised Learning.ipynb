{
 "cells": [
  {
   "cell_type": "code",
   "execution_count": null,
   "metadata": {},
   "outputs": [],
   "source": [
    "import pandas as pd\n",
    "import numpy as np\n",
    "import seaborn as sns\n",
    "from matplotlib import pyplot as plt\n",
    "\n",
    "from sklearn.decomposition import PCA\n",
    "from sklearn.preprocessing import StandardScaler\n",
    "\n",
    "sns.set_theme(context=\"notebook\", style=\"darkgrid\")\n"
   ]
  },
  {
   "cell_type": "markdown",
   "metadata": {},
   "source": [
    "# Introduction to Unsupervised Learning\n",
    "\n",
    "## The KMeans Algorithm"
   ]
  },
  {
   "cell_type": "code",
   "execution_count": null,
   "metadata": {},
   "outputs": [],
   "source": [
    "from sklearn.datasets import make_blobs\n",
    "\n",
    "X, y_true = make_blobs(n_samples=300, centers=4, cluster_std=0.6, random_state=0)\n",
    "\n",
    "tb_blob = pd.DataFrame(X)\n",
    "tb_blob.columns = [\"X1\", \"X2\"]\n",
    "sns.scatterplot(data=tb_blob, x=\"X1\", y=\"X2\")\n"
   ]
  },
  {
   "cell_type": "markdown",
   "metadata": {},
   "source": [
    "### Creating Initial Positions"
   ]
  },
  {
   "cell_type": "code",
   "execution_count": null,
   "metadata": {},
   "outputs": [],
   "source": [
    "p1 = (np.quantile(tb_blob[\"X1\"], 0.25), np.quantile(tb_blob[\"X2\"], 0.25))\n",
    "p2 = (np.quantile(tb_blob[\"X1\"], 0.25), np.quantile(tb_blob[\"X2\"], 0.75))\n",
    "p3 = (np.quantile(tb_blob[\"X1\"], 0.75), np.quantile(tb_blob[\"X2\"], 0.25))\n",
    "p4 = (np.quantile(tb_blob[\"X1\"], 0.75), np.quantile(tb_blob[\"X2\"], 0.75))\n",
    "\n",
    "tb_centroids = pd.DataFrame(\n",
    "    [p1, p2, p3, p4], columns=[\"X1\", \"X2\"], index=[\"p1\", \"p2\", \"p3\", \"p4\"]\n",
    ")\n",
    "tb_centroids\n"
   ]
  },
  {
   "cell_type": "code",
   "execution_count": null,
   "metadata": {},
   "outputs": [],
   "source": [
    "sns.scatterplot(data=tb_blob, x=\"X1\", y=\"X2\")\n",
    "sns.scatterplot(data=tb_centroids, x=\"X1\", y=\"X2\", color=\"black\", s=100)\n"
   ]
  },
  {
   "cell_type": "markdown",
   "metadata": {},
   "source": [
    "### Updating Positions - Step 1\n",
    "\n",
    "#### I - Calculate Cluster Assignments"
   ]
  },
  {
   "cell_type": "code",
   "execution_count": null,
   "metadata": {},
   "outputs": [],
   "source": [
    "for centroid in tb_centroids.iterrows():\n",
    "    centroid_name = centroid[0]\n",
    "    centroid_x1 = centroid[1][\"X1\"]\n",
    "    centroid_x2 = centroid[1][\"X2\"]\n",
    "    tb_blob[centroid_name] = (tb_blob[\"X1\"] - centroid_x1) ** 2 + (\n",
    "        tb_blob[\"X2\"] - centroid_x2\n",
    "    ) ** 2\n",
    "tb_blob[\"cluster\"] = tb_blob[[\"p1\", \"p2\", \"p3\", \"p4\"]].idxmin(1)\n",
    "tb_blob.head()\n"
   ]
  },
  {
   "cell_type": "code",
   "execution_count": null,
   "metadata": {},
   "outputs": [],
   "source": [
    "sns.scatterplot(data=tb_blob, x=\"X1\", y=\"X2\", hue=\"cluster\")\n",
    "sns.scatterplot(data=tb_centroids, x=\"X1\", y=\"X2\", color=\"black\", s=100)\n"
   ]
  },
  {
   "cell_type": "markdown",
   "metadata": {},
   "source": [
    "#### II - Recalculate Centroids"
   ]
  },
  {
   "cell_type": "code",
   "execution_count": null,
   "metadata": {},
   "outputs": [],
   "source": [
    "tb_centroids = tb_blob.groupby(\"cluster\")[[\"X1\", \"X2\"]].mean()\n",
    "tb_centroids\n"
   ]
  },
  {
   "cell_type": "code",
   "execution_count": null,
   "metadata": {},
   "outputs": [],
   "source": [
    "sns.scatterplot(data=tb_blob, x=\"X1\", y=\"X2\", hue=\"cluster\")\n",
    "sns.scatterplot(data=tb_centroids, x=\"X1\", y=\"X2\", color=\"black\", s=100)\n"
   ]
  },
  {
   "cell_type": "markdown",
   "metadata": {},
   "source": [
    "### Updating Positions - Step 2\n",
    "\n",
    "#### I - Calculate Cluster Assignments"
   ]
  },
  {
   "cell_type": "code",
   "execution_count": null,
   "metadata": {},
   "outputs": [],
   "source": [
    "for centroid in tb_centroids.iterrows():\n",
    "    centroid_name = centroid[0]\n",
    "    centroid_x1 = centroid[1][\"X1\"]\n",
    "    centroid_x2 = centroid[1][\"X2\"]\n",
    "    tb_blob[centroid_name] = (tb_blob[\"X1\"] - centroid_x1) ** 2 + (\n",
    "        tb_blob[\"X2\"] - centroid_x2\n",
    "    ) ** 2\n",
    "tb_blob[\"cluster\"] = tb_blob[[\"p1\", \"p2\", \"p3\", \"p4\"]].idxmin(1)\n",
    "tb_blob.head()\n"
   ]
  },
  {
   "cell_type": "code",
   "execution_count": null,
   "metadata": {},
   "outputs": [],
   "source": [
    "sns.scatterplot(data=tb_blob, x=\"X1\", y=\"X2\", hue=\"cluster\")\n",
    "sns.scatterplot(data=tb_centroids, x=\"X1\", y=\"X2\", color=\"black\", s=100)\n"
   ]
  },
  {
   "cell_type": "markdown",
   "metadata": {},
   "source": [
    "#### II - Recalculate Centroids"
   ]
  },
  {
   "cell_type": "code",
   "execution_count": null,
   "metadata": {},
   "outputs": [],
   "source": [
    "tb_centroids = tb_blob.groupby(\"cluster\")[[\"X1\", \"X2\"]].mean()\n",
    "sns.scatterplot(data=tb_blob, x=\"X1\", y=\"X2\", hue=\"cluster\")\n",
    "sns.scatterplot(data=tb_centroids, x=\"X1\", y=\"X2\", color=\"black\", s=100)\n"
   ]
  },
  {
   "cell_type": "markdown",
   "metadata": {},
   "source": [
    "# Using SKLEARN KMeans"
   ]
  },
  {
   "cell_type": "code",
   "execution_count": null,
   "metadata": {},
   "outputs": [],
   "source": [
    "from sklearn.cluster import KMeans\n"
   ]
  },
  {
   "cell_type": "code",
   "execution_count": null,
   "metadata": {},
   "outputs": [],
   "source": [
    "from sklearn.datasets import make_blobs\n",
    "\n",
    "X, y_true = make_blobs(n_samples=300, centers=4, cluster_std=0.6, random_state=0)\n",
    "\n",
    "tb_blob = pd.DataFrame(X)\n",
    "tb_blob.columns = [\"X1\", \"X2\"]\n",
    "sns.scatterplot(data=tb_blob, x=\"X1\", y=\"X2\")\n"
   ]
  },
  {
   "cell_type": "code",
   "execution_count": null,
   "metadata": {},
   "outputs": [],
   "source": [
    "km_fit = KMeans(n_clusters=4)\n",
    "km_fit.fit(tb_blob[[\"X1\", \"X2\"]])\n"
   ]
  },
  {
   "cell_type": "code",
   "execution_count": null,
   "metadata": {},
   "outputs": [],
   "source": [
    "km_fit.cluster_centers_\n"
   ]
  },
  {
   "cell_type": "code",
   "execution_count": null,
   "metadata": {},
   "outputs": [],
   "source": [
    "tb_blob[\"cluster_n4\"] = km_fit.predict(tb_blob[[\"X1\", \"X2\"]])\n"
   ]
  },
  {
   "cell_type": "code",
   "execution_count": null,
   "metadata": {},
   "outputs": [],
   "source": [
    "sns.scatterplot(data=tb_blob, x=\"X1\", y=\"X2\", hue=\"cluster_n4\", palette=\"Spectral\")\n"
   ]
  },
  {
   "cell_type": "markdown",
   "metadata": {},
   "source": [
    "# Analyzing Real-World Data"
   ]
  },
  {
   "cell_type": "markdown",
   "metadata": {},
   "source": [
    "## 2-D Clustering using USA Census Data"
   ]
  },
  {
   "cell_type": "code",
   "execution_count": null,
   "metadata": {},
   "outputs": [],
   "source": [
    "tb_census = pd.read_csv(\"data/acs2017_census_tract_data.csv\", index_col=0)\n",
    "tb_census = tb_census.dropna()\n"
   ]
  },
  {
   "cell_type": "code",
   "execution_count": null,
   "metadata": {},
   "outputs": [],
   "source": [
    "sns.kdeplot(data=tb_census, x=\"White\", y=\"Black\")\n"
   ]
  },
  {
   "cell_type": "code",
   "execution_count": null,
   "metadata": {},
   "outputs": [],
   "source": [
    "km_fit_census = KMeans(n_clusters=3)\n",
    "km_fit_census.fit(tb_census[[\"White\", \"Black\"]])\n",
    "tb_census[\"racial_cluster\"] = km_fit_census.predict(tb_census[[\"White\", \"Black\"]])\n"
   ]
  },
  {
   "cell_type": "code",
   "execution_count": null,
   "metadata": {},
   "outputs": [],
   "source": [
    "sns.kdeplot(\n",
    "    data=tb_census,\n",
    "    x=\"White\",\n",
    "    y=\"Black\",\n",
    "    hue=\"racial_cluster\",\n",
    "    fill=True,\n",
    "    common_norm=False,\n",
    "    palette=\"Spectral\",\n",
    ")\n"
   ]
  },
  {
   "cell_type": "code",
   "execution_count": null,
   "metadata": {},
   "outputs": [],
   "source": [
    "km_fit_census = KMeans(n_clusters=4)\n",
    "km_fit_census.fit(tb_census[[\"White\", \"Black\"]])\n",
    "tb_census[\"racial_cluster\"] = km_fit_census.predict(tb_census[[\"White\", \"Black\"]])\n"
   ]
  },
  {
   "cell_type": "code",
   "execution_count": null,
   "metadata": {},
   "outputs": [],
   "source": [
    "sns.kdeplot(\n",
    "    data=tb_census,\n",
    "    x=\"White\",\n",
    "    y=\"Black\",\n",
    "    hue=\"racial_cluster\",\n",
    "    fill=True,\n",
    "    common_norm=False,\n",
    "    palette=\"Spectral\",\n",
    ")\n"
   ]
  },
  {
   "cell_type": "markdown",
   "metadata": {},
   "source": [
    "## Clustering on n-Dimensions"
   ]
  },
  {
   "cell_type": "code",
   "execution_count": null,
   "metadata": {},
   "outputs": [],
   "source": [
    "cluster_vars = [\n",
    "    \"IncomePerCapErr\",\n",
    "    \"Poverty\",\n",
    "    \"Professional\",\n",
    "    \"Service\",\n",
    "    \"Office\",\n",
    "    \"Construction\",\n",
    "    \"Production\",\n",
    "    \"OtherTransp\",\n",
    "    \"WorkAtHome\",\n",
    "    \"MeanCommute\",\n",
    "    \"Employed\",\n",
    "    \"PrivateWork\",\n",
    "    \"PublicWork\",\n",
    "    \"SelfEmployed\",\n",
    "]\n"
   ]
  },
  {
   "cell_type": "code",
   "execution_count": null,
   "metadata": {},
   "outputs": [],
   "source": [
    "census_scaler = StandardScaler()\n",
    "census_scaler.fit(tb_census[cluster_vars])\n",
    "\n",
    "tb_sca_census = pd.DataFrame(\n",
    "    census_scaler.transform(tb_census[cluster_vars]), columns=cluster_vars\n",
    ")\n",
    "tb_sca_census.head()\n"
   ]
  },
  {
   "cell_type": "code",
   "execution_count": null,
   "metadata": {},
   "outputs": [],
   "source": [
    "census_pca = PCA(n_components= 4)\n",
    "census_pca.fit(tb_sca_census)\n",
    "\n",
    "tb_pca_census = pd.DataFrame(\n",
    "    census_pca.transform(tb_sca_census),\n",
    "    columns=[\"PC\" + str(i) for i in range(census_pca.n_components_)],\n",
    ")\n"
   ]
  },
  {
   "cell_type": "code",
   "execution_count": null,
   "metadata": {},
   "outputs": [],
   "source": [
    "sns.pairplot(data=tb_pca_census.sample(1000), kind = 'kde')\n"
   ]
  },
  {
   "cell_type": "code",
   "execution_count": null,
   "metadata": {},
   "outputs": [],
   "source": [
    "km_fit_census = KMeans(n_clusters=4)\n",
    "km_fit_census.fit(tb_sca_census)\n",
    "tb_census[\"work_cluster\"] = km_fit_census.predict(tb_sca_census[cluster_vars])\n",
    "tb_pca_census[\"work_cluster\"] = km_fit_census.predict(tb_sca_census[cluster_vars])\n"
   ]
  },
  {
   "cell_type": "code",
   "execution_count": null,
   "metadata": {},
   "outputs": [],
   "source": [
    "sns.pairplot(data=tb_pca_census.sample(1000), hue=\"work_cluster\", kind=\"kde\")\n"
   ]
  },
  {
   "cell_type": "markdown",
   "metadata": {},
   "source": [
    "#### Analyzing Cluster Results"
   ]
  },
  {
   "cell_type": "code",
   "execution_count": null,
   "metadata": {},
   "outputs": [],
   "source": [
    "tb_census.columns"
   ]
  },
  {
   "cell_type": "code",
   "execution_count": null,
   "metadata": {},
   "outputs": [],
   "source": [
    "fig, ax = plt.subplots(2,2, figsize = (10, 10))\n",
    "sns.boxplot(data = tb_census, x = 'work_cluster', y = 'IncomePerCap', ax = ax[0][0])\n",
    "sns.boxplot(data = tb_census, x = 'work_cluster', y = 'Poverty', ax = ax[0][1])\n",
    "sns.boxplot(data = tb_census, x = 'work_cluster', y = 'Unemployment', ax = ax[1][0])\n",
    "sns.boxplot(data = tb_census, x = 'work_cluster', y = 'WorkAtHome', ax = ax[1][1])"
   ]
  },
  {
   "cell_type": "code",
   "execution_count": null,
   "metadata": {},
   "outputs": [],
   "source": [
    "fig, ax = plt.subplots(2,2, figsize = (10, 10))\n",
    "sns.boxplot(data = tb_census, x = 'work_cluster', y = 'White', ax = ax[0][0])\n",
    "sns.boxplot(data = tb_census, x = 'work_cluster', y = 'Black', ax = ax[0][1])\n",
    "sns.boxplot(data = tb_census, x = 'work_cluster', y = 'Hispanic', ax = ax[1][0])\n",
    "sns.boxplot(data = tb_census, x = 'work_cluster', y = 'Asian', ax = ax[1][1])"
   ]
  }
 ],
 "metadata": {
  "kernelspec": {
   "display_name": "Python 3.9.11 ('base')",
   "language": "python",
   "name": "python3"
  },
  "language_info": {
   "codemirror_mode": {
    "name": "ipython",
    "version": 3
   },
   "file_extension": ".py",
   "mimetype": "text/x-python",
   "name": "python",
   "nbconvert_exporter": "python",
   "pygments_lexer": "ipython3",
   "version": "3.9.11"
  },
  "orig_nbformat": 4,
  "vscode": {
   "interpreter": {
    "hash": "014f4a4a5af8f0104b12c029e500f4146d6d785e8cf714d2a35b7a9514230cd3"
   }
  }
 },
 "nbformat": 4,
 "nbformat_minor": 2
}
