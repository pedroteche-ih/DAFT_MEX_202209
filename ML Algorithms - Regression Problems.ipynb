{
  "cells": [
    {
      "cell_type": "code",
      "execution_count": 1,
      "metadata": {
        "id": "b5b6M1d4gUyM"
      },
      "outputs": [],
      "source": [
        "import numpy as np\n",
        "import scipy as sp\n",
        "import pandas as pd\n",
        "import seaborn as sns\n",
        "import matplotlib.pyplot as plt\n"
      ]
    },
    {
      "cell_type": "markdown",
      "metadata": {
        "id": "HsrIMkf3gUyN"
      },
      "source": [
        "# Building from yesterday"
      ]
    },
    {
      "cell_type": "code",
      "execution_count": 4,
      "metadata": {
        "id": "Owm6KbP9gUyO",
        "outputId": "64aae17e-f9dd-4cdf-c060-1fd8ab244244",
        "colab": {
          "base_uri": "https://localhost:8080/"
        }
      },
      "outputs": [
        {
          "output_type": "stream",
          "name": "stdout",
          "text": [
            "<class 'pandas.core.frame.DataFrame'>\n",
            "RangeIndex: 1460 entries, 0 to 1459\n",
            "Data columns (total 81 columns):\n",
            " #   Column         Non-Null Count  Dtype  \n",
            "---  ------         --------------  -----  \n",
            " 0   Id             1460 non-null   int64  \n",
            " 1   MSSubClass     1460 non-null   int64  \n",
            " 2   MSZoning       1460 non-null   object \n",
            " 3   LotFrontage    1201 non-null   float64\n",
            " 4   LotArea        1460 non-null   int64  \n",
            " 5   Street         1460 non-null   object \n",
            " 6   Alley          91 non-null     object \n",
            " 7   LotShape       1460 non-null   object \n",
            " 8   LandContour    1460 non-null   object \n",
            " 9   Utilities      1460 non-null   object \n",
            " 10  LotConfig      1460 non-null   object \n",
            " 11  LandSlope      1460 non-null   object \n",
            " 12  Neighborhood   1460 non-null   object \n",
            " 13  Condition1     1460 non-null   object \n",
            " 14  Condition2     1460 non-null   object \n",
            " 15  BldgType       1460 non-null   object \n",
            " 16  HouseStyle     1460 non-null   object \n",
            " 17  OverallQual    1460 non-null   int64  \n",
            " 18  OverallCond    1460 non-null   int64  \n",
            " 19  YearBuilt      1460 non-null   int64  \n",
            " 20  YearRemodAdd   1460 non-null   int64  \n",
            " 21  RoofStyle      1460 non-null   object \n",
            " 22  RoofMatl       1460 non-null   object \n",
            " 23  Exterior1st    1460 non-null   object \n",
            " 24  Exterior2nd    1460 non-null   object \n",
            " 25  MasVnrType     1452 non-null   object \n",
            " 26  MasVnrArea     1452 non-null   float64\n",
            " 27  ExterQual      1460 non-null   object \n",
            " 28  ExterCond      1460 non-null   object \n",
            " 29  Foundation     1460 non-null   object \n",
            " 30  BsmtQual       1423 non-null   object \n",
            " 31  BsmtCond       1423 non-null   object \n",
            " 32  BsmtExposure   1422 non-null   object \n",
            " 33  BsmtFinType1   1423 non-null   object \n",
            " 34  BsmtFinSF1     1460 non-null   int64  \n",
            " 35  BsmtFinType2   1422 non-null   object \n",
            " 36  BsmtFinSF2     1460 non-null   int64  \n",
            " 37  BsmtUnfSF      1460 non-null   int64  \n",
            " 38  TotalBsmtSF    1460 non-null   int64  \n",
            " 39  Heating        1460 non-null   object \n",
            " 40  HeatingQC      1460 non-null   object \n",
            " 41  CentralAir     1460 non-null   object \n",
            " 42  Electrical     1459 non-null   object \n",
            " 43  1stFlrSF       1460 non-null   int64  \n",
            " 44  2ndFlrSF       1460 non-null   int64  \n",
            " 45  LowQualFinSF   1460 non-null   int64  \n",
            " 46  GrLivArea      1460 non-null   int64  \n",
            " 47  BsmtFullBath   1460 non-null   int64  \n",
            " 48  BsmtHalfBath   1460 non-null   int64  \n",
            " 49  FullBath       1460 non-null   int64  \n",
            " 50  HalfBath       1460 non-null   int64  \n",
            " 51  BedroomAbvGr   1460 non-null   int64  \n",
            " 52  KitchenAbvGr   1460 non-null   int64  \n",
            " 53  KitchenQual    1460 non-null   object \n",
            " 54  TotRmsAbvGrd   1460 non-null   int64  \n",
            " 55  Functional     1460 non-null   object \n",
            " 56  Fireplaces     1460 non-null   int64  \n",
            " 57  FireplaceQu    770 non-null    object \n",
            " 58  GarageType     1379 non-null   object \n",
            " 59  GarageYrBlt    1379 non-null   float64\n",
            " 60  GarageFinish   1379 non-null   object \n",
            " 61  GarageCars     1460 non-null   int64  \n",
            " 62  GarageArea     1460 non-null   int64  \n",
            " 63  GarageQual     1379 non-null   object \n",
            " 64  GarageCond     1379 non-null   object \n",
            " 65  PavedDrive     1460 non-null   object \n",
            " 66  WoodDeckSF     1460 non-null   int64  \n",
            " 67  OpenPorchSF    1460 non-null   int64  \n",
            " 68  EnclosedPorch  1460 non-null   int64  \n",
            " 69  3SsnPorch      1460 non-null   int64  \n",
            " 70  ScreenPorch    1460 non-null   int64  \n",
            " 71  PoolArea       1460 non-null   int64  \n",
            " 72  PoolQC         7 non-null      object \n",
            " 73  Fence          281 non-null    object \n",
            " 74  MiscFeature    54 non-null     object \n",
            " 75  MiscVal        1460 non-null   int64  \n",
            " 76  MoSold         1460 non-null   int64  \n",
            " 77  YrSold         1460 non-null   int64  \n",
            " 78  SaleType       1460 non-null   object \n",
            " 79  SaleCondition  1460 non-null   object \n",
            " 80  SalePrice      1460 non-null   int64  \n",
            "dtypes: float64(3), int64(35), object(43)\n",
            "memory usage: 924.0+ KB\n"
          ]
        }
      ],
      "source": [
        "url = \"https://raw.githubusercontent.com/pedroteche-ih/DAFT_MEX_202209/main/data/tb_ames_housing.csv\"\n",
        "tb_housing = pd.read_csv(url)\n",
        "tb_housing.info()\n"
      ]
    },
    {
      "cell_type": "markdown",
      "metadata": {
        "id": "JUoqckssgUyP"
      },
      "source": [
        "## NA Treatment"
      ]
    },
    {
      "cell_type": "code",
      "execution_count": 5,
      "metadata": {
        "id": "SjSKQO4ggUyP",
        "outputId": "bd9c1d10-2165-4bca-c62a-89737b8f8dc5",
        "colab": {
          "base_uri": "https://localhost:8080/"
        }
      },
      "outputs": [
        {
          "output_type": "execute_result",
          "data": {
            "text/plain": [
              "PoolQC          1453\n",
              "MiscFeature     1406\n",
              "Alley           1369\n",
              "Fence           1179\n",
              "FireplaceQu      690\n",
              "LotFrontage      259\n",
              "GarageYrBlt       81\n",
              "GarageCond        81\n",
              "GarageType        81\n",
              "GarageFinish      81\n",
              "dtype: int64"
            ]
          },
          "metadata": {},
          "execution_count": 5
        }
      ],
      "source": [
        "tb_housing.isna().sum().sort_values(ascending=False).head(10)\n"
      ]
    },
    {
      "cell_type": "code",
      "source": [
        "tb_housing[\"FireplaceQu\"].value_counts()"
      ],
      "metadata": {
        "id": "4MeRRfJ7r-h2",
        "outputId": "7cbf45bc-07ea-4059-c129-69edaf669323",
        "colab": {
          "base_uri": "https://localhost:8080/"
        }
      },
      "execution_count": 6,
      "outputs": [
        {
          "output_type": "execute_result",
          "data": {
            "text/plain": [
              "Gd    380\n",
              "TA    313\n",
              "Fa     33\n",
              "Ex     24\n",
              "Po     20\n",
              "Name: FireplaceQu, dtype: int64"
            ]
          },
          "metadata": {},
          "execution_count": 6
        }
      ]
    },
    {
      "cell_type": "code",
      "source": [
        "tb_housing.shape[0] * 0.5"
      ],
      "metadata": {
        "id": "zTbhTkxlsM41",
        "outputId": "154c42b2-0d94-4c87-f7fd-d1389777b0a6",
        "colab": {
          "base_uri": "https://localhost:8080/"
        }
      },
      "execution_count": 7,
      "outputs": [
        {
          "output_type": "execute_result",
          "data": {
            "text/plain": [
              "730.0"
            ]
          },
          "metadata": {},
          "execution_count": 7
        }
      ]
    },
    {
      "cell_type": "code",
      "execution_count": 8,
      "metadata": {
        "id": "kkhD6nq6gUyP"
      },
      "outputs": [],
      "source": [
        "# Fill FireplaceQu for houses with no fireplace\n",
        "tb_housing[\"FireplaceQu\"] = tb_housing[\"FireplaceQu\"].fillna(\"NF\")\n",
        "# Dropping columns with over 50% missing values\n",
        "tb_housing = tb_housing.dropna(axis=1, thresh=tb_housing.shape[0] * 0.5)\n"
      ]
    },
    {
      "cell_type": "code",
      "source": [
        "tb_housing[\"MSZoning\"].value_counts()"
      ],
      "metadata": {
        "id": "hJuxVz9btEd0",
        "outputId": "96d0fbf1-21b6-476d-9477-8dc42ac531bf",
        "colab": {
          "base_uri": "https://localhost:8080/"
        }
      },
      "execution_count": 10,
      "outputs": [
        {
          "output_type": "execute_result",
          "data": {
            "text/plain": [
              "RL         1151\n",
              "RM          218\n",
              "FV           65\n",
              "RH           16\n",
              "C (all)      10\n",
              "Name: MSZoning, dtype: int64"
            ]
          },
          "metadata": {},
          "execution_count": 10
        }
      ]
    },
    {
      "cell_type": "markdown",
      "metadata": {
        "id": "K8iVTii_gUyQ"
      },
      "source": [
        "## Variable Transformation"
      ]
    },
    {
      "cell_type": "code",
      "execution_count": 11,
      "metadata": {
        "id": "5QtERCsogUyQ"
      },
      "outputs": [],
      "source": [
        "def var_trans(data):\n",
        "    # Calculating logs\n",
        "    data[\"log_SalePrice\"] = np.log(data[\"SalePrice\"])\n",
        "    data[\"log_GrLivArea\"] = np.log(data[\"GrLivArea\"])\n",
        "    # Feature creation through interaction\n",
        "    data[\"lot_ocuppation\"] = data[\"GrLivArea\"] / data[\"LotArea\"]\n",
        "\n",
        "    heatingqc_group = {\n",
        "        \"Ex\": \"Good\",\n",
        "        \"Gd\": \"Good\",\n",
        "        \"TA\": \"Bad\",\n",
        "        \"Fa\": \"Bad\",\n",
        "        \"Po\": \"Bad\",\n",
        "    }\n",
        "    data[\"grp_HeatingQC\"] = data[\"HeatingQC\"].map(heatingqc_group)\n",
        "    \n",
        "    mszoning_group = {\"RL\": \"RL\", \"RM\": \"RM\"}\n",
        "    data[\"grp_MSZoning\"] = data[\"MSZoning\"].map(mszoning_group)\n",
        "    data[\"grp_MSZoning\"] = data[\"grp_MSZoning\"].fillna(\"Other\")\n",
        "\n",
        "    return data\n"
      ]
    },
    {
      "cell_type": "code",
      "execution_count": 12,
      "metadata": {
        "id": "rn1AfhpqgUyQ"
      },
      "outputs": [],
      "source": [
        "tb_housing_trans = var_trans(tb_housing)\n"
      ]
    },
    {
      "cell_type": "code",
      "execution_count": 14,
      "metadata": {
        "id": "vfgZz88KgUyQ"
      },
      "outputs": [],
      "source": [
        "from sklearn.model_selection import train_test_split\n",
        "from sklearn.preprocessing import StandardScaler, OneHotEncoder\n"
      ]
    },
    {
      "cell_type": "code",
      "execution_count": 15,
      "metadata": {
        "id": "gWId1eoxgUyR"
      },
      "outputs": [],
      "source": [
        "def transformer_fit(train_data):\n",
        "    # Fitting Scaler\n",
        "    scaler = StandardScaler()\n",
        "    scaler.fit(train_data[[\"log_GrLivArea\", \"OverallQual\", \"lot_ocuppation\"]])\n",
        "\n",
        "    # Fitting OneHotEncoder\n",
        "    ohe = OneHotEncoder(drop=\"first\", sparse=False, handle_unknown=\"ignore\")\n",
        "    ohe.fit(train_data[[\"grp_HeatingQC\", \"grp_MSZoning\"]])\n",
        "\n",
        "    return scaler, ohe\n",
        "\n",
        "\n",
        "def transformer_apply(data, scaler, ohe):\n",
        "    # Applying scaler\n",
        "    feature_names = [\"sca_\" + name for name in scaler.feature_names_in_]\n",
        "    \n",
        "    scaled_matrix = scaler.transform(\n",
        "        data[[\"log_GrLivArea\", \"OverallQual\", \"lot_ocuppation\"]]\n",
        "    )\n",
        "    scaled_data = pd.DataFrame(scaled_matrix, columns=feature_names)\n",
        "\n",
        "    # Applying OHE\n",
        "    dummy_names = ohe.get_feature_names_out()\n",
        "    ohe_matrix = ohe.transform(data[[\"grp_HeatingQC\", \"grp_MSZoning\"]])\n",
        "    dummy_data = pd.DataFrame(ohe_matrix, columns=dummy_names)\n",
        "\n",
        "    return pd.concat([scaled_data, dummy_data], axis=1)\n"
      ]
    },
    {
      "cell_type": "code",
      "source": [
        "tb_housing_trans = var_trans(tb_housing)\n",
        "x_var = [\n",
        "    \"log_GrLivArea\",\n",
        "    \"OverallQual\",\n",
        "    \"lot_ocuppation\",\n",
        "    \"grp_HeatingQC\",\n",
        "    \"grp_MSZoning\",\n",
        "]\n",
        "y_var = \"log_SalePrice\"\n",
        "model_var = x_var + [y_var]\n",
        "print(model_var)"
      ],
      "metadata": {
        "id": "r5adUmo7wvED",
        "outputId": "642163dd-0ebd-48c8-9b12-988756900b06",
        "colab": {
          "base_uri": "https://localhost:8080/"
        }
      },
      "execution_count": 16,
      "outputs": [
        {
          "output_type": "stream",
          "name": "stdout",
          "text": [
            "['log_GrLivArea', 'OverallQual', 'lot_ocuppation', 'grp_HeatingQC', 'grp_MSZoning', 'log_SalePrice']\n"
          ]
        }
      ]
    },
    {
      "cell_type": "code",
      "execution_count": 17,
      "metadata": {
        "id": "v9Ozay_OgUyR"
      },
      "outputs": [],
      "source": [
        "tb_housing_model = tb_housing_trans[model_var].dropna()\n",
        "\n",
        "X = tb_housing_model[x_var]\n",
        "y = tb_housing_model[y_var]\n",
        "\n",
        "X_train, X_test, y_train, y_test = train_test_split(X, y)\n",
        "\n",
        "scaler, ohe = transformer_fit(X_train)\n",
        "\n",
        "X_train_trans = transformer_apply(X_train, scaler, ohe)\n",
        "X_test_trans = transformer_apply(X_test, scaler, ohe)\n"
      ]
    },
    {
      "cell_type": "code",
      "execution_count": 21,
      "metadata": {
        "id": "Cdgshql6gUyS",
        "outputId": "de75922e-cbd5-4554-b677-cd36f036d21f",
        "colab": {
          "base_uri": "https://localhost:8080/"
        }
      },
      "outputs": [
        {
          "output_type": "execute_result",
          "data": {
            "text/plain": [
              "(1095, 6)"
            ]
          },
          "metadata": {},
          "execution_count": 21
        }
      ],
      "source": [
        "X_train_trans.shape\n"
      ]
    },
    {
      "cell_type": "markdown",
      "metadata": {
        "id": "6ODG09X4gUyS"
      },
      "source": [
        "# Non-Linear Techniques - Regression"
      ]
    },
    {
      "cell_type": "markdown",
      "metadata": {
        "id": "fzYq69fbgUyS"
      },
      "source": [
        "## Baseline Model - Linear Regression"
      ]
    },
    {
      "cell_type": "code",
      "execution_count": 22,
      "metadata": {
        "id": "CTxNbWBJgUyS"
      },
      "outputs": [],
      "source": [
        "from sklearn.linear_model import LinearRegression\n"
      ]
    },
    {
      "cell_type": "code",
      "execution_count": 23,
      "metadata": {
        "id": "WawOfCrRgUyT",
        "outputId": "ce251fd3-f4fb-4d1a-8daa-21bd38f276a4",
        "colab": {
          "base_uri": "https://localhost:8080/"
        }
      },
      "outputs": [
        {
          "output_type": "execute_result",
          "data": {
            "text/plain": [
              "LinearRegression()"
            ]
          },
          "metadata": {},
          "execution_count": 23
        }
      ],
      "source": [
        "lm_fit = LinearRegression()\n",
        "lm_fit.fit(X_train_trans, y_train)\n"
      ]
    },
    {
      "cell_type": "code",
      "source": [
        "y_pred = lm_fit.predict(X_test_trans)\n",
        "\n",
        "tb_test = pd.DataFrame({\"y_real\": y_test, \"y_pred\": y_pred})\n",
        "tb_test = pd.concat([tb_test, X_test], axis=1)\n",
        "\n",
        "tb_test[\"SalePrice\"] = np.exp(tb_test[\"y_real\"])\n",
        "tb_test[\"pred_lm_SalePrice\"] = np.exp(tb_test[\"y_pred\"])\n",
        "tb_test"
      ],
      "metadata": {
        "id": "VCe3lwP6zpaH",
        "outputId": "4361add2-c8d5-4c44-fbd8-7c2648c9cfdd",
        "colab": {
          "base_uri": "https://localhost:8080/",
          "height": 444
        }
      },
      "execution_count": 33,
      "outputs": [
        {
          "output_type": "execute_result",
          "data": {
            "text/plain": [
              "         y_real     y_pred  log_GrLivArea  OverallQual  lot_ocuppation  \\\n",
              "166   12.154779  12.023488       7.532088            5        0.174356   \n",
              "454   12.144197  11.909262       7.454720            5        0.185866   \n",
              "329   11.264464  11.594210       7.083388            5        0.186192   \n",
              "1292  11.585246  11.835109       7.771489            5        0.359394   \n",
              "970   11.813030  11.617779       7.083388            4        0.110370   \n",
              "...         ...        ...            ...          ...             ...   \n",
              "1356  11.608236  11.652971       6.793466            5        0.094123   \n",
              "1074  12.175613  12.166841       7.122867            7        0.144928   \n",
              "1107  12.523526  12.397918       7.611348            7        0.086899   \n",
              "1433  12.136187  12.161132       7.491088            6        0.174642   \n",
              "997   12.128111  12.007163       7.273786            6        0.123069   \n",
              "\n",
              "     grp_HeatingQC grp_MSZoning  SalePrice  pred_lm_SalePrice  \n",
              "166           Good           RL   190000.0      166622.825390  \n",
              "454            Bad           RL   188000.0      148636.909826  \n",
              "329            Bad           RM    78000.0      108467.980203  \n",
              "1292           Bad           RM   107500.0      138013.812765  \n",
              "970            Bad           RL   135000.0      111054.764618  \n",
              "...            ...          ...        ...                ...  \n",
              "1356           Bad           RL   110000.0      115032.597717  \n",
              "1074          Good           RL   194000.0      192305.525616  \n",
              "1107          Good           RL   274725.0      242296.641924  \n",
              "1433          Good           RL   186500.0      191210.869765  \n",
              "997            Bad           RL   185000.0      163924.743616  \n",
              "\n",
              "[365 rows x 9 columns]"
            ],
            "text/html": [
              "\n",
              "  <div id=\"df-720d2da7-dfec-4f52-b5b9-c4dd58fe6e5e\">\n",
              "    <div class=\"colab-df-container\">\n",
              "      <div>\n",
              "<style scoped>\n",
              "    .dataframe tbody tr th:only-of-type {\n",
              "        vertical-align: middle;\n",
              "    }\n",
              "\n",
              "    .dataframe tbody tr th {\n",
              "        vertical-align: top;\n",
              "    }\n",
              "\n",
              "    .dataframe thead th {\n",
              "        text-align: right;\n",
              "    }\n",
              "</style>\n",
              "<table border=\"1\" class=\"dataframe\">\n",
              "  <thead>\n",
              "    <tr style=\"text-align: right;\">\n",
              "      <th></th>\n",
              "      <th>y_real</th>\n",
              "      <th>y_pred</th>\n",
              "      <th>log_GrLivArea</th>\n",
              "      <th>OverallQual</th>\n",
              "      <th>lot_ocuppation</th>\n",
              "      <th>grp_HeatingQC</th>\n",
              "      <th>grp_MSZoning</th>\n",
              "      <th>SalePrice</th>\n",
              "      <th>pred_lm_SalePrice</th>\n",
              "    </tr>\n",
              "  </thead>\n",
              "  <tbody>\n",
              "    <tr>\n",
              "      <th>166</th>\n",
              "      <td>12.154779</td>\n",
              "      <td>12.023488</td>\n",
              "      <td>7.532088</td>\n",
              "      <td>5</td>\n",
              "      <td>0.174356</td>\n",
              "      <td>Good</td>\n",
              "      <td>RL</td>\n",
              "      <td>190000.0</td>\n",
              "      <td>166622.825390</td>\n",
              "    </tr>\n",
              "    <tr>\n",
              "      <th>454</th>\n",
              "      <td>12.144197</td>\n",
              "      <td>11.909262</td>\n",
              "      <td>7.454720</td>\n",
              "      <td>5</td>\n",
              "      <td>0.185866</td>\n",
              "      <td>Bad</td>\n",
              "      <td>RL</td>\n",
              "      <td>188000.0</td>\n",
              "      <td>148636.909826</td>\n",
              "    </tr>\n",
              "    <tr>\n",
              "      <th>329</th>\n",
              "      <td>11.264464</td>\n",
              "      <td>11.594210</td>\n",
              "      <td>7.083388</td>\n",
              "      <td>5</td>\n",
              "      <td>0.186192</td>\n",
              "      <td>Bad</td>\n",
              "      <td>RM</td>\n",
              "      <td>78000.0</td>\n",
              "      <td>108467.980203</td>\n",
              "    </tr>\n",
              "    <tr>\n",
              "      <th>1292</th>\n",
              "      <td>11.585246</td>\n",
              "      <td>11.835109</td>\n",
              "      <td>7.771489</td>\n",
              "      <td>5</td>\n",
              "      <td>0.359394</td>\n",
              "      <td>Bad</td>\n",
              "      <td>RM</td>\n",
              "      <td>107500.0</td>\n",
              "      <td>138013.812765</td>\n",
              "    </tr>\n",
              "    <tr>\n",
              "      <th>970</th>\n",
              "      <td>11.813030</td>\n",
              "      <td>11.617779</td>\n",
              "      <td>7.083388</td>\n",
              "      <td>4</td>\n",
              "      <td>0.110370</td>\n",
              "      <td>Bad</td>\n",
              "      <td>RL</td>\n",
              "      <td>135000.0</td>\n",
              "      <td>111054.764618</td>\n",
              "    </tr>\n",
              "    <tr>\n",
              "      <th>...</th>\n",
              "      <td>...</td>\n",
              "      <td>...</td>\n",
              "      <td>...</td>\n",
              "      <td>...</td>\n",
              "      <td>...</td>\n",
              "      <td>...</td>\n",
              "      <td>...</td>\n",
              "      <td>...</td>\n",
              "      <td>...</td>\n",
              "    </tr>\n",
              "    <tr>\n",
              "      <th>1356</th>\n",
              "      <td>11.608236</td>\n",
              "      <td>11.652971</td>\n",
              "      <td>6.793466</td>\n",
              "      <td>5</td>\n",
              "      <td>0.094123</td>\n",
              "      <td>Bad</td>\n",
              "      <td>RL</td>\n",
              "      <td>110000.0</td>\n",
              "      <td>115032.597717</td>\n",
              "    </tr>\n",
              "    <tr>\n",
              "      <th>1074</th>\n",
              "      <td>12.175613</td>\n",
              "      <td>12.166841</td>\n",
              "      <td>7.122867</td>\n",
              "      <td>7</td>\n",
              "      <td>0.144928</td>\n",
              "      <td>Good</td>\n",
              "      <td>RL</td>\n",
              "      <td>194000.0</td>\n",
              "      <td>192305.525616</td>\n",
              "    </tr>\n",
              "    <tr>\n",
              "      <th>1107</th>\n",
              "      <td>12.523526</td>\n",
              "      <td>12.397918</td>\n",
              "      <td>7.611348</td>\n",
              "      <td>7</td>\n",
              "      <td>0.086899</td>\n",
              "      <td>Good</td>\n",
              "      <td>RL</td>\n",
              "      <td>274725.0</td>\n",
              "      <td>242296.641924</td>\n",
              "    </tr>\n",
              "    <tr>\n",
              "      <th>1433</th>\n",
              "      <td>12.136187</td>\n",
              "      <td>12.161132</td>\n",
              "      <td>7.491088</td>\n",
              "      <td>6</td>\n",
              "      <td>0.174642</td>\n",
              "      <td>Good</td>\n",
              "      <td>RL</td>\n",
              "      <td>186500.0</td>\n",
              "      <td>191210.869765</td>\n",
              "    </tr>\n",
              "    <tr>\n",
              "      <th>997</th>\n",
              "      <td>12.128111</td>\n",
              "      <td>12.007163</td>\n",
              "      <td>7.273786</td>\n",
              "      <td>6</td>\n",
              "      <td>0.123069</td>\n",
              "      <td>Bad</td>\n",
              "      <td>RL</td>\n",
              "      <td>185000.0</td>\n",
              "      <td>163924.743616</td>\n",
              "    </tr>\n",
              "  </tbody>\n",
              "</table>\n",
              "<p>365 rows × 9 columns</p>\n",
              "</div>\n",
              "      <button class=\"colab-df-convert\" onclick=\"convertToInteractive('df-720d2da7-dfec-4f52-b5b9-c4dd58fe6e5e')\"\n",
              "              title=\"Convert this dataframe to an interactive table.\"\n",
              "              style=\"display:none;\">\n",
              "        \n",
              "  <svg xmlns=\"http://www.w3.org/2000/svg\" height=\"24px\"viewBox=\"0 0 24 24\"\n",
              "       width=\"24px\">\n",
              "    <path d=\"M0 0h24v24H0V0z\" fill=\"none\"/>\n",
              "    <path d=\"M18.56 5.44l.94 2.06.94-2.06 2.06-.94-2.06-.94-.94-2.06-.94 2.06-2.06.94zm-11 1L8.5 8.5l.94-2.06 2.06-.94-2.06-.94L8.5 2.5l-.94 2.06-2.06.94zm10 10l.94 2.06.94-2.06 2.06-.94-2.06-.94-.94-2.06-.94 2.06-2.06.94z\"/><path d=\"M17.41 7.96l-1.37-1.37c-.4-.4-.92-.59-1.43-.59-.52 0-1.04.2-1.43.59L10.3 9.45l-7.72 7.72c-.78.78-.78 2.05 0 2.83L4 21.41c.39.39.9.59 1.41.59.51 0 1.02-.2 1.41-.59l7.78-7.78 2.81-2.81c.8-.78.8-2.07 0-2.86zM5.41 20L4 18.59l7.72-7.72 1.47 1.35L5.41 20z\"/>\n",
              "  </svg>\n",
              "      </button>\n",
              "      \n",
              "  <style>\n",
              "    .colab-df-container {\n",
              "      display:flex;\n",
              "      flex-wrap:wrap;\n",
              "      gap: 12px;\n",
              "    }\n",
              "\n",
              "    .colab-df-convert {\n",
              "      background-color: #E8F0FE;\n",
              "      border: none;\n",
              "      border-radius: 50%;\n",
              "      cursor: pointer;\n",
              "      display: none;\n",
              "      fill: #1967D2;\n",
              "      height: 32px;\n",
              "      padding: 0 0 0 0;\n",
              "      width: 32px;\n",
              "    }\n",
              "\n",
              "    .colab-df-convert:hover {\n",
              "      background-color: #E2EBFA;\n",
              "      box-shadow: 0px 1px 2px rgba(60, 64, 67, 0.3), 0px 1px 3px 1px rgba(60, 64, 67, 0.15);\n",
              "      fill: #174EA6;\n",
              "    }\n",
              "\n",
              "    [theme=dark] .colab-df-convert {\n",
              "      background-color: #3B4455;\n",
              "      fill: #D2E3FC;\n",
              "    }\n",
              "\n",
              "    [theme=dark] .colab-df-convert:hover {\n",
              "      background-color: #434B5C;\n",
              "      box-shadow: 0px 1px 3px 1px rgba(0, 0, 0, 0.15);\n",
              "      filter: drop-shadow(0px 1px 2px rgba(0, 0, 0, 0.3));\n",
              "      fill: #FFFFFF;\n",
              "    }\n",
              "  </style>\n",
              "\n",
              "      <script>\n",
              "        const buttonEl =\n",
              "          document.querySelector('#df-720d2da7-dfec-4f52-b5b9-c4dd58fe6e5e button.colab-df-convert');\n",
              "        buttonEl.style.display =\n",
              "          google.colab.kernel.accessAllowed ? 'block' : 'none';\n",
              "\n",
              "        async function convertToInteractive(key) {\n",
              "          const element = document.querySelector('#df-720d2da7-dfec-4f52-b5b9-c4dd58fe6e5e');\n",
              "          const dataTable =\n",
              "            await google.colab.kernel.invokeFunction('convertToInteractive',\n",
              "                                                     [key], {});\n",
              "          if (!dataTable) return;\n",
              "\n",
              "          const docLinkHtml = 'Like what you see? Visit the ' +\n",
              "            '<a target=\"_blank\" href=https://colab.research.google.com/notebooks/data_table.ipynb>data table notebook</a>'\n",
              "            + ' to learn more about interactive tables.';\n",
              "          element.innerHTML = '';\n",
              "          dataTable['output_type'] = 'display_data';\n",
              "          await google.colab.output.renderOutput(dataTable, element);\n",
              "          const docLink = document.createElement('div');\n",
              "          docLink.innerHTML = docLinkHtml;\n",
              "          element.appendChild(docLink);\n",
              "        }\n",
              "      </script>\n",
              "    </div>\n",
              "  </div>\n",
              "  "
            ]
          },
          "metadata": {},
          "execution_count": 33
        }
      ]
    },
    {
      "cell_type": "code",
      "execution_count": 25,
      "metadata": {
        "id": "AhgeU4yAgUyT"
      },
      "outputs": [],
      "source": [
        "from sklearn.metrics import mean_squared_error, mean_absolute_error\n"
      ]
    },
    {
      "cell_type": "code",
      "execution_count": 26,
      "metadata": {
        "id": "F1IqJ9psgUyU",
        "outputId": "91cdb27e-ee6e-4b24-bf20-9dd55643deec",
        "colab": {
          "base_uri": "https://localhost:8080/"
        }
      },
      "outputs": [
        {
          "output_type": "execute_result",
          "data": {
            "text/plain": [
              "40476.63653425779"
            ]
          },
          "metadata": {},
          "execution_count": 26
        }
      ],
      "source": [
        "np.sqrt(mean_squared_error(tb_test[\"SalePrice\"], tb_test[\"pred_lm_SalePrice\"]))\n"
      ]
    },
    {
      "cell_type": "code",
      "source": [
        "fig, ax = plt.subplots(1, 2, figsize = (10, 5))\n",
        "sns.scatterplot(data = tb_test, x = 'log_GrLivArea', y = 'SalePrice', ax = ax[0])\n",
        "sns.scatterplot(data = tb_test, x = 'log_GrLivArea', y = 'pred_lm_SalePrice', ax = ax[1])"
      ],
      "metadata": {
        "id": "_GvyAG_B05El",
        "outputId": "e5960460-db0a-4bde-de27-7d1601ada606",
        "colab": {
          "base_uri": "https://localhost:8080/",
          "height": 373
        }
      },
      "execution_count": 40,
      "outputs": [
        {
          "output_type": "execute_result",
          "data": {
            "text/plain": [
              "<matplotlib.axes._subplots.AxesSubplot at 0x7f45dc128350>"
            ]
          },
          "metadata": {},
          "execution_count": 40
        },
        {
          "output_type": "display_data",
          "data": {
            "text/plain": [
              "<Figure size 720x360 with 2 Axes>"
            ],
            "image/png": "[encoded data removed]"
          },
          "metadata": {
            "needs_background": "light"
          }
        }
      ]
    },
    {
      "cell_type": "code",
      "source": [
        "fig, ax = plt.subplots(1, 2, figsize = (10, 5))\n",
        "sns.scatterplot(data = tb_test, x = 'OverallQual', y = 'SalePrice', ax = ax[0])\n",
        "sns.scatterplot(data = tb_test, x = 'OverallQual', y = 'pred_lm_SalePrice', ax = ax[1])"
      ],
      "metadata": {
        "id": "5ihKZmsE1fJE",
        "outputId": "ec39e70e-be00-4c7a-eb4d-0e595aafb17a",
        "colab": {
          "base_uri": "https://localhost:8080/",
          "height": 372
        }
      },
      "execution_count": 41,
      "outputs": [
        {
          "output_type": "execute_result",
          "data": {
            "text/plain": [
              "<matplotlib.axes._subplots.AxesSubplot at 0x7f45dc073c10>"
            ]
          },
          "metadata": {},
          "execution_count": 41
        },
        {
          "output_type": "display_data",
          "data": {
            "text/plain": [
              "<Figure size 720x360 with 2 Axes>"
            ],
            "image/png": "[encoded data removed]"
          },
          "metadata": {
            "needs_background": "light"
          }
        }
      ]
    },
    {
      "cell_type": "markdown",
      "metadata": {
        "id": "IWzGsINdgUyU"
      },
      "source": [
        "# kNN\n",
        "\n",
        "**Hyper-parameters:**\n",
        "\n",
        "1. `n_neighbors` - number of k nearest neighbors used to build model.\n",
        "1. `weights` - `\"uniform\"` or `\"distance\"`, how neighbor values are weighed."
      ]
    },
    {
      "cell_type": "code",
      "execution_count": 42,
      "metadata": {
        "id": "-jIJC0NKgUyU"
      },
      "outputs": [],
      "source": [
        "from sklearn.neighbors import KNeighborsRegressor\n"
      ]
    },
    {
      "cell_type": "code",
      "execution_count": 55,
      "metadata": {
        "id": "ofcPzXpdgUyV",
        "outputId": "e800d1fb-82a2-4ad1-9277-2a70ac7f0410",
        "colab": {
          "base_uri": "https://localhost:8080/"
        }
      },
      "outputs": [
        {
          "output_type": "execute_result",
          "data": {
            "text/plain": [
              "KNeighborsRegressor(n_neighbors=15)"
            ]
          },
          "metadata": {},
          "execution_count": 55
        }
      ],
      "source": [
        "knn_fit = KNeighborsRegressor(n_neighbors=1)\n",
        "knn_fit.fit(X_train_trans, y_train)\n"
      ]
    },
    {
      "cell_type": "code",
      "source": [
        "y_pred = knn_fit.predict(X_test_trans)\n"
      ],
      "metadata": {
        "id": "LNB30I294zYb"
      },
      "execution_count": 56,
      "outputs": []
    },
    {
      "cell_type": "code",
      "source": [
        "2.718 ** 12"
      ],
      "metadata": {
        "id": "MAQXyP0f5LBu",
        "outputId": "dabb4c41-338a-4f0b-8dff-441ee769c4bc",
        "colab": {
          "base_uri": "https://localhost:8080/"
        }
      },
      "execution_count": 57,
      "outputs": [
        {
          "output_type": "execute_result",
          "data": {
            "text/plain": [
              "162552.4160011032"
            ]
          },
          "metadata": {},
          "execution_count": 57
        }
      ]
    },
    {
      "cell_type": "code",
      "execution_count": 44,
      "metadata": {
        "id": "mPWNJDEygUyV",
        "outputId": "091ea85c-7a5e-471f-c0a4-e9a2b0ae176a",
        "colab": {
          "base_uri": "https://localhost:8080/",
          "height": 488
        }
      },
      "outputs": [
        {
          "output_type": "execute_result",
          "data": {
            "text/plain": [
              "         y_real     y_pred  log_GrLivArea  OverallQual  lot_ocuppation  \\\n",
              "166   12.154779  12.023488       7.532088            5        0.174356   \n",
              "454   12.144197  11.909262       7.454720            5        0.185866   \n",
              "329   11.264464  11.594210       7.083388            5        0.186192   \n",
              "1292  11.585246  11.835109       7.771489            5        0.359394   \n",
              "970   11.813030  11.617779       7.083388            4        0.110370   \n",
              "...         ...        ...            ...          ...             ...   \n",
              "1356  11.608236  11.652971       6.793466            5        0.094123   \n",
              "1074  12.175613  12.166841       7.122867            7        0.144928   \n",
              "1107  12.523526  12.397918       7.611348            7        0.086899   \n",
              "1433  12.136187  12.161132       7.491088            6        0.174642   \n",
              "997   12.128111  12.007163       7.273786            6        0.123069   \n",
              "\n",
              "     grp_HeatingQC grp_MSZoning  SalePrice  pred_lm_SalePrice  \\\n",
              "166           Good           RL   190000.0      166622.825390   \n",
              "454            Bad           RL   188000.0      148636.909826   \n",
              "329            Bad           RM    78000.0      108467.980203   \n",
              "1292           Bad           RM   107500.0      138013.812765   \n",
              "970            Bad           RL   135000.0      111054.764618   \n",
              "...            ...          ...        ...                ...   \n",
              "1356           Bad           RL   110000.0      115032.597717   \n",
              "1074          Good           RL   194000.0      192305.525616   \n",
              "1107          Good           RL   274725.0      242296.641924   \n",
              "1433          Good           RL   186500.0      191210.869765   \n",
              "997            Bad           RL   185000.0      163924.743616   \n",
              "\n",
              "      pred_1nn_SalePrice  \n",
              "166             137000.0  \n",
              "454             126000.0  \n",
              "329             100000.0  \n",
              "1292            136000.0  \n",
              "970             137500.0  \n",
              "...                  ...  \n",
              "1356            122000.0  \n",
              "1074            178000.0  \n",
              "1107            242000.0  \n",
              "1433            165150.0  \n",
              "997             158000.0  \n",
              "\n",
              "[365 rows x 10 columns]"
            ],
            "text/html": [
              "\n",
              "  <div id=\"df-7ca2ac8e-eb8c-47c3-bd7b-fc1e8b057b5d\">\n",
              "    <div class=\"colab-df-container\">\n",
              "      <div>\n",
              "<style scoped>\n",
              "    .dataframe tbody tr th:only-of-type {\n",
              "        vertical-align: middle;\n",
              "    }\n",
              "\n",
              "    .dataframe tbody tr th {\n",
              "        vertical-align: top;\n",
              "    }\n",
              "\n",
              "    .dataframe thead th {\n",
              "        text-align: right;\n",
              "    }\n",
              "</style>\n",
              "<table border=\"1\" class=\"dataframe\">\n",
              "  <thead>\n",
              "    <tr style=\"text-align: right;\">\n",
              "      <th></th>\n",
              "      <th>y_real</th>\n",
              "      <th>y_pred</th>\n",
              "      <th>log_GrLivArea</th>\n",
              "      <th>OverallQual</th>\n",
              "      <th>lot_ocuppation</th>\n",
              "      <th>grp_HeatingQC</th>\n",
              "      <th>grp_MSZoning</th>\n",
              "      <th>SalePrice</th>\n",
              "      <th>pred_lm_SalePrice</th>\n",
              "      <th>pred_1nn_SalePrice</th>\n",
              "    </tr>\n",
              "  </thead>\n",
              "  <tbody>\n",
              "    <tr>\n",
              "      <th>166</th>\n",
              "      <td>12.154779</td>\n",
              "      <td>12.023488</td>\n",
              "      <td>7.532088</td>\n",
              "      <td>5</td>\n",
              "      <td>0.174356</td>\n",
              "      <td>Good</td>\n",
              "      <td>RL</td>\n",
              "      <td>190000.0</td>\n",
              "      <td>166622.825390</td>\n",
              "      <td>137000.0</td>\n",
              "    </tr>\n",
              "    <tr>\n",
              "      <th>454</th>\n",
              "      <td>12.144197</td>\n",
              "      <td>11.909262</td>\n",
              "      <td>7.454720</td>\n",
              "      <td>5</td>\n",
              "      <td>0.185866</td>\n",
              "      <td>Bad</td>\n",
              "      <td>RL</td>\n",
              "      <td>188000.0</td>\n",
              "      <td>148636.909826</td>\n",
              "      <td>126000.0</td>\n",
              "    </tr>\n",
              "    <tr>\n",
              "      <th>329</th>\n",
              "      <td>11.264464</td>\n",
              "      <td>11.594210</td>\n",
              "      <td>7.083388</td>\n",
              "      <td>5</td>\n",
              "      <td>0.186192</td>\n",
              "      <td>Bad</td>\n",
              "      <td>RM</td>\n",
              "      <td>78000.0</td>\n",
              "      <td>108467.980203</td>\n",
              "      <td>100000.0</td>\n",
              "    </tr>\n",
              "    <tr>\n",
              "      <th>1292</th>\n",
              "      <td>11.585246</td>\n",
              "      <td>11.835109</td>\n",
              "      <td>7.771489</td>\n",
              "      <td>5</td>\n",
              "      <td>0.359394</td>\n",
              "      <td>Bad</td>\n",
              "      <td>RM</td>\n",
              "      <td>107500.0</td>\n",
              "      <td>138013.812765</td>\n",
              "      <td>136000.0</td>\n",
              "    </tr>\n",
              "    <tr>\n",
              "      <th>970</th>\n",
              "      <td>11.813030</td>\n",
              "      <td>11.617779</td>\n",
              "      <td>7.083388</td>\n",
              "      <td>4</td>\n",
              "      <td>0.110370</td>\n",
              "      <td>Bad</td>\n",
              "      <td>RL</td>\n",
              "      <td>135000.0</td>\n",
              "      <td>111054.764618</td>\n",
              "      <td>137500.0</td>\n",
              "    </tr>\n",
              "    <tr>\n",
              "      <th>...</th>\n",
              "      <td>...</td>\n",
              "      <td>...</td>\n",
              "      <td>...</td>\n",
              "      <td>...</td>\n",
              "      <td>...</td>\n",
              "      <td>...</td>\n",
              "      <td>...</td>\n",
              "      <td>...</td>\n",
              "      <td>...</td>\n",
              "      <td>...</td>\n",
              "    </tr>\n",
              "    <tr>\n",
              "      <th>1356</th>\n",
              "      <td>11.608236</td>\n",
              "      <td>11.652971</td>\n",
              "      <td>6.793466</td>\n",
              "      <td>5</td>\n",
              "      <td>0.094123</td>\n",
              "      <td>Bad</td>\n",
              "      <td>RL</td>\n",
              "      <td>110000.0</td>\n",
              "      <td>115032.597717</td>\n",
              "      <td>122000.0</td>\n",
              "    </tr>\n",
              "    <tr>\n",
              "      <th>1074</th>\n",
              "      <td>12.175613</td>\n",
              "      <td>12.166841</td>\n",
              "      <td>7.122867</td>\n",
              "      <td>7</td>\n",
              "      <td>0.144928</td>\n",
              "      <td>Good</td>\n",
              "      <td>RL</td>\n",
              "      <td>194000.0</td>\n",
              "      <td>192305.525616</td>\n",
              "      <td>178000.0</td>\n",
              "    </tr>\n",
              "    <tr>\n",
              "      <th>1107</th>\n",
              "      <td>12.523526</td>\n",
              "      <td>12.397918</td>\n",
              "      <td>7.611348</td>\n",
              "      <td>7</td>\n",
              "      <td>0.086899</td>\n",
              "      <td>Good</td>\n",
              "      <td>RL</td>\n",
              "      <td>274725.0</td>\n",
              "      <td>242296.641924</td>\n",
              "      <td>242000.0</td>\n",
              "    </tr>\n",
              "    <tr>\n",
              "      <th>1433</th>\n",
              "      <td>12.136187</td>\n",
              "      <td>12.161132</td>\n",
              "      <td>7.491088</td>\n",
              "      <td>6</td>\n",
              "      <td>0.174642</td>\n",
              "      <td>Good</td>\n",
              "      <td>RL</td>\n",
              "      <td>186500.0</td>\n",
              "      <td>191210.869765</td>\n",
              "      <td>165150.0</td>\n",
              "    </tr>\n",
              "    <tr>\n",
              "      <th>997</th>\n",
              "      <td>12.128111</td>\n",
              "      <td>12.007163</td>\n",
              "      <td>7.273786</td>\n",
              "      <td>6</td>\n",
              "      <td>0.123069</td>\n",
              "      <td>Bad</td>\n",
              "      <td>RL</td>\n",
              "      <td>185000.0</td>\n",
              "      <td>163924.743616</td>\n",
              "      <td>158000.0</td>\n",
              "    </tr>\n",
              "  </tbody>\n",
              "</table>\n",
              "<p>365 rows × 10 columns</p>\n",
              "</div>\n",
              "      <button class=\"colab-df-convert\" onclick=\"convertToInteractive('df-7ca2ac8e-eb8c-47c3-bd7b-fc1e8b057b5d')\"\n",
              "              title=\"Convert this dataframe to an interactive table.\"\n",
              "              style=\"display:none;\">\n",
              "        \n",
              "  <svg xmlns=\"http://www.w3.org/2000/svg\" height=\"24px\"viewBox=\"0 0 24 24\"\n",
              "       width=\"24px\">\n",
              "    <path d=\"M0 0h24v24H0V0z\" fill=\"none\"/>\n",
              "    <path d=\"M18.56 5.44l.94 2.06.94-2.06 2.06-.94-2.06-.94-.94-2.06-.94 2.06-2.06.94zm-11 1L8.5 8.5l.94-2.06 2.06-.94-2.06-.94L8.5 2.5l-.94 2.06-2.06.94zm10 10l.94 2.06.94-2.06 2.06-.94-2.06-.94-.94-2.06-.94 2.06-2.06.94z\"/><path d=\"M17.41 7.96l-1.37-1.37c-.4-.4-.92-.59-1.43-.59-.52 0-1.04.2-1.43.59L10.3 9.45l-7.72 7.72c-.78.78-.78 2.05 0 2.83L4 21.41c.39.39.9.59 1.41.59.51 0 1.02-.2 1.41-.59l7.78-7.78 2.81-2.81c.8-.78.8-2.07 0-2.86zM5.41 20L4 18.59l7.72-7.72 1.47 1.35L5.41 20z\"/>\n",
              "  </svg>\n",
              "      </button>\n",
              "      \n",
              "  <style>\n",
              "    .colab-df-container {\n",
              "      display:flex;\n",
              "      flex-wrap:wrap;\n",
              "      gap: 12px;\n",
              "    }\n",
              "\n",
              "    .colab-df-convert {\n",
              "      background-color: #E8F0FE;\n",
              "      border: none;\n",
              "      border-radius: 50%;\n",
              "      cursor: pointer;\n",
              "      display: none;\n",
              "      fill: #1967D2;\n",
              "      height: 32px;\n",
              "      padding: 0 0 0 0;\n",
              "      width: 32px;\n",
              "    }\n",
              "\n",
              "    .colab-df-convert:hover {\n",
              "      background-color: #E2EBFA;\n",
              "      box-shadow: 0px 1px 2px rgba(60, 64, 67, 0.3), 0px 1px 3px 1px rgba(60, 64, 67, 0.15);\n",
              "      fill: #174EA6;\n",
              "    }\n",
              "\n",
              "    [theme=dark] .colab-df-convert {\n",
              "      background-color: #3B4455;\n",
              "      fill: #D2E3FC;\n",
              "    }\n",
              "\n",
              "    [theme=dark] .colab-df-convert:hover {\n",
              "      background-color: #434B5C;\n",
              "      box-shadow: 0px 1px 3px 1px rgba(0, 0, 0, 0.15);\n",
              "      filter: drop-shadow(0px 1px 2px rgba(0, 0, 0, 0.3));\n",
              "      fill: #FFFFFF;\n",
              "    }\n",
              "  </style>\n",
              "\n",
              "      <script>\n",
              "        const buttonEl =\n",
              "          document.querySelector('#df-7ca2ac8e-eb8c-47c3-bd7b-fc1e8b057b5d button.colab-df-convert');\n",
              "        buttonEl.style.display =\n",
              "          google.colab.kernel.accessAllowed ? 'block' : 'none';\n",
              "\n",
              "        async function convertToInteractive(key) {\n",
              "          const element = document.querySelector('#df-7ca2ac8e-eb8c-47c3-bd7b-fc1e8b057b5d');\n",
              "          const dataTable =\n",
              "            await google.colab.kernel.invokeFunction('convertToInteractive',\n",
              "                                                     [key], {});\n",
              "          if (!dataTable) return;\n",
              "\n",
              "          const docLinkHtml = 'Like what you see? Visit the ' +\n",
              "            '<a target=\"_blank\" href=https://colab.research.google.com/notebooks/data_table.ipynb>data table notebook</a>'\n",
              "            + ' to learn more about interactive tables.';\n",
              "          element.innerHTML = '';\n",
              "          dataTable['output_type'] = 'display_data';\n",
              "          await google.colab.output.renderOutput(dataTable, element);\n",
              "          const docLink = document.createElement('div');\n",
              "          docLink.innerHTML = docLinkHtml;\n",
              "          element.appendChild(docLink);\n",
              "        }\n",
              "      </script>\n",
              "    </div>\n",
              "  </div>\n",
              "  "
            ]
          },
          "metadata": {},
          "execution_count": 44
        }
      ],
      "source": [
        "tb_test[\"pred_1nn_SalePrice\"] = np.exp(y_pred)\n",
        "tb_test\n"
      ]
    },
    {
      "cell_type": "code",
      "execution_count": 48,
      "metadata": {
        "id": "B7kqIPyEgUyV",
        "outputId": "ff045a0f-a345-4217-840d-e90472f8dc0e",
        "colab": {
          "base_uri": "https://localhost:8080/"
        }
      },
      "outputs": [
        {
          "output_type": "execute_result",
          "data": {
            "text/plain": [
              "45771.89"
            ]
          },
          "metadata": {},
          "execution_count": 48
        }
      ],
      "source": [
        "np.round(\n",
        "    np.sqrt(mean_squared_error(tb_test[\"SalePrice\"], tb_test[\"pred_1nn_SalePrice\"])), 2\n",
        ")\n"
      ]
    },
    {
      "cell_type": "code",
      "source": [
        "np.round(\n",
        "    np.sqrt(mean_squared_error(tb_test[\"SalePrice\"], tb_test[\"pred_lm_SalePrice\"])), 2\n",
        ")"
      ],
      "metadata": {
        "id": "su5o_brp5gPb",
        "outputId": "657b0b55-be5a-4d63-ba28-6c66a2785b6a",
        "colab": {
          "base_uri": "https://localhost:8080/"
        }
      },
      "execution_count": 49,
      "outputs": [
        {
          "output_type": "execute_result",
          "data": {
            "text/plain": [
              "40476.64"
            ]
          },
          "metadata": {},
          "execution_count": 49
        }
      ]
    },
    {
      "cell_type": "markdown",
      "metadata": {
        "id": "1kBQujbBgUyV"
      },
      "source": [
        "## Optimizing KNN"
      ]
    },
    {
      "cell_type": "code",
      "execution_count": 54,
      "metadata": {
        "id": "hnFBMiufgUyW",
        "outputId": "f2574b9f-e1ba-4a32-dd83-a1c35c8b8a93",
        "colab": {
          "base_uri": "https://localhost:8080/"
        }
      },
      "outputs": [
        {
          "output_type": "stream",
          "name": "stdout",
          "text": [
            "1-NN RMSE: 45771.89\n",
            "5-NN RMSE: 38403.67\n",
            "10-NN RMSE: 38300.68\n",
            "25-NN RMSE: 37716.27\n",
            "50-NN RMSE: 38968.9\n"
          ]
        }
      ],
      "source": [
        "n_k = [1, 5, 10, 25, 50]\n",
        "for k in n_k:\n",
        "    knn_fit = KNeighborsRegressor(n_neighbors=k, weights=\"distance\")\n",
        "    knn_fit.fit(X_train_trans, y_train)\n",
        "\n",
        "\n",
        "    y_pred = knn_fit.predict(X_test_trans)\n",
        "\n",
        "    error = np.round(\n",
        "        np.sqrt(mean_squared_error(tb_test[\"SalePrice\"], np.exp(y_pred))), 2\n",
        "    )\n",
        "\n",
        "    print(f\"{k}-NN RMSE: {error}\")\n"
      ]
    },
    {
      "cell_type": "code",
      "source": [
        "# Back at 11h10!"
      ],
      "metadata": {
        "id": "j40rOUQ_7C59"
      },
      "execution_count": null,
      "outputs": []
    },
    {
      "cell_type": "markdown",
      "metadata": {
        "id": "i84A47Q_gUyW"
      },
      "source": [
        "# Decision Trees\n",
        "\n",
        "**Hyperparameters:**\n",
        "1. `max_depth`: maximum depth of tree\n",
        "1. `min_samples_leaf`: minimum number of training points at each leaf\n",
        "1. `min_samples_split`: minimum number of training points at each branch"
      ]
    },
    {
      "cell_type": "code",
      "execution_count": 58,
      "metadata": {
        "id": "n4FWlUXdgUyW"
      },
      "outputs": [],
      "source": [
        "from sklearn.tree import DecisionTreeRegressor\n"
      ]
    },
    {
      "cell_type": "code",
      "execution_count": 59,
      "metadata": {
        "id": "ge3DkdnkgUyW",
        "outputId": "b5b1c9c3-d143-4965-c217-43c7b9f3e3ef",
        "colab": {
          "base_uri": "https://localhost:8080/"
        }
      },
      "outputs": [
        {
          "output_type": "execute_result",
          "data": {
            "text/plain": [
              "DecisionTreeRegressor()"
            ]
          },
          "metadata": {},
          "execution_count": 59
        }
      ],
      "source": [
        "dt_fit = DecisionTreeRegressor()\n",
        "dt_fit.fit(X_train_trans, y_train)\n"
      ]
    },
    {
      "cell_type": "code",
      "execution_count": 60,
      "metadata": {
        "id": "C1VWMHczgUyX"
      },
      "outputs": [],
      "source": [
        "y_pred = dt_fit.predict(X_test_trans)\n",
        "tb_test[\"pred_dt_SalePrice\"] = np.exp(y_pred)\n"
      ]
    },
    {
      "cell_type": "code",
      "execution_count": 61,
      "metadata": {
        "id": "hNgP5MJbgUyX",
        "outputId": "b9576a5c-a515-4102-f6a0-f7b30f04c6af",
        "colab": {
          "base_uri": "https://localhost:8080/"
        }
      },
      "outputs": [
        {
          "output_type": "execute_result",
          "data": {
            "text/plain": [
              "50899.72"
            ]
          },
          "metadata": {},
          "execution_count": 61
        }
      ],
      "source": [
        "np.round(\n",
        "    np.sqrt(mean_squared_error(tb_test[\"SalePrice\"], tb_test[\"pred_dt_SalePrice\"])), 2\n",
        ")\n"
      ]
    },
    {
      "cell_type": "markdown",
      "metadata": {
        "id": "y_b8sf-WgUyX"
      },
      "source": [
        "## Checking for Overfitting"
      ]
    },
    {
      "cell_type": "code",
      "execution_count": 62,
      "metadata": {
        "id": "OLX6gQ_0gUyX",
        "outputId": "4a55c003-e2d8-4bfa-d7e8-199ac85729da",
        "colab": {
          "base_uri": "https://localhost:8080/"
        }
      },
      "outputs": [
        {
          "output_type": "execute_result",
          "data": {
            "text/plain": [
              "24"
            ]
          },
          "metadata": {},
          "execution_count": 62
        }
      ],
      "source": [
        "dt_fit.get_depth()\n"
      ]
    },
    {
      "cell_type": "code",
      "execution_count": 64,
      "metadata": {
        "id": "rqEMDmFpgUyX",
        "outputId": "7722837d-044e-4eb1-c2c2-2ff0da6dbdf3",
        "colab": {
          "base_uri": "https://localhost:8080/"
        }
      },
      "outputs": [
        {
          "output_type": "execute_result",
          "data": {
            "text/plain": [
              "814.1609967014682"
            ]
          },
          "metadata": {},
          "execution_count": 64
        }
      ],
      "source": [
        "y_train_pred = dt_fit.predict(X_train_trans)\n",
        "np.sqrt(mean_squared_error(np.exp(y_train), np.exp(y_train_pred)))\n"
      ]
    },
    {
      "cell_type": "markdown",
      "metadata": {
        "id": "n4wnSDjdgUyY"
      },
      "source": [
        "## Correcting Overfit Decision Trees\n",
        "\n",
        "A decision tree's complexity is directly proportional to the amount of overfitting: more complex trees will have a higher probability of overfitting compared to simples trees.\n",
        "\n",
        "Let's limit our tree's complexity using our 3 hyperparameters:\n",
        "\n",
        "1. The deeper a tree (**larger `max_depth`**), the **more complex** the tree;\n",
        "1. The smaller the leafs (**smaller `min_samples_leaf`**), the **more complex** the tree;\n",
        "1. The smaller the branches (**smaller `min_samples_split`**), the **more complex** the tree;\n",
        "\n",
        "The easiest way to reduce a tree's complexity is by training trees of smaller `max_depth`:"
      ]
    },
    {
      "cell_type": "code",
      "execution_count": 66,
      "metadata": {
        "id": "ZUwJUgacgUyY",
        "outputId": "b9acfaa3-d1c5-4a6c-d72c-eedfeddc2048",
        "colab": {
          "base_uri": "https://localhost:8080/"
        }
      },
      "outputs": [
        {
          "output_type": "execute_result",
          "data": {
            "text/plain": [
              "43511.62"
            ]
          },
          "metadata": {},
          "execution_count": 66
        }
      ],
      "source": [
        "dt_fit = DecisionTreeRegressor(max_depth=5)\n",
        "dt_fit.fit(X_train_trans, y_train)\n",
        "y_pred = dt_fit.predict(X_test_trans)\n",
        "tb_test[\"pred_dt_SalePrice\"] = np.exp(y_pred)\n",
        "np.round(\n",
        "    np.sqrt(mean_squared_error(tb_test[\"SalePrice\"], tb_test[\"pred_dt_SalePrice\"])), 2\n",
        ")\n"
      ]
    },
    {
      "cell_type": "markdown",
      "metadata": {
        "id": "rWYdfAT4gUyY"
      },
      "source": [
        "We can use **nested loops** to test different hyperparameters:"
      ]
    },
    {
      "cell_type": "code",
      "source": [
        "len(list(range(10, 201, 5))) * len(list(range(1, 50, 5))) * len(list(range(2, 100, 5)))\n"
      ],
      "metadata": {
        "id": "MEiYbViOEW06",
        "outputId": "0a85d3e2-a782-444c-e078-3ef1a889841c",
        "colab": {
          "base_uri": "https://localhost:8080/"
        }
      },
      "execution_count": 67,
      "outputs": [
        {
          "output_type": "execute_result",
          "data": {
            "text/plain": [
              "7800"
            ]
          },
          "metadata": {},
          "execution_count": 67
        }
      ]
    },
    {
      "cell_type": "code",
      "execution_count": 71,
      "metadata": {
        "id": "LpkIGaFugUyY"
      },
      "outputs": [],
      "source": [
        "max_depth_list = range(10, 201, 5)\n",
        "min_samples_leaf_list = range(1, 50, 5)\n",
        "min_samples_split_list = range(2, 100, 5)\n",
        "errors = []\n",
        "for depth in max_depth_list:\n",
        "    for leaf in min_samples_leaf_list:\n",
        "        for split in min_samples_split_list:\n",
        "            dt_fit = DecisionTreeRegressor(\n",
        "                max_depth=depth, min_samples_leaf=leaf, min_samples_split=split\n",
        "            )\n",
        "            dt_fit.fit(X_train_trans, y_train)\n",
        "            y_pred = dt_fit.predict(X_test_trans)\n",
        "            error_test = np.round(\n",
        "                np.sqrt(\n",
        "                    mean_squared_error(\n",
        "                        tb_test[\"SalePrice\"], np.exp(y_pred)\n",
        "                    )\n",
        "                ),\n",
        "                2,\n",
        "            )\n",
        "\n",
        "            y_pred = dt_fit.predict(X_train_trans)\n",
        "            error_train = np.round(\n",
        "                np.sqrt(\n",
        "                    mean_squared_error(\n",
        "                        np.exp(y_train), np.exp(y_pred)\n",
        "                    )\n",
        "                ),\n",
        "                2,\n",
        "            )\n",
        "            \n",
        "            errors.append((depth, leaf, split, error_test, error_train))\n"
      ]
    },
    {
      "cell_type": "code",
      "execution_count": 74,
      "metadata": {
        "id": "nSbx4HTtgUyY"
      },
      "outputs": [],
      "source": [
        "error_simul = pd.DataFrame(errors, columns=[\"depth\", \"leaf\", \"split\", \"error_test\", \"error_train\"]).sort_values(\"error_test\")\n"
      ]
    },
    {
      "cell_type": "code",
      "source": [
        "error_simul['test_accuracy'] = 1/error_simul['error_test']\n",
        "error_simul['train_accuracy'] = 1/error_simul['error_train']"
      ],
      "metadata": {
        "id": "1Hv8xmG-GL-V"
      },
      "execution_count": 76,
      "outputs": []
    },
    {
      "cell_type": "code",
      "source": [
        "sns.scatterplot(data = error_simul, x = 'error_train', y = 'error_test')"
      ],
      "metadata": {
        "id": "oV3-YF6HFuvY",
        "outputId": "f67594a3-5d40-4190-c736-3d4d3cea6625",
        "colab": {
          "base_uri": "https://localhost:8080/",
          "height": 318
        }
      },
      "execution_count": 78,
      "outputs": [
        {
          "output_type": "execute_result",
          "data": {
            "text/plain": [
              "<matplotlib.axes._subplots.AxesSubplot at 0x7f45db7bf190>"
            ]
          },
          "metadata": {},
          "execution_count": 78
        },
        {
          "output_type": "display_data",
          "data": {
            "text/plain": [
              "<Figure size 432x288 with 1 Axes>"
            ],
            "image/png": "[encoded data removed]"
          },
          "metadata": {
            "needs_background": "light"
          }
        }
      ]
    },
    {
      "cell_type": "markdown",
      "metadata": {
        "id": "u6UWvxg1gUyY"
      },
      "source": [
        "## Visualizing the Tree\n"
      ]
    },
    {
      "cell_type": "code",
      "execution_count": 79,
      "metadata": {
        "id": "M21oQR7ogUyY"
      },
      "outputs": [],
      "source": [
        "from sklearn.tree import plot_tree, export_graphviz"
      ]
    },
    {
      "cell_type": "code",
      "execution_count": 82,
      "metadata": {
        "id": "P-LDtgXNgUyZ",
        "outputId": "6f558ded-f7a4-4a20-fe41-4ba632ce4f93",
        "colab": {
          "base_uri": "https://localhost:8080/",
          "height": 366
        }
      },
      "outputs": [
        {
          "output_type": "display_data",
          "data": {
            "text/plain": [
              "<Figure size 2520x720 with 1 Axes>"
            ],
            "image/png": "[encoded data removed]"
          },
          "metadata": {
            "needs_background": "light"
          }
        }
      ],
      "source": [
        "dt_fit = DecisionTreeRegressor(max_depth= 6, min_samples_leaf = 13, min_samples_split = 28)\n",
        "dt_fit.fit(X_train_trans, y_train)\n",
        "plt.figure(figsize = (35, 10))\n",
        "plot_tree(dt_fit, feature_names=X_train_trans.columns, max_depth = 3);"
      ]
    },
    {
      "cell_type": "code",
      "execution_count": 83,
      "metadata": {
        "id": "83xU9JL6gUyZ"
      },
      "outputs": [],
      "source": [
        "export_graphviz(dt_fit, 'teste.dot', feature_names=X_train_trans.columns)"
      ]
    },
    {
      "cell_type": "markdown",
      "metadata": {
        "id": "sKTqflyggUyZ"
      },
      "source": [
        "# Ensemble Methods\n",
        "\n",
        "Alongside deep-learning methods, ensemble algorithms are currently the best tools available for predictive modelling. They have the precision associated with decision trees, while adopting several strategies to mitigate the overfitting risk.\n",
        "\n",
        "Let's see the two main methods of ensemble regressors: bagging and boosting."
      ]
    },
    {
      "cell_type": "markdown",
      "metadata": {
        "id": "QdrZ4Hu0gUyZ"
      },
      "source": [
        "## Bagging\n",
        "\n",
        "**RandomForestRegressor Hyperparameters**:\n",
        "\n",
        "1. `n_estimators`: number of weak learners (the more weak learners, the more complex the model);\n",
        "1. `max_depth`: complexity of each weak learner (the more complex each weak learner, the more complex the model); "
      ]
    },
    {
      "cell_type": "code",
      "execution_count": 84,
      "metadata": {
        "id": "EWQ3IkshgUyZ"
      },
      "outputs": [],
      "source": [
        "from sklearn.ensemble import RandomForestRegressor\n"
      ]
    },
    {
      "cell_type": "code",
      "execution_count": 110,
      "metadata": {
        "id": "MK3HyCqUgUyZ",
        "outputId": "92a3f596-322b-42c0-c774-59a6d7ab96c5",
        "colab": {
          "base_uri": "https://localhost:8080/"
        }
      },
      "outputs": [
        {
          "output_type": "execute_result",
          "data": {
            "text/plain": [
              "RandomForestRegressor(max_depth=16, n_estimators=1000)"
            ]
          },
          "metadata": {},
          "execution_count": 110
        }
      ],
      "source": [
        "rf_fit = RandomForestRegressor(n_estimators=1000, max_depth=16)  # RandomStumps\n",
        "rf_fit.fit(X_train_trans, y_train)\n"
      ]
    },
    {
      "cell_type": "code",
      "execution_count": 111,
      "metadata": {
        "id": "tWtG8OYWgUyZ"
      },
      "outputs": [],
      "source": [
        "y_pred = rf_fit.predict(X_test_trans)\n",
        "tb_test[\"pred_rf_SalePrice\"] = np.exp(y_pred)\n"
      ]
    },
    {
      "cell_type": "code",
      "execution_count": 112,
      "metadata": {
        "id": "23oHHJWYgUya",
        "outputId": "88eac24c-732b-4022-ffd7-f84cb2517ed0",
        "colab": {
          "base_uri": "https://localhost:8080/"
        }
      },
      "outputs": [
        {
          "output_type": "execute_result",
          "data": {
            "text/plain": [
              "42938.76"
            ]
          },
          "metadata": {},
          "execution_count": 112
        }
      ],
      "source": [
        "np.round(\n",
        "    np.sqrt(mean_squared_error(tb_test[\"SalePrice\"], tb_test[\"pred_rf_SalePrice\"])), 2\n",
        ")\n"
      ]
    },
    {
      "cell_type": "markdown",
      "metadata": {
        "id": "dVQNnuwEgUya"
      },
      "source": [
        "## Optimizing w/ GridSearch"
      ]
    },
    {
      "cell_type": "code",
      "execution_count": 113,
      "metadata": {
        "id": "eHsmGKl_gUya"
      },
      "outputs": [],
      "source": [
        "from sklearn.model_selection import GridSearchCV\n"
      ]
    },
    {
      "cell_type": "code",
      "source": [
        "range(10, 1001, 50)"
      ],
      "metadata": {
        "id": "UfiQ31flLfSQ",
        "outputId": "7dc088a5-fdd2-4f66-da84-e60a30e517a5",
        "colab": {
          "base_uri": "https://localhost:8080/"
        }
      },
      "execution_count": 114,
      "outputs": [
        {
          "output_type": "execute_result",
          "data": {
            "text/plain": [
              "range(10, 1001, 50)"
            ]
          },
          "metadata": {},
          "execution_count": 114
        }
      ]
    },
    {
      "cell_type": "code",
      "execution_count": 118,
      "metadata": {
        "id": "sYlHcAR8gUya"
      },
      "outputs": [],
      "source": [
        "hyper_parameters = {\"n_estimators\": range(10, 1001, 200), \"max_depth\": range(1, 20, 5)}\n",
        "rf_fit = RandomForestRegressor()\n",
        "cv_rf_fit = GridSearchCV(rf_fit, hyper_parameters, n_jobs=-1)\n"
      ]
    },
    {
      "cell_type": "code",
      "execution_count": 119,
      "metadata": {
        "id": "PDAXFiOvgUya",
        "outputId": "1ee7c97c-9047-4b2b-dc4d-761abd2539f6",
        "colab": {
          "base_uri": "https://localhost:8080/"
        }
      },
      "outputs": [
        {
          "output_type": "execute_result",
          "data": {
            "text/plain": [
              "GridSearchCV(estimator=RandomForestRegressor(), n_jobs=-1,\n",
              "             param_grid={'max_depth': range(1, 20, 5),\n",
              "                         'n_estimators': range(10, 1001, 200)})"
            ]
          },
          "metadata": {},
          "execution_count": 119
        }
      ],
      "source": [
        "\n",
        "cv_rf_fit.fit(X_train_trans, y_train)\n"
      ]
    },
    {
      "cell_type": "code",
      "execution_count": 120,
      "metadata": {
        "id": "Y_n1Ta_mgUya",
        "outputId": "f1e18a5b-14ea-4b60-be6f-e2f824cff7a7",
        "colab": {
          "base_uri": "https://localhost:8080/"
        }
      },
      "outputs": [
        {
          "output_type": "execute_result",
          "data": {
            "text/plain": [
              "RandomForestRegressor(max_depth=6, n_estimators=210)"
            ]
          },
          "metadata": {},
          "execution_count": 120
        }
      ],
      "source": [
        "cv_rf_fit.best_estimator_\n"
      ]
    },
    {
      "cell_type": "code",
      "execution_count": 121,
      "metadata": {
        "id": "0fiWlDfogUya",
        "outputId": "d18e6004-b92b-4644-a0cf-4c7a8ed87303",
        "colab": {
          "base_uri": "https://localhost:8080/"
        }
      },
      "outputs": [
        {
          "output_type": "execute_result",
          "data": {
            "text/plain": [
              "41451.78"
            ]
          },
          "metadata": {},
          "execution_count": 121
        }
      ],
      "source": [
        "y_pred = cv_rf_fit.predict(X_test_trans)\n",
        "tb_test[\"pred_rf_SalePrice\"] = np.exp(y_pred)\n",
        "np.round(\n",
        "    np.sqrt(mean_squared_error(tb_test[\"SalePrice\"], tb_test[\"pred_rf_SalePrice\"])), 2\n",
        ")\n"
      ]
    },
    {
      "cell_type": "markdown",
      "metadata": {
        "id": "13XLadbogUya"
      },
      "source": [
        "## Boosting"
      ]
    },
    {
      "cell_type": "markdown",
      "metadata": {
        "id": "Fr59Vf55gUya"
      },
      "source": [
        "### Cat Boosting!"
      ]
    },
    {
      "cell_type": "code",
      "source": [
        "!pip install catboost"
      ],
      "metadata": {
        "id": "2fUXKK8zOLEv",
        "outputId": "f3a4ccb5-32ea-44cc-ac93-2b0d0db06d3e",
        "colab": {
          "base_uri": "https://localhost:8080/"
        }
      },
      "execution_count": 122,
      "outputs": [
        {
          "output_type": "stream",
          "name": "stdout",
          "text": [
            "Looking in indexes: https://pypi.org/simple, https://us-python.pkg.dev/colab-wheels/public/simple/\n",
            "Collecting catboost\n",
            "  Downloading catboost-1.0.6-cp37-none-manylinux1_x86_64.whl (76.6 MB)\n",
            "\u001b[K     |████████████████████████████████| 76.6 MB 1.2 MB/s \n",
            "\u001b[?25hRequirement already satisfied: graphviz in /usr/local/lib/python3.7/dist-packages (from catboost) (0.10.1)\n",
            "Requirement already satisfied: six in /usr/local/lib/python3.7/dist-packages (from catboost) (1.15.0)\n",
            "Requirement already satisfied: numpy>=1.16.0 in /usr/local/lib/python3.7/dist-packages (from catboost) (1.21.6)\n",
            "Requirement already satisfied: matplotlib in /usr/local/lib/python3.7/dist-packages (from catboost) (3.2.2)\n",
            "Requirement already satisfied: plotly in /usr/local/lib/python3.7/dist-packages (from catboost) (5.5.0)\n",
            "Requirement already satisfied: scipy in /usr/local/lib/python3.7/dist-packages (from catboost) (1.7.3)\n",
            "Requirement already satisfied: pandas>=0.24.0 in /usr/local/lib/python3.7/dist-packages (from catboost) (1.3.5)\n",
            "Requirement already satisfied: pytz>=2017.3 in /usr/local/lib/python3.7/dist-packages (from pandas>=0.24.0->catboost) (2022.2.1)\n",
            "Requirement already satisfied: python-dateutil>=2.7.3 in /usr/local/lib/python3.7/dist-packages (from pandas>=0.24.0->catboost) (2.8.2)\n",
            "Requirement already satisfied: pyparsing!=2.0.4,!=2.1.2,!=2.1.6,>=2.0.1 in /usr/local/lib/python3.7/dist-packages (from matplotlib->catboost) (3.0.9)\n",
            "Requirement already satisfied: cycler>=0.10 in /usr/local/lib/python3.7/dist-packages (from matplotlib->catboost) (0.11.0)\n",
            "Requirement already satisfied: kiwisolver>=1.0.1 in /usr/local/lib/python3.7/dist-packages (from matplotlib->catboost) (1.4.4)\n",
            "Requirement already satisfied: typing-extensions in /usr/local/lib/python3.7/dist-packages (from kiwisolver>=1.0.1->matplotlib->catboost) (4.1.1)\n",
            "Requirement already satisfied: tenacity>=6.2.0 in /usr/local/lib/python3.7/dist-packages (from plotly->catboost) (8.0.1)\n",
            "Installing collected packages: catboost\n",
            "Successfully installed catboost-1.0.6\n"
          ]
        }
      ]
    },
    {
      "cell_type": "code",
      "execution_count": 124,
      "metadata": {
        "id": "qaeKgOyPgUya"
      },
      "outputs": [],
      "source": [
        "import catboost as cat\n"
      ]
    },
    {
      "cell_type": "code",
      "execution_count": 130,
      "metadata": {
        "id": "ZtE6BRBXgUyb"
      },
      "outputs": [],
      "source": [
        "cat_fit = cat.CatBoost (iterations=20000, depth=5, od_type=\"Iter\", od_wait=500, verbose = False)\n"
      ]
    },
    {
      "cell_type": "code",
      "source": [
        "cat_fit.fit(X_train_trans, y_train, eval_set=(X_test_trans, y_test))"
      ],
      "metadata": {
        "id": "G8aoj6c2QaMK",
        "outputId": "0a745846-7143-4204-e810-10f0ac9a7a84",
        "colab": {
          "base_uri": "https://localhost:8080/"
        }
      },
      "execution_count": 131,
      "outputs": [
        {
          "output_type": "execute_result",
          "data": {
            "text/plain": [
              "<catboost.core.CatBoostRegressor at 0x7f45c3cead10>"
            ]
          },
          "metadata": {},
          "execution_count": 131
        }
      ]
    },
    {
      "cell_type": "code",
      "execution_count": 132,
      "metadata": {
        "id": "jMxZP7NggUyb",
        "outputId": "40bc851b-7777-458a-89cd-4852260057f1",
        "colab": {
          "base_uri": "https://localhost:8080/"
        }
      },
      "outputs": [
        {
          "output_type": "execute_result",
          "data": {
            "text/plain": [
              "37863.19"
            ]
          },
          "metadata": {},
          "execution_count": 132
        }
      ],
      "source": [
        "y_pred = cat_fit.predict(X_test_trans)\n",
        "tb_test[\"pred_cat_SalePrice\"] = np.exp(y_pred)\n",
        "np.round(\n",
        "    np.sqrt(mean_squared_error(tb_test[\"SalePrice\"], tb_test[\"pred_cat_SalePrice\"])), 2\n",
        ")\n"
      ]
    },
    {
      "cell_type": "markdown",
      "metadata": {
        "id": "SPHEYs2agUyb"
      },
      "source": [
        "# Including more Variables"
      ]
    },
    {
      "cell_type": "code",
      "execution_count": 133,
      "metadata": {
        "id": "JfjRNc51gUyb",
        "outputId": "507ebe99-672f-4938-b880-871341471365",
        "colab": {
          "base_uri": "https://localhost:8080/"
        }
      },
      "outputs": [
        {
          "output_type": "execute_result",
          "data": {
            "text/plain": [
              "Index(['GrLivArea', 'BsmtFullBath', 'BsmtHalfBath', 'FullBath', 'HalfBath',\n",
              "       'BedroomAbvGr', 'KitchenAbvGr', 'TotRmsAbvGrd', 'Fireplaces',\n",
              "       'GarageYrBlt', 'GarageCars', 'GarageArea', 'WoodDeckSF', 'OpenPorchSF',\n",
              "       'EnclosedPorch', '3SsnPorch', 'ScreenPorch', 'PoolArea', 'MiscVal',\n",
              "       'MoSold', 'YrSold', 'SalePrice', 'log_SalePrice', 'log_GrLivArea',\n",
              "       'lot_ocuppation'],\n",
              "      dtype='object')"
            ]
          },
          "metadata": {},
          "execution_count": 133
        }
      ],
      "source": [
        "tb_housing_trans.select_dtypes(include=\"number\").columns[\n",
        "    np.abs(tb_housing_trans.corr()[\"SalePrice\"]).sort_values() > 0.2\n",
        "]"
      ]
    },
    {
      "cell_type": "code",
      "execution_count": 141,
      "metadata": {
        "id": "_hVrKBMzgUyb"
      },
      "outputs": [],
      "source": [
        "tb_housing_trans = var_trans(tb_housing)\n",
        "x_var = [\n",
        "    \"log_GrLivArea\",\n",
        "    \"OverallQual\",\n",
        "    \"LowQualFinSF\",\n",
        "    \"GrLivArea\",\n",
        "    \"BsmtFullBath\",\n",
        "    \"BsmtHalfBath\",\n",
        "    \"FullBath\",\n",
        "    \"HalfBath\",\n",
        "    \"BedroomAbvGr\",\n",
        "    \"KitchenAbvGr\",\n",
        "    \"TotRmsAbvGrd\",\n",
        "    \"Fireplaces\",\n",
        "    \"GarageYrBlt\",\n",
        "    \"GarageCars\",\n",
        "    \"GarageArea\",\n",
        "    \"WoodDeckSF\",\n",
        "    \"OpenPorchSF\",\n",
        "    \"EnclosedPorch\",\n",
        "    \"3SsnPorch\",\n",
        "    \"ScreenPorch\",\n",
        "    \"PoolArea\",\n",
        "    \"MiscVal\",\n",
        "    \"lot_ocuppation\"\n",
        "]\n",
        "y_var = \"log_SalePrice\"\n",
        "model_var = x_var + [y_var]\n",
        "tb_housing_model = tb_housing_trans[model_var].dropna()\n",
        "\n",
        "X = tb_housing_model[x_var]\n",
        "y = tb_housing_model[y_var]\n",
        "X_train, X_test, y_train, y_test = train_test_split(X, y)\n"
      ]
    },
    {
      "cell_type": "code",
      "execution_count": 142,
      "metadata": {
        "id": "Jb1oZzCGgUyb",
        "outputId": "171b70eb-ec5d-41e6-b11d-d5aa743ef455",
        "colab": {
          "base_uri": "https://localhost:8080/"
        }
      },
      "outputs": [
        {
          "output_type": "execute_result",
          "data": {
            "text/plain": [
              "29099.281244498135"
            ]
          },
          "metadata": {},
          "execution_count": 142
        }
      ],
      "source": [
        "lm_fit = LinearRegression()\n",
        "lm_fit.fit(X_train, y_train)\n",
        "y_pred = lm_fit.predict(X_test)\n",
        "np.sqrt(mean_squared_error(np.exp(y_test), np.exp(y_pred)))"
      ]
    },
    {
      "cell_type": "code",
      "execution_count": 145,
      "metadata": {
        "id": "UMO3pDUtgUyb",
        "outputId": "25707da1-3f3c-452e-f7b6-452307ed5011",
        "colab": {
          "base_uri": "https://localhost:8080/"
        }
      },
      "outputs": [
        {
          "output_type": "execute_result",
          "data": {
            "text/plain": [
              "<catboost.core.CatBoostRegressor at 0x7f45c3cf6890>"
            ]
          },
          "metadata": {},
          "execution_count": 145
        }
      ],
      "source": [
        "cat_fit = cat.CatBoostRegressor(iterations=20000, depth=2, od_type=\"Iter\", od_wait=1500, verbose = False)\n",
        "cat_fit.fit(X_train, y_train, eval_set=(X_test, y_test))"
      ]
    },
    {
      "cell_type": "code",
      "execution_count": 146,
      "metadata": {
        "id": "lMlnd8FigUyb",
        "outputId": "fe3262ab-700c-4818-954c-fe023184fbc1",
        "colab": {
          "base_uri": "https://localhost:8080/"
        }
      },
      "outputs": [
        {
          "output_type": "execute_result",
          "data": {
            "text/plain": [
              "28645.80467845333"
            ]
          },
          "metadata": {},
          "execution_count": 146
        }
      ],
      "source": [
        "y_pred = cat_fit.predict(X_test)\n",
        "np.sqrt(mean_squared_error(np.exp(y_test), np.exp(y_pred)))"
      ]
    },
    {
      "cell_type": "code",
      "source": [
        "# Cya in 1h30!"
      ],
      "metadata": {
        "id": "O0t_6KmoTTkr"
      },
      "execution_count": 147,
      "outputs": []
    },
    {
      "cell_type": "code",
      "source": [],
      "metadata": {
        "id": "CKf4cmgPVVCT"
      },
      "execution_count": null,
      "outputs": []
    }
  ],
  "metadata": {
    "kernelspec": {
      "display_name": "Python 3.9.11 ('base')",
      "language": "python",
      "name": "python3"
    },
    "language_info": {
      "codemirror_mode": {
        "name": "ipython",
        "version": 3
      },
      "file_extension": ".py",
      "mimetype": "text/x-python",
      "name": "python",
      "nbconvert_exporter": "python",
      "pygments_lexer": "ipython3",
      "version": "3.9.11"
    },
    "orig_nbformat": 4,
    "vscode": {
      "interpreter": {
        "hash": "014f4a4a5af8f0104b12c029e500f4146d6d785e8cf714d2a35b7a9514230cd3"
      }
    },
    "colab": {
      "provenance": []
    }
  },
  "nbformat": 4,
  "nbformat_minor": 0
}