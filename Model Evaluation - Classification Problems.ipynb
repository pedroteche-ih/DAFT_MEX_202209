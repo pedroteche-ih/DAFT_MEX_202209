{
  "cells": [
    {
      "cell_type": "code",
      "execution_count": 36,
      "metadata": {
        "id": "jcOaEamZOr7e"
      },
      "outputs": [],
      "source": [
        "import numpy as np\n",
        "import scipy as sp\n",
        "import pandas as pd\n",
        "import matplotlib.pyplot as plt\n",
        "import seaborn as sns\n",
        "\n",
        "# Transformers\n",
        "from sklearn.model_selection import train_test_split, GridSearchCV\n",
        "from sklearn.preprocessing import StandardScaler, PowerTransformer, OneHotEncoder\n",
        "from sklearn.decomposition import PCA\n",
        "from sklearn.feature_selection import SelectKBest, mutual_info_classif\n",
        "\n",
        "# Models\n",
        "from sklearn.tree import DecisionTreeClassifier\n",
        "from sklearn.linear_model import LogisticRegression\n",
        "from sklearn.neighbors import KNeighborsClassifier\n",
        "pd.set_option(\"display.max_rows\", 500)\n",
        "import warnings\n",
        "warnings.filterwarnings(\"ignore\")\n",
        "\n",
        "# Source Data\n",
        "# https://www.kaggle.com/c/ih-hotel-booking\n"
      ]
    },
    {
      "cell_type": "code",
      "execution_count": 37,
      "metadata": {
        "id": "-R3YiAqsOr7g"
      },
      "outputs": [],
      "source": [
        "url = \"https://raw.githubusercontent.com/pedroteche-ih/DAFT_MEX_202209/main/data/tb_hotel_traintest.csv\"\n",
        "tb_hotel = pd.read_csv(url, parse_dates=[\"arrival_date\", \"reservation_status_date\"])\n"
      ]
    },
    {
      "cell_type": "code",
      "execution_count": 38,
      "metadata": {
        "id": "YTOpyUXJOr7h",
        "outputId": "f339864d-a49d-4ecb-fc2a-28bc76d1e618",
        "colab": {
          "base_uri": "https://localhost:8080/"
        }
      },
      "outputs": [
        {
          "output_type": "stream",
          "name": "stdout",
          "text": [
            "<class 'pandas.core.frame.DataFrame'>\n",
            "RangeIndex: 113409 entries, 0 to 113408\n",
            "Data columns (total 29 columns):\n",
            " #   Column                          Non-Null Count   Dtype         \n",
            "---  ------                          --------------   -----         \n",
            " 0   hotel                           113409 non-null  object        \n",
            " 1   is_cancelled                    113409 non-null  int64         \n",
            " 2   lead_time                       113409 non-null  int64         \n",
            " 3   stays_in_weekend_nights         113409 non-null  int64         \n",
            " 4   stays_in_week_nights            113409 non-null  int64         \n",
            " 5   adults                          113409 non-null  int64         \n",
            " 6   children                        113406 non-null  float64       \n",
            " 7   babies                          113409 non-null  int64         \n",
            " 8   meal                            113409 non-null  object        \n",
            " 9   country                         112951 non-null  object        \n",
            " 10  market_segment                  113409 non-null  object        \n",
            " 11  distribution_channel            113409 non-null  object        \n",
            " 12  is_repeated_guest               113409 non-null  int64         \n",
            " 13  previous_cancellations          113409 non-null  int64         \n",
            " 14  previous_bookings_not_canceled  113409 non-null  int64         \n",
            " 15  reserved_room_type              113409 non-null  object        \n",
            " 16  assigned_room_type              113409 non-null  object        \n",
            " 17  booking_changes                 113409 non-null  int64         \n",
            " 18  deposit_type                    113409 non-null  object        \n",
            " 19  agent                           97918 non-null   float64       \n",
            " 20  company                         6437 non-null    float64       \n",
            " 21  days_in_waiting_list            113409 non-null  int64         \n",
            " 22  customer_type                   113409 non-null  object        \n",
            " 23  adr                             113409 non-null  float64       \n",
            " 24  required_car_parking_spaces     113409 non-null  int64         \n",
            " 25  total_of_special_requests       113409 non-null  int64         \n",
            " 26  reservation_status_date         113409 non-null  datetime64[ns]\n",
            " 27  arrival_date                    113409 non-null  datetime64[ns]\n",
            " 28  id_booking                      113409 non-null  int64         \n",
            "dtypes: datetime64[ns](2), float64(4), int64(14), object(9)\n",
            "memory usage: 25.1+ MB\n"
          ]
        }
      ],
      "source": [
        "tb_hotel.info()\n"
      ]
    },
    {
      "cell_type": "code",
      "source": [
        "tb_hotel['is_cancelled'].describe()"
      ],
      "metadata": {
        "id": "tQIO7WZHi7hl",
        "outputId": "b1b2d16c-4b08-496b-fbfd-7899d943e098",
        "colab": {
          "base_uri": "https://localhost:8080/"
        }
      },
      "execution_count": 39,
      "outputs": [
        {
          "output_type": "execute_result",
          "data": {
            "text/plain": [
              "count    113409.000000\n",
              "mean          0.370658\n",
              "std           0.482983\n",
              "min           0.000000\n",
              "25%           0.000000\n",
              "50%           0.000000\n",
              "75%           1.000000\n",
              "max           1.000000\n",
              "Name: is_cancelled, dtype: float64"
            ]
          },
          "metadata": {},
          "execution_count": 39
        }
      ]
    },
    {
      "cell_type": "markdown",
      "metadata": {
        "id": "O6mSbGl_Or7i"
      },
      "source": [
        "# Building & Evaluating Models in SKLEARN"
      ]
    },
    {
      "cell_type": "code",
      "execution_count": 40,
      "metadata": {
        "id": "1eeO-Zi3Or7j"
      },
      "outputs": [],
      "source": [
        "def clean_hotel_data(hotel_data):\n",
        "    hotel_data[\"children\"] = hotel_data[\"children\"].fillna(0)\n",
        "    hotel_data[\"country\"] = hotel_data[\"country\"].fillna(\"Unknown\")\n",
        "    hotel_data[\"is_company\"] = np.where(hotel_data[\"company\"].isna(), 0, 1)\n",
        "    hotel_data[\"is_agent\"] = np.where(hotel_data[\"agent\"].isna(), 0, 1)\n",
        "    hotel_data = hotel_data.drop(\n",
        "        [\"company\", \"agent\", \"id_booking\", \"reservation_status_date\"], axis=1\n",
        "    ).dropna()\n",
        "\n",
        "    return hotel_data\n"
      ]
    },
    {
      "cell_type": "code",
      "execution_count": 44,
      "metadata": {
        "id": "9nQRYwbcOr7j"
      },
      "outputs": [],
      "source": [
        "tb_hotel_clean = clean_hotel_data(tb_hotel)\n",
        "\n",
        "cat_vars = list(tb_hotel_clean.select_dtypes(include=\"object\").columns)\n",
        "num_vars = list(tb_hotel_clean.select_dtypes(include=\"number\").drop(\"is_cancelled\", axis=1).columns)\n"
      ]
    },
    {
      "cell_type": "code",
      "source": [
        "num_vars"
      ],
      "metadata": {
        "id": "_4qO1YNfj9YV",
        "outputId": "a5b712f6-8e64-4a81-ac02-b7babdc6fa8a",
        "colab": {
          "base_uri": "https://localhost:8080/"
        }
      },
      "execution_count": 45,
      "outputs": [
        {
          "output_type": "execute_result",
          "data": {
            "text/plain": [
              "['lead_time',\n",
              " 'stays_in_weekend_nights',\n",
              " 'stays_in_week_nights',\n",
              " 'adults',\n",
              " 'children',\n",
              " 'babies',\n",
              " 'is_repeated_guest',\n",
              " 'previous_cancellations',\n",
              " 'previous_bookings_not_canceled',\n",
              " 'booking_changes',\n",
              " 'days_in_waiting_list',\n",
              " 'adr',\n",
              " 'required_car_parking_spaces',\n",
              " 'total_of_special_requests',\n",
              " 'is_company',\n",
              " 'is_agent']"
            ]
          },
          "metadata": {},
          "execution_count": 45
        }
      ]
    },
    {
      "cell_type": "code",
      "execution_count": 46,
      "metadata": {
        "id": "rWVDRdo4Or7k"
      },
      "outputs": [],
      "source": [
        "X = tb_hotel_clean.drop(\"is_cancelled\", axis=1)\n",
        "y = tb_hotel_clean[\"is_cancelled\"]\n",
        "X_train, X_test, y_train, y_test = train_test_split(\n",
        "    X, y, test_size=0.25, random_state=42\n",
        ")"
      ]
    },
    {
      "cell_type": "code",
      "execution_count": 47,
      "metadata": {
        "id": "LTvFyKyGOr7k"
      },
      "outputs": [],
      "source": [
        "X_train_num = X_train.select_dtypes(include=\"number\")\n",
        "X_test_num = X_test[X_train_num.columns]\n"
      ]
    },
    {
      "cell_type": "markdown",
      "metadata": {
        "id": "L7OUWv8uOr7k"
      },
      "source": [
        "## Building a simple model"
      ]
    },
    {
      "cell_type": "code",
      "execution_count": 48,
      "metadata": {
        "id": "FWFrqUAnOr7l"
      },
      "outputs": [],
      "source": [
        "power_trans = PowerTransformer()\n",
        "scaler = StandardScaler()\n",
        "pca = PCA()\n",
        "dt_fit = DecisionTreeClassifier()\n",
        "log_fit = LogisticRegression()\n",
        "\n",
        "X_train_num_t = power_trans.fit_transform(X_train_num)\n",
        "#power_trans.fit(X_train_num)\n",
        "#X_train_num_t = power_trans.transform(X_train_num)\n",
        "X_train_num_s = scaler.fit_transform(X_train_num_t)\n",
        "X_train_num_p = pca.fit_transform(X_train_num_s)\n"
      ]
    },
    {
      "cell_type": "code",
      "source": [
        "X_train_num_p"
      ],
      "metadata": {
        "id": "3x4-OJg1lTj_",
        "outputId": "9d7c670c-ba7c-4fe1-9565-d42ed6386bc7",
        "colab": {
          "base_uri": "https://localhost:8080/"
        }
      },
      "execution_count": 49,
      "outputs": [
        {
          "output_type": "execute_result",
          "data": {
            "text/plain": [
              "array([[ 1.2924263 , -1.32962888, -0.84878355, ...,  1.10603404,\n",
              "         0.19332672,  0.16145615],\n",
              "       [-0.96166797, -2.70107421,  0.58372159, ...,  0.07068095,\n",
              "         0.0431116 , -0.1313557 ],\n",
              "       [-0.08770536, -0.6648112 , -1.07399632, ..., -0.35919329,\n",
              "         0.18105616,  0.05299243],\n",
              "       ...,\n",
              "       [-0.70252666, -0.60512707,  0.31210902, ...,  0.4262294 ,\n",
              "         0.16831842,  0.03184866],\n",
              "       [-0.61383912, -0.23636466, -0.43609509, ..., -0.0285662 ,\n",
              "         0.15199428,  0.00980434],\n",
              "       [-0.1636643 ,  3.45798669, -0.45634411, ...,  1.07338125,\n",
              "         0.59813458,  0.00797991]])"
            ]
          },
          "metadata": {},
          "execution_count": 49
        }
      ]
    },
    {
      "cell_type": "code",
      "execution_count": 50,
      "metadata": {
        "id": "HtEdd6POOr7m",
        "outputId": "1ea5d534-060f-401d-8917-de8a00a2221e",
        "colab": {
          "base_uri": "https://localhost:8080/"
        }
      },
      "outputs": [
        {
          "output_type": "execute_result",
          "data": {
            "text/plain": [
              "LogisticRegression()"
            ]
          },
          "metadata": {},
          "execution_count": 50
        }
      ],
      "source": [
        "log_fit.fit(X_train_num_p, y_train)\n"
      ]
    },
    {
      "cell_type": "code",
      "execution_count": 51,
      "metadata": {
        "id": "9mdKM6teOr7m",
        "outputId": "cce14f32-d020-46ad-d88a-5d739cd4f44d",
        "colab": {
          "base_uri": "https://localhost:8080/"
        }
      },
      "outputs": [
        {
          "output_type": "execute_result",
          "data": {
            "text/plain": [
              "GridSearchCV(estimator=DecisionTreeClassifier(),\n",
              "             param_grid={'max_depth': [1, 38, 75, 112, 150],\n",
              "                         'min_samples_leaf': [1, 13, 25, 37, 50],\n",
              "                         'min_samples_split': [2, 26, 51, 75, 100]})"
            ]
          },
          "metadata": {},
          "execution_count": 51
        }
      ],
      "source": [
        "para_grid = {\n",
        "    \"max_depth\": [int(x) for x in np.linspace(1, 150, 5)],\n",
        "    \"min_samples_split\": [int(x) for x in np.linspace(2, 100, 5)],\n",
        "    \"min_samples_leaf\": [int(x) for x in np.linspace(1, 50, 5)],\n",
        "}\n",
        "\n",
        "cv_fit = GridSearchCV(dt_fit, param_grid=para_grid, n_jobs = 2)\n",
        "cv_fit.fit(X_train_num_p, y_train)\n"
      ]
    },
    {
      "cell_type": "code",
      "source": [
        "cv_fit.best_estimator_"
      ],
      "metadata": {
        "id": "Zxa38-BZpMvb",
        "outputId": "f1a7cc19-0a59-4aa3-8f9e-c17314a2bf30",
        "colab": {
          "base_uri": "https://localhost:8080/"
        }
      },
      "execution_count": 52,
      "outputs": [
        {
          "output_type": "execute_result",
          "data": {
            "text/plain": [
              "DecisionTreeClassifier(max_depth=38)"
            ]
          },
          "metadata": {},
          "execution_count": 52
        }
      ]
    },
    {
      "cell_type": "code",
      "source": [
        "cv_results = pd.DataFrame(cv_fit.cv_results_)"
      ],
      "metadata": {
        "id": "zDyRR_BfpSAf"
      },
      "execution_count": 57,
      "outputs": []
    },
    {
      "cell_type": "code",
      "source": [
        "cv_results.columns"
      ],
      "metadata": {
        "id": "OqLp28uBp2tm",
        "outputId": "91d0854d-98b5-40b0-bafa-fea3b6b19015",
        "colab": {
          "base_uri": "https://localhost:8080/"
        }
      },
      "execution_count": 59,
      "outputs": [
        {
          "output_type": "execute_result",
          "data": {
            "text/plain": [
              "Index(['mean_fit_time', 'std_fit_time', 'mean_score_time', 'std_score_time',\n",
              "       'param_max_depth', 'param_min_samples_leaf', 'param_min_samples_split',\n",
              "       'params', 'split0_test_score', 'split1_test_score', 'split2_test_score',\n",
              "       'split3_test_score', 'split4_test_score', 'mean_test_score',\n",
              "       'std_test_score', 'rank_test_score'],\n",
              "      dtype='object')"
            ]
          },
          "metadata": {},
          "execution_count": 59
        }
      ]
    },
    {
      "cell_type": "code",
      "source": [
        "sns.boxplot(data = cv_results[cv_results['param_max_depth'] > 10], x = 'param_min_samples_leaf', y = 'mean_test_score')"
      ],
      "metadata": {
        "id": "VZ3fo55xpzZi",
        "outputId": "21fb5abc-037d-4726-8985-5ac0953d2c7f",
        "colab": {
          "base_uri": "https://localhost:8080/",
          "height": 318
        }
      },
      "execution_count": 62,
      "outputs": [
        {
          "output_type": "execute_result",
          "data": {
            "text/plain": [
              "<matplotlib.axes._subplots.AxesSubplot at 0x7f8dee991410>"
            ]
          },
          "metadata": {},
          "execution_count": 62
        },
        {
          "output_type": "display_data",
          "data": {
            "text/plain": [
              "<Figure size 432x288 with 1 Axes>"
            ],
            "image/png": "[encoded data removed]"
          },
          "metadata": {
            "needs_background": "light"
          }
        }
      ]
    },
    {
      "cell_type": "markdown",
      "metadata": {
        "id": "tl6he072Or7m"
      },
      "source": [
        "### Evaluating models"
      ]
    },
    {
      "cell_type": "code",
      "execution_count": 65,
      "metadata": {
        "id": "7MABpymIOr7n"
      },
      "outputs": [],
      "source": [
        "from sklearn.metrics import precision_score, recall_score, f1_score, accuracy_score\n"
      ]
    },
    {
      "cell_type": "code",
      "execution_count": 66,
      "metadata": {
        "id": "8BzIbQidOr7n"
      },
      "outputs": [],
      "source": [
        "X_test_num_t = power_trans.transform(X_test_num)\n",
        "X_test_num_s = scaler.transform(X_test_num_t)\n",
        "X_test_num_p = pca.transform(X_test_num_s)\n"
      ]
    },
    {
      "cell_type": "code",
      "execution_count": 67,
      "metadata": {
        "id": "yZqEPnqBOr7o"
      },
      "outputs": [],
      "source": [
        "y_pred_log = log_fit.predict(X_test_num_p)\n",
        "y_pred_dt = cv_fit.predict(X_test_num_p)\n"
      ]
    },
    {
      "cell_type": "code",
      "source": [
        "y_pred_dt"
      ],
      "metadata": {
        "id": "Myv8GEUGq2IO",
        "outputId": "ce23b1b7-ab8a-4f6c-b047-105ef3a96b72",
        "colab": {
          "base_uri": "https://localhost:8080/"
        }
      },
      "execution_count": 69,
      "outputs": [
        {
          "output_type": "execute_result",
          "data": {
            "text/plain": [
              "array([1, 1, 1, ..., 1, 1, 1])"
            ]
          },
          "metadata": {},
          "execution_count": 69
        }
      ]
    },
    {
      "cell_type": "markdown",
      "metadata": {
        "id": "BUiPfAXwOr7o"
      },
      "source": [
        "#### Accuracy\n",
        "\n",
        "*Out of all predicitions, what % were correct?*"
      ]
    },
    {
      "cell_type": "code",
      "execution_count": 70,
      "metadata": {
        "id": "AtkYwauGOr7o"
      },
      "outputs": [],
      "source": [
        "log_acc = np.round(accuracy_score(y_test, y_pred_log), 2)\n",
        "dt_acc = np.round(accuracy_score(y_test, y_pred_dt), 2)\n"
      ]
    },
    {
      "cell_type": "code",
      "execution_count": 72,
      "metadata": {
        "id": "20cbpa2bOr7p",
        "outputId": "9ed07e00-72a3-4e92-a1e7-f1704bc47664",
        "colab": {
          "base_uri": "https://localhost:8080/"
        }
      },
      "outputs": [
        {
          "output_type": "stream",
          "name": "stdout",
          "text": [
            "Logistic Regression Accuracy: 0.75\n",
            "D.T. Regression Accuracy: 0.79\n"
          ]
        }
      ],
      "source": [
        "print(f\"Logistic Regression Accuracy: {log_acc}\")\n",
        "print(f\"D.T. Regression Accuracy: {dt_acc}\")\n"
      ]
    },
    {
      "cell_type": "markdown",
      "metadata": {
        "id": "OSc2A-EIOr7p"
      },
      "source": [
        "#### Precision\n",
        "\n",
        "*Out of all cancellation predicitions, what % were correct?*\n",
        "\n",
        "**Precision is the ratio between True Positives (correct positive predictions) and True+False Positives (all positive predictions).**"
      ]
    },
    {
      "cell_type": "code",
      "execution_count": 73,
      "metadata": {
        "id": "RQgdOW2YOr7q",
        "outputId": "5f54cfbd-e379-4239-fcea-044f10a1678c",
        "colab": {
          "base_uri": "https://localhost:8080/"
        }
      },
      "outputs": [
        {
          "output_type": "stream",
          "name": "stdout",
          "text": [
            "Logistic Regression Precision: 0.71\n",
            "D.T. Regression Precision: 0.71\n"
          ]
        }
      ],
      "source": [
        "log_prc = np.round(precision_score(y_test, y_pred_log), 2)\n",
        "dt_prc = np.round(precision_score(y_test, y_pred_dt), 2)\n",
        "\n",
        "print(f\"Logistic Regression Precision: {log_prc}\")\n",
        "print(f\"D.T. Regression Precision: {dt_prc}\")\n"
      ]
    },
    {
      "cell_type": "markdown",
      "metadata": {
        "id": "y_tQzO-9Or7q"
      },
      "source": [
        "#### Recall\n",
        "\n",
        "*Out of all real cancellations, what % were correctly predicted?*\n",
        "\n",
        "**Recall is the ration between True Positives (correct positive predictions) and Real Positives (observed positive outcomes).**"
      ]
    },
    {
      "cell_type": "code",
      "execution_count": 74,
      "metadata": {
        "id": "lVZ8-MF-Or7r",
        "outputId": "a4fc64f4-2226-45b5-e3c4-11991b50bd88",
        "colab": {
          "base_uri": "https://localhost:8080/"
        }
      },
      "outputs": [
        {
          "output_type": "stream",
          "name": "stdout",
          "text": [
            "Logistic Regression Recall: 0.57\n",
            "D.T. Regression Recall: 0.71\n"
          ]
        }
      ],
      "source": [
        "log_rec = np.round(recall_score(y_test, y_pred_log), 2)\n",
        "dt_rec = np.round(recall_score(y_test, y_pred_dt), 2)\n",
        "\n",
        "print(f\"Logistic Regression Recall: {log_rec}\")\n",
        "print(f\"D.T. Regression Recall: {dt_rec}\")\n"
      ]
    },
    {
      "cell_type": "code",
      "source": [
        "sum(y_pred_dt)"
      ],
      "metadata": {
        "id": "4nBO3UMDr2kS",
        "outputId": "648324e8-d584-4312-af45-3884331d4597",
        "colab": {
          "base_uri": "https://localhost:8080/"
        }
      },
      "execution_count": 77,
      "outputs": [
        {
          "output_type": "execute_result",
          "data": {
            "text/plain": [
              "10506"
            ]
          },
          "metadata": {},
          "execution_count": 77
        }
      ]
    },
    {
      "cell_type": "code",
      "source": [
        "sum(y_pred_log)"
      ],
      "metadata": {
        "id": "aLefDSf9r9Eh",
        "outputId": "7c554f50-d1fe-4d1c-9921-7387609f350c",
        "colab": {
          "base_uri": "https://localhost:8080/"
        }
      },
      "execution_count": 78,
      "outputs": [
        {
          "output_type": "execute_result",
          "data": {
            "text/plain": [
              "8488"
            ]
          },
          "metadata": {},
          "execution_count": 78
        }
      ]
    },
    {
      "cell_type": "markdown",
      "metadata": {
        "id": "gZMn_3ArOr7r"
      },
      "source": [
        "#### f1-Score\n",
        "\n",
        "**The *harmonic mean* between precision and recall:**\n",
        "\n",
        "$$f_1 = 2 \\frac{precision * recall}{precision + recall}$$\n",
        "\n",
        "A **f1-score = 1** means our model has perfect precision (all its cancellation predictions were cancellations) and perfect recall (all observed cancellations were predicted correctly). The lower the f1-score the farther we are from a good model."
      ]
    },
    {
      "cell_type": "code",
      "execution_count": 79,
      "metadata": {
        "id": "hN4UuYQfOr7s",
        "outputId": "0cccf0e4-4352-4411-ab5f-93cfc1ecf120",
        "colab": {
          "base_uri": "https://localhost:8080/"
        }
      },
      "outputs": [
        {
          "output_type": "stream",
          "name": "stdout",
          "text": [
            "Logistic Regression F1: 0.63\n",
            "D.T. Regression F1: 0.71\n"
          ]
        }
      ],
      "source": [
        "log_f1 = np.round(f1_score(y_test, y_pred_log), 2)\n",
        "dt_f1 = np.round(f1_score(y_test, y_pred_dt), 2)\n",
        "\n",
        "print(f\"Logistic Regression F1: {log_f1}\")\n",
        "print(f\"D.T. Regression F1: {dt_f1}\")\n"
      ]
    },
    {
      "cell_type": "code",
      "source": [
        "log_rec"
      ],
      "metadata": {
        "id": "Etw39H2LsPLp",
        "outputId": "0caa9fb0-ddea-4980-c70e-f1dacdb8fcb3",
        "colab": {
          "base_uri": "https://localhost:8080/"
        }
      },
      "execution_count": 82,
      "outputs": [
        {
          "output_type": "execute_result",
          "data": {
            "text/plain": [
              "0.57"
            ]
          },
          "metadata": {},
          "execution_count": 82
        }
      ]
    },
    {
      "cell_type": "code",
      "source": [
        "dt_prc"
      ],
      "metadata": {
        "id": "F7i2lo7ssSan",
        "outputId": "7c836d63-7da2-4f3f-d0b2-0f412f4ac004",
        "colab": {
          "base_uri": "https://localhost:8080/"
        }
      },
      "execution_count": 81,
      "outputs": [
        {
          "output_type": "execute_result",
          "data": {
            "text/plain": [
              "0.71"
            ]
          },
          "metadata": {},
          "execution_count": 81
        }
      ]
    },
    {
      "cell_type": "markdown",
      "metadata": {
        "id": "Wg0lOAmxOr7s"
      },
      "source": [
        "#### Utilizing precision, recall and F1 for model evaluation"
      ]
    },
    {
      "cell_type": "code",
      "execution_count": 83,
      "metadata": {
        "id": "MyZLL70lOr7s"
      },
      "outputs": [],
      "source": [
        "def evaluate_model(y_true, y_pred):\n",
        "    prc = np.round(precision_score(y_true, y_pred), 2)\n",
        "    f1 = np.round(f1_score(y_true, y_pred), 2)\n",
        "    rec = np.round(recall_score(y_true, y_pred), 2)\n",
        "\n",
        "    print(f\"Model F1: {f1}\")\n",
        "    print(f\"Model Precision: {prc}\")\n",
        "    print(f\"Model Recall: {rec}\")\n"
      ]
    },
    {
      "cell_type": "code",
      "execution_count": 84,
      "metadata": {
        "id": "rPWnwFMTOr7t",
        "outputId": "6dc34474-8f7a-4902-b534-136a672465f5",
        "colab": {
          "base_uri": "https://localhost:8080/"
        }
      },
      "outputs": [
        {
          "output_type": "stream",
          "name": "stdout",
          "text": [
            "Model F1: 0.63\n",
            "Model Precision: 0.71\n",
            "Model Recall: 0.57\n"
          ]
        }
      ],
      "source": [
        "evaluate_model(y_test, y_pred_log)\n"
      ]
    },
    {
      "cell_type": "code",
      "execution_count": 85,
      "metadata": {
        "id": "enKNawu0Or7t",
        "outputId": "a470973c-7268-4ac6-a07d-a8f5242bb6ae",
        "colab": {
          "base_uri": "https://localhost:8080/"
        }
      },
      "outputs": [
        {
          "output_type": "stream",
          "name": "stdout",
          "text": [
            "Model F1: 0.71\n",
            "Model Precision: 0.71\n",
            "Model Recall: 0.71\n"
          ]
        }
      ],
      "source": [
        "evaluate_model(y_test, y_pred_dt)"
      ]
    },
    {
      "cell_type": "markdown",
      "metadata": {
        "id": "W6CrWh6nOr7t"
      },
      "source": [
        "## Building Pipelines"
      ]
    },
    {
      "cell_type": "code",
      "execution_count": 86,
      "metadata": {
        "id": "09qbwqbwOr7u"
      },
      "outputs": [],
      "source": [
        "from sklearn.pipeline import Pipeline\n",
        "from sklearn.model_selection import RandomizedSearchCV\n"
      ]
    },
    {
      "cell_type": "code",
      "source": [
        "power_trans = PowerTransformer()\n",
        "scaler = StandardScaler()\n",
        "pca = PCA()\n",
        "dt_fit = DecisionTreeClassifier()"
      ],
      "metadata": {
        "id": "o2bmwaC1t5Um"
      },
      "execution_count": 99,
      "outputs": []
    },
    {
      "cell_type": "code",
      "source": [
        "blocks = [(\"TRANS\", power_trans), (\"SCALE\", scaler), (\"PCA\", pca), (\"MODEL\", dt_fit)]\n",
        "blocks"
      ],
      "metadata": {
        "id": "BvBznVBVufSy",
        "outputId": "ed9d696e-2a63-4561-dd98-11d77952a0ee",
        "colab": {
          "base_uri": "https://localhost:8080/"
        }
      },
      "execution_count": 100,
      "outputs": [
        {
          "output_type": "execute_result",
          "data": {
            "text/plain": [
              "[('TRANS', PowerTransformer()),\n",
              " ('SCALE', StandardScaler()),\n",
              " ('PCA', PCA()),\n",
              " ('MODEL', DecisionTreeClassifier())]"
            ]
          },
          "metadata": {},
          "execution_count": 100
        }
      ]
    },
    {
      "cell_type": "code",
      "execution_count": 101,
      "metadata": {
        "id": "y4asBfwEOr7u"
      },
      "outputs": [],
      "source": [
        "pipeline = Pipeline(blocks)\n"
      ]
    },
    {
      "cell_type": "code",
      "source": [
        "pipeline.get_params()"
      ],
      "metadata": {
        "id": "YBKUyOLKuptg",
        "outputId": "504d48c4-82ce-4f1d-95c6-8b8762a9f578",
        "colab": {
          "base_uri": "https://localhost:8080/"
        }
      },
      "execution_count": 102,
      "outputs": [
        {
          "output_type": "execute_result",
          "data": {
            "text/plain": [
              "{'memory': None,\n",
              " 'steps': [('TRANS', PowerTransformer()),\n",
              "  ('SCALE', StandardScaler()),\n",
              "  ('PCA', PCA()),\n",
              "  ('MODEL', DecisionTreeClassifier())],\n",
              " 'verbose': False,\n",
              " 'TRANS': PowerTransformer(),\n",
              " 'SCALE': StandardScaler(),\n",
              " 'PCA': PCA(),\n",
              " 'MODEL': DecisionTreeClassifier(),\n",
              " 'TRANS__copy': True,\n",
              " 'TRANS__method': 'yeo-johnson',\n",
              " 'TRANS__standardize': True,\n",
              " 'SCALE__copy': True,\n",
              " 'SCALE__with_mean': True,\n",
              " 'SCALE__with_std': True,\n",
              " 'PCA__copy': True,\n",
              " 'PCA__iterated_power': 'auto',\n",
              " 'PCA__n_components': None,\n",
              " 'PCA__random_state': None,\n",
              " 'PCA__svd_solver': 'auto',\n",
              " 'PCA__tol': 0.0,\n",
              " 'PCA__whiten': False,\n",
              " 'MODEL__ccp_alpha': 0.0,\n",
              " 'MODEL__class_weight': None,\n",
              " 'MODEL__criterion': 'gini',\n",
              " 'MODEL__max_depth': None,\n",
              " 'MODEL__max_features': None,\n",
              " 'MODEL__max_leaf_nodes': None,\n",
              " 'MODEL__min_impurity_decrease': 0.0,\n",
              " 'MODEL__min_samples_leaf': 1,\n",
              " 'MODEL__min_samples_split': 2,\n",
              " 'MODEL__min_weight_fraction_leaf': 0.0,\n",
              " 'MODEL__random_state': None,\n",
              " 'MODEL__splitter': 'best'}"
            ]
          },
          "metadata": {},
          "execution_count": 102
        }
      ]
    },
    {
      "cell_type": "code",
      "source": [
        "len(num_vars) * 50 * 50 * 50 *5"
      ],
      "metadata": {
        "id": "gFx9EarBwi55",
        "outputId": "f694e377-e8cd-4a79-c872-a74c682be041",
        "colab": {
          "base_uri": "https://localhost:8080/"
        }
      },
      "execution_count": 104,
      "outputs": [
        {
          "output_type": "execute_result",
          "data": {
            "text/plain": [
              "10000000"
            ]
          },
          "metadata": {},
          "execution_count": 104
        }
      ]
    },
    {
      "cell_type": "code",
      "execution_count": 105,
      "metadata": {
        "id": "iagwXV9hOr7u"
      },
      "outputs": [],
      "source": [
        "para_grid = {\n",
        "    \"PCA__n_components\": range(1, len(num_vars)),\n",
        "    \"MODEL__max_depth\": [int(x) for x in np.linspace(1, 150, 50)],\n",
        "    \"MODEL__min_samples_split\": [int(x) for x in np.linspace(2, 100, 50)],\n",
        "    \"MODEL__min_samples_leaf\": [int(x) for x in np.linspace(1, 50, 50)],\n",
        "}\n",
        "\n",
        "cv_fit = RandomizedSearchCV(\n",
        "    pipeline, param_distributions=para_grid, n_iter=10, scoring=\"f1\"\n",
        ")\n",
        "cv_fit.fit(X_train_num, y_train);\n"
      ]
    },
    {
      "cell_type": "code",
      "source": [
        "cv_fit.best_estimator_"
      ],
      "metadata": {
        "id": "iXPdyD05x-rk",
        "outputId": "5c79c81f-55a7-4465-c02d-a3ef6795022c",
        "colab": {
          "base_uri": "https://localhost:8080/"
        }
      },
      "execution_count": 106,
      "outputs": [
        {
          "output_type": "execute_result",
          "data": {
            "text/plain": [
              "Pipeline(steps=[('TRANS', PowerTransformer()), ('SCALE', StandardScaler()),\n",
              "                ('PCA', PCA(n_components=10)),\n",
              "                ('MODEL',\n",
              "                 DecisionTreeClassifier(max_depth=104, min_samples_leaf=6,\n",
              "                                        min_samples_split=4))])"
            ]
          },
          "metadata": {},
          "execution_count": 106
        }
      ]
    },
    {
      "cell_type": "code",
      "execution_count": 107,
      "metadata": {
        "id": "Kf2WG6boOr7v",
        "outputId": "8f879475-57c7-476b-9fbb-2e9bfea759fa",
        "colab": {
          "base_uri": "https://localhost:8080/"
        }
      },
      "outputs": [
        {
          "output_type": "stream",
          "name": "stdout",
          "text": [
            "Model F1: 0.7\n",
            "Model Precision: 0.72\n",
            "Model Recall: 0.68\n"
          ]
        }
      ],
      "source": [
        "y_pred_pipeline = cv_fit.predict(X_test_num)\n",
        "evaluate_model(y_test, y_pred_pipeline)\n"
      ]
    },
    {
      "cell_type": "code",
      "execution_count": 108,
      "metadata": {
        "id": "tDYDEDY6Or7v",
        "outputId": "05e24c39-d406-49da-c66b-6238f0e3b9c5",
        "colab": {
          "base_uri": "https://localhost:8080/"
        }
      },
      "outputs": [
        {
          "output_type": "stream",
          "name": "stdout",
          "text": [
            "Model F1: 0.71\n",
            "Model Precision: 0.71\n",
            "Model Recall: 0.71\n"
          ]
        }
      ],
      "source": [
        "evaluate_model(y_test, y_pred_dt)"
      ]
    },
    {
      "cell_type": "markdown",
      "metadata": {
        "id": "W1tNu5nUOr7v"
      },
      "source": [
        "### Creating Complex Pipelines"
      ]
    },
    {
      "cell_type": "code",
      "execution_count": null,
      "metadata": {
        "id": "SmVc8LCJOr7v"
      },
      "outputs": [],
      "source": [
        "from sklearn.compose import ColumnTransformer\n"
      ]
    },
    {
      "cell_type": "code",
      "execution_count": null,
      "metadata": {
        "id": "FdTbKDHmOr7v"
      },
      "outputs": [],
      "source": [
        "power_trans = PowerTransformer()\n",
        "scaler = StandardScaler()\n",
        "pca = PCA()\n",
        "num_blocks = [(\"TRANS\", power_trans), (\"SCALE\", scaler), (\"PCA\", pca)]\n",
        "\n",
        "num_pipeline = Pipeline(num_blocks)\n"
      ]
    },
    {
      "cell_type": "code",
      "execution_count": null,
      "metadata": {
        "id": "xKevs6kcOr7w"
      },
      "outputs": [],
      "source": [
        "ohe = OneHotEncoder(drop=\"first\", handle_unknown=\"ignore\")\n",
        "kbest = SelectKBest(score_func=mutual_info_classif)\n",
        "cat_blocks = [(\"OHE\", ohe), (\"KB\", kbest)]\n",
        "\n",
        "cat_pipeline = Pipeline(cat_blocks)\n"
      ]
    },
    {
      "cell_type": "code",
      "execution_count": null,
      "metadata": {
        "id": "YsfAJNAYOr7w"
      },
      "outputs": [],
      "source": [
        "data_prep_pipeline = ColumnTransformer(\n",
        "    transformers=[\n",
        "        (\"NUMPREP\", num_pipeline, num_vars),\n",
        "        (\"CATPREP\", cat_pipeline, cat_vars),\n",
        "    ]\n",
        ")"
      ]
    },
    {
      "cell_type": "code",
      "execution_count": null,
      "metadata": {
        "id": "tzCNiJA1Or7w"
      },
      "outputs": [],
      "source": [
        "log_fit = LogisticRegression()\n",
        "pipeline = Pipeline(steps=[('PRE', data_prep_pipeline),\n",
        "                           ('MODEL', log_fit)])"
      ]
    },
    {
      "cell_type": "code",
      "execution_count": null,
      "metadata": {
        "id": "Bm6vylq4Or7w"
      },
      "outputs": [],
      "source": [
        "pipeline.get_params()"
      ]
    },
    {
      "cell_type": "code",
      "execution_count": null,
      "metadata": {
        "id": "NJgQctvQOr7w"
      },
      "outputs": [],
      "source": [
        "param_grid = {\n",
        "    'PRE__NUMPREP__PCA__n_components' : range(1, len(num_vars)),\n",
        "    'PRE__CATPREP__KB__k' : range(1, len(cat_vars))\n",
        "}\n",
        "\n",
        "grid_fit = RandomizedSearchCV(pipeline, param_grid, n_iter = 10, n_jobs = 7)\n",
        "grid_fit.fit(X_train, y_train);"
      ]
    },
    {
      "cell_type": "code",
      "execution_count": null,
      "metadata": {
        "id": "IyZpGfLHOr7w"
      },
      "outputs": [],
      "source": [
        "y_pred_pipeline = grid_fit.predict(X_test)\n",
        "evaluate_model(y_test, y_pred_pipeline)\n"
      ]
    },
    {
      "cell_type": "markdown",
      "metadata": {
        "id": "CyPCc0JrOr7x"
      },
      "source": [
        "# Multi-classification Tasks"
      ]
    },
    {
      "cell_type": "code",
      "execution_count": null,
      "metadata": {
        "id": "3bdenf1xOr7x"
      },
      "outputs": [],
      "source": [
        "from sklearn import datasets"
      ]
    },
    {
      "cell_type": "code",
      "execution_count": null,
      "metadata": {
        "id": "ORKmECYtOr7x"
      },
      "outputs": [],
      "source": [
        "tb_wine = pd.DataFrame(datasets.load_wine(as_frame=True)['data'])\n",
        "tb_wine['classif_wine'] = pd.DataFrame(datasets.load_wine(as_frame=True)['target'])"
      ]
    },
    {
      "cell_type": "code",
      "execution_count": null,
      "metadata": {
        "id": "DnMzq0KzOr7x"
      },
      "outputs": [],
      "source": [
        "X = tb_wine.drop('classif_wine', axis = 1)\n",
        "y = tb_wine['classif_wine']\n",
        "X_train, X_test, y_train, y_test = train_test_split(X, y)"
      ]
    },
    {
      "cell_type": "code",
      "execution_count": null,
      "metadata": {
        "id": "UeaTsJAQOr7x"
      },
      "outputs": [],
      "source": [
        "power_trans = PowerTransformer()\n",
        "scaler = StandardScaler()\n",
        "pca = PCA()\n",
        "dt_fit = DecisionTreeClassifier()\n",
        "blocks = [(\"TRANS\", power_trans), (\"SCALE\", scaler), (\"PCA\", pca), (\"MODEL\", dt_fit)]\n",
        "\n",
        "pipeline = Pipeline(blocks)\n"
      ]
    },
    {
      "cell_type": "code",
      "execution_count": null,
      "metadata": {
        "id": "o5a_0GGYOr7y"
      },
      "outputs": [],
      "source": [
        "para_grid = {\n",
        "    \"PCA__n_components\": range(1, X.shape[1]),\n",
        "    \"MODEL__max_depth\": [int(x) for x in np.linspace(1, 150, 50)],\n",
        "    \"MODEL__min_samples_split\": [int(x) for x in np.linspace(2, 100, 50)],\n",
        "    \"MODEL__min_samples_leaf\": [int(x) for x in np.linspace(1, 50, 50)],\n",
        "}\n",
        "\n",
        "cv_fit = RandomizedSearchCV(\n",
        "    pipeline, param_distributions=para_grid, n_iter=1000, scoring=\"f1\"\n",
        ")\n",
        "cv_fit.fit(X_train, y_train);\n"
      ]
    },
    {
      "cell_type": "code",
      "execution_count": null,
      "metadata": {
        "id": "XoQKVydEOr7y"
      },
      "outputs": [],
      "source": [
        "cv_fit.best_estimator_"
      ]
    },
    {
      "cell_type": "markdown",
      "metadata": {
        "id": "0h9Wn9jKOr7y"
      },
      "source": [
        "## Measuring error"
      ]
    },
    {
      "cell_type": "code",
      "execution_count": null,
      "metadata": {
        "id": "OV899wQWOr7y"
      },
      "outputs": [],
      "source": [
        "y_pred = cv_fit.predict(X_test)\n",
        "f1_score(y_test, y_pred, average = None)"
      ]
    },
    {
      "cell_type": "code",
      "execution_count": null,
      "metadata": {
        "id": "Q0jyI9UHOr7y"
      },
      "outputs": [],
      "source": [
        "y_train.value_counts()"
      ]
    },
    {
      "cell_type": "markdown",
      "metadata": {
        "id": "kEXNGT56Or7y"
      },
      "source": [
        "## Building a model w/ Class Balancing"
      ]
    },
    {
      "cell_type": "code",
      "execution_count": null,
      "metadata": {
        "id": "V239098MOr7z"
      },
      "outputs": [],
      "source": [
        "power_trans = PowerTransformer()\n",
        "scaler = StandardScaler()\n",
        "pca = PCA()\n",
        "dt_fit = DecisionTreeClassifier(class_weight=\"balanced\")\n",
        "blocks = [(\"TRANS\", power_trans), (\"SCALE\", scaler), (\"PCA\", pca), (\"MODEL\", dt_fit)]\n",
        "\n",
        "pipeline = Pipeline(blocks)\n",
        "\n",
        "para_grid = {\n",
        "    \"PCA__n_components\": range(1, X.shape[1]),\n",
        "    \"MODEL__max_depth\": [int(x) for x in np.linspace(1, 150, 50)],\n",
        "    \"MODEL__min_samples_split\": [int(x) for x in np.linspace(2, 100, 50)],\n",
        "    \"MODEL__min_samples_leaf\": [int(x) for x in np.linspace(1, 50, 50)],\n",
        "}\n",
        "\n",
        "cv_fit = RandomizedSearchCV(\n",
        "    pipeline, param_distributions=para_grid, n_iter=1000, scoring=\"f1\"\n",
        ")\n",
        "cv_fit.fit(X_train, y_train);\n"
      ]
    },
    {
      "cell_type": "code",
      "execution_count": null,
      "metadata": {
        "id": "iLkc5JNzOr7z"
      },
      "outputs": [],
      "source": [
        "y_pred = cv_fit.predict(X_test)\n",
        "f1_score(y_test, y_pred, average = None)"
      ]
    },
    {
      "cell_type": "code",
      "execution_count": null,
      "metadata": {
        "id": "jfa1TX13Or7z"
      },
      "outputs": [],
      "source": [
        "precision_score(y_test, y_pred, average = None)"
      ]
    },
    {
      "cell_type": "markdown",
      "metadata": {
        "id": "YWuWYqeCOr7z"
      },
      "source": [
        "### Calculating the aggregate error"
      ]
    },
    {
      "cell_type": "markdown",
      "metadata": {
        "id": "T8EV8z8HOr7z"
      },
      "source": [
        "#### Micro averaging\n",
        "\n",
        "Calculates True Positives, False Positives and False Negatives for each class, totalling them and calculating the F1 score for these totals."
      ]
    },
    {
      "cell_type": "code",
      "execution_count": null,
      "metadata": {
        "id": "vhxpYaF6Or7z"
      },
      "outputs": [],
      "source": [
        "f1_score(y_test, y_pred, average = 'micro')"
      ]
    },
    {
      "cell_type": "markdown",
      "metadata": {
        "id": "2X_MJ3OkOr70"
      },
      "source": [
        "#### Macro averaging\n",
        "\n",
        "**Unweighted average** F1-Score for each class - **gives equal importance to different classes**."
      ]
    },
    {
      "cell_type": "code",
      "execution_count": null,
      "metadata": {
        "id": "LnZGQDkiOr70"
      },
      "outputs": [],
      "source": [
        "f1_score(y_test, y_pred, average = 'macro')"
      ]
    },
    {
      "cell_type": "markdown",
      "metadata": {
        "id": "7jjQGEfiOr70"
      },
      "source": [
        "#### Weighted averaging\n",
        "\n",
        "**Weighted average** F1-Score for each class - **gives proportional weights to classes with more observations**."
      ]
    },
    {
      "cell_type": "code",
      "execution_count": null,
      "metadata": {
        "id": "ukzx6luIOr70"
      },
      "outputs": [],
      "source": [
        "f1_score(y_test, y_pred, average = 'weighted')"
      ]
    }
  ],
  "metadata": {
    "kernelspec": {
      "display_name": "Python 3.9.11 ('base')",
      "language": "python",
      "name": "python3"
    },
    "language_info": {
      "codemirror_mode": {
        "name": "ipython",
        "version": 3
      },
      "file_extension": ".py",
      "mimetype": "text/x-python",
      "name": "python",
      "nbconvert_exporter": "python",
      "pygments_lexer": "ipython3",
      "version": "3.9.11"
    },
    "orig_nbformat": 4,
    "vscode": {
      "interpreter": {
        "hash": "014f4a4a5af8f0104b12c029e500f4146d6d785e8cf714d2a35b7a9514230cd3"
      }
    },
    "colab": {
      "provenance": []
    }
  },
  "nbformat": 4,
  "nbformat_minor": 0
}