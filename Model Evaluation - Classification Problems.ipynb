{
  "cells": [
    {
      "cell_type": "code",
      "execution_count": 36,
      "metadata": {
        "id": "jcOaEamZOr7e"
      },
      "outputs": [],
      "source": [
        "import numpy as np\n",
        "import scipy as sp\n",
        "import pandas as pd\n",
        "import matplotlib.pyplot as plt\n",
        "import seaborn as sns\n",
        "\n",
        "# Transformers\n",
        "from sklearn.model_selection import train_test_split, GridSearchCV\n",
        "from sklearn.preprocessing import StandardScaler, PowerTransformer, OneHotEncoder\n",
        "from sklearn.decomposition import PCA\n",
        "from sklearn.feature_selection import SelectKBest, mutual_info_classif\n",
        "\n",
        "# Models\n",
        "from sklearn.tree import DecisionTreeClassifier\n",
        "from sklearn.linear_model import LogisticRegression\n",
        "from sklearn.neighbors import KNeighborsClassifier\n",
        "pd.set_option(\"display.max_rows\", 500)\n",
        "import warnings\n",
        "warnings.filterwarnings(\"ignore\")\n",
        "\n",
        "# Source Data\n",
        "# https://www.kaggle.com/c/ih-hotel-booking\n"
      ]
    },
    {
      "cell_type": "code",
      "execution_count": 37,
      "metadata": {
        "id": "-R3YiAqsOr7g"
      },
      "outputs": [],
      "source": [
        "url = \"https://raw.githubusercontent.com/pedroteche-ih/DAFT_MEX_202209/main/data/tb_hotel_traintest.csv\"\n",
        "tb_hotel = pd.read_csv(url, parse_dates=[\"arrival_date\", \"reservation_status_date\"])\n"
      ]
    },
    {
      "cell_type": "code",
      "execution_count": 38,
      "metadata": {
        "colab": {
          "base_uri": "https://localhost:8080/"
        },
        "id": "YTOpyUXJOr7h",
        "outputId": "f339864d-a49d-4ecb-fc2a-28bc76d1e618"
      },
      "outputs": [
        {
          "output_type": "stream",
          "name": "stdout",
          "text": [
            "<class 'pandas.core.frame.DataFrame'>\n",
            "RangeIndex: 113409 entries, 0 to 113408\n",
            "Data columns (total 29 columns):\n",
            " #   Column                          Non-Null Count   Dtype         \n",
            "---  ------                          --------------   -----         \n",
            " 0   hotel                           113409 non-null  object        \n",
            " 1   is_cancelled                    113409 non-null  int64         \n",
            " 2   lead_time                       113409 non-null  int64         \n",
            " 3   stays_in_weekend_nights         113409 non-null  int64         \n",
            " 4   stays_in_week_nights            113409 non-null  int64         \n",
            " 5   adults                          113409 non-null  int64         \n",
            " 6   children                        113406 non-null  float64       \n",
            " 7   babies                          113409 non-null  int64         \n",
            " 8   meal                            113409 non-null  object        \n",
            " 9   country                         112951 non-null  object        \n",
            " 10  market_segment                  113409 non-null  object        \n",
            " 11  distribution_channel            113409 non-null  object        \n",
            " 12  is_repeated_guest               113409 non-null  int64         \n",
            " 13  previous_cancellations          113409 non-null  int64         \n",
            " 14  previous_bookings_not_canceled  113409 non-null  int64         \n",
            " 15  reserved_room_type              113409 non-null  object        \n",
            " 16  assigned_room_type              113409 non-null  object        \n",
            " 17  booking_changes                 113409 non-null  int64         \n",
            " 18  deposit_type                    113409 non-null  object        \n",
            " 19  agent                           97918 non-null   float64       \n",
            " 20  company                         6437 non-null    float64       \n",
            " 21  days_in_waiting_list            113409 non-null  int64         \n",
            " 22  customer_type                   113409 non-null  object        \n",
            " 23  adr                             113409 non-null  float64       \n",
            " 24  required_car_parking_spaces     113409 non-null  int64         \n",
            " 25  total_of_special_requests       113409 non-null  int64         \n",
            " 26  reservation_status_date         113409 non-null  datetime64[ns]\n",
            " 27  arrival_date                    113409 non-null  datetime64[ns]\n",
            " 28  id_booking                      113409 non-null  int64         \n",
            "dtypes: datetime64[ns](2), float64(4), int64(14), object(9)\n",
            "memory usage: 25.1+ MB\n"
          ]
        }
      ],
      "source": [
        "tb_hotel.info()\n"
      ]
    },
    {
      "cell_type": "code",
      "source": [
        "tb_hotel['is_cancelled'].describe()"
      ],
      "metadata": {
        "colab": {
          "base_uri": "https://localhost:8080/"
        },
        "id": "tQIO7WZHi7hl",
        "outputId": "b1b2d16c-4b08-496b-fbfd-7899d943e098"
      },
      "execution_count": 39,
      "outputs": [
        {
          "output_type": "execute_result",
          "data": {
            "text/plain": [
              "count    113409.000000\n",
              "mean          0.370658\n",
              "std           0.482983\n",
              "min           0.000000\n",
              "25%           0.000000\n",
              "50%           0.000000\n",
              "75%           1.000000\n",
              "max           1.000000\n",
              "Name: is_cancelled, dtype: float64"
            ]
          },
          "metadata": {},
          "execution_count": 39
        }
      ]
    },
    {
      "cell_type": "markdown",
      "metadata": {
        "id": "O6mSbGl_Or7i"
      },
      "source": [
        "# Building & Evaluating Models in SKLEARN"
      ]
    },
    {
      "cell_type": "code",
      "execution_count": 40,
      "metadata": {
        "id": "1eeO-Zi3Or7j"
      },
      "outputs": [],
      "source": [
        "def clean_hotel_data(hotel_data):\n",
        "    hotel_data[\"children\"] = hotel_data[\"children\"].fillna(0)\n",
        "    hotel_data[\"country\"] = hotel_data[\"country\"].fillna(\"Unknown\")\n",
        "    hotel_data[\"is_company\"] = np.where(hotel_data[\"company\"].isna(), 0, 1)\n",
        "    hotel_data[\"is_agent\"] = np.where(hotel_data[\"agent\"].isna(), 0, 1)\n",
        "    hotel_data = hotel_data.drop(\n",
        "        [\"company\", \"agent\", \"id_booking\", \"reservation_status_date\"], axis=1\n",
        "    ).dropna()\n",
        "\n",
        "    return hotel_data\n"
      ]
    },
    {
      "cell_type": "code",
      "execution_count": 44,
      "metadata": {
        "id": "9nQRYwbcOr7j"
      },
      "outputs": [],
      "source": [
        "tb_hotel_clean = clean_hotel_data(tb_hotel)\n",
        "\n",
        "cat_vars = list(tb_hotel_clean.select_dtypes(include=\"object\").columns)\n",
        "num_vars = list(tb_hotel_clean.select_dtypes(include=\"number\").drop(\"is_cancelled\", axis=1).columns)\n"
      ]
    },
    {
      "cell_type": "code",
      "source": [
        "num_vars"
      ],
      "metadata": {
        "colab": {
          "base_uri": "https://localhost:8080/"
        },
        "id": "_4qO1YNfj9YV",
        "outputId": "a5b712f6-8e64-4a81-ac02-b7babdc6fa8a"
      },
      "execution_count": 45,
      "outputs": [
        {
          "output_type": "execute_result",
          "data": {
            "text/plain": [
              "['lead_time',\n",
              " 'stays_in_weekend_nights',\n",
              " 'stays_in_week_nights',\n",
              " 'adults',\n",
              " 'children',\n",
              " 'babies',\n",
              " 'is_repeated_guest',\n",
              " 'previous_cancellations',\n",
              " 'previous_bookings_not_canceled',\n",
              " 'booking_changes',\n",
              " 'days_in_waiting_list',\n",
              " 'adr',\n",
              " 'required_car_parking_spaces',\n",
              " 'total_of_special_requests',\n",
              " 'is_company',\n",
              " 'is_agent']"
            ]
          },
          "metadata": {},
          "execution_count": 45
        }
      ]
    },
    {
      "cell_type": "code",
      "execution_count": 46,
      "metadata": {
        "id": "rWVDRdo4Or7k"
      },
      "outputs": [],
      "source": [
        "X = tb_hotel_clean.drop(\"is_cancelled\", axis=1)\n",
        "y = tb_hotel_clean[\"is_cancelled\"]\n",
        "X_train, X_test, y_train, y_test = train_test_split(\n",
        "    X, y, test_size=0.25, random_state=42\n",
        ")"
      ]
    },
    {
      "cell_type": "code",
      "execution_count": 47,
      "metadata": {
        "id": "LTvFyKyGOr7k"
      },
      "outputs": [],
      "source": [
        "X_train_num = X_train.select_dtypes(include=\"number\")\n",
        "X_test_num = X_test[X_train_num.columns]\n"
      ]
    },
    {
      "cell_type": "markdown",
      "metadata": {
        "id": "L7OUWv8uOr7k"
      },
      "source": [
        "## Building a simple model"
      ]
    },
    {
      "cell_type": "code",
      "execution_count": 48,
      "metadata": {
        "id": "FWFrqUAnOr7l"
      },
      "outputs": [],
      "source": [
        "power_trans = PowerTransformer()\n",
        "scaler = StandardScaler()\n",
        "pca = PCA()\n",
        "dt_fit = DecisionTreeClassifier()\n",
        "log_fit = LogisticRegression()\n",
        "\n",
        "X_train_num_t = power_trans.fit_transform(X_train_num)\n",
        "#power_trans.fit(X_train_num)\n",
        "#X_train_num_t = power_trans.transform(X_train_num)\n",
        "X_train_num_s = scaler.fit_transform(X_train_num_t)\n",
        "X_train_num_p = pca.fit_transform(X_train_num_s)\n"
      ]
    },
    {
      "cell_type": "code",
      "source": [
        "X_train_num_p"
      ],
      "metadata": {
        "colab": {
          "base_uri": "https://localhost:8080/"
        },
        "id": "3x4-OJg1lTj_",
        "outputId": "9d7c670c-ba7c-4fe1-9565-d42ed6386bc7"
      },
      "execution_count": 49,
      "outputs": [
        {
          "output_type": "execute_result",
          "data": {
            "text/plain": [
              "array([[ 1.2924263 , -1.32962888, -0.84878355, ...,  1.10603404,\n",
              "         0.19332672,  0.16145615],\n",
              "       [-0.96166797, -2.70107421,  0.58372159, ...,  0.07068095,\n",
              "         0.0431116 , -0.1313557 ],\n",
              "       [-0.08770536, -0.6648112 , -1.07399632, ..., -0.35919329,\n",
              "         0.18105616,  0.05299243],\n",
              "       ...,\n",
              "       [-0.70252666, -0.60512707,  0.31210902, ...,  0.4262294 ,\n",
              "         0.16831842,  0.03184866],\n",
              "       [-0.61383912, -0.23636466, -0.43609509, ..., -0.0285662 ,\n",
              "         0.15199428,  0.00980434],\n",
              "       [-0.1636643 ,  3.45798669, -0.45634411, ...,  1.07338125,\n",
              "         0.59813458,  0.00797991]])"
            ]
          },
          "metadata": {},
          "execution_count": 49
        }
      ]
    },
    {
      "cell_type": "code",
      "execution_count": 50,
      "metadata": {
        "colab": {
          "base_uri": "https://localhost:8080/"
        },
        "id": "HtEdd6POOr7m",
        "outputId": "1ea5d534-060f-401d-8917-de8a00a2221e"
      },
      "outputs": [
        {
          "output_type": "execute_result",
          "data": {
            "text/plain": [
              "LogisticRegression()"
            ]
          },
          "metadata": {},
          "execution_count": 50
        }
      ],
      "source": [
        "log_fit.fit(X_train_num_p, y_train)\n"
      ]
    },
    {
      "cell_type": "code",
      "execution_count": 51,
      "metadata": {
        "colab": {
          "base_uri": "https://localhost:8080/"
        },
        "id": "9mdKM6teOr7m",
        "outputId": "cce14f32-d020-46ad-d88a-5d739cd4f44d"
      },
      "outputs": [
        {
          "output_type": "execute_result",
          "data": {
            "text/plain": [
              "GridSearchCV(estimator=DecisionTreeClassifier(),\n",
              "             param_grid={'max_depth': [1, 38, 75, 112, 150],\n",
              "                         'min_samples_leaf': [1, 13, 25, 37, 50],\n",
              "                         'min_samples_split': [2, 26, 51, 75, 100]})"
            ]
          },
          "metadata": {},
          "execution_count": 51
        }
      ],
      "source": [
        "para_grid = {\n",
        "    \"max_depth\": [int(x) for x in np.linspace(1, 150, 5)],\n",
        "    \"min_samples_split\": [int(x) for x in np.linspace(2, 100, 5)],\n",
        "    \"min_samples_leaf\": [int(x) for x in np.linspace(1, 50, 5)],\n",
        "}\n",
        "\n",
        "cv_fit = GridSearchCV(dt_fit, param_grid=para_grid, n_jobs = 2)\n",
        "cv_fit.fit(X_train_num_p, y_train)\n"
      ]
    },
    {
      "cell_type": "code",
      "source": [
        "cv_fit.best_estimator_"
      ],
      "metadata": {
        "colab": {
          "base_uri": "https://localhost:8080/"
        },
        "id": "Zxa38-BZpMvb",
        "outputId": "f1a7cc19-0a59-4aa3-8f9e-c17314a2bf30"
      },
      "execution_count": 52,
      "outputs": [
        {
          "output_type": "execute_result",
          "data": {
            "text/plain": [
              "DecisionTreeClassifier(max_depth=38)"
            ]
          },
          "metadata": {},
          "execution_count": 52
        }
      ]
    },
    {
      "cell_type": "code",
      "source": [
        "cv_results = pd.DataFrame(cv_fit.cv_results_)"
      ],
      "metadata": {
        "id": "zDyRR_BfpSAf"
      },
      "execution_count": 57,
      "outputs": []
    },
    {
      "cell_type": "code",
      "source": [
        "cv_results.columns"
      ],
      "metadata": {
        "colab": {
          "base_uri": "https://localhost:8080/"
        },
        "id": "OqLp28uBp2tm",
        "outputId": "91d0854d-98b5-40b0-bafa-fea3b6b19015"
      },
      "execution_count": 59,
      "outputs": [
        {
          "output_type": "execute_result",
          "data": {
            "text/plain": [
              "Index(['mean_fit_time', 'std_fit_time', 'mean_score_time', 'std_score_time',\n",
              "       'param_max_depth', 'param_min_samples_leaf', 'param_min_samples_split',\n",
              "       'params', 'split0_test_score', 'split1_test_score', 'split2_test_score',\n",
              "       'split3_test_score', 'split4_test_score', 'mean_test_score',\n",
              "       'std_test_score', 'rank_test_score'],\n",
              "      dtype='object')"
            ]
          },
          "metadata": {},
          "execution_count": 59
        }
      ]
    },
    {
      "cell_type": "code",
      "source": [
        "sns.boxplot(data = cv_results[cv_results['param_max_depth'] > 10], x = 'param_min_samples_leaf', y = 'mean_test_score')"
      ],
      "metadata": {
        "colab": {
          "base_uri": "https://localhost:8080/",
          "height": 318
        },
        "id": "VZ3fo55xpzZi",
        "outputId": "21fb5abc-037d-4726-8985-5ac0953d2c7f"
      },
      "execution_count": 62,
      "outputs": [
        {
          "output_type": "execute_result",
          "data": {
            "text/plain": [
              "<matplotlib.axes._subplots.AxesSubplot at 0x7f8dee991410>"
            ]
          },
          "metadata": {},
          "execution_count": 62
        },
        {
          "output_type": "display_data",
          "data": {
            "text/plain": [
              "<Figure size 432x288 with 1 Axes>"
            ],
            "image/png": "[encoded data removed]"
          },
          "metadata": {
            "needs_background": "light"
          }
        }
      ]
    },
    {
      "cell_type": "markdown",
      "metadata": {
        "id": "tl6he072Or7m"
      },
      "source": [
        "### Evaluating models"
      ]
    },
    {
      "cell_type": "code",
      "execution_count": 65,
      "metadata": {
        "id": "7MABpymIOr7n"
      },
      "outputs": [],
      "source": [
        "from sklearn.metrics import precision_score, recall_score, f1_score, accuracy_score\n"
      ]
    },
    {
      "cell_type": "code",
      "execution_count": 66,
      "metadata": {
        "id": "8BzIbQidOr7n"
      },
      "outputs": [],
      "source": [
        "X_test_num_t = power_trans.transform(X_test_num)\n",
        "X_test_num_s = scaler.transform(X_test_num_t)\n",
        "X_test_num_p = pca.transform(X_test_num_s)\n"
      ]
    },
    {
      "cell_type": "code",
      "execution_count": 67,
      "metadata": {
        "id": "yZqEPnqBOr7o"
      },
      "outputs": [],
      "source": [
        "y_pred_log = log_fit.predict(X_test_num_p)\n",
        "y_pred_dt = cv_fit.predict(X_test_num_p)\n"
      ]
    },
    {
      "cell_type": "code",
      "source": [
        "y_pred_dt"
      ],
      "metadata": {
        "colab": {
          "base_uri": "https://localhost:8080/"
        },
        "id": "Myv8GEUGq2IO",
        "outputId": "ce23b1b7-ab8a-4f6c-b047-105ef3a96b72"
      },
      "execution_count": 69,
      "outputs": [
        {
          "output_type": "execute_result",
          "data": {
            "text/plain": [
              "array([1, 1, 1, ..., 1, 1, 1])"
            ]
          },
          "metadata": {},
          "execution_count": 69
        }
      ]
    },
    {
      "cell_type": "markdown",
      "metadata": {
        "id": "BUiPfAXwOr7o"
      },
      "source": [
        "#### Accuracy\n",
        "\n",
        "*Out of all predicitions, what % were correct?*"
      ]
    },
    {
      "cell_type": "code",
      "execution_count": 70,
      "metadata": {
        "id": "AtkYwauGOr7o"
      },
      "outputs": [],
      "source": [
        "log_acc = np.round(accuracy_score(y_test, y_pred_log), 2)\n",
        "dt_acc = np.round(accuracy_score(y_test, y_pred_dt), 2)\n"
      ]
    },
    {
      "cell_type": "code",
      "execution_count": 72,
      "metadata": {
        "colab": {
          "base_uri": "https://localhost:8080/"
        },
        "id": "20cbpa2bOr7p",
        "outputId": "9ed07e00-72a3-4e92-a1e7-f1704bc47664"
      },
      "outputs": [
        {
          "output_type": "stream",
          "name": "stdout",
          "text": [
            "Logistic Regression Accuracy: 0.75\n",
            "D.T. Regression Accuracy: 0.79\n"
          ]
        }
      ],
      "source": [
        "print(f\"Logistic Regression Accuracy: {log_acc}\")\n",
        "print(f\"D.T. Regression Accuracy: {dt_acc}\")\n"
      ]
    },
    {
      "cell_type": "markdown",
      "metadata": {
        "id": "OSc2A-EIOr7p"
      },
      "source": [
        "#### Precision\n",
        "\n",
        "*Out of all cancellation predicitions, what % were correct?*\n",
        "\n",
        "**Precision is the ratio between True Positives (correct positive predictions) and True+False Positives (all positive predictions).**"
      ]
    },
    {
      "cell_type": "code",
      "execution_count": 73,
      "metadata": {
        "colab": {
          "base_uri": "https://localhost:8080/"
        },
        "id": "RQgdOW2YOr7q",
        "outputId": "5f54cfbd-e379-4239-fcea-044f10a1678c"
      },
      "outputs": [
        {
          "output_type": "stream",
          "name": "stdout",
          "text": [
            "Logistic Regression Precision: 0.71\n",
            "D.T. Regression Precision: 0.71\n"
          ]
        }
      ],
      "source": [
        "log_prc = np.round(precision_score(y_test, y_pred_log), 2)\n",
        "dt_prc = np.round(precision_score(y_test, y_pred_dt), 2)\n",
        "\n",
        "print(f\"Logistic Regression Precision: {log_prc}\")\n",
        "print(f\"D.T. Regression Precision: {dt_prc}\")\n"
      ]
    },
    {
      "cell_type": "markdown",
      "metadata": {
        "id": "y_tQzO-9Or7q"
      },
      "source": [
        "#### Recall\n",
        "\n",
        "*Out of all real cancellations, what % were correctly predicted?*\n",
        "\n",
        "**Recall is the ration between True Positives (correct positive predictions) and Real Positives (observed positive outcomes).**"
      ]
    },
    {
      "cell_type": "code",
      "execution_count": 74,
      "metadata": {
        "colab": {
          "base_uri": "https://localhost:8080/"
        },
        "id": "lVZ8-MF-Or7r",
        "outputId": "a4fc64f4-2226-45b5-e3c4-11991b50bd88"
      },
      "outputs": [
        {
          "output_type": "stream",
          "name": "stdout",
          "text": [
            "Logistic Regression Recall: 0.57\n",
            "D.T. Regression Recall: 0.71\n"
          ]
        }
      ],
      "source": [
        "log_rec = np.round(recall_score(y_test, y_pred_log), 2)\n",
        "dt_rec = np.round(recall_score(y_test, y_pred_dt), 2)\n",
        "\n",
        "print(f\"Logistic Regression Recall: {log_rec}\")\n",
        "print(f\"D.T. Regression Recall: {dt_rec}\")\n"
      ]
    },
    {
      "cell_type": "code",
      "source": [
        "sum(y_pred_dt)"
      ],
      "metadata": {
        "colab": {
          "base_uri": "https://localhost:8080/"
        },
        "id": "4nBO3UMDr2kS",
        "outputId": "648324e8-d584-4312-af45-3884331d4597"
      },
      "execution_count": 77,
      "outputs": [
        {
          "output_type": "execute_result",
          "data": {
            "text/plain": [
              "10506"
            ]
          },
          "metadata": {},
          "execution_count": 77
        }
      ]
    },
    {
      "cell_type": "code",
      "source": [
        "sum(y_pred_log)"
      ],
      "metadata": {
        "colab": {
          "base_uri": "https://localhost:8080/"
        },
        "id": "aLefDSf9r9Eh",
        "outputId": "7c554f50-d1fe-4d1c-9921-7387609f350c"
      },
      "execution_count": 78,
      "outputs": [
        {
          "output_type": "execute_result",
          "data": {
            "text/plain": [
              "8488"
            ]
          },
          "metadata": {},
          "execution_count": 78
        }
      ]
    },
    {
      "cell_type": "markdown",
      "metadata": {
        "id": "gZMn_3ArOr7r"
      },
      "source": [
        "#### f1-Score\n",
        "\n",
        "**The *harmonic mean* between precision and recall:**\n",
        "\n",
        "$$f_1 = 2 \\frac{precision * recall}{precision + recall}$$\n",
        "\n",
        "A **f1-score = 1** means our model has perfect precision (all its cancellation predictions were cancellations) and perfect recall (all observed cancellations were predicted correctly). The lower the f1-score the farther we are from a good model."
      ]
    },
    {
      "cell_type": "code",
      "execution_count": 79,
      "metadata": {
        "colab": {
          "base_uri": "https://localhost:8080/"
        },
        "id": "hN4UuYQfOr7s",
        "outputId": "0cccf0e4-4352-4411-ab5f-93cfc1ecf120"
      },
      "outputs": [
        {
          "output_type": "stream",
          "name": "stdout",
          "text": [
            "Logistic Regression F1: 0.63\n",
            "D.T. Regression F1: 0.71\n"
          ]
        }
      ],
      "source": [
        "log_f1 = np.round(f1_score(y_test, y_pred_log), 2)\n",
        "dt_f1 = np.round(f1_score(y_test, y_pred_dt), 2)\n",
        "\n",
        "print(f\"Logistic Regression F1: {log_f1}\")\n",
        "print(f\"D.T. Regression F1: {dt_f1}\")\n"
      ]
    },
    {
      "cell_type": "code",
      "source": [
        "log_rec"
      ],
      "metadata": {
        "colab": {
          "base_uri": "https://localhost:8080/"
        },
        "id": "Etw39H2LsPLp",
        "outputId": "0caa9fb0-ddea-4980-c70e-f1dacdb8fcb3"
      },
      "execution_count": 82,
      "outputs": [
        {
          "output_type": "execute_result",
          "data": {
            "text/plain": [
              "0.57"
            ]
          },
          "metadata": {},
          "execution_count": 82
        }
      ]
    },
    {
      "cell_type": "code",
      "source": [
        "dt_prc"
      ],
      "metadata": {
        "colab": {
          "base_uri": "https://localhost:8080/"
        },
        "id": "F7i2lo7ssSan",
        "outputId": "7c836d63-7da2-4f3f-d0b2-0f412f4ac004"
      },
      "execution_count": 81,
      "outputs": [
        {
          "output_type": "execute_result",
          "data": {
            "text/plain": [
              "0.71"
            ]
          },
          "metadata": {},
          "execution_count": 81
        }
      ]
    },
    {
      "cell_type": "markdown",
      "metadata": {
        "id": "Wg0lOAmxOr7s"
      },
      "source": [
        "#### Utilizing precision, recall and F1 for model evaluation"
      ]
    },
    {
      "cell_type": "code",
      "execution_count": 83,
      "metadata": {
        "id": "MyZLL70lOr7s"
      },
      "outputs": [],
      "source": [
        "def evaluate_model(y_true, y_pred):\n",
        "    prc = np.round(precision_score(y_true, y_pred), 2)\n",
        "    f1 = np.round(f1_score(y_true, y_pred), 2)\n",
        "    rec = np.round(recall_score(y_true, y_pred), 2)\n",
        "\n",
        "    print(f\"Model F1: {f1}\")\n",
        "    print(f\"Model Precision: {prc}\")\n",
        "    print(f\"Model Recall: {rec}\")\n"
      ]
    },
    {
      "cell_type": "code",
      "execution_count": 84,
      "metadata": {
        "colab": {
          "base_uri": "https://localhost:8080/"
        },
        "id": "rPWnwFMTOr7t",
        "outputId": "6dc34474-8f7a-4902-b534-136a672465f5"
      },
      "outputs": [
        {
          "output_type": "stream",
          "name": "stdout",
          "text": [
            "Model F1: 0.63\n",
            "Model Precision: 0.71\n",
            "Model Recall: 0.57\n"
          ]
        }
      ],
      "source": [
        "evaluate_model(y_test, y_pred_log)\n"
      ]
    },
    {
      "cell_type": "code",
      "execution_count": 85,
      "metadata": {
        "colab": {
          "base_uri": "https://localhost:8080/"
        },
        "id": "enKNawu0Or7t",
        "outputId": "a470973c-7268-4ac6-a07d-a8f5242bb6ae"
      },
      "outputs": [
        {
          "output_type": "stream",
          "name": "stdout",
          "text": [
            "Model F1: 0.71\n",
            "Model Precision: 0.71\n",
            "Model Recall: 0.71\n"
          ]
        }
      ],
      "source": [
        "evaluate_model(y_test, y_pred_dt)"
      ]
    },
    {
      "cell_type": "markdown",
      "metadata": {
        "id": "W6CrWh6nOr7t"
      },
      "source": [
        "## Building Pipelines"
      ]
    },
    {
      "cell_type": "code",
      "execution_count": 86,
      "metadata": {
        "id": "09qbwqbwOr7u"
      },
      "outputs": [],
      "source": [
        "from sklearn.pipeline import Pipeline\n",
        "from sklearn.model_selection import RandomizedSearchCV\n"
      ]
    },
    {
      "cell_type": "code",
      "source": [
        "power_trans = PowerTransformer()\n",
        "scaler = StandardScaler()\n",
        "pca = PCA()\n",
        "dt_fit = DecisionTreeClassifier()"
      ],
      "metadata": {
        "id": "o2bmwaC1t5Um"
      },
      "execution_count": 99,
      "outputs": []
    },
    {
      "cell_type": "code",
      "source": [
        "blocks = [(\"TRANS\", power_trans), (\"SCALE\", scaler), (\"PCA\", pca), (\"MODEL\", dt_fit)]\n",
        "blocks"
      ],
      "metadata": {
        "colab": {
          "base_uri": "https://localhost:8080/"
        },
        "id": "BvBznVBVufSy",
        "outputId": "ed9d696e-2a63-4561-dd98-11d77952a0ee"
      },
      "execution_count": 100,
      "outputs": [
        {
          "output_type": "execute_result",
          "data": {
            "text/plain": [
              "[('TRANS', PowerTransformer()),\n",
              " ('SCALE', StandardScaler()),\n",
              " ('PCA', PCA()),\n",
              " ('MODEL', DecisionTreeClassifier())]"
            ]
          },
          "metadata": {},
          "execution_count": 100
        }
      ]
    },
    {
      "cell_type": "code",
      "execution_count": 101,
      "metadata": {
        "id": "y4asBfwEOr7u"
      },
      "outputs": [],
      "source": [
        "pipeline = Pipeline(blocks)\n"
      ]
    },
    {
      "cell_type": "code",
      "source": [
        "pipeline.get_params()"
      ],
      "metadata": {
        "colab": {
          "base_uri": "https://localhost:8080/"
        },
        "id": "YBKUyOLKuptg",
        "outputId": "504d48c4-82ce-4f1d-95c6-8b8762a9f578"
      },
      "execution_count": 102,
      "outputs": [
        {
          "output_type": "execute_result",
          "data": {
            "text/plain": [
              "{'memory': None,\n",
              " 'steps': [('TRANS', PowerTransformer()),\n",
              "  ('SCALE', StandardScaler()),\n",
              "  ('PCA', PCA()),\n",
              "  ('MODEL', DecisionTreeClassifier())],\n",
              " 'verbose': False,\n",
              " 'TRANS': PowerTransformer(),\n",
              " 'SCALE': StandardScaler(),\n",
              " 'PCA': PCA(),\n",
              " 'MODEL': DecisionTreeClassifier(),\n",
              " 'TRANS__copy': True,\n",
              " 'TRANS__method': 'yeo-johnson',\n",
              " 'TRANS__standardize': True,\n",
              " 'SCALE__copy': True,\n",
              " 'SCALE__with_mean': True,\n",
              " 'SCALE__with_std': True,\n",
              " 'PCA__copy': True,\n",
              " 'PCA__iterated_power': 'auto',\n",
              " 'PCA__n_components': None,\n",
              " 'PCA__random_state': None,\n",
              " 'PCA__svd_solver': 'auto',\n",
              " 'PCA__tol': 0.0,\n",
              " 'PCA__whiten': False,\n",
              " 'MODEL__ccp_alpha': 0.0,\n",
              " 'MODEL__class_weight': None,\n",
              " 'MODEL__criterion': 'gini',\n",
              " 'MODEL__max_depth': None,\n",
              " 'MODEL__max_features': None,\n",
              " 'MODEL__max_leaf_nodes': None,\n",
              " 'MODEL__min_impurity_decrease': 0.0,\n",
              " 'MODEL__min_samples_leaf': 1,\n",
              " 'MODEL__min_samples_split': 2,\n",
              " 'MODEL__min_weight_fraction_leaf': 0.0,\n",
              " 'MODEL__random_state': None,\n",
              " 'MODEL__splitter': 'best'}"
            ]
          },
          "metadata": {},
          "execution_count": 102
        }
      ]
    },
    {
      "cell_type": "code",
      "source": [
        "len(num_vars) * 50 * 50 * 50 *5"
      ],
      "metadata": {
        "colab": {
          "base_uri": "https://localhost:8080/"
        },
        "id": "gFx9EarBwi55",
        "outputId": "f694e377-e8cd-4a79-c872-a74c682be041"
      },
      "execution_count": 104,
      "outputs": [
        {
          "output_type": "execute_result",
          "data": {
            "text/plain": [
              "10000000"
            ]
          },
          "metadata": {},
          "execution_count": 104
        }
      ]
    },
    {
      "cell_type": "code",
      "execution_count": 105,
      "metadata": {
        "id": "iagwXV9hOr7u"
      },
      "outputs": [],
      "source": [
        "para_grid = {\n",
        "    \"PCA__n_components\": range(1, len(num_vars)),\n",
        "    \"MODEL__max_depth\": [int(x) for x in np.linspace(1, 150, 50)],\n",
        "    \"MODEL__min_samples_split\": [int(x) for x in np.linspace(2, 100, 50)],\n",
        "    \"MODEL__min_samples_leaf\": [int(x) for x in np.linspace(1, 50, 50)],\n",
        "}\n",
        "\n",
        "cv_fit = RandomizedSearchCV(\n",
        "    pipeline, param_distributions=para_grid, n_iter=10, scoring=\"f1\"\n",
        ")\n",
        "cv_fit.fit(X_train_num, y_train);\n"
      ]
    },
    {
      "cell_type": "code",
      "source": [
        "cv_fit.best_estimator_"
      ],
      "metadata": {
        "colab": {
          "base_uri": "https://localhost:8080/"
        },
        "id": "iXPdyD05x-rk",
        "outputId": "5c79c81f-55a7-4465-c02d-a3ef6795022c"
      },
      "execution_count": 106,
      "outputs": [
        {
          "output_type": "execute_result",
          "data": {
            "text/plain": [
              "Pipeline(steps=[('TRANS', PowerTransformer()), ('SCALE', StandardScaler()),\n",
              "                ('PCA', PCA(n_components=10)),\n",
              "                ('MODEL',\n",
              "                 DecisionTreeClassifier(max_depth=104, min_samples_leaf=6,\n",
              "                                        min_samples_split=4))])"
            ]
          },
          "metadata": {},
          "execution_count": 106
        }
      ]
    },
    {
      "cell_type": "code",
      "execution_count": 107,
      "metadata": {
        "colab": {
          "base_uri": "https://localhost:8080/"
        },
        "id": "Kf2WG6boOr7v",
        "outputId": "8f879475-57c7-476b-9fbb-2e9bfea759fa"
      },
      "outputs": [
        {
          "output_type": "stream",
          "name": "stdout",
          "text": [
            "Model F1: 0.7\n",
            "Model Precision: 0.72\n",
            "Model Recall: 0.68\n"
          ]
        }
      ],
      "source": [
        "y_pred_pipeline = cv_fit.predict(X_test_num)\n",
        "evaluate_model(y_test, y_pred_pipeline)\n"
      ]
    },
    {
      "cell_type": "code",
      "execution_count": 108,
      "metadata": {
        "colab": {
          "base_uri": "https://localhost:8080/"
        },
        "id": "tDYDEDY6Or7v",
        "outputId": "05e24c39-d406-49da-c66b-6238f0e3b9c5"
      },
      "outputs": [
        {
          "output_type": "stream",
          "name": "stdout",
          "text": [
            "Model F1: 0.71\n",
            "Model Precision: 0.71\n",
            "Model Recall: 0.71\n"
          ]
        }
      ],
      "source": [
        "evaluate_model(y_test, y_pred_dt)"
      ]
    },
    {
      "cell_type": "markdown",
      "metadata": {
        "id": "W1tNu5nUOr7v"
      },
      "source": [
        "### Creating Complex Pipelines"
      ]
    },
    {
      "cell_type": "code",
      "execution_count": 132,
      "metadata": {
        "id": "SmVc8LCJOr7v"
      },
      "outputs": [],
      "source": [
        "from sklearn.compose import ColumnTransformer\n",
        "from sklearn.feature_selection import SelectKBest, mutual_info_classif\n"
      ]
    },
    {
      "cell_type": "markdown",
      "source": [
        "#### The Numerical Pipeline"
      ],
      "metadata": {
        "id": "2bJfFvlcbnLr"
      }
    },
    {
      "cell_type": "code",
      "execution_count": 133,
      "metadata": {
        "id": "FdTbKDHmOr7v"
      },
      "outputs": [],
      "source": [
        "power_trans = PowerTransformer()\n",
        "scaler = StandardScaler()\n",
        "pca = PCA()\n",
        "num_blocks = [(\"TRANS\", power_trans), (\"SCALE\", scaler), (\"PCA\", pca)]\n",
        "\n",
        "num_pipeline = Pipeline(num_blocks)\n"
      ]
    },
    {
      "cell_type": "markdown",
      "source": [
        "#### The Categorical Pipeline\n",
        "\n",
        "##### Using SelectKBest for Variable Filtering"
      ],
      "metadata": {
        "id": "UyPcSRlXbq94"
      }
    },
    {
      "cell_type": "code",
      "source": [
        "sk_best = SelectKBest(score_func=mutual_info_classif, k = 2)\n",
        "sk_best.fit(X_train_num, y_train)"
      ],
      "metadata": {
        "id": "_5ObwI6VZrBO",
        "outputId": "744a74a1-7475-449a-f411-c2376c77e121",
        "colab": {
          "base_uri": "https://localhost:8080/"
        }
      },
      "execution_count": 139,
      "outputs": [
        {
          "output_type": "execute_result",
          "data": {
            "text/plain": [
              "SelectKBest(k=2, score_func=<function mutual_info_classif at 0x7f8df0bf9050>)"
            ]
          },
          "metadata": {},
          "execution_count": 139
        }
      ]
    },
    {
      "cell_type": "code",
      "source": [
        "sk_best.feature_names_in_"
      ],
      "metadata": {
        "id": "qTwFAE2xfHSH",
        "outputId": "6cd90f68-4519-46d9-9efe-451525787809",
        "colab": {
          "base_uri": "https://localhost:8080/"
        }
      },
      "execution_count": 140,
      "outputs": [
        {
          "output_type": "execute_result",
          "data": {
            "text/plain": [
              "array(['lead_time', 'stays_in_weekend_nights', 'stays_in_week_nights',\n",
              "       'adults', 'children', 'babies', 'is_repeated_guest',\n",
              "       'previous_cancellations', 'previous_bookings_not_canceled',\n",
              "       'booking_changes', 'days_in_waiting_list', 'adr',\n",
              "       'required_car_parking_spaces', 'total_of_special_requests',\n",
              "       'is_company', 'is_agent'], dtype=object)"
            ]
          },
          "metadata": {},
          "execution_count": 140
        }
      ]
    },
    {
      "cell_type": "code",
      "source": [
        "pd.DataFrame({'variable' : sk_best.feature_names_in_, 'score' : sk_best.scores_}).sort_values('score', ascending = False)"
      ],
      "metadata": {
        "id": "QUibn-eSZ_8X",
        "outputId": "38432f98-cde9-4254-8226-68bcc82eb00e",
        "colab": {
          "base_uri": "https://localhost:8080/",
          "height": 571
        }
      },
      "execution_count": 141,
      "outputs": [
        {
          "output_type": "execute_result",
          "data": {
            "text/plain": [
              "                          variable     score\n",
              "0                        lead_time  0.080107\n",
              "11                             adr  0.077988\n",
              "7           previous_cancellations  0.041434\n",
              "13       total_of_special_requests  0.038702\n",
              "12     required_car_parking_spaces  0.028399\n",
              "9                  booking_changes  0.019043\n",
              "10            days_in_waiting_list  0.015214\n",
              "15                        is_agent  0.011454\n",
              "3                           adults  0.010237\n",
              "2             stays_in_week_nights  0.008364\n",
              "8   previous_bookings_not_canceled  0.007399\n",
              "14                      is_company  0.006477\n",
              "1          stays_in_weekend_nights  0.002353\n",
              "6                is_repeated_guest  0.001449\n",
              "4                         children  0.000000\n",
              "5                           babies  0.000000"
            ],
            "text/html": [
              "\n",
              "  <div id=\"df-49d3d6c6-ffe2-4b19-88f6-4704cd671f7b\">\n",
              "    <div class=\"colab-df-container\">\n",
              "      <div>\n",
              "<style scoped>\n",
              "    .dataframe tbody tr th:only-of-type {\n",
              "        vertical-align: middle;\n",
              "    }\n",
              "\n",
              "    .dataframe tbody tr th {\n",
              "        vertical-align: top;\n",
              "    }\n",
              "\n",
              "    .dataframe thead th {\n",
              "        text-align: right;\n",
              "    }\n",
              "</style>\n",
              "<table border=\"1\" class=\"dataframe\">\n",
              "  <thead>\n",
              "    <tr style=\"text-align: right;\">\n",
              "      <th></th>\n",
              "      <th>variable</th>\n",
              "      <th>score</th>\n",
              "    </tr>\n",
              "  </thead>\n",
              "  <tbody>\n",
              "    <tr>\n",
              "      <th>0</th>\n",
              "      <td>lead_time</td>\n",
              "      <td>0.080107</td>\n",
              "    </tr>\n",
              "    <tr>\n",
              "      <th>11</th>\n",
              "      <td>adr</td>\n",
              "      <td>0.077988</td>\n",
              "    </tr>\n",
              "    <tr>\n",
              "      <th>7</th>\n",
              "      <td>previous_cancellations</td>\n",
              "      <td>0.041434</td>\n",
              "    </tr>\n",
              "    <tr>\n",
              "      <th>13</th>\n",
              "      <td>total_of_special_requests</td>\n",
              "      <td>0.038702</td>\n",
              "    </tr>\n",
              "    <tr>\n",
              "      <th>12</th>\n",
              "      <td>required_car_parking_spaces</td>\n",
              "      <td>0.028399</td>\n",
              "    </tr>\n",
              "    <tr>\n",
              "      <th>9</th>\n",
              "      <td>booking_changes</td>\n",
              "      <td>0.019043</td>\n",
              "    </tr>\n",
              "    <tr>\n",
              "      <th>10</th>\n",
              "      <td>days_in_waiting_list</td>\n",
              "      <td>0.015214</td>\n",
              "    </tr>\n",
              "    <tr>\n",
              "      <th>15</th>\n",
              "      <td>is_agent</td>\n",
              "      <td>0.011454</td>\n",
              "    </tr>\n",
              "    <tr>\n",
              "      <th>3</th>\n",
              "      <td>adults</td>\n",
              "      <td>0.010237</td>\n",
              "    </tr>\n",
              "    <tr>\n",
              "      <th>2</th>\n",
              "      <td>stays_in_week_nights</td>\n",
              "      <td>0.008364</td>\n",
              "    </tr>\n",
              "    <tr>\n",
              "      <th>8</th>\n",
              "      <td>previous_bookings_not_canceled</td>\n",
              "      <td>0.007399</td>\n",
              "    </tr>\n",
              "    <tr>\n",
              "      <th>14</th>\n",
              "      <td>is_company</td>\n",
              "      <td>0.006477</td>\n",
              "    </tr>\n",
              "    <tr>\n",
              "      <th>1</th>\n",
              "      <td>stays_in_weekend_nights</td>\n",
              "      <td>0.002353</td>\n",
              "    </tr>\n",
              "    <tr>\n",
              "      <th>6</th>\n",
              "      <td>is_repeated_guest</td>\n",
              "      <td>0.001449</td>\n",
              "    </tr>\n",
              "    <tr>\n",
              "      <th>4</th>\n",
              "      <td>children</td>\n",
              "      <td>0.000000</td>\n",
              "    </tr>\n",
              "    <tr>\n",
              "      <th>5</th>\n",
              "      <td>babies</td>\n",
              "      <td>0.000000</td>\n",
              "    </tr>\n",
              "  </tbody>\n",
              "</table>\n",
              "</div>\n",
              "      <button class=\"colab-df-convert\" onclick=\"convertToInteractive('df-49d3d6c6-ffe2-4b19-88f6-4704cd671f7b')\"\n",
              "              title=\"Convert this dataframe to an interactive table.\"\n",
              "              style=\"display:none;\">\n",
              "        \n",
              "  <svg xmlns=\"http://www.w3.org/2000/svg\" height=\"24px\"viewBox=\"0 0 24 24\"\n",
              "       width=\"24px\">\n",
              "    <path d=\"M0 0h24v24H0V0z\" fill=\"none\"/>\n",
              "    <path d=\"M18.56 5.44l.94 2.06.94-2.06 2.06-.94-2.06-.94-.94-2.06-.94 2.06-2.06.94zm-11 1L8.5 8.5l.94-2.06 2.06-.94-2.06-.94L8.5 2.5l-.94 2.06-2.06.94zm10 10l.94 2.06.94-2.06 2.06-.94-2.06-.94-.94-2.06-.94 2.06-2.06.94z\"/><path d=\"M17.41 7.96l-1.37-1.37c-.4-.4-.92-.59-1.43-.59-.52 0-1.04.2-1.43.59L10.3 9.45l-7.72 7.72c-.78.78-.78 2.05 0 2.83L4 21.41c.39.39.9.59 1.41.59.51 0 1.02-.2 1.41-.59l7.78-7.78 2.81-2.81c.8-.78.8-2.07 0-2.86zM5.41 20L4 18.59l7.72-7.72 1.47 1.35L5.41 20z\"/>\n",
              "  </svg>\n",
              "      </button>\n",
              "      \n",
              "  <style>\n",
              "    .colab-df-container {\n",
              "      display:flex;\n",
              "      flex-wrap:wrap;\n",
              "      gap: 12px;\n",
              "    }\n",
              "\n",
              "    .colab-df-convert {\n",
              "      background-color: #E8F0FE;\n",
              "      border: none;\n",
              "      border-radius: 50%;\n",
              "      cursor: pointer;\n",
              "      display: none;\n",
              "      fill: #1967D2;\n",
              "      height: 32px;\n",
              "      padding: 0 0 0 0;\n",
              "      width: 32px;\n",
              "    }\n",
              "\n",
              "    .colab-df-convert:hover {\n",
              "      background-color: #E2EBFA;\n",
              "      box-shadow: 0px 1px 2px rgba(60, 64, 67, 0.3), 0px 1px 3px 1px rgba(60, 64, 67, 0.15);\n",
              "      fill: #174EA6;\n",
              "    }\n",
              "\n",
              "    [theme=dark] .colab-df-convert {\n",
              "      background-color: #3B4455;\n",
              "      fill: #D2E3FC;\n",
              "    }\n",
              "\n",
              "    [theme=dark] .colab-df-convert:hover {\n",
              "      background-color: #434B5C;\n",
              "      box-shadow: 0px 1px 3px 1px rgba(0, 0, 0, 0.15);\n",
              "      filter: drop-shadow(0px 1px 2px rgba(0, 0, 0, 0.3));\n",
              "      fill: #FFFFFF;\n",
              "    }\n",
              "  </style>\n",
              "\n",
              "      <script>\n",
              "        const buttonEl =\n",
              "          document.querySelector('#df-49d3d6c6-ffe2-4b19-88f6-4704cd671f7b button.colab-df-convert');\n",
              "        buttonEl.style.display =\n",
              "          google.colab.kernel.accessAllowed ? 'block' : 'none';\n",
              "\n",
              "        async function convertToInteractive(key) {\n",
              "          const element = document.querySelector('#df-49d3d6c6-ffe2-4b19-88f6-4704cd671f7b');\n",
              "          const dataTable =\n",
              "            await google.colab.kernel.invokeFunction('convertToInteractive',\n",
              "                                                     [key], {});\n",
              "          if (!dataTable) return;\n",
              "\n",
              "          const docLinkHtml = 'Like what you see? Visit the ' +\n",
              "            '<a target=\"_blank\" href=https://colab.research.google.com/notebooks/data_table.ipynb>data table notebook</a>'\n",
              "            + ' to learn more about interactive tables.';\n",
              "          element.innerHTML = '';\n",
              "          dataTable['output_type'] = 'display_data';\n",
              "          await google.colab.output.renderOutput(dataTable, element);\n",
              "          const docLink = document.createElement('div');\n",
              "          docLink.innerHTML = docLinkHtml;\n",
              "          element.appendChild(docLink);\n",
              "        }\n",
              "      </script>\n",
              "    </div>\n",
              "  </div>\n",
              "  "
            ]
          },
          "metadata": {},
          "execution_count": 141
        }
      ]
    },
    {
      "cell_type": "code",
      "source": [
        "sk_best.transform(X_test_num)"
      ],
      "metadata": {
        "id": "HUzxkJUQfYuY",
        "outputId": "b6ea3c07-09c1-4466-e9df-d6dce9fd7dac",
        "colab": {
          "base_uri": "https://localhost:8080/"
        }
      },
      "execution_count": 142,
      "outputs": [
        {
          "output_type": "execute_result",
          "data": {
            "text/plain": [
              "array([[ 65.  ,  88.22],\n",
              "       [ 14.  , 117.3 ],\n",
              "       [113.  , 125.  ],\n",
              "       ...,\n",
              "       [ 33.  , 110.  ],\n",
              "       [ 53.  , 140.  ],\n",
              "       [ 55.  ,  93.6 ]])"
            ]
          },
          "metadata": {},
          "execution_count": 142
        }
      ]
    },
    {
      "cell_type": "code",
      "source": [
        "sk_best.get_feature_names_out()"
      ],
      "metadata": {
        "id": "uHOtOyJQbcx2"
      },
      "execution_count": null,
      "outputs": []
    },
    {
      "cell_type": "markdown",
      "source": [
        "##### Implementing the Pipeline"
      ],
      "metadata": {
        "id": "Z90CnyLYb0L_"
      }
    },
    {
      "cell_type": "code",
      "source": [
        "cat_vars"
      ],
      "metadata": {
        "id": "AUs8N7ASgEcJ",
        "outputId": "a3876b38-0b99-4500-db0c-b016bec7c66a",
        "colab": {
          "base_uri": "https://localhost:8080/"
        }
      },
      "execution_count": 143,
      "outputs": [
        {
          "output_type": "execute_result",
          "data": {
            "text/plain": [
              "['hotel',\n",
              " 'meal',\n",
              " 'country',\n",
              " 'market_segment',\n",
              " 'distribution_channel',\n",
              " 'reserved_room_type',\n",
              " 'assigned_room_type',\n",
              " 'deposit_type',\n",
              " 'customer_type']"
            ]
          },
          "metadata": {},
          "execution_count": 143
        }
      ]
    },
    {
      "cell_type": "code",
      "source": [
        "ohe = OneHotEncoder(drop=\"first\", handle_unknown=\"ignore\")\n",
        "ohe.fit(X_train[cat_vars])"
      ],
      "metadata": {
        "id": "kzqFzCVFgB71",
        "outputId": "0878f36b-11a9-4c73-8a2e-4a89ef5d09f3",
        "colab": {
          "base_uri": "https://localhost:8080/"
        }
      },
      "execution_count": 144,
      "outputs": [
        {
          "output_type": "execute_result",
          "data": {
            "text/plain": [
              "OneHotEncoder(drop='first', handle_unknown='ignore')"
            ]
          },
          "metadata": {},
          "execution_count": 144
        }
      ]
    },
    {
      "cell_type": "code",
      "source": [
        "ohe.transform(X_train[cat_vars])"
      ],
      "metadata": {
        "id": "_O2apO_tgIao",
        "outputId": "56968fc3-05b2-49a2-c0ca-743ed2500912",
        "colab": {
          "base_uri": "https://localhost:8080/"
        }
      },
      "execution_count": 145,
      "outputs": [
        {
          "output_type": "execute_result",
          "data": {
            "text/plain": [
              "<85056x208 sparse matrix of type '<class 'numpy.float64'>'\n",
              "\twith 446661 stored elements in Compressed Sparse Row format>"
            ]
          },
          "metadata": {},
          "execution_count": 145
        }
      ]
    },
    {
      "cell_type": "code",
      "execution_count": 149,
      "metadata": {
        "id": "xKevs6kcOr7w"
      },
      "outputs": [],
      "source": [
        "ohe = OneHotEncoder(drop=\"first\", handle_unknown=\"ignore\")\n",
        "kbest = SelectKBest(score_func=mutual_info_classif)\n",
        "cat_blocks = [(\"OHE\", ohe), (\"KB\", kbest)]\n",
        "\n",
        "cat_pipeline = Pipeline(cat_blocks)\n"
      ]
    },
    {
      "cell_type": "markdown",
      "source": [
        "### Creating the Full Pipeline"
      ],
      "metadata": {
        "id": "EQhLLZHIg3RK"
      }
    },
    {
      "cell_type": "code",
      "source": [
        "cat_vars"
      ],
      "metadata": {
        "id": "MfQtMgenhJpY",
        "outputId": "0731ccf2-c12d-40ff-cb55-12c8cf11833c",
        "colab": {
          "base_uri": "https://localhost:8080/"
        }
      },
      "execution_count": 147,
      "outputs": [
        {
          "output_type": "execute_result",
          "data": {
            "text/plain": [
              "['hotel',\n",
              " 'meal',\n",
              " 'country',\n",
              " 'market_segment',\n",
              " 'distribution_channel',\n",
              " 'reserved_room_type',\n",
              " 'assigned_room_type',\n",
              " 'deposit_type',\n",
              " 'customer_type']"
            ]
          },
          "metadata": {},
          "execution_count": 147
        }
      ]
    },
    {
      "cell_type": "code",
      "source": [
        "[(\"NUMPREP\", num_pipeline, num_vars), (\"CATPREP\", cat_pipeline, cat_vars)]"
      ],
      "metadata": {
        "id": "ii37C37Zg-gb"
      },
      "execution_count": null,
      "outputs": []
    },
    {
      "cell_type": "code",
      "execution_count": 150,
      "metadata": {
        "id": "YsfAJNAYOr7w"
      },
      "outputs": [],
      "source": [
        "data_prep_pipeline = ColumnTransformer(\n",
        "    transformers=[\n",
        "        (\"NUMPREP\", num_pipeline, num_vars),\n",
        "        (\"CATPREP\", cat_pipeline, cat_vars)\n",
        "    ]\n",
        ")"
      ]
    },
    {
      "cell_type": "code",
      "execution_count": 151,
      "metadata": {
        "id": "tzCNiJA1Or7w"
      },
      "outputs": [],
      "source": [
        "log_fit = LogisticRegression()\n",
        "pipeline = Pipeline(steps=[('PRE', data_prep_pipeline),\n",
        "                           ('MODEL', log_fit)])"
      ]
    },
    {
      "cell_type": "code",
      "execution_count": null,
      "metadata": {
        "id": "Bm6vylq4Or7w"
      },
      "outputs": [],
      "source": [
        "pipeline.get_params()"
      ]
    },
    {
      "cell_type": "code",
      "execution_count": 153,
      "metadata": {
        "id": "NJgQctvQOr7w"
      },
      "outputs": [],
      "source": [
        "param_grid = {\n",
        "    'PRE__NUMPREP__PCA__n_components' : range(1, len(num_vars)),\n",
        "    'PRE__CATPREP__KB__k' : range(1, len(cat_vars))\n",
        "}\n",
        "\n",
        "grid_fit = RandomizedSearchCV(pipeline, param_grid, n_iter = 10, n_jobs = 2)\n",
        "grid_fit.fit(X_train, y_train);"
      ]
    },
    {
      "cell_type": "code",
      "execution_count": 154,
      "metadata": {
        "colab": {
          "base_uri": "https://localhost:8080/"
        },
        "id": "IyZpGfLHOr7w",
        "outputId": "fd7f0f1c-865a-467a-f8f5-beeb1514648b"
      },
      "outputs": [
        {
          "output_type": "stream",
          "name": "stdout",
          "text": [
            "Model F1: 0.7\n",
            "Model Precision: 0.81\n",
            "Model Recall: 0.61\n"
          ]
        }
      ],
      "source": [
        "y_pred_pipeline = grid_fit.predict(X_test)\n",
        "evaluate_model(y_test, y_pred_pipeline)\n"
      ]
    },
    {
      "cell_type": "markdown",
      "metadata": {
        "id": "CyPCc0JrOr7x"
      },
      "source": [
        "# Multi-classification Tasks"
      ]
    },
    {
      "cell_type": "code",
      "execution_count": 155,
      "metadata": {
        "id": "3bdenf1xOr7x"
      },
      "outputs": [],
      "source": [
        "from sklearn import datasets"
      ]
    },
    {
      "cell_type": "code",
      "execution_count": 156,
      "metadata": {
        "id": "ORKmECYtOr7x"
      },
      "outputs": [],
      "source": [
        "tb_wine = pd.DataFrame(datasets.load_wine(as_frame=True)['data'])\n",
        "tb_wine['classif_wine'] = pd.DataFrame(datasets.load_wine(as_frame=True)['target'])"
      ]
    },
    {
      "cell_type": "code",
      "source": [
        "tb_wine.head()"
      ],
      "metadata": {
        "id": "PQtqBqWKnIpR",
        "outputId": "240bb1ef-65a8-456f-8df1-6300a3d0efbc",
        "colab": {
          "base_uri": "https://localhost:8080/",
          "height": 270
        }
      },
      "execution_count": 158,
      "outputs": [
        {
          "output_type": "execute_result",
          "data": {
            "text/plain": [
              "   alcohol  malic_acid   ash  alcalinity_of_ash  magnesium  total_phenols  \\\n",
              "0    14.23        1.71  2.43               15.6      127.0           2.80   \n",
              "1    13.20        1.78  2.14               11.2      100.0           2.65   \n",
              "2    13.16        2.36  2.67               18.6      101.0           2.80   \n",
              "3    14.37        1.95  2.50               16.8      113.0           3.85   \n",
              "4    13.24        2.59  2.87               21.0      118.0           2.80   \n",
              "\n",
              "   flavanoids  nonflavanoid_phenols  proanthocyanins  color_intensity   hue  \\\n",
              "0        3.06                  0.28             2.29             5.64  1.04   \n",
              "1        2.76                  0.26             1.28             4.38  1.05   \n",
              "2        3.24                  0.30             2.81             5.68  1.03   \n",
              "3        3.49                  0.24             2.18             7.80  0.86   \n",
              "4        2.69                  0.39             1.82             4.32  1.04   \n",
              "\n",
              "   od280/od315_of_diluted_wines  proline  classif_wine  \n",
              "0                          3.92   1065.0             0  \n",
              "1                          3.40   1050.0             0  \n",
              "2                          3.17   1185.0             0  \n",
              "3                          3.45   1480.0             0  \n",
              "4                          2.93    735.0             0  "
            ],
            "text/html": [
              "\n",
              "  <div id=\"df-cf1eb5e4-8db5-48a5-b943-4171a4d5a414\">\n",
              "    <div class=\"colab-df-container\">\n",
              "      <div>\n",
              "<style scoped>\n",
              "    .dataframe tbody tr th:only-of-type {\n",
              "        vertical-align: middle;\n",
              "    }\n",
              "\n",
              "    .dataframe tbody tr th {\n",
              "        vertical-align: top;\n",
              "    }\n",
              "\n",
              "    .dataframe thead th {\n",
              "        text-align: right;\n",
              "    }\n",
              "</style>\n",
              "<table border=\"1\" class=\"dataframe\">\n",
              "  <thead>\n",
              "    <tr style=\"text-align: right;\">\n",
              "      <th></th>\n",
              "      <th>alcohol</th>\n",
              "      <th>malic_acid</th>\n",
              "      <th>ash</th>\n",
              "      <th>alcalinity_of_ash</th>\n",
              "      <th>magnesium</th>\n",
              "      <th>total_phenols</th>\n",
              "      <th>flavanoids</th>\n",
              "      <th>nonflavanoid_phenols</th>\n",
              "      <th>proanthocyanins</th>\n",
              "      <th>color_intensity</th>\n",
              "      <th>hue</th>\n",
              "      <th>od280/od315_of_diluted_wines</th>\n",
              "      <th>proline</th>\n",
              "      <th>classif_wine</th>\n",
              "    </tr>\n",
              "  </thead>\n",
              "  <tbody>\n",
              "    <tr>\n",
              "      <th>0</th>\n",
              "      <td>14.23</td>\n",
              "      <td>1.71</td>\n",
              "      <td>2.43</td>\n",
              "      <td>15.6</td>\n",
              "      <td>127.0</td>\n",
              "      <td>2.80</td>\n",
              "      <td>3.06</td>\n",
              "      <td>0.28</td>\n",
              "      <td>2.29</td>\n",
              "      <td>5.64</td>\n",
              "      <td>1.04</td>\n",
              "      <td>3.92</td>\n",
              "      <td>1065.0</td>\n",
              "      <td>0</td>\n",
              "    </tr>\n",
              "    <tr>\n",
              "      <th>1</th>\n",
              "      <td>13.20</td>\n",
              "      <td>1.78</td>\n",
              "      <td>2.14</td>\n",
              "      <td>11.2</td>\n",
              "      <td>100.0</td>\n",
              "      <td>2.65</td>\n",
              "      <td>2.76</td>\n",
              "      <td>0.26</td>\n",
              "      <td>1.28</td>\n",
              "      <td>4.38</td>\n",
              "      <td>1.05</td>\n",
              "      <td>3.40</td>\n",
              "      <td>1050.0</td>\n",
              "      <td>0</td>\n",
              "    </tr>\n",
              "    <tr>\n",
              "      <th>2</th>\n",
              "      <td>13.16</td>\n",
              "      <td>2.36</td>\n",
              "      <td>2.67</td>\n",
              "      <td>18.6</td>\n",
              "      <td>101.0</td>\n",
              "      <td>2.80</td>\n",
              "      <td>3.24</td>\n",
              "      <td>0.30</td>\n",
              "      <td>2.81</td>\n",
              "      <td>5.68</td>\n",
              "      <td>1.03</td>\n",
              "      <td>3.17</td>\n",
              "      <td>1185.0</td>\n",
              "      <td>0</td>\n",
              "    </tr>\n",
              "    <tr>\n",
              "      <th>3</th>\n",
              "      <td>14.37</td>\n",
              "      <td>1.95</td>\n",
              "      <td>2.50</td>\n",
              "      <td>16.8</td>\n",
              "      <td>113.0</td>\n",
              "      <td>3.85</td>\n",
              "      <td>3.49</td>\n",
              "      <td>0.24</td>\n",
              "      <td>2.18</td>\n",
              "      <td>7.80</td>\n",
              "      <td>0.86</td>\n",
              "      <td>3.45</td>\n",
              "      <td>1480.0</td>\n",
              "      <td>0</td>\n",
              "    </tr>\n",
              "    <tr>\n",
              "      <th>4</th>\n",
              "      <td>13.24</td>\n",
              "      <td>2.59</td>\n",
              "      <td>2.87</td>\n",
              "      <td>21.0</td>\n",
              "      <td>118.0</td>\n",
              "      <td>2.80</td>\n",
              "      <td>2.69</td>\n",
              "      <td>0.39</td>\n",
              "      <td>1.82</td>\n",
              "      <td>4.32</td>\n",
              "      <td>1.04</td>\n",
              "      <td>2.93</td>\n",
              "      <td>735.0</td>\n",
              "      <td>0</td>\n",
              "    </tr>\n",
              "  </tbody>\n",
              "</table>\n",
              "</div>\n",
              "      <button class=\"colab-df-convert\" onclick=\"convertToInteractive('df-cf1eb5e4-8db5-48a5-b943-4171a4d5a414')\"\n",
              "              title=\"Convert this dataframe to an interactive table.\"\n",
              "              style=\"display:none;\">\n",
              "        \n",
              "  <svg xmlns=\"http://www.w3.org/2000/svg\" height=\"24px\"viewBox=\"0 0 24 24\"\n",
              "       width=\"24px\">\n",
              "    <path d=\"M0 0h24v24H0V0z\" fill=\"none\"/>\n",
              "    <path d=\"M18.56 5.44l.94 2.06.94-2.06 2.06-.94-2.06-.94-.94-2.06-.94 2.06-2.06.94zm-11 1L8.5 8.5l.94-2.06 2.06-.94-2.06-.94L8.5 2.5l-.94 2.06-2.06.94zm10 10l.94 2.06.94-2.06 2.06-.94-2.06-.94-.94-2.06-.94 2.06-2.06.94z\"/><path d=\"M17.41 7.96l-1.37-1.37c-.4-.4-.92-.59-1.43-.59-.52 0-1.04.2-1.43.59L10.3 9.45l-7.72 7.72c-.78.78-.78 2.05 0 2.83L4 21.41c.39.39.9.59 1.41.59.51 0 1.02-.2 1.41-.59l7.78-7.78 2.81-2.81c.8-.78.8-2.07 0-2.86zM5.41 20L4 18.59l7.72-7.72 1.47 1.35L5.41 20z\"/>\n",
              "  </svg>\n",
              "      </button>\n",
              "      \n",
              "  <style>\n",
              "    .colab-df-container {\n",
              "      display:flex;\n",
              "      flex-wrap:wrap;\n",
              "      gap: 12px;\n",
              "    }\n",
              "\n",
              "    .colab-df-convert {\n",
              "      background-color: #E8F0FE;\n",
              "      border: none;\n",
              "      border-radius: 50%;\n",
              "      cursor: pointer;\n",
              "      display: none;\n",
              "      fill: #1967D2;\n",
              "      height: 32px;\n",
              "      padding: 0 0 0 0;\n",
              "      width: 32px;\n",
              "    }\n",
              "\n",
              "    .colab-df-convert:hover {\n",
              "      background-color: #E2EBFA;\n",
              "      box-shadow: 0px 1px 2px rgba(60, 64, 67, 0.3), 0px 1px 3px 1px rgba(60, 64, 67, 0.15);\n",
              "      fill: #174EA6;\n",
              "    }\n",
              "\n",
              "    [theme=dark] .colab-df-convert {\n",
              "      background-color: #3B4455;\n",
              "      fill: #D2E3FC;\n",
              "    }\n",
              "\n",
              "    [theme=dark] .colab-df-convert:hover {\n",
              "      background-color: #434B5C;\n",
              "      box-shadow: 0px 1px 3px 1px rgba(0, 0, 0, 0.15);\n",
              "      filter: drop-shadow(0px 1px 2px rgba(0, 0, 0, 0.3));\n",
              "      fill: #FFFFFF;\n",
              "    }\n",
              "  </style>\n",
              "\n",
              "      <script>\n",
              "        const buttonEl =\n",
              "          document.querySelector('#df-cf1eb5e4-8db5-48a5-b943-4171a4d5a414 button.colab-df-convert');\n",
              "        buttonEl.style.display =\n",
              "          google.colab.kernel.accessAllowed ? 'block' : 'none';\n",
              "\n",
              "        async function convertToInteractive(key) {\n",
              "          const element = document.querySelector('#df-cf1eb5e4-8db5-48a5-b943-4171a4d5a414');\n",
              "          const dataTable =\n",
              "            await google.colab.kernel.invokeFunction('convertToInteractive',\n",
              "                                                     [key], {});\n",
              "          if (!dataTable) return;\n",
              "\n",
              "          const docLinkHtml = 'Like what you see? Visit the ' +\n",
              "            '<a target=\"_blank\" href=https://colab.research.google.com/notebooks/data_table.ipynb>data table notebook</a>'\n",
              "            + ' to learn more about interactive tables.';\n",
              "          element.innerHTML = '';\n",
              "          dataTable['output_type'] = 'display_data';\n",
              "          await google.colab.output.renderOutput(dataTable, element);\n",
              "          const docLink = document.createElement('div');\n",
              "          docLink.innerHTML = docLinkHtml;\n",
              "          element.appendChild(docLink);\n",
              "        }\n",
              "      </script>\n",
              "    </div>\n",
              "  </div>\n",
              "  "
            ]
          },
          "metadata": {},
          "execution_count": 158
        }
      ]
    },
    {
      "cell_type": "code",
      "execution_count": 159,
      "metadata": {
        "id": "DnMzq0KzOr7x"
      },
      "outputs": [],
      "source": [
        "X = tb_wine.drop('classif_wine', axis = 1)\n",
        "y = tb_wine['classif_wine']\n",
        "X_train, X_test, y_train, y_test = train_test_split(X, y)"
      ]
    },
    {
      "cell_type": "code",
      "execution_count": 160,
      "metadata": {
        "id": "UeaTsJAQOr7x"
      },
      "outputs": [],
      "source": [
        "power_trans = PowerTransformer()\n",
        "scaler = StandardScaler()\n",
        "pca = PCA()\n",
        "dt_fit = DecisionTreeClassifier()\n",
        "blocks = [(\"TRANS\", power_trans), (\"SCALE\", scaler), (\"PCA\", pca), (\"MODEL\", dt_fit)]\n",
        "\n",
        "pipeline = Pipeline(blocks)\n"
      ]
    },
    {
      "cell_type": "code",
      "execution_count": 161,
      "metadata": {
        "id": "o5a_0GGYOr7y"
      },
      "outputs": [],
      "source": [
        "para_grid = {\n",
        "    \"PCA__n_components\": range(1, X.shape[1]),\n",
        "    \"MODEL__max_depth\": [int(x) for x in np.linspace(1, 150, 50)],\n",
        "    \"MODEL__min_samples_split\": [int(x) for x in np.linspace(2, 100, 50)],\n",
        "    \"MODEL__min_samples_leaf\": [int(x) for x in np.linspace(1, 50, 50)],\n",
        "}\n",
        "\n",
        "cv_fit = RandomizedSearchCV(\n",
        "    pipeline, param_distributions=para_grid, n_iter=1000, scoring=\"f1\"\n",
        ")\n",
        "cv_fit.fit(X_train, y_train);\n"
      ]
    },
    {
      "cell_type": "code",
      "execution_count": 162,
      "metadata": {
        "colab": {
          "base_uri": "https://localhost:8080/"
        },
        "id": "XoQKVydEOr7y",
        "outputId": "07cdc653-82ec-4d78-bc6e-393a8204bb93"
      },
      "outputs": [
        {
          "output_type": "execute_result",
          "data": {
            "text/plain": [
              "Pipeline(steps=[('TRANS', PowerTransformer()), ('SCALE', StandardScaler()),\n",
              "                ('PCA', PCA(n_components=1)),\n",
              "                ('MODEL',\n",
              "                 DecisionTreeClassifier(max_depth=61, min_samples_leaf=20,\n",
              "                                        min_samples_split=14))])"
            ]
          },
          "metadata": {},
          "execution_count": 162
        }
      ],
      "source": [
        "cv_fit.best_estimator_"
      ]
    },
    {
      "cell_type": "markdown",
      "metadata": {
        "id": "0h9Wn9jKOr7y"
      },
      "source": [
        "## Measuring error"
      ]
    },
    {
      "cell_type": "code",
      "execution_count": 163,
      "metadata": {
        "colab": {
          "base_uri": "https://localhost:8080/"
        },
        "id": "OV899wQWOr7y",
        "outputId": "37e7dbab-4f18-4105-e282-e6cb9e522697"
      },
      "outputs": [
        {
          "output_type": "execute_result",
          "data": {
            "text/plain": [
              "array([0.71794872, 0.5       , 0.86956522])"
            ]
          },
          "metadata": {},
          "execution_count": 163
        }
      ],
      "source": [
        "y_pred = cv_fit.predict(X_test)\n",
        "f1_score(y_test, y_pred, average = None)"
      ]
    },
    {
      "cell_type": "code",
      "execution_count": 164,
      "metadata": {
        "colab": {
          "base_uri": "https://localhost:8080/"
        },
        "id": "Q0jyI9UHOr7y",
        "outputId": "158e69b2-ee68-492c-81b8-04e0f5dc0b09"
      },
      "outputs": [
        {
          "output_type": "execute_result",
          "data": {
            "text/plain": [
              "1    53\n",
              "0    44\n",
              "2    36\n",
              "Name: classif_wine, dtype: int64"
            ]
          },
          "metadata": {},
          "execution_count": 164
        }
      ],
      "source": [
        "y_train.value_counts()"
      ]
    },
    {
      "cell_type": "markdown",
      "metadata": {
        "id": "kEXNGT56Or7y"
      },
      "source": [
        "## Building a model w/ Class Balancing"
      ]
    },
    {
      "cell_type": "code",
      "execution_count": 165,
      "metadata": {
        "id": "V239098MOr7z"
      },
      "outputs": [],
      "source": [
        "power_trans = PowerTransformer()\n",
        "scaler = StandardScaler()\n",
        "pca = PCA()\n",
        "dt_fit = DecisionTreeClassifier(class_weight=\"balanced\")\n",
        "blocks = [(\"TRANS\", power_trans), (\"SCALE\", scaler), (\"PCA\", pca), (\"MODEL\", dt_fit)]\n",
        "\n",
        "pipeline = Pipeline(blocks)\n",
        "\n",
        "para_grid = {\n",
        "    \"PCA__n_components\": range(1, X.shape[1]),\n",
        "    \"MODEL__max_depth\": [int(x) for x in np.linspace(1, 150, 50)],\n",
        "    \"MODEL__min_samples_split\": [int(x) for x in np.linspace(2, 100, 50)],\n",
        "    \"MODEL__min_samples_leaf\": [int(x) for x in np.linspace(1, 50, 50)],\n",
        "}\n",
        "\n",
        "cv_fit = RandomizedSearchCV(\n",
        "    pipeline, param_distributions=para_grid, n_iter=1000, scoring=\"f1\"\n",
        ")\n",
        "cv_fit.fit(X_train, y_train);\n"
      ]
    },
    {
      "cell_type": "markdown",
      "source": [
        "array([0.71794872, 0.5       , 0.86956522])"
      ],
      "metadata": {
        "id": "4YvYxpngqr6p"
      }
    },
    {
      "cell_type": "code",
      "execution_count": 166,
      "metadata": {
        "colab": {
          "base_uri": "https://localhost:8080/"
        },
        "id": "iLkc5JNzOr7z",
        "outputId": "85986247-bde4-44e4-94ee-8a3f3ee250e0"
      },
      "outputs": [
        {
          "output_type": "execute_result",
          "data": {
            "text/plain": [
              "array([0.90909091, 0.94117647, 0.86956522])"
            ]
          },
          "metadata": {},
          "execution_count": 166
        }
      ],
      "source": [
        "y_pred = cv_fit.predict(X_test)\n",
        "f1_score(y_test, y_pred, average = None)"
      ]
    },
    {
      "cell_type": "code",
      "execution_count": null,
      "metadata": {
        "id": "jfa1TX13Or7z"
      },
      "outputs": [],
      "source": [
        "precision_score(y_test, y_pred, average = None)"
      ]
    },
    {
      "cell_type": "markdown",
      "metadata": {
        "id": "YWuWYqeCOr7z"
      },
      "source": [
        "### Calculating the aggregate error"
      ]
    },
    {
      "cell_type": "markdown",
      "metadata": {
        "id": "T8EV8z8HOr7z"
      },
      "source": [
        "#### Micro averaging\n",
        "\n",
        "Calculates True Positives, False Positives and False Negatives for each class, totalling them and calculating the F1 score for these totals."
      ]
    },
    {
      "cell_type": "code",
      "execution_count": 167,
      "metadata": {
        "colab": {
          "base_uri": "https://localhost:8080/"
        },
        "id": "vhxpYaF6Or7z",
        "outputId": "dca5b84c-2029-451d-d461-963706948644"
      },
      "outputs": [
        {
          "output_type": "execute_result",
          "data": {
            "text/plain": [
              "0.9111111111111111"
            ]
          },
          "metadata": {},
          "execution_count": 167
        }
      ],
      "source": [
        "f1_score(y_test, y_pred, average = 'micro')"
      ]
    },
    {
      "cell_type": "markdown",
      "metadata": {
        "id": "2X_MJ3OkOr70"
      },
      "source": [
        "#### Macro averaging\n",
        "\n",
        "**Unweighted average** F1-Score for each class - **gives equal importance to different classes**."
      ]
    },
    {
      "cell_type": "code",
      "execution_count": 168,
      "metadata": {
        "colab": {
          "base_uri": "https://localhost:8080/"
        },
        "id": "LnZGQDkiOr70",
        "outputId": "8eba1766-4821-42cf-a350-947fe8b3cab4"
      },
      "outputs": [
        {
          "output_type": "execute_result",
          "data": {
            "text/plain": [
              "0.9066108656901495"
            ]
          },
          "metadata": {},
          "execution_count": 168
        }
      ],
      "source": [
        "f1_score(y_test, y_pred, average = 'macro')"
      ]
    },
    {
      "cell_type": "markdown",
      "metadata": {
        "id": "7jjQGEfiOr70"
      },
      "source": [
        "#### Weighted averaging\n",
        "\n",
        "**Weighted average** F1-Score for each class - **gives proportional weights to classes with more observations**."
      ]
    },
    {
      "cell_type": "code",
      "execution_count": 169,
      "metadata": {
        "colab": {
          "base_uri": "https://localhost:8080/"
        },
        "id": "ukzx6luIOr70",
        "outputId": "48d15942-c9f4-4a02-aae1-d8de001b9e9a"
      },
      "outputs": [
        {
          "output_type": "execute_result",
          "data": {
            "text/plain": [
              "0.9113849492366117"
            ]
          },
          "metadata": {},
          "execution_count": 169
        }
      ],
      "source": [
        "f1_score(y_test, y_pred, average = 'weighted')"
      ]
    },
    {
      "cell_type": "code",
      "source": [],
      "metadata": {
        "id": "_TyokyE5tZjY"
      },
      "execution_count": null,
      "outputs": []
    }
  ],
  "metadata": {
    "kernelspec": {
      "display_name": "Python 3.9.11 ('base')",
      "language": "python",
      "name": "python3"
    },
    "language_info": {
      "codemirror_mode": {
        "name": "ipython",
        "version": 3
      },
      "file_extension": ".py",
      "mimetype": "text/x-python",
      "name": "python",
      "nbconvert_exporter": "python",
      "pygments_lexer": "ipython3",
      "version": "3.9.11"
    },
    "orig_nbformat": 4,
    "vscode": {
      "interpreter": {
        "hash": "014f4a4a5af8f0104b12c029e500f4146d6d785e8cf714d2a35b7a9514230cd3"
      }
    },
    "colab": {
      "provenance": []
    }
  },
  "nbformat": 4,
  "nbformat_minor": 0
}