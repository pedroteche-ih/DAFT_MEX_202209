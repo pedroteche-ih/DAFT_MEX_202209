{
  "cells": [
    {
      "cell_type": "code",
      "execution_count": 22,
      "metadata": {
        "id": "ngdiqsT2mwJJ"
      },
      "outputs": [],
      "source": [
        "import numpy as np\n",
        "import scipy as sp\n",
        "import pandas as pd\n",
        "import matplotlib.pyplot as plt\n",
        "\n",
        "import seaborn as sns"
      ]
    },
    {
      "cell_type": "markdown",
      "metadata": {
        "id": "BEASNcLrmwJK"
      },
      "source": [
        "# Classification Models"
      ]
    },
    {
      "cell_type": "code",
      "execution_count": 2,
      "metadata": {
        "id": "-pWQwKO1mwJL"
      },
      "outputs": [],
      "source": [
        "url = 'https://raw.githubusercontent.com/pedroteche-ih/DAFT_MEX_202209/main/data/tb_hotel_traintest.csv'\n",
        "tb_hotel = pd.read_csv(url)"
      ]
    },
    {
      "cell_type": "code",
      "execution_count": 3,
      "metadata": {
        "id": "8HsK1WwumwJL",
        "outputId": "2a25561b-a40a-496d-9758-932b7d62ba86",
        "colab": {
          "base_uri": "https://localhost:8080/",
          "height": 386
        }
      },
      "outputs": [
        {
          "output_type": "execute_result",
          "data": {
            "text/plain": [
              "          hotel  is_cancelled  lead_time  stays_in_weekend_nights  \\\n",
              "0  Resort Hotel             0        342                        0   \n",
              "1  Resort Hotel             0        737                        0   \n",
              "2  Resort Hotel             0          7                        0   \n",
              "3  Resort Hotel             0         13                        0   \n",
              "4  Resort Hotel             0         14                        0   \n",
              "\n",
              "   stays_in_week_nights  adults  children  babies meal country  ...  agent  \\\n",
              "0                     0       2       0.0       0   BB     PRT  ...    NaN   \n",
              "1                     0       2       0.0       0   BB     PRT  ...    NaN   \n",
              "2                     1       1       0.0       0   BB     GBR  ...    NaN   \n",
              "3                     1       1       0.0       0   BB     GBR  ...  304.0   \n",
              "4                     2       2       0.0       0   BB     GBR  ...  240.0   \n",
              "\n",
              "  company  days_in_waiting_list  customer_type   adr  \\\n",
              "0     NaN                     0      Transient   0.0   \n",
              "1     NaN                     0      Transient   0.0   \n",
              "2     NaN                     0      Transient  75.0   \n",
              "3     NaN                     0      Transient  75.0   \n",
              "4     NaN                     0      Transient  98.0   \n",
              "\n",
              "  required_car_parking_spaces total_of_special_requests  \\\n",
              "0                           0                         0   \n",
              "1                           0                         0   \n",
              "2                           0                         0   \n",
              "3                           0                         0   \n",
              "4                           0                         1   \n",
              "\n",
              "   reservation_status_date arrival_date  id_booking  \n",
              "0               2015-07-01   2015-07-01           0  \n",
              "1               2015-07-01   2015-07-01           1  \n",
              "2               2015-07-02   2015-07-01           2  \n",
              "3               2015-07-02   2015-07-01           3  \n",
              "4               2015-07-03   2015-07-01           4  \n",
              "\n",
              "[5 rows x 29 columns]"
            ],
            "text/html": [
              "\n",
              "  <div id=\"df-2deea054-4467-4532-836b-a5a5776febc6\">\n",
              "    <div class=\"colab-df-container\">\n",
              "      <div>\n",
              "<style scoped>\n",
              "    .dataframe tbody tr th:only-of-type {\n",
              "        vertical-align: middle;\n",
              "    }\n",
              "\n",
              "    .dataframe tbody tr th {\n",
              "        vertical-align: top;\n",
              "    }\n",
              "\n",
              "    .dataframe thead th {\n",
              "        text-align: right;\n",
              "    }\n",
              "</style>\n",
              "<table border=\"1\" class=\"dataframe\">\n",
              "  <thead>\n",
              "    <tr style=\"text-align: right;\">\n",
              "      <th></th>\n",
              "      <th>hotel</th>\n",
              "      <th>is_cancelled</th>\n",
              "      <th>lead_time</th>\n",
              "      <th>stays_in_weekend_nights</th>\n",
              "      <th>stays_in_week_nights</th>\n",
              "      <th>adults</th>\n",
              "      <th>children</th>\n",
              "      <th>babies</th>\n",
              "      <th>meal</th>\n",
              "      <th>country</th>\n",
              "      <th>...</th>\n",
              "      <th>agent</th>\n",
              "      <th>company</th>\n",
              "      <th>days_in_waiting_list</th>\n",
              "      <th>customer_type</th>\n",
              "      <th>adr</th>\n",
              "      <th>required_car_parking_spaces</th>\n",
              "      <th>total_of_special_requests</th>\n",
              "      <th>reservation_status_date</th>\n",
              "      <th>arrival_date</th>\n",
              "      <th>id_booking</th>\n",
              "    </tr>\n",
              "  </thead>\n",
              "  <tbody>\n",
              "    <tr>\n",
              "      <th>0</th>\n",
              "      <td>Resort Hotel</td>\n",
              "      <td>0</td>\n",
              "      <td>342</td>\n",
              "      <td>0</td>\n",
              "      <td>0</td>\n",
              "      <td>2</td>\n",
              "      <td>0.0</td>\n",
              "      <td>0</td>\n",
              "      <td>BB</td>\n",
              "      <td>PRT</td>\n",
              "      <td>...</td>\n",
              "      <td>NaN</td>\n",
              "      <td>NaN</td>\n",
              "      <td>0</td>\n",
              "      <td>Transient</td>\n",
              "      <td>0.0</td>\n",
              "      <td>0</td>\n",
              "      <td>0</td>\n",
              "      <td>2015-07-01</td>\n",
              "      <td>2015-07-01</td>\n",
              "      <td>0</td>\n",
              "    </tr>\n",
              "    <tr>\n",
              "      <th>1</th>\n",
              "      <td>Resort Hotel</td>\n",
              "      <td>0</td>\n",
              "      <td>737</td>\n",
              "      <td>0</td>\n",
              "      <td>0</td>\n",
              "      <td>2</td>\n",
              "      <td>0.0</td>\n",
              "      <td>0</td>\n",
              "      <td>BB</td>\n",
              "      <td>PRT</td>\n",
              "      <td>...</td>\n",
              "      <td>NaN</td>\n",
              "      <td>NaN</td>\n",
              "      <td>0</td>\n",
              "      <td>Transient</td>\n",
              "      <td>0.0</td>\n",
              "      <td>0</td>\n",
              "      <td>0</td>\n",
              "      <td>2015-07-01</td>\n",
              "      <td>2015-07-01</td>\n",
              "      <td>1</td>\n",
              "    </tr>\n",
              "    <tr>\n",
              "      <th>2</th>\n",
              "      <td>Resort Hotel</td>\n",
              "      <td>0</td>\n",
              "      <td>7</td>\n",
              "      <td>0</td>\n",
              "      <td>1</td>\n",
              "      <td>1</td>\n",
              "      <td>0.0</td>\n",
              "      <td>0</td>\n",
              "      <td>BB</td>\n",
              "      <td>GBR</td>\n",
              "      <td>...</td>\n",
              "      <td>NaN</td>\n",
              "      <td>NaN</td>\n",
              "      <td>0</td>\n",
              "      <td>Transient</td>\n",
              "      <td>75.0</td>\n",
              "      <td>0</td>\n",
              "      <td>0</td>\n",
              "      <td>2015-07-02</td>\n",
              "      <td>2015-07-01</td>\n",
              "      <td>2</td>\n",
              "    </tr>\n",
              "    <tr>\n",
              "      <th>3</th>\n",
              "      <td>Resort Hotel</td>\n",
              "      <td>0</td>\n",
              "      <td>13</td>\n",
              "      <td>0</td>\n",
              "      <td>1</td>\n",
              "      <td>1</td>\n",
              "      <td>0.0</td>\n",
              "      <td>0</td>\n",
              "      <td>BB</td>\n",
              "      <td>GBR</td>\n",
              "      <td>...</td>\n",
              "      <td>304.0</td>\n",
              "      <td>NaN</td>\n",
              "      <td>0</td>\n",
              "      <td>Transient</td>\n",
              "      <td>75.0</td>\n",
              "      <td>0</td>\n",
              "      <td>0</td>\n",
              "      <td>2015-07-02</td>\n",
              "      <td>2015-07-01</td>\n",
              "      <td>3</td>\n",
              "    </tr>\n",
              "    <tr>\n",
              "      <th>4</th>\n",
              "      <td>Resort Hotel</td>\n",
              "      <td>0</td>\n",
              "      <td>14</td>\n",
              "      <td>0</td>\n",
              "      <td>2</td>\n",
              "      <td>2</td>\n",
              "      <td>0.0</td>\n",
              "      <td>0</td>\n",
              "      <td>BB</td>\n",
              "      <td>GBR</td>\n",
              "      <td>...</td>\n",
              "      <td>240.0</td>\n",
              "      <td>NaN</td>\n",
              "      <td>0</td>\n",
              "      <td>Transient</td>\n",
              "      <td>98.0</td>\n",
              "      <td>0</td>\n",
              "      <td>1</td>\n",
              "      <td>2015-07-03</td>\n",
              "      <td>2015-07-01</td>\n",
              "      <td>4</td>\n",
              "    </tr>\n",
              "  </tbody>\n",
              "</table>\n",
              "<p>5 rows × 29 columns</p>\n",
              "</div>\n",
              "      <button class=\"colab-df-convert\" onclick=\"convertToInteractive('df-2deea054-4467-4532-836b-a5a5776febc6')\"\n",
              "              title=\"Convert this dataframe to an interactive table.\"\n",
              "              style=\"display:none;\">\n",
              "        \n",
              "  <svg xmlns=\"http://www.w3.org/2000/svg\" height=\"24px\"viewBox=\"0 0 24 24\"\n",
              "       width=\"24px\">\n",
              "    <path d=\"M0 0h24v24H0V0z\" fill=\"none\"/>\n",
              "    <path d=\"M18.56 5.44l.94 2.06.94-2.06 2.06-.94-2.06-.94-.94-2.06-.94 2.06-2.06.94zm-11 1L8.5 8.5l.94-2.06 2.06-.94-2.06-.94L8.5 2.5l-.94 2.06-2.06.94zm10 10l.94 2.06.94-2.06 2.06-.94-2.06-.94-.94-2.06-.94 2.06-2.06.94z\"/><path d=\"M17.41 7.96l-1.37-1.37c-.4-.4-.92-.59-1.43-.59-.52 0-1.04.2-1.43.59L10.3 9.45l-7.72 7.72c-.78.78-.78 2.05 0 2.83L4 21.41c.39.39.9.59 1.41.59.51 0 1.02-.2 1.41-.59l7.78-7.78 2.81-2.81c.8-.78.8-2.07 0-2.86zM5.41 20L4 18.59l7.72-7.72 1.47 1.35L5.41 20z\"/>\n",
              "  </svg>\n",
              "      </button>\n",
              "      \n",
              "  <style>\n",
              "    .colab-df-container {\n",
              "      display:flex;\n",
              "      flex-wrap:wrap;\n",
              "      gap: 12px;\n",
              "    }\n",
              "\n",
              "    .colab-df-convert {\n",
              "      background-color: #E8F0FE;\n",
              "      border: none;\n",
              "      border-radius: 50%;\n",
              "      cursor: pointer;\n",
              "      display: none;\n",
              "      fill: #1967D2;\n",
              "      height: 32px;\n",
              "      padding: 0 0 0 0;\n",
              "      width: 32px;\n",
              "    }\n",
              "\n",
              "    .colab-df-convert:hover {\n",
              "      background-color: #E2EBFA;\n",
              "      box-shadow: 0px 1px 2px rgba(60, 64, 67, 0.3), 0px 1px 3px 1px rgba(60, 64, 67, 0.15);\n",
              "      fill: #174EA6;\n",
              "    }\n",
              "\n",
              "    [theme=dark] .colab-df-convert {\n",
              "      background-color: #3B4455;\n",
              "      fill: #D2E3FC;\n",
              "    }\n",
              "\n",
              "    [theme=dark] .colab-df-convert:hover {\n",
              "      background-color: #434B5C;\n",
              "      box-shadow: 0px 1px 3px 1px rgba(0, 0, 0, 0.15);\n",
              "      filter: drop-shadow(0px 1px 2px rgba(0, 0, 0, 0.3));\n",
              "      fill: #FFFFFF;\n",
              "    }\n",
              "  </style>\n",
              "\n",
              "      <script>\n",
              "        const buttonEl =\n",
              "          document.querySelector('#df-2deea054-4467-4532-836b-a5a5776febc6 button.colab-df-convert');\n",
              "        buttonEl.style.display =\n",
              "          google.colab.kernel.accessAllowed ? 'block' : 'none';\n",
              "\n",
              "        async function convertToInteractive(key) {\n",
              "          const element = document.querySelector('#df-2deea054-4467-4532-836b-a5a5776febc6');\n",
              "          const dataTable =\n",
              "            await google.colab.kernel.invokeFunction('convertToInteractive',\n",
              "                                                     [key], {});\n",
              "          if (!dataTable) return;\n",
              "\n",
              "          const docLinkHtml = 'Like what you see? Visit the ' +\n",
              "            '<a target=\"_blank\" href=https://colab.research.google.com/notebooks/data_table.ipynb>data table notebook</a>'\n",
              "            + ' to learn more about interactive tables.';\n",
              "          element.innerHTML = '';\n",
              "          dataTable['output_type'] = 'display_data';\n",
              "          await google.colab.output.renderOutput(dataTable, element);\n",
              "          const docLink = document.createElement('div');\n",
              "          docLink.innerHTML = docLinkHtml;\n",
              "          element.appendChild(docLink);\n",
              "        }\n",
              "      </script>\n",
              "    </div>\n",
              "  </div>\n",
              "  "
            ]
          },
          "metadata": {},
          "execution_count": 3
        }
      ],
      "source": [
        "tb_hotel.head()"
      ]
    },
    {
      "cell_type": "code",
      "source": [
        "tb_hotel.info()"
      ],
      "metadata": {
        "id": "mYu9_CDzs62e",
        "outputId": "770dc2ef-5ab3-4d2f-c649-f47f96fdb996",
        "colab": {
          "base_uri": "https://localhost:8080/"
        }
      },
      "execution_count": 4,
      "outputs": [
        {
          "output_type": "stream",
          "name": "stdout",
          "text": [
            "<class 'pandas.core.frame.DataFrame'>\n",
            "RangeIndex: 113409 entries, 0 to 113408\n",
            "Data columns (total 29 columns):\n",
            " #   Column                          Non-Null Count   Dtype  \n",
            "---  ------                          --------------   -----  \n",
            " 0   hotel                           113409 non-null  object \n",
            " 1   is_cancelled                    113409 non-null  int64  \n",
            " 2   lead_time                       113409 non-null  int64  \n",
            " 3   stays_in_weekend_nights         113409 non-null  int64  \n",
            " 4   stays_in_week_nights            113409 non-null  int64  \n",
            " 5   adults                          113409 non-null  int64  \n",
            " 6   children                        113406 non-null  float64\n",
            " 7   babies                          113409 non-null  int64  \n",
            " 8   meal                            113409 non-null  object \n",
            " 9   country                         112951 non-null  object \n",
            " 10  market_segment                  113409 non-null  object \n",
            " 11  distribution_channel            113409 non-null  object \n",
            " 12  is_repeated_guest               113409 non-null  int64  \n",
            " 13  previous_cancellations          113409 non-null  int64  \n",
            " 14  previous_bookings_not_canceled  113409 non-null  int64  \n",
            " 15  reserved_room_type              113409 non-null  object \n",
            " 16  assigned_room_type              113409 non-null  object \n",
            " 17  booking_changes                 113409 non-null  int64  \n",
            " 18  deposit_type                    113409 non-null  object \n",
            " 19  agent                           97918 non-null   float64\n",
            " 20  company                         6437 non-null    float64\n",
            " 21  days_in_waiting_list            113409 non-null  int64  \n",
            " 22  customer_type                   113409 non-null  object \n",
            " 23  adr                             113409 non-null  float64\n",
            " 24  required_car_parking_spaces     113409 non-null  int64  \n",
            " 25  total_of_special_requests       113409 non-null  int64  \n",
            " 26  reservation_status_date         113409 non-null  object \n",
            " 27  arrival_date                    113409 non-null  object \n",
            " 28  id_booking                      113409 non-null  int64  \n",
            "dtypes: float64(4), int64(14), object(11)\n",
            "memory usage: 25.1+ MB\n"
          ]
        }
      ]
    },
    {
      "cell_type": "code",
      "execution_count": 5,
      "metadata": {
        "id": "BBxyETtRmwJM"
      },
      "outputs": [],
      "source": [
        "# Cleaning Lead Time outliers\n",
        "q25 = np.quantile(tb_hotel['lead_time'], 0.25)\n",
        "q75 = np.quantile(tb_hotel['lead_time'], 0.75)\n",
        "IQR = q75 - q25\n",
        "mask = (tb_hotel['lead_time'] > (q75 + 3 * IQR)) | (tb_hotel['lead_time'] < (q25 - 3 * IQR))\n",
        "tb_hotel = tb_hotel[~mask]"
      ]
    },
    {
      "cell_type": "code",
      "execution_count": 6,
      "metadata": {
        "id": "s1Y1kfnJmwJM"
      },
      "outputs": [],
      "source": [
        "# Cleaning NAs\n",
        "tb_hotel['children'] = tb_hotel['children'].fillna(0)\n",
        "tb_hotel['is_company'] = np.where(tb_hotel['company'].isna(), 0, 1)\n",
        "tb_hotel['is_agent'] = np.where(tb_hotel['agent'].isna(), 0, 1)\n",
        "tb_hotel = tb_hotel.drop(['company', 'agent'], axis = 1).dropna()"
      ]
    },
    {
      "cell_type": "code",
      "execution_count": 7,
      "metadata": {
        "id": "nrHGvoc6mwJM",
        "outputId": "76c26897-f476-42c6-aff6-87c7f9425550",
        "colab": {
          "base_uri": "https://localhost:8080/"
        }
      },
      "outputs": [
        {
          "output_type": "stream",
          "name": "stdout",
          "text": [
            "<class 'pandas.core.frame.DataFrame'>\n",
            "Int64Index: 112794 entries, 0 to 113408\n",
            "Data columns (total 29 columns):\n",
            " #   Column                          Non-Null Count   Dtype  \n",
            "---  ------                          --------------   -----  \n",
            " 0   hotel                           112794 non-null  object \n",
            " 1   is_cancelled                    112794 non-null  int64  \n",
            " 2   lead_time                       112794 non-null  int64  \n",
            " 3   stays_in_weekend_nights         112794 non-null  int64  \n",
            " 4   stays_in_week_nights            112794 non-null  int64  \n",
            " 5   adults                          112794 non-null  int64  \n",
            " 6   children                        112794 non-null  float64\n",
            " 7   babies                          112794 non-null  int64  \n",
            " 8   meal                            112794 non-null  object \n",
            " 9   country                         112794 non-null  object \n",
            " 10  market_segment                  112794 non-null  object \n",
            " 11  distribution_channel            112794 non-null  object \n",
            " 12  is_repeated_guest               112794 non-null  int64  \n",
            " 13  previous_cancellations          112794 non-null  int64  \n",
            " 14  previous_bookings_not_canceled  112794 non-null  int64  \n",
            " 15  reserved_room_type              112794 non-null  object \n",
            " 16  assigned_room_type              112794 non-null  object \n",
            " 17  booking_changes                 112794 non-null  int64  \n",
            " 18  deposit_type                    112794 non-null  object \n",
            " 19  days_in_waiting_list            112794 non-null  int64  \n",
            " 20  customer_type                   112794 non-null  object \n",
            " 21  adr                             112794 non-null  float64\n",
            " 22  required_car_parking_spaces     112794 non-null  int64  \n",
            " 23  total_of_special_requests       112794 non-null  int64  \n",
            " 24  reservation_status_date         112794 non-null  object \n",
            " 25  arrival_date                    112794 non-null  object \n",
            " 26  id_booking                      112794 non-null  int64  \n",
            " 27  is_company                      112794 non-null  int64  \n",
            " 28  is_agent                        112794 non-null  int64  \n",
            "dtypes: float64(2), int64(16), object(11)\n",
            "memory usage: 25.8+ MB\n"
          ]
        }
      ],
      "source": [
        "tb_hotel.info()"
      ]
    },
    {
      "cell_type": "markdown",
      "metadata": {
        "id": "9af3X9A4mwJM"
      },
      "source": [
        "# Estimating Probabilities"
      ]
    },
    {
      "cell_type": "code",
      "execution_count": 9,
      "metadata": {
        "id": "9J8O4eEqmwJN",
        "outputId": "f3228230-c2da-40cf-a3b5-38e1cb9adc97",
        "colab": {
          "base_uri": "https://localhost:8080/"
        }
      },
      "outputs": [
        {
          "output_type": "execute_result",
          "data": {
            "text/plain": [
              "0.3707466709222122"
            ]
          },
          "metadata": {},
          "execution_count": 9
        }
      ],
      "source": [
        "tb_hotel['is_cancelled'].sum()/tb_hotel['is_cancelled'].count()"
      ]
    },
    {
      "cell_type": "code",
      "source": [
        "tb_hotel.groupby('is_company')['is_cancelled'].mean()"
      ],
      "metadata": {
        "id": "mUi49J5Tt5uM",
        "outputId": "1145e479-cf94-46b1-9507-7d93bbb0d1f3",
        "colab": {
          "base_uri": "https://localhost:8080/"
        }
      },
      "execution_count": 10,
      "outputs": [
        {
          "output_type": "execute_result",
          "data": {
            "text/plain": [
              "is_company\n",
              "0    0.382191\n",
              "1    0.176442\n",
              "Name: is_cancelled, dtype: float64"
            ]
          },
          "metadata": {},
          "execution_count": 10
        }
      ]
    },
    {
      "cell_type": "code",
      "source": [
        "tb_hotel.groupby('meal')['is_cancelled'].mean()"
      ],
      "metadata": {
        "id": "tT34GtLeuUQI",
        "outputId": "1bcd2654-ac68-43c8-8ea2-71403823926d",
        "colab": {
          "base_uri": "https://localhost:8080/"
        }
      },
      "execution_count": 11,
      "outputs": [
        {
          "output_type": "execute_result",
          "data": {
            "text/plain": [
              "meal\n",
              "BB           0.374139\n",
              "FB           0.600801\n",
              "HB           0.347114\n",
              "SC           0.370620\n",
              "Undefined    0.242780\n",
              "Name: is_cancelled, dtype: float64"
            ]
          },
          "metadata": {},
          "execution_count": 11
        }
      ]
    },
    {
      "cell_type": "code",
      "source": [
        "tb_hotel['cat_lead_time'] = pd.qcut(tb_hotel['lead_time'], 5)"
      ],
      "metadata": {
        "id": "SNHxGFuKufqK"
      },
      "execution_count": 12,
      "outputs": []
    },
    {
      "cell_type": "code",
      "source": [
        "tb_hotel.groupby('cat_lead_time')['is_cancelled'].mean()"
      ],
      "metadata": {
        "id": "Xaq4pdKVuqax",
        "outputId": "bb0ddbf1-0a40-43a3-f85b-f00e90399b64",
        "colab": {
          "base_uri": "https://localhost:8080/"
        }
      },
      "execution_count": 13,
      "outputs": [
        {
          "output_type": "execute_result",
          "data": {
            "text/plain": [
              "cat_lead_time\n",
              "(-0.001, 12.0]    0.122876\n",
              "(12.0, 45.0]      0.324240\n",
              "(45.0, 100.0]     0.396101\n",
              "(100.0, 184.0]    0.450065\n",
              "(184.0, 587.0]    0.570013\n",
              "Name: is_cancelled, dtype: float64"
            ]
          },
          "metadata": {},
          "execution_count": 13
        }
      ]
    },
    {
      "cell_type": "markdown",
      "metadata": {
        "id": "y1M69SLrmwJN"
      },
      "source": [
        "# Logistic Regression"
      ]
    },
    {
      "cell_type": "code",
      "execution_count": 16,
      "metadata": {
        "id": "XNI61_C3mwJN"
      },
      "outputs": [],
      "source": [
        "from sklearn.linear_model import LogisticRegression"
      ]
    },
    {
      "cell_type": "code",
      "source": [
        "X = tb_hotel[['lead_time']]\n",
        "y = tb_hotel['is_cancelled']\n",
        "\n",
        "log_fit = LogisticRegression()\n",
        "log_fit.fit(X, y)"
      ],
      "metadata": {
        "id": "rbcV1qIby-Vh",
        "outputId": "75dd40e1-344c-4035-9dbf-f6564b30226e",
        "colab": {
          "base_uri": "https://localhost:8080/"
        }
      },
      "execution_count": 17,
      "outputs": [
        {
          "output_type": "execute_result",
          "data": {
            "text/plain": [
              "LogisticRegression()"
            ]
          },
          "metadata": {},
          "execution_count": 17
        }
      ]
    },
    {
      "cell_type": "code",
      "source": [
        "log_fit.coef_"
      ],
      "metadata": {
        "id": "OzZIeznizXQb",
        "outputId": "d7a06163-ac75-44c8-8bca-fc13ef07305e",
        "colab": {
          "base_uri": "https://localhost:8080/"
        }
      },
      "execution_count": 18,
      "outputs": [
        {
          "output_type": "execute_result",
          "data": {
            "text/plain": [
              "array([[0.0058171]])"
            ]
          },
          "metadata": {},
          "execution_count": 18
        }
      ]
    },
    {
      "cell_type": "code",
      "source": [
        "log_fit.intercept_"
      ],
      "metadata": {
        "id": "6rTC9-k5zZIE",
        "outputId": "e89f31ab-86de-4461-8c6c-6f384bcc6973",
        "colab": {
          "base_uri": "https://localhost:8080/"
        }
      },
      "execution_count": 19,
      "outputs": [
        {
          "output_type": "execute_result",
          "data": {
            "text/plain": [
              "array([-1.15867813])"
            ]
          },
          "metadata": {},
          "execution_count": 19
        }
      ]
    },
    {
      "cell_type": "code",
      "source": [
        "tb_hotel['pred_probability'] = log_fit.predict_proba(X)[:,1]\n",
        "sns.scatterplot(data = tb_hotel, x = 'lead_time', y = 'pred_probability');"
      ],
      "metadata": {
        "id": "v-8XVP51zioF",
        "outputId": "a5a3f6c9-cb1b-4ad0-e0a8-6c8a5c9160c4",
        "colab": {
          "base_uri": "https://localhost:8080/",
          "height": 301
        }
      },
      "execution_count": 27,
      "outputs": [
        {
          "output_type": "display_data",
          "data": {
            "text/plain": [
              "<Figure size 432x288 with 1 Axes>"
            ],
            "image/png": "[encoded data removed]"
          },
          "metadata": {
            "needs_background": "light"
          }
        }
      ]
    },
    {
      "cell_type": "code",
      "source": [
        "log_fit.predict_proba(X)[:,1]"
      ],
      "metadata": {
        "id": "ZPpVLnkv0I1F",
        "outputId": "97f9337e-e437-4602-a998-a600092a8f4f",
        "colab": {
          "base_uri": "https://localhost:8080/"
        }
      },
      "execution_count": 31,
      "outputs": [
        {
          "output_type": "execute_result",
          "data": {
            "text/plain": [
              "array([0.6965174 , 0.24639016, 0.25292815, ..., 0.27669866, 0.37177379,\n",
              "       0.5084558 ])"
            ]
          },
          "metadata": {},
          "execution_count": 31
        }
      ]
    },
    {
      "cell_type": "markdown",
      "metadata": {
        "id": "jRvYF0tLmwJN"
      },
      "source": [
        "## Using Categorical Features"
      ]
    },
    {
      "cell_type": "code",
      "execution_count": 33,
      "metadata": {
        "id": "zVt9DpWOmwJO",
        "outputId": "97e0a73a-aed8-443b-f307-1ab10b1e9042",
        "colab": {
          "base_uri": "https://localhost:8080/",
          "height": 301
        }
      },
      "outputs": [
        {
          "output_type": "display_data",
          "data": {
            "text/plain": [
              "<Figure size 432x288 with 1 Axes>"
            ],
            "image/png": "[encoded data removed]"
          },
          "metadata": {
            "needs_background": "light"
          }
        }
      ],
      "source": [
        "X = tb_hotel[['lead_time', 'is_company']]\n",
        "y = tb_hotel['is_cancelled']\n",
        "\n",
        "log_fit = LogisticRegression()\n",
        "log_fit.fit(X, y)\n",
        "\n",
        "tb_hotel['pred_probability'] = log_fit.predict_proba(X)[:,1]\n",
        "sns.scatterplot(data = tb_hotel, x = 'lead_time', y = 'pred_probability', hue = 'is_company');"
      ]
    },
    {
      "cell_type": "code",
      "source": [
        "[2] * 3"
      ],
      "metadata": {
        "id": "robV5UWr2X9l",
        "outputId": "c5382929-02f5-4f92-fef5-4407db20e09b",
        "colab": {
          "base_uri": "https://localhost:8080/"
        }
      },
      "execution_count": 35,
      "outputs": [
        {
          "output_type": "execute_result",
          "data": {
            "text/plain": [
              "[2, 2, 2]"
            ]
          },
          "metadata": {},
          "execution_count": 35
        }
      ]
    },
    {
      "cell_type": "code",
      "source": [
        "simul_lead_time = list(np.linspace(0, 1000, 1000)) * 2\n",
        "simul_company = [0] * 1000 + [1] * 1000\n",
        "tb_simulation = pd.DataFrame({'lead_time' : simul_lead_time, 'is_company' : simul_company})"
      ],
      "metadata": {
        "id": "FKwVHq422HDL"
      },
      "execution_count": 36,
      "outputs": []
    },
    {
      "cell_type": "code",
      "source": [
        "tb_simulation['pred_probability'] = log_fit.predict_proba(tb_simulation[['lead_time', 'is_company']])[:,1]\n",
        "tb_simulation.head()"
      ],
      "metadata": {
        "id": "8JPAUzlp2szR",
        "outputId": "087f50fe-d122-4363-dd67-54e35d90bd55",
        "colab": {
          "base_uri": "https://localhost:8080/",
          "height": 226
        }
      },
      "execution_count": 38,
      "outputs": [
        {
          "output_type": "execute_result",
          "data": {
            "text/plain": [
              "   lead_time  is_company  pred_probability\n",
              "0   0.000000           0          0.248322\n",
              "1   1.001001           0          0.249383\n",
              "2   2.002002           0          0.250447\n",
              "3   3.003003           0          0.251513\n",
              "4   4.004004           0          0.252583"
            ],
            "text/html": [
              "\n",
              "  <div id=\"df-1007ba2a-ce8f-4283-b8b6-cdb806f95e75\">\n",
              "    <div class=\"colab-df-container\">\n",
              "      <div>\n",
              "<style scoped>\n",
              "    .dataframe tbody tr th:only-of-type {\n",
              "        vertical-align: middle;\n",
              "    }\n",
              "\n",
              "    .dataframe tbody tr th {\n",
              "        vertical-align: top;\n",
              "    }\n",
              "\n",
              "    .dataframe thead th {\n",
              "        text-align: right;\n",
              "    }\n",
              "</style>\n",
              "<table border=\"1\" class=\"dataframe\">\n",
              "  <thead>\n",
              "    <tr style=\"text-align: right;\">\n",
              "      <th></th>\n",
              "      <th>lead_time</th>\n",
              "      <th>is_company</th>\n",
              "      <th>pred_probability</th>\n",
              "    </tr>\n",
              "  </thead>\n",
              "  <tbody>\n",
              "    <tr>\n",
              "      <th>0</th>\n",
              "      <td>0.000000</td>\n",
              "      <td>0</td>\n",
              "      <td>0.248322</td>\n",
              "    </tr>\n",
              "    <tr>\n",
              "      <th>1</th>\n",
              "      <td>1.001001</td>\n",
              "      <td>0</td>\n",
              "      <td>0.249383</td>\n",
              "    </tr>\n",
              "    <tr>\n",
              "      <th>2</th>\n",
              "      <td>2.002002</td>\n",
              "      <td>0</td>\n",
              "      <td>0.250447</td>\n",
              "    </tr>\n",
              "    <tr>\n",
              "      <th>3</th>\n",
              "      <td>3.003003</td>\n",
              "      <td>0</td>\n",
              "      <td>0.251513</td>\n",
              "    </tr>\n",
              "    <tr>\n",
              "      <th>4</th>\n",
              "      <td>4.004004</td>\n",
              "      <td>0</td>\n",
              "      <td>0.252583</td>\n",
              "    </tr>\n",
              "  </tbody>\n",
              "</table>\n",
              "</div>\n",
              "      <button class=\"colab-df-convert\" onclick=\"convertToInteractive('df-1007ba2a-ce8f-4283-b8b6-cdb806f95e75')\"\n",
              "              title=\"Convert this dataframe to an interactive table.\"\n",
              "              style=\"display:none;\">\n",
              "        \n",
              "  <svg xmlns=\"http://www.w3.org/2000/svg\" height=\"24px\"viewBox=\"0 0 24 24\"\n",
              "       width=\"24px\">\n",
              "    <path d=\"M0 0h24v24H0V0z\" fill=\"none\"/>\n",
              "    <path d=\"M18.56 5.44l.94 2.06.94-2.06 2.06-.94-2.06-.94-.94-2.06-.94 2.06-2.06.94zm-11 1L8.5 8.5l.94-2.06 2.06-.94-2.06-.94L8.5 2.5l-.94 2.06-2.06.94zm10 10l.94 2.06.94-2.06 2.06-.94-2.06-.94-.94-2.06-.94 2.06-2.06.94z\"/><path d=\"M17.41 7.96l-1.37-1.37c-.4-.4-.92-.59-1.43-.59-.52 0-1.04.2-1.43.59L10.3 9.45l-7.72 7.72c-.78.78-.78 2.05 0 2.83L4 21.41c.39.39.9.59 1.41.59.51 0 1.02-.2 1.41-.59l7.78-7.78 2.81-2.81c.8-.78.8-2.07 0-2.86zM5.41 20L4 18.59l7.72-7.72 1.47 1.35L5.41 20z\"/>\n",
              "  </svg>\n",
              "      </button>\n",
              "      \n",
              "  <style>\n",
              "    .colab-df-container {\n",
              "      display:flex;\n",
              "      flex-wrap:wrap;\n",
              "      gap: 12px;\n",
              "    }\n",
              "\n",
              "    .colab-df-convert {\n",
              "      background-color: #E8F0FE;\n",
              "      border: none;\n",
              "      border-radius: 50%;\n",
              "      cursor: pointer;\n",
              "      display: none;\n",
              "      fill: #1967D2;\n",
              "      height: 32px;\n",
              "      padding: 0 0 0 0;\n",
              "      width: 32px;\n",
              "    }\n",
              "\n",
              "    .colab-df-convert:hover {\n",
              "      background-color: #E2EBFA;\n",
              "      box-shadow: 0px 1px 2px rgba(60, 64, 67, 0.3), 0px 1px 3px 1px rgba(60, 64, 67, 0.15);\n",
              "      fill: #174EA6;\n",
              "    }\n",
              "\n",
              "    [theme=dark] .colab-df-convert {\n",
              "      background-color: #3B4455;\n",
              "      fill: #D2E3FC;\n",
              "    }\n",
              "\n",
              "    [theme=dark] .colab-df-convert:hover {\n",
              "      background-color: #434B5C;\n",
              "      box-shadow: 0px 1px 3px 1px rgba(0, 0, 0, 0.15);\n",
              "      filter: drop-shadow(0px 1px 2px rgba(0, 0, 0, 0.3));\n",
              "      fill: #FFFFFF;\n",
              "    }\n",
              "  </style>\n",
              "\n",
              "      <script>\n",
              "        const buttonEl =\n",
              "          document.querySelector('#df-1007ba2a-ce8f-4283-b8b6-cdb806f95e75 button.colab-df-convert');\n",
              "        buttonEl.style.display =\n",
              "          google.colab.kernel.accessAllowed ? 'block' : 'none';\n",
              "\n",
              "        async function convertToInteractive(key) {\n",
              "          const element = document.querySelector('#df-1007ba2a-ce8f-4283-b8b6-cdb806f95e75');\n",
              "          const dataTable =\n",
              "            await google.colab.kernel.invokeFunction('convertToInteractive',\n",
              "                                                     [key], {});\n",
              "          if (!dataTable) return;\n",
              "\n",
              "          const docLinkHtml = 'Like what you see? Visit the ' +\n",
              "            '<a target=\"_blank\" href=https://colab.research.google.com/notebooks/data_table.ipynb>data table notebook</a>'\n",
              "            + ' to learn more about interactive tables.';\n",
              "          element.innerHTML = '';\n",
              "          dataTable['output_type'] = 'display_data';\n",
              "          await google.colab.output.renderOutput(dataTable, element);\n",
              "          const docLink = document.createElement('div');\n",
              "          docLink.innerHTML = docLinkHtml;\n",
              "          element.appendChild(docLink);\n",
              "        }\n",
              "      </script>\n",
              "    </div>\n",
              "  </div>\n",
              "  "
            ]
          },
          "metadata": {},
          "execution_count": 38
        }
      ]
    },
    {
      "cell_type": "code",
      "source": [
        "sns.scatterplot(data = tb_simulation, x = 'lead_time', y = 'pred_probability', hue = 'is_company');"
      ],
      "metadata": {
        "id": "_DHU1ok-2xHy",
        "outputId": "d420f2bc-ca14-4c4b-9b28-2077e97c66a9",
        "colab": {
          "base_uri": "https://localhost:8080/",
          "height": 301
        }
      },
      "execution_count": 39,
      "outputs": [
        {
          "output_type": "display_data",
          "data": {
            "text/plain": [
              "<Figure size 432x288 with 1 Axes>"
            ],
            "image/png": "[encoded data removed]"
          },
          "metadata": {
            "needs_background": "light"
          }
        }
      ]
    },
    {
      "cell_type": "code",
      "source": [
        "tb_hotel['company_lead_time'] = tb_hotel['+lead_time']\n",
        "X = tb_hotel[['lead_time', 'is_company']]\n",
        "y = tb_hotel['is_cancelled']\n",
        "\n",
        "log_fit = LogisticRegression()\n",
        "log_fit.fit(X, y)\n",
        "\n",
        "tb_hotel['pred_probability'] = log_fit.predict_proba(X)[:,1]\n",
        "sns.scatterplot(data = tb_hotel, x = 'lead_time', y = 'pred_probability', hue = 'is_company');"
      ],
      "metadata": {
        "id": "S0IQVRhn1n2o"
      },
      "execution_count": null,
      "outputs": []
    },
    {
      "cell_type": "code",
      "source": [
        "log_fit.predict_proba(X)"
      ],
      "metadata": {
        "id": "eBYS4rBl64jN",
        "outputId": "269917d2-a388-4446-f4bf-c3120cf84129",
        "colab": {
          "base_uri": "https://localhost:8080/"
        }
      },
      "execution_count": 45,
      "outputs": [
        {
          "output_type": "execute_result",
          "data": {
            "text/plain": [
              "array([[0.30345972, 0.69654028],\n",
              "       [0.74419804, 0.25580196],\n",
              "       [0.73767045, 0.26232955],\n",
              "       ...,\n",
              "       [0.71399519, 0.28600481],\n",
              "       [0.62005166, 0.37994834],\n",
              "       [0.4864132 , 0.5135868 ]])"
            ]
          },
          "metadata": {},
          "execution_count": 45
        }
      ]
    },
    {
      "cell_type": "markdown",
      "metadata": {
        "id": "Lyf-UxAqmwJO"
      },
      "source": [
        "# Thresholding - Probability to Prediction"
      ]
    },
    {
      "cell_type": "code",
      "execution_count": 41,
      "metadata": {
        "id": "TxJXFYO2mwJO",
        "outputId": "34cacc71-1a1a-4f6d-d0ae-b546d474eb9e",
        "colab": {
          "base_uri": "https://localhost:8080/",
          "height": 318
        }
      },
      "outputs": [
        {
          "output_type": "execute_result",
          "data": {
            "text/plain": [
              "<matplotlib.axes._subplots.AxesSubplot at 0x7fbe183a36d0>"
            ]
          },
          "metadata": {},
          "execution_count": 41
        },
        {
          "output_type": "display_data",
          "data": {
            "text/plain": [
              "<Figure size 432x288 with 1 Axes>"
            ],
            "image/png": "[encoded data removed]"
          },
          "metadata": {
            "needs_background": "light"
          }
        }
      ],
      "source": [
        "tb_hotel['pred_event'] = log_fit.predict(X)\n",
        "sns.scatterplot(data = tb_hotel, x = 'lead_time', y = 'pred_event', hue = 'is_company', alpha = 0.6)"
      ]
    },
    {
      "cell_type": "code",
      "source": [
        "tb_hotel['pred_event'] = log_fit.predict(X)\n",
        "sns.scatterplot(data = tb_hotel, x = 'lead_time', y = 'pred_event', hue = 'is_company', alpha = 0.6)\n",
        "sns.scatterplot(data = tb_hotel, x = 'lead_time', y = 'pred_probability', hue = 'is_company')"
      ],
      "metadata": {
        "id": "E7IlyRet4k9v",
        "outputId": "4720410d-22cb-4117-f796-bcff3b0fff61",
        "colab": {
          "base_uri": "https://localhost:8080/",
          "height": 318
        }
      },
      "execution_count": 42,
      "outputs": [
        {
          "output_type": "execute_result",
          "data": {
            "text/plain": [
              "<matplotlib.axes._subplots.AxesSubplot at 0x7fbe18834b50>"
            ]
          },
          "metadata": {},
          "execution_count": 42
        },
        {
          "output_type": "display_data",
          "data": {
            "text/plain": [
              "<Figure size 432x288 with 1 Axes>"
            ],
            "image/png": "[encoded data removed]"
          },
          "metadata": {
            "needs_background": "light"
          }
        }
      ]
    },
    {
      "cell_type": "code",
      "source": [
        "tb_hotel['pred_event_certain'] = np.where(tb_hotel['pred_proba'] >= 0.8, 1, 0) "
      ],
      "metadata": {
        "id": "1_gJpVHV6Lpf"
      },
      "execution_count": null,
      "outputs": []
    },
    {
      "cell_type": "markdown",
      "metadata": {
        "id": "XRZxhGtDmwJO"
      },
      "source": [
        "## ROC Curve"
      ]
    },
    {
      "cell_type": "code",
      "execution_count": 43,
      "metadata": {
        "id": "KXsuXb8dmwJO"
      },
      "outputs": [],
      "source": [
        "from sklearn.metrics import roc_curve"
      ]
    },
    {
      "cell_type": "code",
      "source": [
        "fpr, tpr, thr = roc_curve(tb_hotel['is_cancelled'], tb_hotel['pred_probability'])"
      ],
      "metadata": {
        "id": "cn3ayKNn6g1V"
      },
      "execution_count": 44,
      "outputs": []
    },
    {
      "cell_type": "code",
      "source": [
        "tb_roc = pd.DataFrame({'fpr' : fpr, 'tpr' : tpr, 'thr' : thr})"
      ],
      "metadata": {
        "id": "9zbPPHgX6uX8"
      },
      "execution_count": 46,
      "outputs": []
    },
    {
      "cell_type": "code",
      "source": [
        "np.linspace(0.13, 0.9, 600)"
      ],
      "metadata": {
        "id": "SAgYjpFi88sO",
        "outputId": "7e302b4f-7ad0-4a6a-af86-94028b57f0af",
        "colab": {
          "base_uri": "https://localhost:8080/"
        }
      },
      "execution_count": 48,
      "outputs": [
        {
          "output_type": "execute_result",
          "data": {
            "text/plain": [
              "array([0.13      , 0.13128548, 0.13257095, 0.13385643, 0.1351419 ,\n",
              "       0.13642738, 0.13771285, 0.13899833, 0.14028381, 0.14156928,\n",
              "       0.14285476, 0.14414023, 0.14542571, 0.14671119, 0.14799666,\n",
              "       0.14928214, 0.15056761, 0.15185309, 0.15313856, 0.15442404,\n",
              "       0.15570952, 0.15699499, 0.15828047, 0.15956594, 0.16085142,\n",
              "       0.16213689, 0.16342237, 0.16470785, 0.16599332, 0.1672788 ,\n",
              "       0.16856427, 0.16984975, 0.17113523, 0.1724207 , 0.17370618,\n",
              "       0.17499165, 0.17627713, 0.1775626 , 0.17884808, 0.18013356,\n",
              "       0.18141903, 0.18270451, 0.18398998, 0.18527546, 0.18656093,\n",
              "       0.18784641, 0.18913189, 0.19041736, 0.19170284, 0.19298831,\n",
              "       0.19427379, 0.19555927, 0.19684474, 0.19813022, 0.19941569,\n",
              "       0.20070117, 0.20198664, 0.20327212, 0.2045576 , 0.20584307,\n",
              "       0.20712855, 0.20841402, 0.2096995 , 0.21098497, 0.21227045,\n",
              "       0.21355593, 0.2148414 , 0.21612688, 0.21741235, 0.21869783,\n",
              "       0.21998331, 0.22126878, 0.22255426, 0.22383973, 0.22512521,\n",
              "       0.22641068, 0.22769616, 0.22898164, 0.23026711, 0.23155259,\n",
              "       0.23283806, 0.23412354, 0.23540902, 0.23669449, 0.23797997,\n",
              "       0.23926544, 0.24055092, 0.24183639, 0.24312187, 0.24440735,\n",
              "       0.24569282, 0.2469783 , 0.24826377, 0.24954925, 0.25083472,\n",
              "       0.2521202 , 0.25340568, 0.25469115, 0.25597663, 0.2572621 ,\n",
              "       0.25854758, 0.25983306, 0.26111853, 0.26240401, 0.26368948,\n",
              "       0.26497496, 0.26626043, 0.26754591, 0.26883139, 0.27011686,\n",
              "       0.27140234, 0.27268781, 0.27397329, 0.27525876, 0.27654424,\n",
              "       0.27782972, 0.27911519, 0.28040067, 0.28168614, 0.28297162,\n",
              "       0.2842571 , 0.28554257, 0.28682805, 0.28811352, 0.289399  ,\n",
              "       0.29068447, 0.29196995, 0.29325543, 0.2945409 , 0.29582638,\n",
              "       0.29711185, 0.29839733, 0.2996828 , 0.30096828, 0.30225376,\n",
              "       0.30353923, 0.30482471, 0.30611018, 0.30739566, 0.30868114,\n",
              "       0.30996661, 0.31125209, 0.31253756, 0.31382304, 0.31510851,\n",
              "       0.31639399, 0.31767947, 0.31896494, 0.32025042, 0.32153589,\n",
              "       0.32282137, 0.32410684, 0.32539232, 0.3266778 , 0.32796327,\n",
              "       0.32924875, 0.33053422, 0.3318197 , 0.33310518, 0.33439065,\n",
              "       0.33567613, 0.3369616 , 0.33824708, 0.33953255, 0.34081803,\n",
              "       0.34210351, 0.34338898, 0.34467446, 0.34595993, 0.34724541,\n",
              "       0.34853088, 0.34981636, 0.35110184, 0.35238731, 0.35367279,\n",
              "       0.35495826, 0.35624374, 0.35752922, 0.35881469, 0.36010017,\n",
              "       0.36138564, 0.36267112, 0.36395659, 0.36524207, 0.36652755,\n",
              "       0.36781302, 0.3690985 , 0.37038397, 0.37166945, 0.37295492,\n",
              "       0.3742404 , 0.37552588, 0.37681135, 0.37809683, 0.3793823 ,\n",
              "       0.38066778, 0.38195326, 0.38323873, 0.38452421, 0.38580968,\n",
              "       0.38709516, 0.38838063, 0.38966611, 0.39095159, 0.39223706,\n",
              "       0.39352254, 0.39480801, 0.39609349, 0.39737896, 0.39866444,\n",
              "       0.39994992, 0.40123539, 0.40252087, 0.40380634, 0.40509182,\n",
              "       0.4063773 , 0.40766277, 0.40894825, 0.41023372, 0.4115192 ,\n",
              "       0.41280467, 0.41409015, 0.41537563, 0.4166611 , 0.41794658,\n",
              "       0.41923205, 0.42051753, 0.42180301, 0.42308848, 0.42437396,\n",
              "       0.42565943, 0.42694491, 0.42823038, 0.42951586, 0.43080134,\n",
              "       0.43208681, 0.43337229, 0.43465776, 0.43594324, 0.43722871,\n",
              "       0.43851419, 0.43979967, 0.44108514, 0.44237062, 0.44365609,\n",
              "       0.44494157, 0.44622705, 0.44751252, 0.448798  , 0.45008347,\n",
              "       0.45136895, 0.45265442, 0.4539399 , 0.45522538, 0.45651085,\n",
              "       0.45779633, 0.4590818 , 0.46036728, 0.46165275, 0.46293823,\n",
              "       0.46422371, 0.46550918, 0.46679466, 0.46808013, 0.46936561,\n",
              "       0.47065109, 0.47193656, 0.47322204, 0.47450751, 0.47579299,\n",
              "       0.47707846, 0.47836394, 0.47964942, 0.48093489, 0.48222037,\n",
              "       0.48350584, 0.48479132, 0.48607679, 0.48736227, 0.48864775,\n",
              "       0.48993322, 0.4912187 , 0.49250417, 0.49378965, 0.49507513,\n",
              "       0.4963606 , 0.49764608, 0.49893155, 0.50021703, 0.5015025 ,\n",
              "       0.50278798, 0.50407346, 0.50535893, 0.50664441, 0.50792988,\n",
              "       0.50921536, 0.51050083, 0.51178631, 0.51307179, 0.51435726,\n",
              "       0.51564274, 0.51692821, 0.51821369, 0.51949917, 0.52078464,\n",
              "       0.52207012, 0.52335559, 0.52464107, 0.52592654, 0.52721202,\n",
              "       0.5284975 , 0.52978297, 0.53106845, 0.53235392, 0.5336394 ,\n",
              "       0.53492487, 0.53621035, 0.53749583, 0.5387813 , 0.54006678,\n",
              "       0.54135225, 0.54263773, 0.54392321, 0.54520868, 0.54649416,\n",
              "       0.54777963, 0.54906511, 0.55035058, 0.55163606, 0.55292154,\n",
              "       0.55420701, 0.55549249, 0.55677796, 0.55806344, 0.55934891,\n",
              "       0.56063439, 0.56191987, 0.56320534, 0.56449082, 0.56577629,\n",
              "       0.56706177, 0.56834725, 0.56963272, 0.5709182 , 0.57220367,\n",
              "       0.57348915, 0.57477462, 0.5760601 , 0.57734558, 0.57863105,\n",
              "       0.57991653, 0.581202  , 0.58248748, 0.58377295, 0.58505843,\n",
              "       0.58634391, 0.58762938, 0.58891486, 0.59020033, 0.59148581,\n",
              "       0.59277129, 0.59405676, 0.59534224, 0.59662771, 0.59791319,\n",
              "       0.59919866, 0.60048414, 0.60176962, 0.60305509, 0.60434057,\n",
              "       0.60562604, 0.60691152, 0.60819699, 0.60948247, 0.61076795,\n",
              "       0.61205342, 0.6133389 , 0.61462437, 0.61590985, 0.61719533,\n",
              "       0.6184808 , 0.61976628, 0.62105175, 0.62233723, 0.6236227 ,\n",
              "       0.62490818, 0.62619366, 0.62747913, 0.62876461, 0.63005008,\n",
              "       0.63133556, 0.63262104, 0.63390651, 0.63519199, 0.63647746,\n",
              "       0.63776294, 0.63904841, 0.64033389, 0.64161937, 0.64290484,\n",
              "       0.64419032, 0.64547579, 0.64676127, 0.64804674, 0.64933222,\n",
              "       0.6506177 , 0.65190317, 0.65318865, 0.65447412, 0.6557596 ,\n",
              "       0.65704508, 0.65833055, 0.65961603, 0.6609015 , 0.66218698,\n",
              "       0.66347245, 0.66475793, 0.66604341, 0.66732888, 0.66861436,\n",
              "       0.66989983, 0.67118531, 0.67247078, 0.67375626, 0.67504174,\n",
              "       0.67632721, 0.67761269, 0.67889816, 0.68018364, 0.68146912,\n",
              "       0.68275459, 0.68404007, 0.68532554, 0.68661102, 0.68789649,\n",
              "       0.68918197, 0.69046745, 0.69175292, 0.6930384 , 0.69432387,\n",
              "       0.69560935, 0.69689482, 0.6981803 , 0.69946578, 0.70075125,\n",
              "       0.70203673, 0.7033222 , 0.70460768, 0.70589316, 0.70717863,\n",
              "       0.70846411, 0.70974958, 0.71103506, 0.71232053, 0.71360601,\n",
              "       0.71489149, 0.71617696, 0.71746244, 0.71874791, 0.72003339,\n",
              "       0.72131886, 0.72260434, 0.72388982, 0.72517529, 0.72646077,\n",
              "       0.72774624, 0.72903172, 0.7303172 , 0.73160267, 0.73288815,\n",
              "       0.73417362, 0.7354591 , 0.73674457, 0.73803005, 0.73931553,\n",
              "       0.740601  , 0.74188648, 0.74317195, 0.74445743, 0.7457429 ,\n",
              "       0.74702838, 0.74831386, 0.74959933, 0.75088481, 0.75217028,\n",
              "       0.75345576, 0.75474124, 0.75602671, 0.75731219, 0.75859766,\n",
              "       0.75988314, 0.76116861, 0.76245409, 0.76373957, 0.76502504,\n",
              "       0.76631052, 0.76759599, 0.76888147, 0.77016694, 0.77145242,\n",
              "       0.7727379 , 0.77402337, 0.77530885, 0.77659432, 0.7778798 ,\n",
              "       0.77916528, 0.78045075, 0.78173623, 0.7830217 , 0.78430718,\n",
              "       0.78559265, 0.78687813, 0.78816361, 0.78944908, 0.79073456,\n",
              "       0.79202003, 0.79330551, 0.79459098, 0.79587646, 0.79716194,\n",
              "       0.79844741, 0.79973289, 0.80101836, 0.80230384, 0.80358932,\n",
              "       0.80487479, 0.80616027, 0.80744574, 0.80873122, 0.81001669,\n",
              "       0.81130217, 0.81258765, 0.81387312, 0.8151586 , 0.81644407,\n",
              "       0.81772955, 0.81901503, 0.8203005 , 0.82158598, 0.82287145,\n",
              "       0.82415693, 0.8254424 , 0.82672788, 0.82801336, 0.82929883,\n",
              "       0.83058431, 0.83186978, 0.83315526, 0.83444073, 0.83572621,\n",
              "       0.83701169, 0.83829716, 0.83958264, 0.84086811, 0.84215359,\n",
              "       0.84343907, 0.84472454, 0.84601002, 0.84729549, 0.84858097,\n",
              "       0.84986644, 0.85115192, 0.8524374 , 0.85372287, 0.85500835,\n",
              "       0.85629382, 0.8575793 , 0.85886477, 0.86015025, 0.86143573,\n",
              "       0.8627212 , 0.86400668, 0.86529215, 0.86657763, 0.86786311,\n",
              "       0.86914858, 0.87043406, 0.87171953, 0.87300501, 0.87429048,\n",
              "       0.87557596, 0.87686144, 0.87814691, 0.87943239, 0.88071786,\n",
              "       0.88200334, 0.88328881, 0.88457429, 0.88585977, 0.88714524,\n",
              "       0.88843072, 0.88971619, 0.89100167, 0.89228715, 0.89357262,\n",
              "       0.8948581 , 0.89614357, 0.89742905, 0.89871452, 0.9       ])"
            ]
          },
          "metadata": {},
          "execution_count": 48
        }
      ]
    },
    {
      "cell_type": "code",
      "source": [
        "tb_roc = tb_roc[tb_roc['thr'] < 1]\n",
        "tb_roc"
      ],
      "metadata": {
        "id": "XvC3L2Lu7GOL",
        "outputId": "db480f88-46d3-4150-a20f-5cb520962dac",
        "colab": {
          "base_uri": "https://localhost:8080/",
          "height": 444
        }
      },
      "execution_count": 51,
      "outputs": [
        {
          "output_type": "execute_result",
          "data": {
            "text/plain": [
              "          fpr       tpr       thr\n",
              "1    0.000000  0.000407  0.901990\n",
              "2    0.000000  0.000789  0.898426\n",
              "3    0.000000  0.001148  0.894748\n",
              "4    0.000000  0.001913  0.887038\n",
              "5    0.000000  0.002320  0.883001\n",
              "..        ...       ...       ...\n",
              "652  0.977387  0.996341  0.132927\n",
              "653  0.980951  0.997298  0.132275\n",
              "654  0.984713  0.997943  0.131626\n",
              "655  0.990208  0.998972  0.130979\n",
              "656  1.000000  1.000000  0.130335\n",
              "\n",
              "[656 rows x 3 columns]"
            ],
            "text/html": [
              "\n",
              "  <div id=\"df-fcebbde0-bfa9-419f-b66d-d07fd47a8ca8\">\n",
              "    <div class=\"colab-df-container\">\n",
              "      <div>\n",
              "<style scoped>\n",
              "    .dataframe tbody tr th:only-of-type {\n",
              "        vertical-align: middle;\n",
              "    }\n",
              "\n",
              "    .dataframe tbody tr th {\n",
              "        vertical-align: top;\n",
              "    }\n",
              "\n",
              "    .dataframe thead th {\n",
              "        text-align: right;\n",
              "    }\n",
              "</style>\n",
              "<table border=\"1\" class=\"dataframe\">\n",
              "  <thead>\n",
              "    <tr style=\"text-align: right;\">\n",
              "      <th></th>\n",
              "      <th>fpr</th>\n",
              "      <th>tpr</th>\n",
              "      <th>thr</th>\n",
              "    </tr>\n",
              "  </thead>\n",
              "  <tbody>\n",
              "    <tr>\n",
              "      <th>1</th>\n",
              "      <td>0.000000</td>\n",
              "      <td>0.000407</td>\n",
              "      <td>0.901990</td>\n",
              "    </tr>\n",
              "    <tr>\n",
              "      <th>2</th>\n",
              "      <td>0.000000</td>\n",
              "      <td>0.000789</td>\n",
              "      <td>0.898426</td>\n",
              "    </tr>\n",
              "    <tr>\n",
              "      <th>3</th>\n",
              "      <td>0.000000</td>\n",
              "      <td>0.001148</td>\n",
              "      <td>0.894748</td>\n",
              "    </tr>\n",
              "    <tr>\n",
              "      <th>4</th>\n",
              "      <td>0.000000</td>\n",
              "      <td>0.001913</td>\n",
              "      <td>0.887038</td>\n",
              "    </tr>\n",
              "    <tr>\n",
              "      <th>5</th>\n",
              "      <td>0.000000</td>\n",
              "      <td>0.002320</td>\n",
              "      <td>0.883001</td>\n",
              "    </tr>\n",
              "    <tr>\n",
              "      <th>...</th>\n",
              "      <td>...</td>\n",
              "      <td>...</td>\n",
              "      <td>...</td>\n",
              "    </tr>\n",
              "    <tr>\n",
              "      <th>652</th>\n",
              "      <td>0.977387</td>\n",
              "      <td>0.996341</td>\n",
              "      <td>0.132927</td>\n",
              "    </tr>\n",
              "    <tr>\n",
              "      <th>653</th>\n",
              "      <td>0.980951</td>\n",
              "      <td>0.997298</td>\n",
              "      <td>0.132275</td>\n",
              "    </tr>\n",
              "    <tr>\n",
              "      <th>654</th>\n",
              "      <td>0.984713</td>\n",
              "      <td>0.997943</td>\n",
              "      <td>0.131626</td>\n",
              "    </tr>\n",
              "    <tr>\n",
              "      <th>655</th>\n",
              "      <td>0.990208</td>\n",
              "      <td>0.998972</td>\n",
              "      <td>0.130979</td>\n",
              "    </tr>\n",
              "    <tr>\n",
              "      <th>656</th>\n",
              "      <td>1.000000</td>\n",
              "      <td>1.000000</td>\n",
              "      <td>0.130335</td>\n",
              "    </tr>\n",
              "  </tbody>\n",
              "</table>\n",
              "<p>656 rows × 3 columns</p>\n",
              "</div>\n",
              "      <button class=\"colab-df-convert\" onclick=\"convertToInteractive('df-fcebbde0-bfa9-419f-b66d-d07fd47a8ca8')\"\n",
              "              title=\"Convert this dataframe to an interactive table.\"\n",
              "              style=\"display:none;\">\n",
              "        \n",
              "  <svg xmlns=\"http://www.w3.org/2000/svg\" height=\"24px\"viewBox=\"0 0 24 24\"\n",
              "       width=\"24px\">\n",
              "    <path d=\"M0 0h24v24H0V0z\" fill=\"none\"/>\n",
              "    <path d=\"M18.56 5.44l.94 2.06.94-2.06 2.06-.94-2.06-.94-.94-2.06-.94 2.06-2.06.94zm-11 1L8.5 8.5l.94-2.06 2.06-.94-2.06-.94L8.5 2.5l-.94 2.06-2.06.94zm10 10l.94 2.06.94-2.06 2.06-.94-2.06-.94-.94-2.06-.94 2.06-2.06.94z\"/><path d=\"M17.41 7.96l-1.37-1.37c-.4-.4-.92-.59-1.43-.59-.52 0-1.04.2-1.43.59L10.3 9.45l-7.72 7.72c-.78.78-.78 2.05 0 2.83L4 21.41c.39.39.9.59 1.41.59.51 0 1.02-.2 1.41-.59l7.78-7.78 2.81-2.81c.8-.78.8-2.07 0-2.86zM5.41 20L4 18.59l7.72-7.72 1.47 1.35L5.41 20z\"/>\n",
              "  </svg>\n",
              "      </button>\n",
              "      \n",
              "  <style>\n",
              "    .colab-df-container {\n",
              "      display:flex;\n",
              "      flex-wrap:wrap;\n",
              "      gap: 12px;\n",
              "    }\n",
              "\n",
              "    .colab-df-convert {\n",
              "      background-color: #E8F0FE;\n",
              "      border: none;\n",
              "      border-radius: 50%;\n",
              "      cursor: pointer;\n",
              "      display: none;\n",
              "      fill: #1967D2;\n",
              "      height: 32px;\n",
              "      padding: 0 0 0 0;\n",
              "      width: 32px;\n",
              "    }\n",
              "\n",
              "    .colab-df-convert:hover {\n",
              "      background-color: #E2EBFA;\n",
              "      box-shadow: 0px 1px 2px rgba(60, 64, 67, 0.3), 0px 1px 3px 1px rgba(60, 64, 67, 0.15);\n",
              "      fill: #174EA6;\n",
              "    }\n",
              "\n",
              "    [theme=dark] .colab-df-convert {\n",
              "      background-color: #3B4455;\n",
              "      fill: #D2E3FC;\n",
              "    }\n",
              "\n",
              "    [theme=dark] .colab-df-convert:hover {\n",
              "      background-color: #434B5C;\n",
              "      box-shadow: 0px 1px 3px 1px rgba(0, 0, 0, 0.15);\n",
              "      filter: drop-shadow(0px 1px 2px rgba(0, 0, 0, 0.3));\n",
              "      fill: #FFFFFF;\n",
              "    }\n",
              "  </style>\n",
              "\n",
              "      <script>\n",
              "        const buttonEl =\n",
              "          document.querySelector('#df-fcebbde0-bfa9-419f-b66d-d07fd47a8ca8 button.colab-df-convert');\n",
              "        buttonEl.style.display =\n",
              "          google.colab.kernel.accessAllowed ? 'block' : 'none';\n",
              "\n",
              "        async function convertToInteractive(key) {\n",
              "          const element = document.querySelector('#df-fcebbde0-bfa9-419f-b66d-d07fd47a8ca8');\n",
              "          const dataTable =\n",
              "            await google.colab.kernel.invokeFunction('convertToInteractive',\n",
              "                                                     [key], {});\n",
              "          if (!dataTable) return;\n",
              "\n",
              "          const docLinkHtml = 'Like what you see? Visit the ' +\n",
              "            '<a target=\"_blank\" href=https://colab.research.google.com/notebooks/data_table.ipynb>data table notebook</a>'\n",
              "            + ' to learn more about interactive tables.';\n",
              "          element.innerHTML = '';\n",
              "          dataTable['output_type'] = 'display_data';\n",
              "          await google.colab.output.renderOutput(dataTable, element);\n",
              "          const docLink = document.createElement('div');\n",
              "          docLink.innerHTML = docLinkHtml;\n",
              "          element.appendChild(docLink);\n",
              "        }\n",
              "      </script>\n",
              "    </div>\n",
              "  </div>\n",
              "  "
            ]
          },
          "metadata": {},
          "execution_count": 51
        }
      ]
    },
    {
      "cell_type": "code",
      "source": [
        "# Number of Predicted Cancelations that were Real Cancelations\n",
        "sns.lineplot(data = tb_roc, x= 'thr', y = 'fpr')"
      ],
      "metadata": {
        "id": "KtqM_p1s9ICD",
        "outputId": "2207c9f3-b9b8-40b6-f868-567de42ce545",
        "colab": {
          "base_uri": "https://localhost:8080/",
          "height": 317
        }
      },
      "execution_count": 54,
      "outputs": [
        {
          "output_type": "execute_result",
          "data": {
            "text/plain": [
              "<matplotlib.axes._subplots.AxesSubplot at 0x7fbe175ff3d0>"
            ]
          },
          "metadata": {},
          "execution_count": 54
        },
        {
          "output_type": "display_data",
          "data": {
            "text/plain": [
              "<Figure size 432x288 with 1 Axes>"
            ],
            "image/png": "[encoded data removed]"
          },
          "metadata": {
            "needs_background": "light"
          }
        }
      ]
    },
    {
      "cell_type": "code",
      "source": [
        "# 0 - 0 = Model predict non-cancelation correctly\n",
        "# 0 - 1 = Model predicted a cancelation when there was none\n",
        "# 1 - 0 = Model predicted no cancelation when there cancelation\n",
        "# 1 - 1 = Model predicted cancelation correctly\n",
        "tb_hotel.groupby(['is_cancelled', 'pred_event'])['pred_event'].count()"
      ],
      "metadata": {
        "id": "4WdicE6S-A-E",
        "outputId": "4562d845-7443-484b-ad21-bf776742932f",
        "colab": {
          "base_uri": "https://localhost:8080/"
        }
      },
      "execution_count": 57,
      "outputs": [
        {
          "output_type": "execute_result",
          "data": {
            "text/plain": [
              "is_cancelled  pred_event\n",
              "0             0             62871\n",
              "              1              8105\n",
              "1             0             30051\n",
              "              1             11767\n",
              "Name: pred_event, dtype: int64"
            ]
          },
          "metadata": {},
          "execution_count": 57
        }
      ]
    },
    {
      "cell_type": "code",
      "source": [
        "from sklearn.metrics import confusion_matrix, plot_confusion_matrix"
      ],
      "metadata": {
        "id": "xCsmtb2o-qE9"
      },
      "execution_count": 61,
      "outputs": []
    },
    {
      "cell_type": "code",
      "source": [
        "plot_confusion_matrix(log_fit, X, tb_hotel['is_cancelled'])"
      ],
      "metadata": {
        "id": "EZdy89bH-tSQ",
        "outputId": "bbd818be-3b3a-4905-e0d8-68b459596bb7",
        "colab": {
          "base_uri": "https://localhost:8080/",
          "height": 352
        }
      },
      "execution_count": 66,
      "outputs": [
        {
          "output_type": "stream",
          "name": "stderr",
          "text": [
            "/usr/local/lib/python3.7/dist-packages/sklearn/utils/deprecation.py:87: FutureWarning: Function plot_confusion_matrix is deprecated; Function `plot_confusion_matrix` is deprecated in 1.0 and will be removed in 1.2. Use one of the class methods: ConfusionMatrixDisplay.from_predictions or ConfusionMatrixDisplay.from_estimator.\n",
            "  warnings.warn(msg, category=FutureWarning)\n"
          ]
        },
        {
          "output_type": "execute_result",
          "data": {
            "text/plain": [
              "<sklearn.metrics._plot.confusion_matrix.ConfusionMatrixDisplay at 0x7fbe17c0c350>"
            ]
          },
          "metadata": {},
          "execution_count": 66
        },
        {
          "output_type": "display_data",
          "data": {
            "text/plain": [
              "<Figure size 432x288 with 2 Axes>"
            ],
            "image/png": "[encoded data removed]"
          },
          "metadata": {
            "needs_background": "light"
          }
        }
      ]
    },
    {
      "cell_type": "markdown",
      "metadata": {
        "id": "uWPKZK1zmwJP"
      },
      "source": [
        "# Measuring Error"
      ]
    },
    {
      "cell_type": "code",
      "execution_count": 67,
      "metadata": {
        "id": "94Aus9zTmwJP"
      },
      "outputs": [],
      "source": [
        "from sklearn.metrics import f1_score"
      ]
    },
    {
      "cell_type": "code",
      "source": [
        "f1_score(tb_hotel['is_cancelled'], tb_hotel['pred_event'])"
      ],
      "metadata": {
        "id": "XwgwRAi5BZvx",
        "outputId": "d60b508f-fc3b-4ae2-dada-8a0c68422fbe",
        "colab": {
          "base_uri": "https://localhost:8080/"
        }
      },
      "execution_count": 68,
      "outputs": [
        {
          "output_type": "execute_result",
          "data": {
            "text/plain": [
              "0.3814880855892365"
            ]
          },
          "metadata": {},
          "execution_count": 68
        }
      ]
    },
    {
      "cell_type": "code",
      "source": [],
      "metadata": {
        "id": "92povfKmBhmV"
      },
      "execution_count": null,
      "outputs": []
    }
  ],
  "metadata": {
    "kernelspec": {
      "display_name": "Python 3.9.11 ('base')",
      "language": "python",
      "name": "python3"
    },
    "language_info": {
      "codemirror_mode": {
        "name": "ipython",
        "version": 3
      },
      "file_extension": ".py",
      "mimetype": "text/x-python",
      "name": "python",
      "nbconvert_exporter": "python",
      "pygments_lexer": "ipython3",
      "version": "3.9.11"
    },
    "orig_nbformat": 4,
    "vscode": {
      "interpreter": {
        "hash": "014f4a4a5af8f0104b12c029e500f4146d6d785e8cf714d2a35b7a9514230cd3"
      }
    },
    "colab": {
      "provenance": []
    }
  },
  "nbformat": 4,
  "nbformat_minor": 0
}